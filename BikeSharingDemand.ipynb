{
  "nbformat": 4,
  "nbformat_minor": 0,
  "metadata": {
    "colab": {
      "name": "BikeSharingDemand.ipynb",
      "provenance": [],
      "collapsed_sections": []
    },
    "kernelspec": {
      "name": "python3",
      "display_name": "Python 3"
    },
    "language_info": {
      "name": "python"
    }
  },
  "cells": [
    {
      "cell_type": "code",
      "metadata": {
        "colab": {
          "base_uri": "https://localhost:8080/"
        },
        "id": "Rl0eqnty0kOE",
        "outputId": "1d8c520f-fd3d-4637-f01a-96d58306b650"
      },
      "source": [
        "from google.colab import drive\n",
        "drive.mount('/content/drive')"
      ],
      "execution_count": null,
      "outputs": [
        {
          "output_type": "stream",
          "text": [
            "Mounted at /content/drive\n"
          ],
          "name": "stdout"
        }
      ]
    },
    {
      "cell_type": "code",
      "metadata": {
        "id": "mxuZjmmO1k7s"
      },
      "source": [
        "import pandas as pd\n",
        "import numpy as np\n",
        "import matplotlib.pyplot as plt\n",
        "import calendar\n",
        "import seaborn as sn\n",
        "from datetime import datetime\n",
        "from numpy import mean, std\n",
        "from math import sqrt\n",
        "from scipy.stats import skew\n",
        "from sklearn.model_selection import GridSearchCV, train_test_split\n",
        "from sklearn import linear_model\n",
        "from sklearn.metrics import mean_squared_error\n",
        "from sklearn.ensemble import GradientBoostingRegressor, RandomForestRegressor"
      ],
      "execution_count": null,
      "outputs": []
    },
    {
      "cell_type": "code",
      "metadata": {
        "id": "PNclBb0c1lFA"
      },
      "source": [
        "# Import dataset\n",
        "train = pd.read_csv(\"/content/drive/MyDrive/Ignacio Fiori Training/Machine Learning/Bike Sharing Demand/train.csv\")"
      ],
      "execution_count": null,
      "outputs": []
    },
    {
      "cell_type": "code",
      "metadata": {
        "id": "QW7r1haYpWfm"
      },
      "source": [
        "train, test=train_test_split(train, test_size=.2)"
      ],
      "execution_count": null,
      "outputs": []
    },
    {
      "cell_type": "code",
      "metadata": {
        "colab": {
          "base_uri": "https://localhost:8080/"
        },
        "id": "h5Sntr7opfyZ",
        "outputId": "6544a0a7-1403-40cc-e078-bf0e290d8f0f"
      },
      "source": [
        "print(train.shape)\n",
        "print(test.shape)"
      ],
      "execution_count": null,
      "outputs": [
        {
          "output_type": "stream",
          "text": [
            "(8708, 12)\n",
            "(2178, 12)\n"
          ],
          "name": "stdout"
        }
      ]
    },
    {
      "cell_type": "markdown",
      "metadata": {
        "id": "Bu755R0a22hS"
      },
      "source": [
        "\n",
        "\n",
        "*   datetime - hourly date + timestamp \n",
        "*   season -  1 = spring, 2 = summer, 3 = fall, 4 = winter \n",
        "*   holiday - whether the day is considered a holiday\n",
        "*   workingday - whether the day is neither a weekend nor holiday\n",
        "*   weather - 1: Clear, Few clouds, Partly cloudy, Partly cloudy\n",
        "2: Mist + Cloudy, Mist + Broken clouds, Mist + Few clouds, Mist\n",
        "3: Light Snow, Light Rain + Thunderstorm + Scattered clouds, Light Rain + Scattered clouds\n",
        "4: Heavy Rain + Ice Pallets + Thunderstorm + Mist, Snow + Fog \n",
        "*   temp - temperature in Celsius\n",
        "*   atemp - \"feels like\" temperature in Celsius\n",
        "*   humidity - relative humidity\n",
        "*   windspeed - wind speed\n",
        "*   casual - number of non-registered user rentals initiated\n",
        "*   registered - number of registered user rentals initiated\n",
        "*   count - number of total rentals\n",
        "\n",
        "\n",
        "\n"
      ]
    },
    {
      "cell_type": "markdown",
      "metadata": {
        "id": "LELJH38BYJ6b"
      },
      "source": [
        "**Exploration and Preprocessing of Data**"
      ]
    },
    {
      "cell_type": "markdown",
      "metadata": {
        "id": "6i2qQzqb2T5w"
      },
      "source": [
        "As a first step we can take a look in the data"
      ]
    },
    {
      "cell_type": "code",
      "metadata": {
        "colab": {
          "base_uri": "https://localhost:8080/",
          "height": 198
        },
        "id": "bM_FKcHO2Qd0",
        "outputId": "08f786fc-b852-49d7-97ad-9b68be82be16"
      },
      "source": [
        "train.head()"
      ],
      "execution_count": null,
      "outputs": [
        {
          "output_type": "execute_result",
          "data": {
            "text/html": [
              "<div>\n",
              "<style scoped>\n",
              "    .dataframe tbody tr th:only-of-type {\n",
              "        vertical-align: middle;\n",
              "    }\n",
              "\n",
              "    .dataframe tbody tr th {\n",
              "        vertical-align: top;\n",
              "    }\n",
              "\n",
              "    .dataframe thead th {\n",
              "        text-align: right;\n",
              "    }\n",
              "</style>\n",
              "<table border=\"1\" class=\"dataframe\">\n",
              "  <thead>\n",
              "    <tr style=\"text-align: right;\">\n",
              "      <th></th>\n",
              "      <th>datetime</th>\n",
              "      <th>season</th>\n",
              "      <th>holiday</th>\n",
              "      <th>workingday</th>\n",
              "      <th>weather</th>\n",
              "      <th>temp</th>\n",
              "      <th>atemp</th>\n",
              "      <th>humidity</th>\n",
              "      <th>windspeed</th>\n",
              "      <th>casual</th>\n",
              "      <th>registered</th>\n",
              "      <th>count</th>\n",
              "    </tr>\n",
              "  </thead>\n",
              "  <tbody>\n",
              "    <tr>\n",
              "      <th>8771</th>\n",
              "      <td>2012-08-07 20:00:00</td>\n",
              "      <td>3</td>\n",
              "      <td>0</td>\n",
              "      <td>1</td>\n",
              "      <td>2</td>\n",
              "      <td>30.34</td>\n",
              "      <td>34.850</td>\n",
              "      <td>70</td>\n",
              "      <td>8.9981</td>\n",
              "      <td>74</td>\n",
              "      <td>374</td>\n",
              "      <td>448</td>\n",
              "    </tr>\n",
              "    <tr>\n",
              "      <th>4723</th>\n",
              "      <td>2011-11-09 21:00:00</td>\n",
              "      <td>4</td>\n",
              "      <td>0</td>\n",
              "      <td>1</td>\n",
              "      <td>1</td>\n",
              "      <td>16.40</td>\n",
              "      <td>20.455</td>\n",
              "      <td>87</td>\n",
              "      <td>0.0000</td>\n",
              "      <td>9</td>\n",
              "      <td>152</td>\n",
              "      <td>161</td>\n",
              "    </tr>\n",
              "    <tr>\n",
              "      <th>6348</th>\n",
              "      <td>2012-03-01 18:00:00</td>\n",
              "      <td>1</td>\n",
              "      <td>0</td>\n",
              "      <td>1</td>\n",
              "      <td>1</td>\n",
              "      <td>22.14</td>\n",
              "      <td>25.760</td>\n",
              "      <td>34</td>\n",
              "      <td>23.9994</td>\n",
              "      <td>27</td>\n",
              "      <td>498</td>\n",
              "      <td>525</td>\n",
              "    </tr>\n",
              "    <tr>\n",
              "      <th>3566</th>\n",
              "      <td>2011-08-18 12:00:00</td>\n",
              "      <td>3</td>\n",
              "      <td>0</td>\n",
              "      <td>1</td>\n",
              "      <td>1</td>\n",
              "      <td>32.80</td>\n",
              "      <td>37.120</td>\n",
              "      <td>52</td>\n",
              "      <td>19.0012</td>\n",
              "      <td>34</td>\n",
              "      <td>139</td>\n",
              "      <td>173</td>\n",
              "    </tr>\n",
              "    <tr>\n",
              "      <th>2458</th>\n",
              "      <td>2011-06-10 08:00:00</td>\n",
              "      <td>2</td>\n",
              "      <td>0</td>\n",
              "      <td>1</td>\n",
              "      <td>1</td>\n",
              "      <td>30.34</td>\n",
              "      <td>34.090</td>\n",
              "      <td>58</td>\n",
              "      <td>8.9981</td>\n",
              "      <td>29</td>\n",
              "      <td>423</td>\n",
              "      <td>452</td>\n",
              "    </tr>\n",
              "  </tbody>\n",
              "</table>\n",
              "</div>"
            ],
            "text/plain": [
              "                 datetime  season  holiday  ...  casual  registered  count\n",
              "8771  2012-08-07 20:00:00       3        0  ...      74         374    448\n",
              "4723  2011-11-09 21:00:00       4        0  ...       9         152    161\n",
              "6348  2012-03-01 18:00:00       1        0  ...      27         498    525\n",
              "3566  2011-08-18 12:00:00       3        0  ...      34         139    173\n",
              "2458  2011-06-10 08:00:00       2        0  ...      29         423    452\n",
              "\n",
              "[5 rows x 12 columns]"
            ]
          },
          "metadata": {
            "tags": []
          },
          "execution_count": 23
        }
      ]
    },
    {
      "cell_type": "code",
      "metadata": {
        "colab": {
          "base_uri": "https://localhost:8080/",
          "height": 198
        },
        "id": "OeKW-6XWxoeL",
        "outputId": "72ef0774-427a-4a30-d604-6e7a0f7dd091"
      },
      "source": [
        "test.head()"
      ],
      "execution_count": null,
      "outputs": [
        {
          "output_type": "execute_result",
          "data": {
            "text/html": [
              "<div>\n",
              "<style scoped>\n",
              "    .dataframe tbody tr th:only-of-type {\n",
              "        vertical-align: middle;\n",
              "    }\n",
              "\n",
              "    .dataframe tbody tr th {\n",
              "        vertical-align: top;\n",
              "    }\n",
              "\n",
              "    .dataframe thead th {\n",
              "        text-align: right;\n",
              "    }\n",
              "</style>\n",
              "<table border=\"1\" class=\"dataframe\">\n",
              "  <thead>\n",
              "    <tr style=\"text-align: right;\">\n",
              "      <th></th>\n",
              "      <th>datetime</th>\n",
              "      <th>season</th>\n",
              "      <th>holiday</th>\n",
              "      <th>workingday</th>\n",
              "      <th>weather</th>\n",
              "      <th>temp</th>\n",
              "      <th>atemp</th>\n",
              "      <th>humidity</th>\n",
              "      <th>windspeed</th>\n",
              "      <th>casual</th>\n",
              "      <th>registered</th>\n",
              "      <th>count</th>\n",
              "    </tr>\n",
              "  </thead>\n",
              "  <tbody>\n",
              "    <tr>\n",
              "      <th>5329</th>\n",
              "      <td>2011-12-16 03:00:00</td>\n",
              "      <td>4</td>\n",
              "      <td>0</td>\n",
              "      <td>1</td>\n",
              "      <td>1</td>\n",
              "      <td>18.86</td>\n",
              "      <td>22.725</td>\n",
              "      <td>82</td>\n",
              "      <td>8.9981</td>\n",
              "      <td>2</td>\n",
              "      <td>3</td>\n",
              "      <td>5</td>\n",
              "    </tr>\n",
              "    <tr>\n",
              "      <th>733</th>\n",
              "      <td>2011-02-13 22:00:00</td>\n",
              "      <td>1</td>\n",
              "      <td>0</td>\n",
              "      <td>0</td>\n",
              "      <td>1</td>\n",
              "      <td>16.40</td>\n",
              "      <td>20.455</td>\n",
              "      <td>35</td>\n",
              "      <td>19.9995</td>\n",
              "      <td>5</td>\n",
              "      <td>31</td>\n",
              "      <td>36</td>\n",
              "    </tr>\n",
              "    <tr>\n",
              "      <th>10625</th>\n",
              "      <td>2012-12-09 03:00:00</td>\n",
              "      <td>4</td>\n",
              "      <td>0</td>\n",
              "      <td>0</td>\n",
              "      <td>2</td>\n",
              "      <td>16.40</td>\n",
              "      <td>20.455</td>\n",
              "      <td>87</td>\n",
              "      <td>7.0015</td>\n",
              "      <td>14</td>\n",
              "      <td>34</td>\n",
              "      <td>48</td>\n",
              "    </tr>\n",
              "    <tr>\n",
              "      <th>9275</th>\n",
              "      <td>2012-09-09 20:00:00</td>\n",
              "      <td>3</td>\n",
              "      <td>0</td>\n",
              "      <td>0</td>\n",
              "      <td>1</td>\n",
              "      <td>25.42</td>\n",
              "      <td>31.060</td>\n",
              "      <td>41</td>\n",
              "      <td>19.0012</td>\n",
              "      <td>91</td>\n",
              "      <td>265</td>\n",
              "      <td>356</td>\n",
              "    </tr>\n",
              "    <tr>\n",
              "      <th>8418</th>\n",
              "      <td>2012-07-12 03:00:00</td>\n",
              "      <td>3</td>\n",
              "      <td>0</td>\n",
              "      <td>1</td>\n",
              "      <td>1</td>\n",
              "      <td>26.24</td>\n",
              "      <td>30.305</td>\n",
              "      <td>69</td>\n",
              "      <td>7.0015</td>\n",
              "      <td>0</td>\n",
              "      <td>10</td>\n",
              "      <td>10</td>\n",
              "    </tr>\n",
              "  </tbody>\n",
              "</table>\n",
              "</div>"
            ],
            "text/plain": [
              "                  datetime  season  holiday  ...  casual  registered  count\n",
              "5329   2011-12-16 03:00:00       4        0  ...       2           3      5\n",
              "733    2011-02-13 22:00:00       1        0  ...       5          31     36\n",
              "10625  2012-12-09 03:00:00       4        0  ...      14          34     48\n",
              "9275   2012-09-09 20:00:00       3        0  ...      91         265    356\n",
              "8418   2012-07-12 03:00:00       3        0  ...       0          10     10\n",
              "\n",
              "[5 rows x 12 columns]"
            ]
          },
          "metadata": {
            "tags": []
          },
          "execution_count": 24
        }
      ]
    },
    {
      "cell_type": "code",
      "metadata": {
        "colab": {
          "base_uri": "https://localhost:8080/"
        },
        "id": "qldlOc_s2Qpi",
        "outputId": "4c7772f0-480c-4403-ef86-87cc3aad1905"
      },
      "source": [
        "train.dtypes"
      ],
      "execution_count": null,
      "outputs": [
        {
          "output_type": "execute_result",
          "data": {
            "text/plain": [
              "datetime       object\n",
              "season          int64\n",
              "holiday         int64\n",
              "workingday      int64\n",
              "weather         int64\n",
              "temp          float64\n",
              "atemp         float64\n",
              "humidity        int64\n",
              "windspeed     float64\n",
              "casual          int64\n",
              "registered      int64\n",
              "count           int64\n",
              "dtype: object"
            ]
          },
          "metadata": {
            "tags": []
          },
          "execution_count": 25
        }
      ]
    },
    {
      "cell_type": "code",
      "metadata": {
        "colab": {
          "base_uri": "https://localhost:8080/",
          "height": 299
        },
        "id": "gylwiVFvURWC",
        "outputId": "57846f18-91b6-4907-d1a7-b5e5d856af07"
      },
      "source": [
        "plt.boxplot(train['count'])\n",
        "plt.ylabel(\"Count\")\n",
        "plt.title(\"Checking our target variable\")"
      ],
      "execution_count": null,
      "outputs": [
        {
          "output_type": "execute_result",
          "data": {
            "text/plain": [
              "Text(0.5, 1.0, 'Checking our target variable')"
            ]
          },
          "metadata": {
            "tags": []
          },
          "execution_count": 26
        },
        {
          "output_type": "display_data",
          "data": {
            "image/png": "[encoded data removed]",
            "text/plain": [
              "<Figure size 432x288 with 1 Axes>"
            ]
          },
          "metadata": {
            "tags": [],
            "needs_background": "light"
          }
        }
      ]
    },
    {
      "cell_type": "markdown",
      "metadata": {
        "id": "rrX5XxztX9Sc"
      },
      "source": [
        "We'll see some categorical variables"
      ]
    },
    {
      "cell_type": "code",
      "metadata": {
        "colab": {
          "base_uri": "https://localhost:8080/",
          "height": 675
        },
        "id": "KKvD85EAZpia",
        "outputId": "3f206525-d617-4ad6-dce2-f7c9195b537a"
      },
      "source": [
        "fig, axes = plt.subplots(nrows=2,ncols=2)\n",
        "fig.set_size_inches(15, 10)\n",
        "sn.boxplot(data = train, y = \"count\", x = \"season\", orient = \"v\", ax = axes[0][0])\n",
        "sn.boxplot(data = train, y = \"count\", x = \"holiday\", orient = \"v\", ax = axes[0][1])\n",
        "sn.boxplot(data = train, y = \"count\", x = \"workingday\", orient = \"v\", ax = axes[1][0])\n",
        "sn.boxplot(data = train, y = \"count\", x = \"weather\", orient = \"v\", ax = axes[1][1])\n",
        "\n",
        "\n",
        "axes[0][0].set(xlabel = 'Season', ylabel = 'Count', title = \"Box Plot On Count Across Season\")\n",
        "axes[0][1].set(xlabel = 'Holiday', ylabel = 'Count', title = \"Box Plot On Count Across Holiday\")\n",
        "axes[1][0].set(xlabel = 'Working Day', ylabel = 'Count', title = \"Box Plot On Count Across Working Day\")\n",
        "axes[1][1].set(xlabel = 'Weather', ylabel = 'Count', title = \"Box Plot On Count Across Weather\")"
      ],
      "execution_count": null,
      "outputs": [
        {
          "output_type": "execute_result",
          "data": {
            "text/plain": [
              "[Text(0, 0.5, 'Count'),\n",
              " Text(0.5, 0, 'Weather'),\n",
              " Text(0.5, 1.0, 'Box Plot On Count Across Weather')]"
            ]
          },
          "metadata": {
            "tags": []
          },
          "execution_count": 27
        },
        {
          "output_type": "display_data",
          "data": {
            "image/png": "[encoded data removed]",
            "text/plain": [
              "<Figure size 1080x720 with 4 Axes>"
            ]
          },
          "metadata": {
            "tags": [],
            "needs_background": "light"
          }
        }
      ]
    },
    {
      "cell_type": "markdown",
      "metadata": {
        "id": "lPL5SrbjbGpi"
      },
      "source": [
        "We can get some points from the graphs above:\n",
        "\n",
        "*   Spring season has got relatively lower count\n",
        "*   In 8, 17 and 18 hours is the time when people use more the bikes. It is related to the start of the work day and the final of the work day.\n",
        "*   In working day people tend to use bikes more but it also presents the major quantity of outliers\n",
        "*   There are months where people tend to use bikes.\n",
        "\n",
        "\n",
        "\n",
        "\n"
      ]
    },
    {
      "cell_type": "code",
      "metadata": {
        "colab": {
          "base_uri": "https://localhost:8080/",
          "height": 445
        },
        "id": "dsnGuJM1cVoF",
        "outputId": "69676145-8f23-4af4-fb98-2bf1c1dc5d75"
      },
      "source": [
        "cont_names=['temp','atemp','humidity','windspeed']\n",
        "\n",
        "i=0\n",
        "for name in cont_names:\n",
        "    i=i+1\n",
        "    plt.subplot(2,2,i)\n",
        "    sn.boxplot(name,data=train) \n",
        "    \n",
        "plt.show()"
      ],
      "execution_count": null,
      "outputs": [
        {
          "output_type": "stream",
          "text": [
            "/usr/local/lib/python3.7/dist-packages/seaborn/_decorators.py:43: FutureWarning: Pass the following variable as a keyword arg: x. From version 0.12, the only valid positional argument will be `data`, and passing other arguments without an explicit keyword will result in an error or misinterpretation.\n",
            "  FutureWarning\n",
            "/usr/local/lib/python3.7/dist-packages/seaborn/_decorators.py:43: FutureWarning: Pass the following variable as a keyword arg: x. From version 0.12, the only valid positional argument will be `data`, and passing other arguments without an explicit keyword will result in an error or misinterpretation.\n",
            "  FutureWarning\n",
            "/usr/local/lib/python3.7/dist-packages/seaborn/_decorators.py:43: FutureWarning: Pass the following variable as a keyword arg: x. From version 0.12, the only valid positional argument will be `data`, and passing other arguments without an explicit keyword will result in an error or misinterpretation.\n",
            "  FutureWarning\n",
            "/usr/local/lib/python3.7/dist-packages/seaborn/_decorators.py:43: FutureWarning: Pass the following variable as a keyword arg: x. From version 0.12, the only valid positional argument will be `data`, and passing other arguments without an explicit keyword will result in an error or misinterpretation.\n",
            "  FutureWarning\n"
          ],
          "name": "stderr"
        },
        {
          "output_type": "display_data",
          "data": {
            "image/png": "[encoded data removed]",
            "text/plain": [
              "<Figure size 432x288 with 4 Axes>"
            ]
          },
          "metadata": {
            "tags": [],
            "needs_background": "light"
          }
        }
      ]
    },
    {
      "cell_type": "markdown",
      "metadata": {
        "id": "KXwQwqy5dJIx"
      },
      "source": [
        "From above graphs we can see that windspeed has a lot of outliers. "
      ]
    },
    {
      "cell_type": "markdown",
      "metadata": {
        "id": "WkHlAIfV4ERC"
      },
      "source": [
        "**Feature Engineering**"
      ]
    },
    {
      "cell_type": "code",
      "metadata": {
        "id": "L-lFmOMxdo5r"
      },
      "source": [
        "from datetime import datetime\n",
        "\n",
        "train['datetime'] = train['datetime'].apply(lambda x:datetime.strptime(x,'%Y-%m-%d %H:%M:%S'))\n",
        "\n",
        "train['month'] = train['datetime'].apply(lambda x:x.month)\n",
        "train['hour'] = train['datetime'].apply(lambda x:x.hour)\n",
        "train['day'] = train['datetime'].apply(lambda x:x.day)\n",
        "train['year'] = train['datetime'].apply(lambda x:x.year)\n",
        "\n",
        "\n",
        "\n",
        "\n",
        "test['datetime'] = test['datetime'].apply(lambda x:datetime.strptime(x,'%Y-%m-%d %H:%M:%S'))\n",
        "\n",
        "test['month'] = test['datetime'].apply(lambda x:x.month)\n",
        "test['hour'] = test['datetime'].apply(lambda x:x.hour)\n",
        "test['day'] = test['datetime'].apply(lambda x:x.day)\n",
        "test['year'] = test['datetime'].apply(lambda x:x.year)"
      ],
      "execution_count": null,
      "outputs": []
    },
    {
      "cell_type": "code",
      "metadata": {
        "colab": {
          "base_uri": "https://localhost:8080/",
          "height": 198
        },
        "id": "w1aKSErmeH4W",
        "outputId": "abe1d10b-5697-4bff-bffd-4ca39707a943"
      },
      "source": [
        "train.head()"
      ],
      "execution_count": null,
      "outputs": [
        {
          "output_type": "execute_result",
          "data": {
            "text/html": [
              "<div>\n",
              "<style scoped>\n",
              "    .dataframe tbody tr th:only-of-type {\n",
              "        vertical-align: middle;\n",
              "    }\n",
              "\n",
              "    .dataframe tbody tr th {\n",
              "        vertical-align: top;\n",
              "    }\n",
              "\n",
              "    .dataframe thead th {\n",
              "        text-align: right;\n",
              "    }\n",
              "</style>\n",
              "<table border=\"1\" class=\"dataframe\">\n",
              "  <thead>\n",
              "    <tr style=\"text-align: right;\">\n",
              "      <th></th>\n",
              "      <th>datetime</th>\n",
              "      <th>season</th>\n",
              "      <th>holiday</th>\n",
              "      <th>workingday</th>\n",
              "      <th>weather</th>\n",
              "      <th>temp</th>\n",
              "      <th>atemp</th>\n",
              "      <th>humidity</th>\n",
              "      <th>windspeed</th>\n",
              "      <th>casual</th>\n",
              "      <th>registered</th>\n",
              "      <th>count</th>\n",
              "      <th>month</th>\n",
              "      <th>hour</th>\n",
              "      <th>day</th>\n",
              "      <th>year</th>\n",
              "    </tr>\n",
              "  </thead>\n",
              "  <tbody>\n",
              "    <tr>\n",
              "      <th>8771</th>\n",
              "      <td>2012-08-07 20:00:00</td>\n",
              "      <td>3</td>\n",
              "      <td>0</td>\n",
              "      <td>1</td>\n",
              "      <td>2</td>\n",
              "      <td>30.34</td>\n",
              "      <td>34.850</td>\n",
              "      <td>70</td>\n",
              "      <td>8.9981</td>\n",
              "      <td>74</td>\n",
              "      <td>374</td>\n",
              "      <td>448</td>\n",
              "      <td>8</td>\n",
              "      <td>20</td>\n",
              "      <td>7</td>\n",
              "      <td>2012</td>\n",
              "    </tr>\n",
              "    <tr>\n",
              "      <th>4723</th>\n",
              "      <td>2011-11-09 21:00:00</td>\n",
              "      <td>4</td>\n",
              "      <td>0</td>\n",
              "      <td>1</td>\n",
              "      <td>1</td>\n",
              "      <td>16.40</td>\n",
              "      <td>20.455</td>\n",
              "      <td>87</td>\n",
              "      <td>0.0000</td>\n",
              "      <td>9</td>\n",
              "      <td>152</td>\n",
              "      <td>161</td>\n",
              "      <td>11</td>\n",
              "      <td>21</td>\n",
              "      <td>9</td>\n",
              "      <td>2011</td>\n",
              "    </tr>\n",
              "    <tr>\n",
              "      <th>6348</th>\n",
              "      <td>2012-03-01 18:00:00</td>\n",
              "      <td>1</td>\n",
              "      <td>0</td>\n",
              "      <td>1</td>\n",
              "      <td>1</td>\n",
              "      <td>22.14</td>\n",
              "      <td>25.760</td>\n",
              "      <td>34</td>\n",
              "      <td>23.9994</td>\n",
              "      <td>27</td>\n",
              "      <td>498</td>\n",
              "      <td>525</td>\n",
              "      <td>3</td>\n",
              "      <td>18</td>\n",
              "      <td>1</td>\n",
              "      <td>2012</td>\n",
              "    </tr>\n",
              "    <tr>\n",
              "      <th>3566</th>\n",
              "      <td>2011-08-18 12:00:00</td>\n",
              "      <td>3</td>\n",
              "      <td>0</td>\n",
              "      <td>1</td>\n",
              "      <td>1</td>\n",
              "      <td>32.80</td>\n",
              "      <td>37.120</td>\n",
              "      <td>52</td>\n",
              "      <td>19.0012</td>\n",
              "      <td>34</td>\n",
              "      <td>139</td>\n",
              "      <td>173</td>\n",
              "      <td>8</td>\n",
              "      <td>12</td>\n",
              "      <td>18</td>\n",
              "      <td>2011</td>\n",
              "    </tr>\n",
              "    <tr>\n",
              "      <th>2458</th>\n",
              "      <td>2011-06-10 08:00:00</td>\n",
              "      <td>2</td>\n",
              "      <td>0</td>\n",
              "      <td>1</td>\n",
              "      <td>1</td>\n",
              "      <td>30.34</td>\n",
              "      <td>34.090</td>\n",
              "      <td>58</td>\n",
              "      <td>8.9981</td>\n",
              "      <td>29</td>\n",
              "      <td>423</td>\n",
              "      <td>452</td>\n",
              "      <td>6</td>\n",
              "      <td>8</td>\n",
              "      <td>10</td>\n",
              "      <td>2011</td>\n",
              "    </tr>\n",
              "  </tbody>\n",
              "</table>\n",
              "</div>"
            ],
            "text/plain": [
              "                datetime  season  holiday  workingday  ...  month  hour  day  year\n",
              "8771 2012-08-07 20:00:00       3        0           1  ...      8    20    7  2012\n",
              "4723 2011-11-09 21:00:00       4        0           1  ...     11    21    9  2011\n",
              "6348 2012-03-01 18:00:00       1        0           1  ...      3    18    1  2012\n",
              "3566 2011-08-18 12:00:00       3        0           1  ...      8    12   18  2011\n",
              "2458 2011-06-10 08:00:00       2        0           1  ...      6     8   10  2011\n",
              "\n",
              "[5 rows x 16 columns]"
            ]
          },
          "metadata": {
            "tags": []
          },
          "execution_count": 30
        }
      ]
    },
    {
      "cell_type": "code",
      "metadata": {
        "colab": {
          "base_uri": "https://localhost:8080/",
          "height": 498
        },
        "id": "drR6Ftd6ekYG",
        "outputId": "45909f1f-6935-444a-8cec-0e765f351de9"
      },
      "source": [
        "train.corr()"
      ],
      "execution_count": null,
      "outputs": [
        {
          "output_type": "execute_result",
          "data": {
            "text/html": [
              "<div>\n",
              "<style scoped>\n",
              "    .dataframe tbody tr th:only-of-type {\n",
              "        vertical-align: middle;\n",
              "    }\n",
              "\n",
              "    .dataframe tbody tr th {\n",
              "        vertical-align: top;\n",
              "    }\n",
              "\n",
              "    .dataframe thead th {\n",
              "        text-align: right;\n",
              "    }\n",
              "</style>\n",
              "<table border=\"1\" class=\"dataframe\">\n",
              "  <thead>\n",
              "    <tr style=\"text-align: right;\">\n",
              "      <th></th>\n",
              "      <th>season</th>\n",
              "      <th>holiday</th>\n",
              "      <th>workingday</th>\n",
              "      <th>weather</th>\n",
              "      <th>temp</th>\n",
              "      <th>atemp</th>\n",
              "      <th>humidity</th>\n",
              "      <th>windspeed</th>\n",
              "      <th>casual</th>\n",
              "      <th>registered</th>\n",
              "      <th>count</th>\n",
              "      <th>month</th>\n",
              "      <th>hour</th>\n",
              "      <th>day</th>\n",
              "      <th>year</th>\n",
              "    </tr>\n",
              "  </thead>\n",
              "  <tbody>\n",
              "    <tr>\n",
              "      <th>season</th>\n",
              "      <td>1.000000</td>\n",
              "      <td>0.033066</td>\n",
              "      <td>-0.011192</td>\n",
              "      <td>0.006519</td>\n",
              "      <td>0.258834</td>\n",
              "      <td>0.265474</td>\n",
              "      <td>0.184691</td>\n",
              "      <td>-0.145857</td>\n",
              "      <td>0.094075</td>\n",
              "      <td>0.165215</td>\n",
              "      <td>0.163708</td>\n",
              "      <td>0.971622</td>\n",
              "      <td>-0.005828</td>\n",
              "      <td>0.009583</td>\n",
              "      <td>-0.003619</td>\n",
              "    </tr>\n",
              "    <tr>\n",
              "      <th>holiday</th>\n",
              "      <td>0.033066</td>\n",
              "      <td>1.000000</td>\n",
              "      <td>-0.252892</td>\n",
              "      <td>-0.007982</td>\n",
              "      <td>-0.002438</td>\n",
              "      <td>-0.007371</td>\n",
              "      <td>0.006894</td>\n",
              "      <td>-0.000802</td>\n",
              "      <td>0.040575</td>\n",
              "      <td>-0.021877</td>\n",
              "      <td>-0.006992</td>\n",
              "      <td>0.006182</td>\n",
              "      <td>-0.003956</td>\n",
              "      <td>-0.017716</td>\n",
              "      <td>0.017912</td>\n",
              "    </tr>\n",
              "    <tr>\n",
              "      <th>workingday</th>\n",
              "      <td>-0.011192</td>\n",
              "      <td>-0.252892</td>\n",
              "      <td>1.000000</td>\n",
              "      <td>0.035688</td>\n",
              "      <td>0.028918</td>\n",
              "      <td>0.024292</td>\n",
              "      <td>-0.011660</td>\n",
              "      <td>0.025964</td>\n",
              "      <td>-0.319455</td>\n",
              "      <td>0.121172</td>\n",
              "      <td>0.012494</td>\n",
              "      <td>-0.007349</td>\n",
              "      <td>0.003241</td>\n",
              "      <td>0.015406</td>\n",
              "      <td>-0.010165</td>\n",
              "    </tr>\n",
              "    <tr>\n",
              "      <th>weather</th>\n",
              "      <td>0.006519</td>\n",
              "      <td>-0.007982</td>\n",
              "      <td>0.035688</td>\n",
              "      <td>1.000000</td>\n",
              "      <td>-0.055186</td>\n",
              "      <td>-0.055984</td>\n",
              "      <td>0.400593</td>\n",
              "      <td>0.002128</td>\n",
              "      <td>-0.132222</td>\n",
              "      <td>-0.109973</td>\n",
              "      <td>-0.128244</td>\n",
              "      <td>0.007809</td>\n",
              "      <td>-0.023886</td>\n",
              "      <td>-0.008257</td>\n",
              "      <td>-0.009779</td>\n",
              "    </tr>\n",
              "    <tr>\n",
              "      <th>temp</th>\n",
              "      <td>0.258834</td>\n",
              "      <td>-0.002438</td>\n",
              "      <td>0.028918</td>\n",
              "      <td>-0.055186</td>\n",
              "      <td>1.000000</td>\n",
              "      <td>0.986309</td>\n",
              "      <td>-0.062392</td>\n",
              "      <td>-0.018852</td>\n",
              "      <td>0.465694</td>\n",
              "      <td>0.318709</td>\n",
              "      <td>0.394508</td>\n",
              "      <td>0.258081</td>\n",
              "      <td>0.147659</td>\n",
              "      <td>0.013151</td>\n",
              "      <td>0.065371</td>\n",
              "    </tr>\n",
              "    <tr>\n",
              "      <th>atemp</th>\n",
              "      <td>0.265474</td>\n",
              "      <td>-0.007371</td>\n",
              "      <td>0.024292</td>\n",
              "      <td>-0.055984</td>\n",
              "      <td>0.986309</td>\n",
              "      <td>1.000000</td>\n",
              "      <td>-0.041799</td>\n",
              "      <td>-0.058081</td>\n",
              "      <td>0.462165</td>\n",
              "      <td>0.316288</td>\n",
              "      <td>0.391513</td>\n",
              "      <td>0.265193</td>\n",
              "      <td>0.142808</td>\n",
              "      <td>0.010029</td>\n",
              "      <td>0.063458</td>\n",
              "    </tr>\n",
              "    <tr>\n",
              "      <th>humidity</th>\n",
              "      <td>0.184691</td>\n",
              "      <td>0.006894</td>\n",
              "      <td>-0.011660</td>\n",
              "      <td>0.400593</td>\n",
              "      <td>-0.062392</td>\n",
              "      <td>-0.041799</td>\n",
              "      <td>1.000000</td>\n",
              "      <td>-0.328973</td>\n",
              "      <td>-0.348185</td>\n",
              "      <td>-0.269019</td>\n",
              "      <td>-0.320566</td>\n",
              "      <td>0.199191</td>\n",
              "      <td>-0.281428</td>\n",
              "      <td>-0.002906</td>\n",
              "      <td>-0.074355</td>\n",
              "    </tr>\n",
              "    <tr>\n",
              "      <th>windspeed</th>\n",
              "      <td>-0.145857</td>\n",
              "      <td>-0.000802</td>\n",
              "      <td>0.025964</td>\n",
              "      <td>0.002128</td>\n",
              "      <td>-0.018852</td>\n",
              "      <td>-0.058081</td>\n",
              "      <td>-0.328973</td>\n",
              "      <td>1.000000</td>\n",
              "      <td>0.089267</td>\n",
              "      <td>0.093771</td>\n",
              "      <td>0.102849</td>\n",
              "      <td>-0.150881</td>\n",
              "      <td>0.151887</td>\n",
              "      <td>0.028787</td>\n",
              "      <td>-0.017301</td>\n",
              "    </tr>\n",
              "    <tr>\n",
              "      <th>casual</th>\n",
              "      <td>0.094075</td>\n",
              "      <td>0.040575</td>\n",
              "      <td>-0.319455</td>\n",
              "      <td>-0.132222</td>\n",
              "      <td>0.465694</td>\n",
              "      <td>0.462165</td>\n",
              "      <td>-0.348185</td>\n",
              "      <td>0.089267</td>\n",
              "      <td>1.000000</td>\n",
              "      <td>0.496474</td>\n",
              "      <td>0.690584</td>\n",
              "      <td>0.090606</td>\n",
              "      <td>0.299605</td>\n",
              "      <td>0.009901</td>\n",
              "      <td>0.149848</td>\n",
              "    </tr>\n",
              "    <tr>\n",
              "      <th>registered</th>\n",
              "      <td>0.165215</td>\n",
              "      <td>-0.021877</td>\n",
              "      <td>0.121172</td>\n",
              "      <td>-0.109973</td>\n",
              "      <td>0.318709</td>\n",
              "      <td>0.316288</td>\n",
              "      <td>-0.269019</td>\n",
              "      <td>0.093771</td>\n",
              "      <td>0.496474</td>\n",
              "      <td>1.000000</td>\n",
              "      <td>0.970677</td>\n",
              "      <td>0.170968</td>\n",
              "      <td>0.378934</td>\n",
              "      <td>0.017718</td>\n",
              "      <td>0.261990</td>\n",
              "    </tr>\n",
              "    <tr>\n",
              "      <th>count</th>\n",
              "      <td>0.163708</td>\n",
              "      <td>-0.006992</td>\n",
              "      <td>0.012494</td>\n",
              "      <td>-0.128244</td>\n",
              "      <td>0.394508</td>\n",
              "      <td>0.391513</td>\n",
              "      <td>-0.320566</td>\n",
              "      <td>0.102849</td>\n",
              "      <td>0.690584</td>\n",
              "      <td>0.970677</td>\n",
              "      <td>1.000000</td>\n",
              "      <td>0.167540</td>\n",
              "      <td>0.398693</td>\n",
              "      <td>0.017504</td>\n",
              "      <td>0.259784</td>\n",
              "    </tr>\n",
              "    <tr>\n",
              "      <th>month</th>\n",
              "      <td>0.971622</td>\n",
              "      <td>0.006182</td>\n",
              "      <td>-0.007349</td>\n",
              "      <td>0.007809</td>\n",
              "      <td>0.258081</td>\n",
              "      <td>0.265193</td>\n",
              "      <td>0.199191</td>\n",
              "      <td>-0.150881</td>\n",
              "      <td>0.090606</td>\n",
              "      <td>0.170968</td>\n",
              "      <td>0.167540</td>\n",
              "      <td>1.000000</td>\n",
              "      <td>-0.007188</td>\n",
              "      <td>0.009053</td>\n",
              "      <td>-0.001793</td>\n",
              "    </tr>\n",
              "    <tr>\n",
              "      <th>hour</th>\n",
              "      <td>-0.005828</td>\n",
              "      <td>-0.003956</td>\n",
              "      <td>0.003241</td>\n",
              "      <td>-0.023886</td>\n",
              "      <td>0.147659</td>\n",
              "      <td>0.142808</td>\n",
              "      <td>-0.281428</td>\n",
              "      <td>0.151887</td>\n",
              "      <td>0.299605</td>\n",
              "      <td>0.378934</td>\n",
              "      <td>0.398693</td>\n",
              "      <td>-0.007188</td>\n",
              "      <td>1.000000</td>\n",
              "      <td>-0.001873</td>\n",
              "      <td>-0.000184</td>\n",
              "    </tr>\n",
              "    <tr>\n",
              "      <th>day</th>\n",
              "      <td>0.009583</td>\n",
              "      <td>-0.017716</td>\n",
              "      <td>0.015406</td>\n",
              "      <td>-0.008257</td>\n",
              "      <td>0.013151</td>\n",
              "      <td>0.010029</td>\n",
              "      <td>-0.002906</td>\n",
              "      <td>0.028787</td>\n",
              "      <td>0.009901</td>\n",
              "      <td>0.017718</td>\n",
              "      <td>0.017504</td>\n",
              "      <td>0.009053</td>\n",
              "      <td>-0.001873</td>\n",
              "      <td>1.000000</td>\n",
              "      <td>0.005260</td>\n",
              "    </tr>\n",
              "    <tr>\n",
              "      <th>year</th>\n",
              "      <td>-0.003619</td>\n",
              "      <td>0.017912</td>\n",
              "      <td>-0.010165</td>\n",
              "      <td>-0.009779</td>\n",
              "      <td>0.065371</td>\n",
              "      <td>0.063458</td>\n",
              "      <td>-0.074355</td>\n",
              "      <td>-0.017301</td>\n",
              "      <td>0.149848</td>\n",
              "      <td>0.261990</td>\n",
              "      <td>0.259784</td>\n",
              "      <td>-0.001793</td>\n",
              "      <td>-0.000184</td>\n",
              "      <td>0.005260</td>\n",
              "      <td>1.000000</td>\n",
              "    </tr>\n",
              "  </tbody>\n",
              "</table>\n",
              "</div>"
            ],
            "text/plain": [
              "              season   holiday  workingday  ...      hour       day      year\n",
              "season      1.000000  0.033066   -0.011192  ... -0.005828  0.009583 -0.003619\n",
              "holiday     0.033066  1.000000   -0.252892  ... -0.003956 -0.017716  0.017912\n",
              "workingday -0.011192 -0.252892    1.000000  ...  0.003241  0.015406 -0.010165\n",
              "weather     0.006519 -0.007982    0.035688  ... -0.023886 -0.008257 -0.009779\n",
              "temp        0.258834 -0.002438    0.028918  ...  0.147659  0.013151  0.065371\n",
              "atemp       0.265474 -0.007371    0.024292  ...  0.142808  0.010029  0.063458\n",
              "humidity    0.184691  0.006894   -0.011660  ... -0.281428 -0.002906 -0.074355\n",
              "windspeed  -0.145857 -0.000802    0.025964  ...  0.151887  0.028787 -0.017301\n",
              "casual      0.094075  0.040575   -0.319455  ...  0.299605  0.009901  0.149848\n",
              "registered  0.165215 -0.021877    0.121172  ...  0.378934  0.017718  0.261990\n",
              "count       0.163708 -0.006992    0.012494  ...  0.398693  0.017504  0.259784\n",
              "month       0.971622  0.006182   -0.007349  ... -0.007188  0.009053 -0.001793\n",
              "hour       -0.005828 -0.003956    0.003241  ...  1.000000 -0.001873 -0.000184\n",
              "day         0.009583 -0.017716    0.015406  ... -0.001873  1.000000  0.005260\n",
              "year       -0.003619  0.017912   -0.010165  ... -0.000184  0.005260  1.000000\n",
              "\n",
              "[15 rows x 15 columns]"
            ]
          },
          "metadata": {
            "tags": []
          },
          "execution_count": 31
        }
      ]
    },
    {
      "cell_type": "markdown",
      "metadata": {
        "id": "JUGko0HGfx-B"
      },
      "source": [
        "\n",
        "\n",
        "*   temp y atemp seem to be similar. We can delete one of them\n",
        "*   We also will delete casual and registered.\n",
        "*   Working day and holiday as we see in the graphs tend to be similar so we can delete one.\n",
        "\n",
        "\n",
        "\n"
      ]
    },
    {
      "cell_type": "code",
      "metadata": {
        "colab": {
          "base_uri": "https://localhost:8080/",
          "height": 317
        },
        "id": "mssqkVyuescM",
        "outputId": "68d66033-ac7a-4748-f033-70b7bc25deaf"
      },
      "source": [
        "train.cov()\n",
        "sn.heatmap(train.corr())\n",
        "plt.show()"
      ],
      "execution_count": null,
      "outputs": [
        {
          "output_type": "display_data",
          "data": {
            "image/png": "[encoded data removed]",
            "text/plain": [
              "<Figure size 432x288 with 2 Axes>"
            ]
          },
          "metadata": {
            "tags": [],
            "needs_background": "light"
          }
        }
      ]
    },
    {
      "cell_type": "markdown",
      "metadata": {
        "id": "C7Py-Dlf4IYJ"
      },
      "source": [
        "As we see, the columns \"season\", \"holiday\", \"workingday\" and \"weather\" should be of \"categorical\" data type. But the current data type is \"int\" for those columns. We'll transform the dataset in the following ways so that we can get started up with our EDA.\n",
        "\n",
        "\n",
        "\n",
        "*   Create new columns \"date, \"hour\", \"weekDay\", \"month\" from \"datetime\" column. Because of this we'll delete the \"datetime\" column\n",
        "*   Convert the datatype of \"season\",\"holiday\",\"workingday\" and \"weather\" to category.\n",
        "\n"
      ]
    },
    {
      "cell_type": "code",
      "metadata": {
        "colab": {
          "base_uri": "https://localhost:8080/",
          "height": 198
        },
        "id": "fvFAjzeXgfzu",
        "outputId": "af53d5ea-ff2d-4735-f9c0-123db20108d0"
      },
      "source": [
        "train=train.drop(['datetime','temp','casual','registered','day'], axis=1)\n",
        "train.head()"
      ],
      "execution_count": null,
      "outputs": [
        {
          "output_type": "execute_result",
          "data": {
            "text/html": [
              "<div>\n",
              "<style scoped>\n",
              "    .dataframe tbody tr th:only-of-type {\n",
              "        vertical-align: middle;\n",
              "    }\n",
              "\n",
              "    .dataframe tbody tr th {\n",
              "        vertical-align: top;\n",
              "    }\n",
              "\n",
              "    .dataframe thead th {\n",
              "        text-align: right;\n",
              "    }\n",
              "</style>\n",
              "<table border=\"1\" class=\"dataframe\">\n",
              "  <thead>\n",
              "    <tr style=\"text-align: right;\">\n",
              "      <th></th>\n",
              "      <th>season</th>\n",
              "      <th>holiday</th>\n",
              "      <th>workingday</th>\n",
              "      <th>weather</th>\n",
              "      <th>atemp</th>\n",
              "      <th>humidity</th>\n",
              "      <th>windspeed</th>\n",
              "      <th>count</th>\n",
              "      <th>month</th>\n",
              "      <th>hour</th>\n",
              "      <th>year</th>\n",
              "    </tr>\n",
              "  </thead>\n",
              "  <tbody>\n",
              "    <tr>\n",
              "      <th>8771</th>\n",
              "      <td>3</td>\n",
              "      <td>0</td>\n",
              "      <td>1</td>\n",
              "      <td>2</td>\n",
              "      <td>34.850</td>\n",
              "      <td>70</td>\n",
              "      <td>8.9981</td>\n",
              "      <td>448</td>\n",
              "      <td>8</td>\n",
              "      <td>20</td>\n",
              "      <td>2012</td>\n",
              "    </tr>\n",
              "    <tr>\n",
              "      <th>4723</th>\n",
              "      <td>4</td>\n",
              "      <td>0</td>\n",
              "      <td>1</td>\n",
              "      <td>1</td>\n",
              "      <td>20.455</td>\n",
              "      <td>87</td>\n",
              "      <td>0.0000</td>\n",
              "      <td>161</td>\n",
              "      <td>11</td>\n",
              "      <td>21</td>\n",
              "      <td>2011</td>\n",
              "    </tr>\n",
              "    <tr>\n",
              "      <th>6348</th>\n",
              "      <td>1</td>\n",
              "      <td>0</td>\n",
              "      <td>1</td>\n",
              "      <td>1</td>\n",
              "      <td>25.760</td>\n",
              "      <td>34</td>\n",
              "      <td>23.9994</td>\n",
              "      <td>525</td>\n",
              "      <td>3</td>\n",
              "      <td>18</td>\n",
              "      <td>2012</td>\n",
              "    </tr>\n",
              "    <tr>\n",
              "      <th>3566</th>\n",
              "      <td>3</td>\n",
              "      <td>0</td>\n",
              "      <td>1</td>\n",
              "      <td>1</td>\n",
              "      <td>37.120</td>\n",
              "      <td>52</td>\n",
              "      <td>19.0012</td>\n",
              "      <td>173</td>\n",
              "      <td>8</td>\n",
              "      <td>12</td>\n",
              "      <td>2011</td>\n",
              "    </tr>\n",
              "    <tr>\n",
              "      <th>2458</th>\n",
              "      <td>2</td>\n",
              "      <td>0</td>\n",
              "      <td>1</td>\n",
              "      <td>1</td>\n",
              "      <td>34.090</td>\n",
              "      <td>58</td>\n",
              "      <td>8.9981</td>\n",
              "      <td>452</td>\n",
              "      <td>6</td>\n",
              "      <td>8</td>\n",
              "      <td>2011</td>\n",
              "    </tr>\n",
              "  </tbody>\n",
              "</table>\n",
              "</div>"
            ],
            "text/plain": [
              "      season  holiday  workingday  weather  ...  count  month  hour  year\n",
              "8771       3        0           1        2  ...    448      8    20  2012\n",
              "4723       4        0           1        1  ...    161     11    21  2011\n",
              "6348       1        0           1        1  ...    525      3    18  2012\n",
              "3566       3        0           1        1  ...    173      8    12  2011\n",
              "2458       2        0           1        1  ...    452      6     8  2011\n",
              "\n",
              "[5 rows x 11 columns]"
            ]
          },
          "metadata": {
            "tags": []
          },
          "execution_count": 33
        }
      ]
    },
    {
      "cell_type": "code",
      "metadata": {
        "colab": {
          "base_uri": "https://localhost:8080/",
          "height": 198
        },
        "id": "Bx4wDXO01ADg",
        "outputId": "44a84cd8-10b1-4476-a979-1f61b4532c26"
      },
      "source": [
        "test=test.drop(['datetime','temp','casual','registered','day'], axis=1)\n",
        "test.head()"
      ],
      "execution_count": null,
      "outputs": [
        {
          "output_type": "execute_result",
          "data": {
            "text/html": [
              "<div>\n",
              "<style scoped>\n",
              "    .dataframe tbody tr th:only-of-type {\n",
              "        vertical-align: middle;\n",
              "    }\n",
              "\n",
              "    .dataframe tbody tr th {\n",
              "        vertical-align: top;\n",
              "    }\n",
              "\n",
              "    .dataframe thead th {\n",
              "        text-align: right;\n",
              "    }\n",
              "</style>\n",
              "<table border=\"1\" class=\"dataframe\">\n",
              "  <thead>\n",
              "    <tr style=\"text-align: right;\">\n",
              "      <th></th>\n",
              "      <th>season</th>\n",
              "      <th>holiday</th>\n",
              "      <th>workingday</th>\n",
              "      <th>weather</th>\n",
              "      <th>atemp</th>\n",
              "      <th>humidity</th>\n",
              "      <th>windspeed</th>\n",
              "      <th>count</th>\n",
              "      <th>month</th>\n",
              "      <th>hour</th>\n",
              "      <th>year</th>\n",
              "    </tr>\n",
              "  </thead>\n",
              "  <tbody>\n",
              "    <tr>\n",
              "      <th>5329</th>\n",
              "      <td>4</td>\n",
              "      <td>0</td>\n",
              "      <td>1</td>\n",
              "      <td>1</td>\n",
              "      <td>22.725</td>\n",
              "      <td>82</td>\n",
              "      <td>8.9981</td>\n",
              "      <td>5</td>\n",
              "      <td>12</td>\n",
              "      <td>3</td>\n",
              "      <td>2011</td>\n",
              "    </tr>\n",
              "    <tr>\n",
              "      <th>733</th>\n",
              "      <td>1</td>\n",
              "      <td>0</td>\n",
              "      <td>0</td>\n",
              "      <td>1</td>\n",
              "      <td>20.455</td>\n",
              "      <td>35</td>\n",
              "      <td>19.9995</td>\n",
              "      <td>36</td>\n",
              "      <td>2</td>\n",
              "      <td>22</td>\n",
              "      <td>2011</td>\n",
              "    </tr>\n",
              "    <tr>\n",
              "      <th>10625</th>\n",
              "      <td>4</td>\n",
              "      <td>0</td>\n",
              "      <td>0</td>\n",
              "      <td>2</td>\n",
              "      <td>20.455</td>\n",
              "      <td>87</td>\n",
              "      <td>7.0015</td>\n",
              "      <td>48</td>\n",
              "      <td>12</td>\n",
              "      <td>3</td>\n",
              "      <td>2012</td>\n",
              "    </tr>\n",
              "    <tr>\n",
              "      <th>9275</th>\n",
              "      <td>3</td>\n",
              "      <td>0</td>\n",
              "      <td>0</td>\n",
              "      <td>1</td>\n",
              "      <td>31.060</td>\n",
              "      <td>41</td>\n",
              "      <td>19.0012</td>\n",
              "      <td>356</td>\n",
              "      <td>9</td>\n",
              "      <td>20</td>\n",
              "      <td>2012</td>\n",
              "    </tr>\n",
              "    <tr>\n",
              "      <th>8418</th>\n",
              "      <td>3</td>\n",
              "      <td>0</td>\n",
              "      <td>1</td>\n",
              "      <td>1</td>\n",
              "      <td>30.305</td>\n",
              "      <td>69</td>\n",
              "      <td>7.0015</td>\n",
              "      <td>10</td>\n",
              "      <td>7</td>\n",
              "      <td>3</td>\n",
              "      <td>2012</td>\n",
              "    </tr>\n",
              "  </tbody>\n",
              "</table>\n",
              "</div>"
            ],
            "text/plain": [
              "       season  holiday  workingday  weather  ...  count  month  hour  year\n",
              "5329        4        0           1        1  ...      5     12     3  2011\n",
              "733         1        0           0        1  ...     36      2    22  2011\n",
              "10625       4        0           0        2  ...     48     12     3  2012\n",
              "9275        3        0           0        1  ...    356      9    20  2012\n",
              "8418        3        0           1        1  ...     10      7     3  2012\n",
              "\n",
              "[5 rows x 11 columns]"
            ]
          },
          "metadata": {
            "tags": []
          },
          "execution_count": 34
        }
      ]
    },
    {
      "cell_type": "code",
      "metadata": {
        "colab": {
          "base_uri": "https://localhost:8080/"
        },
        "id": "ugZsyrZpgpQL",
        "outputId": "bdcf8754-e51b-45bf-936d-5029539ac3ae"
      },
      "source": [
        "train.dtypes"
      ],
      "execution_count": null,
      "outputs": [
        {
          "output_type": "execute_result",
          "data": {
            "text/plain": [
              "season          int64\n",
              "holiday         int64\n",
              "workingday      int64\n",
              "weather         int64\n",
              "atemp         float64\n",
              "humidity        int64\n",
              "windspeed     float64\n",
              "count           int64\n",
              "month           int64\n",
              "hour            int64\n",
              "year            int64\n",
              "dtype: object"
            ]
          },
          "metadata": {
            "tags": []
          },
          "execution_count": 35
        }
      ]
    },
    {
      "cell_type": "code",
      "metadata": {
        "id": "pVoJD0an6T1q"
      },
      "source": [
        "categoricalFeatureNames = [\"season\",\"holiday\",\"workingday\",\"weather\",\"month\",\"year\",\"hour\"]\n",
        "for var in categoricalFeatureNames:\n",
        "    train[var] = train[var].astype(\"category\")\n",
        "    test[var] = test[var].astype(\"category\")"
      ],
      "execution_count": null,
      "outputs": []
    },
    {
      "cell_type": "code",
      "metadata": {
        "colab": {
          "base_uri": "https://localhost:8080/"
        },
        "id": "0VU21sj76v1j",
        "outputId": "6a34e9cf-b6c7-47dc-eae2-cbf67bbd2868"
      },
      "source": [
        "train.dtypes"
      ],
      "execution_count": null,
      "outputs": [
        {
          "output_type": "execute_result",
          "data": {
            "text/plain": [
              "season        category\n",
              "holiday       category\n",
              "workingday    category\n",
              "weather       category\n",
              "atemp          float64\n",
              "humidity         int64\n",
              "windspeed      float64\n",
              "count            int64\n",
              "month         category\n",
              "hour          category\n",
              "year          category\n",
              "dtype: object"
            ]
          },
          "metadata": {
            "tags": []
          },
          "execution_count": 37
        }
      ]
    },
    {
      "cell_type": "code",
      "metadata": {
        "colab": {
          "base_uri": "https://localhost:8080/"
        },
        "id": "0VAQ8mUciBZ1",
        "outputId": "580770cc-9ffc-4e5e-f98d-6aa7c69836a6"
      },
      "source": [
        "#Our variable to predict is skewed so we apply the logarithm.\n",
        "#The logarithm reduces the dynamic range of a variable so the differences \n",
        "# are preserved while the scale is not dramatically skewed.\n",
        "train['count'] = np.log1p(train['count'])\n",
        "train['count'].head(10)"
      ],
      "execution_count": null,
      "outputs": [
        {
          "output_type": "execute_result",
          "data": {
            "text/plain": [
              "8771     6.107023\n",
              "4723     5.087596\n",
              "6348     6.265301\n",
              "3566     5.159055\n",
              "2458     6.115892\n",
              "10745    2.564949\n",
              "2650     4.882802\n",
              "5758     3.784190\n",
              "7534     4.110874\n",
              "8450     5.666427\n",
              "Name: count, dtype: float64"
            ]
          },
          "metadata": {
            "tags": []
          },
          "execution_count": 38
        }
      ]
    },
    {
      "cell_type": "code",
      "metadata": {
        "colab": {
          "base_uri": "https://localhost:8080/"
        },
        "id": "Z09mR_X31VUf",
        "outputId": "8e617593-9a0d-4695-e625-5afe062ef978"
      },
      "source": [
        "test['count'] = np.log1p(test['count'])\n",
        "test['count'].head(10)"
      ],
      "execution_count": null,
      "outputs": [
        {
          "output_type": "execute_result",
          "data": {
            "text/plain": [
              "5329     1.791759\n",
              "733      3.610918\n",
              "10625    3.891820\n",
              "9275     5.877736\n",
              "8418     2.397895\n",
              "7833     6.663133\n",
              "7249     5.164786\n",
              "1184     0.693147\n",
              "4220     5.117994\n",
              "7586     5.416100\n",
              "Name: count, dtype: float64"
            ]
          },
          "metadata": {
            "tags": []
          },
          "execution_count": 39
        }
      ]
    },
    {
      "cell_type": "code",
      "metadata": {
        "colab": {
          "base_uri": "https://localhost:8080/",
          "height": 198
        },
        "id": "_8flG4xqj5wa",
        "outputId": "27ef4d1a-ebaa-4ae3-e137-d9ec16033302"
      },
      "source": [
        "train.head()"
      ],
      "execution_count": null,
      "outputs": [
        {
          "output_type": "execute_result",
          "data": {
            "text/html": [
              "<div>\n",
              "<style scoped>\n",
              "    .dataframe tbody tr th:only-of-type {\n",
              "        vertical-align: middle;\n",
              "    }\n",
              "\n",
              "    .dataframe tbody tr th {\n",
              "        vertical-align: top;\n",
              "    }\n",
              "\n",
              "    .dataframe thead th {\n",
              "        text-align: right;\n",
              "    }\n",
              "</style>\n",
              "<table border=\"1\" class=\"dataframe\">\n",
              "  <thead>\n",
              "    <tr style=\"text-align: right;\">\n",
              "      <th></th>\n",
              "      <th>season</th>\n",
              "      <th>holiday</th>\n",
              "      <th>workingday</th>\n",
              "      <th>weather</th>\n",
              "      <th>atemp</th>\n",
              "      <th>humidity</th>\n",
              "      <th>windspeed</th>\n",
              "      <th>count</th>\n",
              "      <th>month</th>\n",
              "      <th>hour</th>\n",
              "      <th>year</th>\n",
              "    </tr>\n",
              "  </thead>\n",
              "  <tbody>\n",
              "    <tr>\n",
              "      <th>8771</th>\n",
              "      <td>3</td>\n",
              "      <td>0</td>\n",
              "      <td>1</td>\n",
              "      <td>2</td>\n",
              "      <td>34.850</td>\n",
              "      <td>70</td>\n",
              "      <td>8.9981</td>\n",
              "      <td>6.107023</td>\n",
              "      <td>8</td>\n",
              "      <td>20</td>\n",
              "      <td>2012</td>\n",
              "    </tr>\n",
              "    <tr>\n",
              "      <th>4723</th>\n",
              "      <td>4</td>\n",
              "      <td>0</td>\n",
              "      <td>1</td>\n",
              "      <td>1</td>\n",
              "      <td>20.455</td>\n",
              "      <td>87</td>\n",
              "      <td>0.0000</td>\n",
              "      <td>5.087596</td>\n",
              "      <td>11</td>\n",
              "      <td>21</td>\n",
              "      <td>2011</td>\n",
              "    </tr>\n",
              "    <tr>\n",
              "      <th>6348</th>\n",
              "      <td>1</td>\n",
              "      <td>0</td>\n",
              "      <td>1</td>\n",
              "      <td>1</td>\n",
              "      <td>25.760</td>\n",
              "      <td>34</td>\n",
              "      <td>23.9994</td>\n",
              "      <td>6.265301</td>\n",
              "      <td>3</td>\n",
              "      <td>18</td>\n",
              "      <td>2012</td>\n",
              "    </tr>\n",
              "    <tr>\n",
              "      <th>3566</th>\n",
              "      <td>3</td>\n",
              "      <td>0</td>\n",
              "      <td>1</td>\n",
              "      <td>1</td>\n",
              "      <td>37.120</td>\n",
              "      <td>52</td>\n",
              "      <td>19.0012</td>\n",
              "      <td>5.159055</td>\n",
              "      <td>8</td>\n",
              "      <td>12</td>\n",
              "      <td>2011</td>\n",
              "    </tr>\n",
              "    <tr>\n",
              "      <th>2458</th>\n",
              "      <td>2</td>\n",
              "      <td>0</td>\n",
              "      <td>1</td>\n",
              "      <td>1</td>\n",
              "      <td>34.090</td>\n",
              "      <td>58</td>\n",
              "      <td>8.9981</td>\n",
              "      <td>6.115892</td>\n",
              "      <td>6</td>\n",
              "      <td>8</td>\n",
              "      <td>2011</td>\n",
              "    </tr>\n",
              "  </tbody>\n",
              "</table>\n",
              "</div>"
            ],
            "text/plain": [
              "     season holiday workingday weather  ...     count  month  hour  year\n",
              "8771      3       0          1       2  ...  6.107023      8    20  2012\n",
              "4723      4       0          1       1  ...  5.087596     11    21  2011\n",
              "6348      1       0          1       1  ...  6.265301      3    18  2012\n",
              "3566      3       0          1       1  ...  5.159055      8    12  2011\n",
              "2458      2       0          1       1  ...  6.115892      6     8  2011\n",
              "\n",
              "[5 rows x 11 columns]"
            ]
          },
          "metadata": {
            "tags": []
          },
          "execution_count": 40
        }
      ]
    },
    {
      "cell_type": "code",
      "metadata": {
        "colab": {
          "base_uri": "https://localhost:8080/",
          "height": 198
        },
        "id": "Wzd8ixidjH0H",
        "outputId": "bca9fce2-28c5-4aa0-b68b-447ad640df8f"
      },
      "source": [
        "test.head()"
      ],
      "execution_count": null,
      "outputs": [
        {
          "output_type": "execute_result",
          "data": {
            "text/html": [
              "<div>\n",
              "<style scoped>\n",
              "    .dataframe tbody tr th:only-of-type {\n",
              "        vertical-align: middle;\n",
              "    }\n",
              "\n",
              "    .dataframe tbody tr th {\n",
              "        vertical-align: top;\n",
              "    }\n",
              "\n",
              "    .dataframe thead th {\n",
              "        text-align: right;\n",
              "    }\n",
              "</style>\n",
              "<table border=\"1\" class=\"dataframe\">\n",
              "  <thead>\n",
              "    <tr style=\"text-align: right;\">\n",
              "      <th></th>\n",
              "      <th>season</th>\n",
              "      <th>holiday</th>\n",
              "      <th>workingday</th>\n",
              "      <th>weather</th>\n",
              "      <th>atemp</th>\n",
              "      <th>humidity</th>\n",
              "      <th>windspeed</th>\n",
              "      <th>count</th>\n",
              "      <th>month</th>\n",
              "      <th>hour</th>\n",
              "      <th>year</th>\n",
              "    </tr>\n",
              "  </thead>\n",
              "  <tbody>\n",
              "    <tr>\n",
              "      <th>5329</th>\n",
              "      <td>4</td>\n",
              "      <td>0</td>\n",
              "      <td>1</td>\n",
              "      <td>1</td>\n",
              "      <td>22.725</td>\n",
              "      <td>82</td>\n",
              "      <td>8.9981</td>\n",
              "      <td>1.791759</td>\n",
              "      <td>12</td>\n",
              "      <td>3</td>\n",
              "      <td>2011</td>\n",
              "    </tr>\n",
              "    <tr>\n",
              "      <th>733</th>\n",
              "      <td>1</td>\n",
              "      <td>0</td>\n",
              "      <td>0</td>\n",
              "      <td>1</td>\n",
              "      <td>20.455</td>\n",
              "      <td>35</td>\n",
              "      <td>19.9995</td>\n",
              "      <td>3.610918</td>\n",
              "      <td>2</td>\n",
              "      <td>22</td>\n",
              "      <td>2011</td>\n",
              "    </tr>\n",
              "    <tr>\n",
              "      <th>10625</th>\n",
              "      <td>4</td>\n",
              "      <td>0</td>\n",
              "      <td>0</td>\n",
              "      <td>2</td>\n",
              "      <td>20.455</td>\n",
              "      <td>87</td>\n",
              "      <td>7.0015</td>\n",
              "      <td>3.891820</td>\n",
              "      <td>12</td>\n",
              "      <td>3</td>\n",
              "      <td>2012</td>\n",
              "    </tr>\n",
              "    <tr>\n",
              "      <th>9275</th>\n",
              "      <td>3</td>\n",
              "      <td>0</td>\n",
              "      <td>0</td>\n",
              "      <td>1</td>\n",
              "      <td>31.060</td>\n",
              "      <td>41</td>\n",
              "      <td>19.0012</td>\n",
              "      <td>5.877736</td>\n",
              "      <td>9</td>\n",
              "      <td>20</td>\n",
              "      <td>2012</td>\n",
              "    </tr>\n",
              "    <tr>\n",
              "      <th>8418</th>\n",
              "      <td>3</td>\n",
              "      <td>0</td>\n",
              "      <td>1</td>\n",
              "      <td>1</td>\n",
              "      <td>30.305</td>\n",
              "      <td>69</td>\n",
              "      <td>7.0015</td>\n",
              "      <td>2.397895</td>\n",
              "      <td>7</td>\n",
              "      <td>3</td>\n",
              "      <td>2012</td>\n",
              "    </tr>\n",
              "  </tbody>\n",
              "</table>\n",
              "</div>"
            ],
            "text/plain": [
              "      season holiday workingday weather  ...     count  month  hour  year\n",
              "5329       4       0          1       1  ...  1.791759     12     3  2011\n",
              "733        1       0          0       1  ...  3.610918      2    22  2011\n",
              "10625      4       0          0       2  ...  3.891820     12     3  2012\n",
              "9275       3       0          0       1  ...  5.877736      9    20  2012\n",
              "8418       3       0          1       1  ...  2.397895      7     3  2012\n",
              "\n",
              "[5 rows x 11 columns]"
            ]
          },
          "metadata": {
            "tags": []
          },
          "execution_count": 41
        }
      ]
    },
    {
      "cell_type": "code",
      "metadata": {
        "colab": {
          "base_uri": "https://localhost:8080/"
        },
        "id": "tf-r7slUkBqC",
        "outputId": "c0a27379-a383-46dc-b6e2-1976f699e6d5"
      },
      "source": [
        "y_train=train['count']\n",
        "X_train=train.drop([\"count\"], axis=1)\n",
        "y_test=test[\"count\"]\n",
        "X_test=test.drop([\"count\"], axis=1)\n",
        "\n",
        "print(X_train.shape)\n",
        "print(y_train.shape)\n",
        "print(X_test.shape)\n",
        "print(y_test.shape)\n",
        "\n"
      ],
      "execution_count": null,
      "outputs": [
        {
          "output_type": "stream",
          "text": [
            "(8708, 10)\n",
            "(8708,)\n",
            "(2178, 10)\n",
            "(2178,)\n"
          ],
          "name": "stdout"
        }
      ]
    },
    {
      "cell_type": "code",
      "metadata": {
        "colab": {
          "base_uri": "https://localhost:8080/",
          "height": 198
        },
        "id": "YDHfL6Ui7TAA",
        "outputId": "3d9a4ac3-3e33-4106-fc11-3ddef968b759"
      },
      "source": [
        "X_train.head()"
      ],
      "execution_count": null,
      "outputs": [
        {
          "output_type": "execute_result",
          "data": {
            "text/html": [
              "<div>\n",
              "<style scoped>\n",
              "    .dataframe tbody tr th:only-of-type {\n",
              "        vertical-align: middle;\n",
              "    }\n",
              "\n",
              "    .dataframe tbody tr th {\n",
              "        vertical-align: top;\n",
              "    }\n",
              "\n",
              "    .dataframe thead th {\n",
              "        text-align: right;\n",
              "    }\n",
              "</style>\n",
              "<table border=\"1\" class=\"dataframe\">\n",
              "  <thead>\n",
              "    <tr style=\"text-align: right;\">\n",
              "      <th></th>\n",
              "      <th>season</th>\n",
              "      <th>holiday</th>\n",
              "      <th>workingday</th>\n",
              "      <th>weather</th>\n",
              "      <th>atemp</th>\n",
              "      <th>humidity</th>\n",
              "      <th>windspeed</th>\n",
              "      <th>month</th>\n",
              "      <th>hour</th>\n",
              "      <th>year</th>\n",
              "    </tr>\n",
              "  </thead>\n",
              "  <tbody>\n",
              "    <tr>\n",
              "      <th>8771</th>\n",
              "      <td>3</td>\n",
              "      <td>0</td>\n",
              "      <td>1</td>\n",
              "      <td>2</td>\n",
              "      <td>34.850</td>\n",
              "      <td>70</td>\n",
              "      <td>8.9981</td>\n",
              "      <td>8</td>\n",
              "      <td>20</td>\n",
              "      <td>2012</td>\n",
              "    </tr>\n",
              "    <tr>\n",
              "      <th>4723</th>\n",
              "      <td>4</td>\n",
              "      <td>0</td>\n",
              "      <td>1</td>\n",
              "      <td>1</td>\n",
              "      <td>20.455</td>\n",
              "      <td>87</td>\n",
              "      <td>0.0000</td>\n",
              "      <td>11</td>\n",
              "      <td>21</td>\n",
              "      <td>2011</td>\n",
              "    </tr>\n",
              "    <tr>\n",
              "      <th>6348</th>\n",
              "      <td>1</td>\n",
              "      <td>0</td>\n",
              "      <td>1</td>\n",
              "      <td>1</td>\n",
              "      <td>25.760</td>\n",
              "      <td>34</td>\n",
              "      <td>23.9994</td>\n",
              "      <td>3</td>\n",
              "      <td>18</td>\n",
              "      <td>2012</td>\n",
              "    </tr>\n",
              "    <tr>\n",
              "      <th>3566</th>\n",
              "      <td>3</td>\n",
              "      <td>0</td>\n",
              "      <td>1</td>\n",
              "      <td>1</td>\n",
              "      <td>37.120</td>\n",
              "      <td>52</td>\n",
              "      <td>19.0012</td>\n",
              "      <td>8</td>\n",
              "      <td>12</td>\n",
              "      <td>2011</td>\n",
              "    </tr>\n",
              "    <tr>\n",
              "      <th>2458</th>\n",
              "      <td>2</td>\n",
              "      <td>0</td>\n",
              "      <td>1</td>\n",
              "      <td>1</td>\n",
              "      <td>34.090</td>\n",
              "      <td>58</td>\n",
              "      <td>8.9981</td>\n",
              "      <td>6</td>\n",
              "      <td>8</td>\n",
              "      <td>2011</td>\n",
              "    </tr>\n",
              "  </tbody>\n",
              "</table>\n",
              "</div>"
            ],
            "text/plain": [
              "     season holiday workingday weather  ...  windspeed  month  hour  year\n",
              "8771      3       0          1       2  ...     8.9981      8    20  2012\n",
              "4723      4       0          1       1  ...     0.0000     11    21  2011\n",
              "6348      1       0          1       1  ...    23.9994      3    18  2012\n",
              "3566      3       0          1       1  ...    19.0012      8    12  2011\n",
              "2458      2       0          1       1  ...     8.9981      6     8  2011\n",
              "\n",
              "[5 rows x 10 columns]"
            ]
          },
          "metadata": {
            "tags": []
          },
          "execution_count": 44
        }
      ]
    },
    {
      "cell_type": "code",
      "metadata": {
        "colab": {
          "base_uri": "https://localhost:8080/",
          "height": 198
        },
        "id": "8QaPPnbg7YSn",
        "outputId": "3eb32b48-d013-4241-f20d-78190bec44d2"
      },
      "source": [
        "X_test.head()"
      ],
      "execution_count": null,
      "outputs": [
        {
          "output_type": "execute_result",
          "data": {
            "text/html": [
              "<div>\n",
              "<style scoped>\n",
              "    .dataframe tbody tr th:only-of-type {\n",
              "        vertical-align: middle;\n",
              "    }\n",
              "\n",
              "    .dataframe tbody tr th {\n",
              "        vertical-align: top;\n",
              "    }\n",
              "\n",
              "    .dataframe thead th {\n",
              "        text-align: right;\n",
              "    }\n",
              "</style>\n",
              "<table border=\"1\" class=\"dataframe\">\n",
              "  <thead>\n",
              "    <tr style=\"text-align: right;\">\n",
              "      <th></th>\n",
              "      <th>season</th>\n",
              "      <th>holiday</th>\n",
              "      <th>workingday</th>\n",
              "      <th>weather</th>\n",
              "      <th>atemp</th>\n",
              "      <th>humidity</th>\n",
              "      <th>windspeed</th>\n",
              "      <th>month</th>\n",
              "      <th>hour</th>\n",
              "      <th>year</th>\n",
              "    </tr>\n",
              "  </thead>\n",
              "  <tbody>\n",
              "    <tr>\n",
              "      <th>5329</th>\n",
              "      <td>4</td>\n",
              "      <td>0</td>\n",
              "      <td>1</td>\n",
              "      <td>1</td>\n",
              "      <td>22.725</td>\n",
              "      <td>82</td>\n",
              "      <td>8.9981</td>\n",
              "      <td>12</td>\n",
              "      <td>3</td>\n",
              "      <td>2011</td>\n",
              "    </tr>\n",
              "    <tr>\n",
              "      <th>733</th>\n",
              "      <td>1</td>\n",
              "      <td>0</td>\n",
              "      <td>0</td>\n",
              "      <td>1</td>\n",
              "      <td>20.455</td>\n",
              "      <td>35</td>\n",
              "      <td>19.9995</td>\n",
              "      <td>2</td>\n",
              "      <td>22</td>\n",
              "      <td>2011</td>\n",
              "    </tr>\n",
              "    <tr>\n",
              "      <th>10625</th>\n",
              "      <td>4</td>\n",
              "      <td>0</td>\n",
              "      <td>0</td>\n",
              "      <td>2</td>\n",
              "      <td>20.455</td>\n",
              "      <td>87</td>\n",
              "      <td>7.0015</td>\n",
              "      <td>12</td>\n",
              "      <td>3</td>\n",
              "      <td>2012</td>\n",
              "    </tr>\n",
              "    <tr>\n",
              "      <th>9275</th>\n",
              "      <td>3</td>\n",
              "      <td>0</td>\n",
              "      <td>0</td>\n",
              "      <td>1</td>\n",
              "      <td>31.060</td>\n",
              "      <td>41</td>\n",
              "      <td>19.0012</td>\n",
              "      <td>9</td>\n",
              "      <td>20</td>\n",
              "      <td>2012</td>\n",
              "    </tr>\n",
              "    <tr>\n",
              "      <th>8418</th>\n",
              "      <td>3</td>\n",
              "      <td>0</td>\n",
              "      <td>1</td>\n",
              "      <td>1</td>\n",
              "      <td>30.305</td>\n",
              "      <td>69</td>\n",
              "      <td>7.0015</td>\n",
              "      <td>7</td>\n",
              "      <td>3</td>\n",
              "      <td>2012</td>\n",
              "    </tr>\n",
              "  </tbody>\n",
              "</table>\n",
              "</div>"
            ],
            "text/plain": [
              "      season holiday workingday weather  ...  windspeed  month  hour  year\n",
              "5329       4       0          1       1  ...     8.9981     12     3  2011\n",
              "733        1       0          0       1  ...    19.9995      2    22  2011\n",
              "10625      4       0          0       2  ...     7.0015     12     3  2012\n",
              "9275       3       0          0       1  ...    19.0012      9    20  2012\n",
              "8418       3       0          1       1  ...     7.0015      7     3  2012\n",
              "\n",
              "[5 rows x 10 columns]"
            ]
          },
          "metadata": {
            "tags": []
          },
          "execution_count": 45
        }
      ]
    },
    {
      "cell_type": "code",
      "metadata": {
        "colab": {
          "base_uri": "https://localhost:8080/"
        },
        "id": "yPyPXOZi66FR",
        "outputId": "db04dab6-64a4-4ba3-93ed-f1e24e19cd0d"
      },
      "source": [
        "lr=linear_model.LinearRegression()\n",
        "lr.fit(X_train,y_train)\n",
        "y_pred_train = lr.predict(X_train)\n",
        "y_pred_test = lr.predict(X_test)\n",
        "mse_train = mean_squared_error(y_train,y_pred_train)\n",
        "rmse_train = sqrt(mse_train)\n",
        "\n",
        "print(\"MSE train: \" + str(mse_train))\n",
        "print(\"RMSE train: \" + str(rmse_train))\n",
        "\n",
        "mse_test = mean_squared_error(y_test,y_pred_test)\n",
        "rmse_test = sqrt(mse_test)\n",
        "\n",
        "print(\"MSE test: \" + str(mse_test))\n",
        "print(\"RMSE test: \" + str(rmse_test))"
      ],
      "execution_count": null,
      "outputs": [
        {
          "output_type": "stream",
          "text": [
            "MSE train: 1.0249802786179898\n",
            "RMSE train: 1.0124130968226308\n",
            "MSE test: 1.0673904048411667\n",
            "RMSE test: 1.0331458778125995\n"
          ],
          "name": "stdout"
        }
      ]
    },
    {
      "cell_type": "code",
      "metadata": {
        "colab": {
          "base_uri": "https://localhost:8080/"
        },
        "id": "nyU8Qcdq69LU",
        "outputId": "cbad28d4-85be-4778-ecf0-df753f09b34c"
      },
      "source": [
        "rfc = RandomForestRegressor()\n",
        "rfc.fit(X_train, y_train)\n",
        "y_pred_train = rfc.predict(X_train)\n",
        "y_pred_test = rfc.predict(X_test)\n",
        "\n",
        "mse_train = mean_squared_error(y_train,y_pred_train)\n",
        "rmse_train = sqrt(mse_train)\n",
        "print(\"MSE train: \" + str(mse_train))\n",
        "print(\"RMSE train: \" + str(rmse_train))\n",
        "\n",
        "mse_test = mean_squared_error(y_test,y_pred_test)\n",
        "rmse_test = sqrt(mse_test)\n",
        "print(\"MSE test: \" + str(mse_test))\n",
        "print(\"RMSE test: \" + str(rmse_test))"
      ],
      "execution_count": null,
      "outputs": [
        {
          "output_type": "stream",
          "text": [
            "MSE train: 0.015850885782171\n",
            "RMSE train: 0.12590030096139962\n",
            "MSE test: 0.10634366945042834\n",
            "RMSE test: 0.3261037709846796\n"
          ],
          "name": "stdout"
        }
      ]
    },
    {
      "cell_type": "code",
      "metadata": {
        "colab": {
          "base_uri": "https://localhost:8080/"
        },
        "id": "WbfFt93M76VY",
        "outputId": "cf4e9b1b-119c-4253-aee6-025fa8da7939"
      },
      "source": [
        "train.columns"
      ],
      "execution_count": null,
      "outputs": [
        {
          "output_type": "execute_result",
          "data": {
            "text/plain": [
              "Index(['season', 'holiday', 'workingday', 'weather', 'atemp', 'humidity',\n",
              "       'windspeed', 'count', 'month', 'hour', 'year'],\n",
              "      dtype='object')"
            ]
          },
          "metadata": {
            "tags": []
          },
          "execution_count": 48
        }
      ]
    },
    {
      "cell_type": "code",
      "metadata": {
        "colab": {
          "base_uri": "https://localhost:8080/"
        },
        "id": "7kegR84qyBDc",
        "outputId": "68c6d80e-f015-4b39-ac7f-90c77f1d72b5"
      },
      "source": [
        "feature_list = ['season', 'holiday', 'workingday', 'weather', 'atemp', 'humidity',\n",
        "       'windspeed', 'month', 'hour', 'year']\n",
        "# Get numerical feature importances\n",
        "importances = list(rfc.feature_importances_)\n",
        "\n",
        "# List of tuples with variable and importance\n",
        "feature_importances = [(feature, round(importance, 2)) for feature, importance in zip(feature_list, importances)]\n",
        "\n",
        "# Sort the feature importances by most important first\n",
        "feature_importances = sorted(feature_importances, key = lambda x: x[1], reverse = True)\n",
        "\n",
        "# Print out the feature and importances \n",
        "[print('Variable: {:20} Importance: {}'.format(*pair)) for pair in feature_importances if (pair[1] > 0.0)];"
      ],
      "execution_count": null,
      "outputs": [
        {
          "output_type": "stream",
          "text": [
            "Variable: hour                 Importance: 0.76\n",
            "Variable: atemp                Importance: 0.06\n",
            "Variable: workingday           Importance: 0.05\n",
            "Variable: month                Importance: 0.03\n",
            "Variable: year                 Importance: 0.03\n",
            "Variable: humidity             Importance: 0.02\n",
            "Variable: season               Importance: 0.01\n",
            "Variable: weather              Importance: 0.01\n",
            "Variable: windspeed            Importance: 0.01\n"
          ],
          "name": "stdout"
        }
      ]
    },
    {
      "cell_type": "code",
      "metadata": {
        "id": "uwC3Xw0j7MqS"
      },
      "source": [
        "new_train = train[['hour', 'workingday', 'atemp', 'month', \n",
        "                   'humidity', 'year', 'season', 'count']]\n",
        "\n",
        "new_test = test[['hour', 'workingday', 'atemp', 'month', \n",
        "                   'humidity', 'year', 'season', 'count']]"
      ],
      "execution_count": null,
      "outputs": []
    },
    {
      "cell_type": "code",
      "metadata": {
        "colab": {
          "base_uri": "https://localhost:8080/"
        },
        "id": "9aeGM71_8rdt",
        "outputId": "c01bbaf4-051e-47f6-f3ed-2e75458e9b3b"
      },
      "source": [
        "y_train=new_train['count']\n",
        "X_train=new_train.drop(['count'], axis=1)\n",
        "y_test=new_test['count']\n",
        "X_test=new_test.drop(['count'], axis=1)\n",
        "print(X_train.shape)\n",
        "print(X_test.shape)\n",
        "print(y_train.shape)\n",
        "print(y_test.shape)"
      ],
      "execution_count": null,
      "outputs": [
        {
          "output_type": "stream",
          "text": [
            "(8708, 7)\n",
            "(2178, 7)\n",
            "(8708,)\n",
            "(2178,)\n"
          ],
          "name": "stdout"
        }
      ]
    },
    {
      "cell_type": "code",
      "metadata": {
        "colab": {
          "base_uri": "https://localhost:8080/"
        },
        "id": "Hv8n75mu9Nkf",
        "outputId": "974af48a-12ff-4c0a-ff29-543cb1c43ac8"
      },
      "source": [
        "rfc = RandomForestRegressor()\n",
        "rfc.fit(X_train, y_train)\n",
        "y_pred_train = rfc.predict(X_train)\n",
        "y_pred_test = rfc.predict(X_test)\n",
        "\n",
        "mse_train = mean_squared_error(y_train,y_pred_train)\n",
        "rmse_train = sqrt(mse_train)\n",
        "print(\"MSE train: \" + str(mse_train))\n",
        "print(\"RMSE train: \" + str(rmse_train))\n",
        "\n",
        "mse_test = mean_squared_error(y_test,y_pred_test)\n",
        "rmse_test = sqrt(mse_test)\n",
        "print(\"MSE test: \" + str(mse_test))\n",
        "print(\"RMSE test: \" + str(rmse_test))"
      ],
      "execution_count": null,
      "outputs": [
        {
          "output_type": "stream",
          "text": [
            "MSE train: 0.019870954838607884\n",
            "RMSE train: 0.14096437435965117\n",
            "MSE test: 0.11867617578397907\n",
            "RMSE test: 0.34449408671845017\n"
          ],
          "name": "stdout"
        }
      ]
    },
    {
      "cell_type": "code",
      "metadata": {
        "id": "cgjoxlMJ9YEo"
      },
      "source": [
        "# Create the parameter grid\n",
        "param_grid = {\n",
        "    'bootstrap': [True, False],\n",
        "    'max_depth': [50, 60, 70],\n",
        "    'max_features': ['auto','sqrt'],\n",
        "    'min_samples_leaf': [1, 3],\n",
        "    'min_samples_split': [10, 12],\n",
        "    'n_estimators': [400, 500, 600]\n",
        "}\n",
        "# Create a based model\n",
        "rf = RandomForestRegressor()\n",
        "# Instantiate the grid search model\n",
        "grid_search = GridSearchCV(estimator = rf, param_grid = param_grid, \n",
        "                          cv = 3, n_jobs = -1, verbose = 2)"
      ],
      "execution_count": null,
      "outputs": []
    },
    {
      "cell_type": "code",
      "metadata": {
        "colab": {
          "base_uri": "https://localhost:8080/"
        },
        "id": "WRdC0jN29eFu",
        "outputId": "6fc9d4ec-3727-4866-8a7f-c13d9e168757"
      },
      "source": [
        "y_train=train['count']\n",
        "X_train=train.drop([\"count\"], axis=1)\n",
        "y_test=test[\"count\"]\n",
        "X_test=test.drop([\"count\"], axis=1)\n",
        "\n",
        "print(X_train.shape)\n",
        "print(y_train.shape)\n",
        "print(X_test.shape)\n",
        "print(y_test.shape)\n",
        "\n"
      ],
      "execution_count": null,
      "outputs": [
        {
          "output_type": "stream",
          "text": [
            "(8708, 10)\n",
            "(8708,)\n",
            "(2178, 10)\n",
            "(2178,)\n"
          ],
          "name": "stdout"
        }
      ]
    },
    {
      "cell_type": "code",
      "metadata": {
        "colab": {
          "base_uri": "https://localhost:8080/"
        },
        "id": "OsAHfNIG9guO",
        "outputId": "9fd4f32c-a871-45af-ea72-c6f59e0b59e8"
      },
      "source": [
        "grid_search.fit(X_train, y_train)\n",
        "grid_search.best_params_"
      ],
      "execution_count": null,
      "outputs": [
        {
          "output_type": "stream",
          "text": [
            "Fitting 3 folds for each of 144 candidates, totalling 432 fits\n"
          ],
          "name": "stdout"
        },
        {
          "output_type": "stream",
          "text": [
            "[Parallel(n_jobs=-1)]: Using backend LokyBackend with 2 concurrent workers.\n",
            "[Parallel(n_jobs=-1)]: Done  37 tasks      | elapsed:  3.1min\n",
            "[Parallel(n_jobs=-1)]: Done 158 tasks      | elapsed: 10.1min\n",
            "[Parallel(n_jobs=-1)]: Done 361 tasks      | elapsed: 26.3min\n",
            "[Parallel(n_jobs=-1)]: Done 432 out of 432 | elapsed: 32.5min finished\n"
          ],
          "name": "stderr"
        },
        {
          "output_type": "execute_result",
          "data": {
            "text/plain": [
              "{'bootstrap': True,\n",
              " 'max_depth': 50,\n",
              " 'max_features': 'auto',\n",
              " 'min_samples_leaf': 1,\n",
              " 'min_samples_split': 10,\n",
              " 'n_estimators': 500}"
            ]
          },
          "metadata": {
            "tags": []
          },
          "execution_count": 59
        }
      ]
    },
    {
      "cell_type": "code",
      "metadata": {
        "colab": {
          "base_uri": "https://localhost:8080/"
        },
        "id": "wOayguJQ9pd1",
        "outputId": "e2aa5eac-edb4-4a83-ee6d-a047c186ddd5"
      },
      "source": [
        "rfc = RandomForestRegressor(n_estimators = 500, bootstrap = True, max_depth = 60, max_features = 'auto', min_samples_leaf = 1, min_samples_split = 10)\n",
        "rfc.fit(X_train, y_train)\n",
        "y_pred_train = rfc.predict(X_train)\n",
        "y_pred_test = rfc.predict(X_test)\n",
        "mse_train = mean_squared_error(y_train,y_pred_train)\n",
        "rmse_train = sqrt(mse_train)\n",
        "\n",
        "print(\"MSE train: \" + str(mse_train))\n",
        "print(\"RMSE train: \" + str(rmse_train))\n",
        "\n",
        "mse_test = mean_squared_error(y_test,y_pred_test)\n",
        "rmse_test = sqrt(mse_test)\n",
        "\n",
        "print(\"MSE test: \" + str(mse_test))\n",
        "print(\"RMSE test: \" + str(rmse_test))"
      ],
      "execution_count": null,
      "outputs": [
        {
          "output_type": "stream",
          "text": [
            "MSE train: 0.0464229364251216\n",
            "RMSE train: 0.21545982554787702\n",
            "MSE test: 0.10517973212865306\n",
            "RMSE test: 0.32431424903733885\n"
          ],
          "name": "stdout"
        }
      ]
    },
    {
      "cell_type": "code",
      "metadata": {
        "colab": {
          "base_uri": "https://localhost:8080/",
          "height": 407
        },
        "id": "_Ix8XpzuFZoI",
        "outputId": "24aa5300-6b69-4593-baa5-3688863ebee3"
      },
      "source": [
        "y_test\n",
        "op=pd.DataFrame({'count':np.exp(y_test)})\n",
        "op"
      ],
      "execution_count": null,
      "outputs": [
        {
          "output_type": "execute_result",
          "data": {
            "text/html": [
              "<div>\n",
              "<style scoped>\n",
              "    .dataframe tbody tr th:only-of-type {\n",
              "        vertical-align: middle;\n",
              "    }\n",
              "\n",
              "    .dataframe tbody tr th {\n",
              "        vertical-align: top;\n",
              "    }\n",
              "\n",
              "    .dataframe thead th {\n",
              "        text-align: right;\n",
              "    }\n",
              "</style>\n",
              "<table border=\"1\" class=\"dataframe\">\n",
              "  <thead>\n",
              "    <tr style=\"text-align: right;\">\n",
              "      <th></th>\n",
              "      <th>count</th>\n",
              "    </tr>\n",
              "  </thead>\n",
              "  <tbody>\n",
              "    <tr>\n",
              "      <th>1195</th>\n",
              "      <td>76.0</td>\n",
              "    </tr>\n",
              "    <tr>\n",
              "      <th>9162</th>\n",
              "      <td>5.0</td>\n",
              "    </tr>\n",
              "    <tr>\n",
              "      <th>8807</th>\n",
              "      <td>699.0</td>\n",
              "    </tr>\n",
              "    <tr>\n",
              "      <th>8613</th>\n",
              "      <td>186.0</td>\n",
              "    </tr>\n",
              "    <tr>\n",
              "      <th>3254</th>\n",
              "      <td>217.0</td>\n",
              "    </tr>\n",
              "    <tr>\n",
              "      <th>...</th>\n",
              "      <td>...</td>\n",
              "    </tr>\n",
              "    <tr>\n",
              "      <th>2338</th>\n",
              "      <td>99.0</td>\n",
              "    </tr>\n",
              "    <tr>\n",
              "      <th>4815</th>\n",
              "      <td>232.0</td>\n",
              "    </tr>\n",
              "    <tr>\n",
              "      <th>526</th>\n",
              "      <td>18.0</td>\n",
              "    </tr>\n",
              "    <tr>\n",
              "      <th>9394</th>\n",
              "      <td>580.0</td>\n",
              "    </tr>\n",
              "    <tr>\n",
              "      <th>5457</th>\n",
              "      <td>203.0</td>\n",
              "    </tr>\n",
              "  </tbody>\n",
              "</table>\n",
              "<p>2178 rows × 1 columns</p>\n",
              "</div>"
            ],
            "text/plain": [
              "      count\n",
              "1195   76.0\n",
              "9162    5.0\n",
              "8807  699.0\n",
              "8613  186.0\n",
              "3254  217.0\n",
              "...     ...\n",
              "2338   99.0\n",
              "4815  232.0\n",
              "526    18.0\n",
              "9394  580.0\n",
              "5457  203.0\n",
              "\n",
              "[2178 rows x 1 columns]"
            ]
          },
          "metadata": {
            "tags": []
          },
          "execution_count": 226
        }
      ]
    },
    {
      "cell_type": "code",
      "metadata": {
        "colab": {
          "base_uri": "https://localhost:8080/",
          "height": 407
        },
        "id": "ur3dYsTOFb8R",
        "outputId": "34cfaf56-d1b2-4b10-d31f-dc47f94cd55b"
      },
      "source": [
        "y_pred_test\n",
        "op=pd.DataFrame({'count':np.exp(y_pred_test)})\n",
        "op"
      ],
      "execution_count": null,
      "outputs": [
        {
          "output_type": "execute_result",
          "data": {
            "text/html": [
              "<div>\n",
              "<style scoped>\n",
              "    .dataframe tbody tr th:only-of-type {\n",
              "        vertical-align: middle;\n",
              "    }\n",
              "\n",
              "    .dataframe tbody tr th {\n",
              "        vertical-align: top;\n",
              "    }\n",
              "\n",
              "    .dataframe thead th {\n",
              "        text-align: right;\n",
              "    }\n",
              "</style>\n",
              "<table border=\"1\" class=\"dataframe\">\n",
              "  <thead>\n",
              "    <tr style=\"text-align: right;\">\n",
              "      <th></th>\n",
              "      <th>count</th>\n",
              "    </tr>\n",
              "  </thead>\n",
              "  <tbody>\n",
              "    <tr>\n",
              "      <th>0</th>\n",
              "      <td>91.538902</td>\n",
              "    </tr>\n",
              "    <tr>\n",
              "      <th>1</th>\n",
              "      <td>7.240983</td>\n",
              "    </tr>\n",
              "    <tr>\n",
              "      <th>2</th>\n",
              "      <td>659.471830</td>\n",
              "    </tr>\n",
              "    <tr>\n",
              "      <th>3</th>\n",
              "      <td>168.830583</td>\n",
              "    </tr>\n",
              "    <tr>\n",
              "      <th>4</th>\n",
              "      <td>193.636013</td>\n",
              "    </tr>\n",
              "    <tr>\n",
              "      <th>...</th>\n",
              "      <td>...</td>\n",
              "    </tr>\n",
              "    <tr>\n",
              "      <th>2173</th>\n",
              "      <td>108.983468</td>\n",
              "    </tr>\n",
              "    <tr>\n",
              "      <th>2174</th>\n",
              "      <td>258.897248</td>\n",
              "    </tr>\n",
              "    <tr>\n",
              "      <th>2175</th>\n",
              "      <td>19.177677</td>\n",
              "    </tr>\n",
              "    <tr>\n",
              "      <th>2176</th>\n",
              "      <td>589.570730</td>\n",
              "    </tr>\n",
              "    <tr>\n",
              "      <th>2177</th>\n",
              "      <td>169.442737</td>\n",
              "    </tr>\n",
              "  </tbody>\n",
              "</table>\n",
              "<p>2178 rows × 1 columns</p>\n",
              "</div>"
            ],
            "text/plain": [
              "           count\n",
              "0      91.538902\n",
              "1       7.240983\n",
              "2     659.471830\n",
              "3     168.830583\n",
              "4     193.636013\n",
              "...          ...\n",
              "2173  108.983468\n",
              "2174  258.897248\n",
              "2175   19.177677\n",
              "2176  589.570730\n",
              "2177  169.442737\n",
              "\n",
              "[2178 rows x 1 columns]"
            ]
          },
          "metadata": {
            "tags": []
          },
          "execution_count": 229
        }
      ]
    }
  ]
}