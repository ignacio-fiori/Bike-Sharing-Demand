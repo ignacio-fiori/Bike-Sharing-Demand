{
  "nbformat": 4,
  "nbformat_minor": 0,
  "metadata": {
    "colab": {
      "name": "BikeSharingDemand_version_2 (2).ipynb",
      "provenance": [],
      "collapsed_sections": []
    },
    "kernelspec": {
      "name": "python3",
      "display_name": "Python 3"
    },
    "language_info": {
      "name": "python"
    },
    "accelerator": "GPU"
  },
  "cells": [
    {
      "cell_type": "code",
      "metadata": {
        "colab": {
          "base_uri": "https://localhost:8080/"
        },
        "id": "Rl0eqnty0kOE",
        "outputId": "de4c7124-4ee4-4cfb-a2f6-053feadc5d5b"
      },
      "source": [
        "from google.colab import drive\n",
        "drive.mount('/content/drive')"
      ],
      "execution_count": 60,
      "outputs": [
        {
          "output_type": "stream",
          "text": [
            "Drive already mounted at /content/drive; to attempt to forcibly remount, call drive.mount(\"/content/drive\", force_remount=True).\n"
          ],
          "name": "stdout"
        }
      ]
    },
    {
      "cell_type": "code",
      "metadata": {
        "colab": {
          "base_uri": "https://localhost:8080/"
        },
        "id": "zxCaTMqm11PP",
        "outputId": "43c051bd-18d1-4696-a192-d7762ad068d5"
      },
      "source": [
        "pip install optuna"
      ],
      "execution_count": 2,
      "outputs": [
        {
          "output_type": "stream",
          "text": [
            "Collecting optuna\n",
            "\u001b[?25l  Downloading https://files.pythonhosted.org/packages/2b/21/d13081805e1e1afc71f5bb743ece324c8bd576237c51b899ecb38a717502/optuna-2.7.0-py3-none-any.whl (293kB)\n",
            "\u001b[K     |████████████████████████████████| 296kB 8.1MB/s \n",
            "\u001b[?25hCollecting alembic\n",
            "\u001b[?25l  Downloading https://files.pythonhosted.org/packages/72/a4/97eb6273839655cac14947986fa7a5935350fcfd4fff872e9654264c82d8/alembic-1.5.8-py2.py3-none-any.whl (159kB)\n",
            "\u001b[K     |████████████████████████████████| 163kB 36.4MB/s \n",
            "\u001b[?25hRequirement already satisfied: sqlalchemy>=1.1.0 in /usr/local/lib/python3.7/dist-packages (from optuna) (1.4.7)\n",
            "Requirement already satisfied: tqdm in /usr/local/lib/python3.7/dist-packages (from optuna) (4.41.1)\n",
            "Requirement already satisfied: numpy in /usr/local/lib/python3.7/dist-packages (from optuna) (1.19.5)\n",
            "Collecting cliff\n",
            "\u001b[?25l  Downloading https://files.pythonhosted.org/packages/a2/d6/7d9acb68a77acd140be7fececb7f2701b2a29d2da9c54184cb8f93509590/cliff-3.7.0-py3-none-any.whl (80kB)\n",
            "\u001b[K     |████████████████████████████████| 81kB 12.1MB/s \n",
            "\u001b[?25hRequirement already satisfied: packaging>=20.0 in /usr/local/lib/python3.7/dist-packages (from optuna) (20.9)\n",
            "Collecting cmaes>=0.8.2\n",
            "  Downloading https://files.pythonhosted.org/packages/01/1f/43b01223a0366171f474320c6e966c39a11587287f098a5f09809b45e05f/cmaes-0.8.2-py3-none-any.whl\n",
            "Collecting colorlog\n",
            "  Downloading https://files.pythonhosted.org/packages/32/e6/e9ddc6fa1104fda718338b341e4b3dc31cd8039ab29e52fc73b508515361/colorlog-5.0.1-py2.py3-none-any.whl\n",
            "Requirement already satisfied: scipy!=1.4.0 in /usr/local/lib/python3.7/dist-packages (from optuna) (1.4.1)\n",
            "Requirement already satisfied: python-dateutil in /usr/local/lib/python3.7/dist-packages (from alembic->optuna) (2.8.1)\n",
            "Collecting Mako\n",
            "\u001b[?25l  Downloading https://files.pythonhosted.org/packages/f3/54/dbc07fbb20865d3b78fdb7cf7fa713e2cba4f87f71100074ef2dc9f9d1f7/Mako-1.1.4-py2.py3-none-any.whl (75kB)\n",
            "\u001b[K     |████████████████████████████████| 81kB 11.1MB/s \n",
            "\u001b[?25hCollecting python-editor>=0.3\n",
            "  Downloading https://files.pythonhosted.org/packages/c6/d3/201fc3abe391bbae6606e6f1d598c15d367033332bd54352b12f35513717/python_editor-1.0.4-py3-none-any.whl\n",
            "Requirement already satisfied: greenlet!=0.4.17; python_version >= \"3\" in /usr/local/lib/python3.7/dist-packages (from sqlalchemy>=1.1.0->optuna) (1.0.0)\n",
            "Requirement already satisfied: importlib-metadata; python_version < \"3.8\" in /usr/local/lib/python3.7/dist-packages (from sqlalchemy>=1.1.0->optuna) (3.10.1)\n",
            "Requirement already satisfied: PrettyTable>=0.7.2 in /usr/local/lib/python3.7/dist-packages (from cliff->optuna) (2.1.0)\n",
            "Requirement already satisfied: PyYAML>=3.12 in /usr/local/lib/python3.7/dist-packages (from cliff->optuna) (3.13)\n",
            "Collecting cmd2>=1.0.0\n",
            "\u001b[?25l  Downloading https://files.pythonhosted.org/packages/15/8b/15061b32332bb35ea2a2f6263d0f616779d576e82739ec8e7fcf3c94abf5/cmd2-1.5.0-py3-none-any.whl (133kB)\n",
            "\u001b[K     |████████████████████████████████| 143kB 35.4MB/s \n",
            "\u001b[?25hCollecting stevedore>=2.0.1\n",
            "\u001b[?25l  Downloading https://files.pythonhosted.org/packages/d4/49/b602307aeac3df3384ff1fcd05da9c0376c622a6c48bb5325f28ab165b57/stevedore-3.3.0-py3-none-any.whl (49kB)\n",
            "\u001b[K     |████████████████████████████████| 51kB 9.1MB/s \n",
            "\u001b[?25hCollecting pbr!=2.1.0,>=2.0.0\n",
            "\u001b[?25l  Downloading https://files.pythonhosted.org/packages/18/e0/1d4702dd81121d04a477c272d47ee5b6bc970d1a0990b11befa275c55cf2/pbr-5.6.0-py2.py3-none-any.whl (111kB)\n",
            "\u001b[K     |████████████████████████████████| 112kB 33.6MB/s \n",
            "\u001b[?25hRequirement already satisfied: pyparsing>=2.1.0 in /usr/local/lib/python3.7/dist-packages (from cliff->optuna) (2.4.7)\n",
            "Requirement already satisfied: six>=1.5 in /usr/local/lib/python3.7/dist-packages (from python-dateutil->alembic->optuna) (1.15.0)\n",
            "Requirement already satisfied: MarkupSafe>=0.9.2 in /usr/local/lib/python3.7/dist-packages (from Mako->alembic->optuna) (1.1.1)\n",
            "Requirement already satisfied: typing-extensions>=3.6.4; python_version < \"3.8\" in /usr/local/lib/python3.7/dist-packages (from importlib-metadata; python_version < \"3.8\"->sqlalchemy>=1.1.0->optuna) (3.7.4.3)\n",
            "Requirement already satisfied: zipp>=0.5 in /usr/local/lib/python3.7/dist-packages (from importlib-metadata; python_version < \"3.8\"->sqlalchemy>=1.1.0->optuna) (3.4.1)\n",
            "Requirement already satisfied: wcwidth in /usr/local/lib/python3.7/dist-packages (from PrettyTable>=0.7.2->cliff->optuna) (0.2.5)\n",
            "Collecting colorama>=0.3.7\n",
            "  Downloading https://files.pythonhosted.org/packages/44/98/5b86278fbbf250d239ae0ecb724f8572af1c91f4a11edf4d36a206189440/colorama-0.4.4-py2.py3-none-any.whl\n",
            "Requirement already satisfied: attrs>=16.3.0 in /usr/local/lib/python3.7/dist-packages (from cmd2>=1.0.0->cliff->optuna) (20.3.0)\n",
            "Collecting pyperclip>=1.6\n",
            "  Downloading https://files.pythonhosted.org/packages/a7/2c/4c64579f847bd5d539803c8b909e54ba087a79d01bb3aba433a95879a6c5/pyperclip-1.8.2.tar.gz\n",
            "Building wheels for collected packages: pyperclip\n",
            "  Building wheel for pyperclip (setup.py) ... \u001b[?25l\u001b[?25hdone\n",
            "  Created wheel for pyperclip: filename=pyperclip-1.8.2-cp37-none-any.whl size=11107 sha256=3869ef0a2c792235d54db207bb635dd46344d37ecdd9d33c5e9876f8d26bfdde\n",
            "  Stored in directory: /root/.cache/pip/wheels/25/af/b8/3407109267803f4015e1ee2ff23be0c8c19ce4008665931ee1\n",
            "Successfully built pyperclip\n",
            "Installing collected packages: Mako, python-editor, alembic, colorama, pyperclip, cmd2, pbr, stevedore, cliff, cmaes, colorlog, optuna\n",
            "Successfully installed Mako-1.1.4 alembic-1.5.8 cliff-3.7.0 cmaes-0.8.2 cmd2-1.5.0 colorama-0.4.4 colorlog-5.0.1 optuna-2.7.0 pbr-5.6.0 pyperclip-1.8.2 python-editor-1.0.4 stevedore-3.3.0\n"
          ],
          "name": "stdout"
        }
      ]
    },
    {
      "cell_type": "code",
      "metadata": {
        "colab": {
          "base_uri": "https://localhost:8080/"
        },
        "id": "X7zVZzTL126w",
        "outputId": "e84ee7a5-1ebe-4bad-b6d1-544ee6e18759"
      },
      "source": [
        "pip install catboost --no-cache-dir"
      ],
      "execution_count": 3,
      "outputs": [
        {
          "output_type": "stream",
          "text": [
            "Collecting catboost\n",
            "\u001b[?25l  Downloading https://files.pythonhosted.org/packages/47/80/8e9c57ec32dfed6ba2922bc5c96462cbf8596ce1a6f5de532ad1e43e53fe/catboost-0.25.1-cp37-none-manylinux1_x86_64.whl (67.3MB)\n",
            "\u001b[K     |████████████████████████████████| 67.3MB 1.3MB/s \n",
            "\u001b[?25hRequirement already satisfied: scipy in /usr/local/lib/python3.7/dist-packages (from catboost) (1.4.1)\n",
            "Requirement already satisfied: graphviz in /usr/local/lib/python3.7/dist-packages (from catboost) (0.10.1)\n",
            "Requirement already satisfied: matplotlib in /usr/local/lib/python3.7/dist-packages (from catboost) (3.2.2)\n",
            "Requirement already satisfied: pandas>=0.24.0 in /usr/local/lib/python3.7/dist-packages (from catboost) (1.1.5)\n",
            "Requirement already satisfied: plotly in /usr/local/lib/python3.7/dist-packages (from catboost) (4.4.1)\n",
            "Requirement already satisfied: six in /usr/local/lib/python3.7/dist-packages (from catboost) (1.15.0)\n",
            "Requirement already satisfied: numpy>=1.16.0 in /usr/local/lib/python3.7/dist-packages (from catboost) (1.19.5)\n",
            "Requirement already satisfied: pyparsing!=2.0.4,!=2.1.2,!=2.1.6,>=2.0.1 in /usr/local/lib/python3.7/dist-packages (from matplotlib->catboost) (2.4.7)\n",
            "Requirement already satisfied: python-dateutil>=2.1 in /usr/local/lib/python3.7/dist-packages (from matplotlib->catboost) (2.8.1)\n",
            "Requirement already satisfied: cycler>=0.10 in /usr/local/lib/python3.7/dist-packages (from matplotlib->catboost) (0.10.0)\n",
            "Requirement already satisfied: kiwisolver>=1.0.1 in /usr/local/lib/python3.7/dist-packages (from matplotlib->catboost) (1.3.1)\n",
            "Requirement already satisfied: pytz>=2017.2 in /usr/local/lib/python3.7/dist-packages (from pandas>=0.24.0->catboost) (2018.9)\n",
            "Requirement already satisfied: retrying>=1.3.3 in /usr/local/lib/python3.7/dist-packages (from plotly->catboost) (1.3.3)\n",
            "Installing collected packages: catboost\n",
            "Successfully installed catboost-0.25.1\n"
          ],
          "name": "stdout"
        }
      ]
    },
    {
      "cell_type": "code",
      "metadata": {
        "colab": {
          "base_uri": "https://localhost:8080/"
        },
        "id": "F_ioHMHe15nK",
        "outputId": "5125797c-d11b-42ea-bc35-05e6d3b49173"
      },
      "source": [
        "pip install shap\n"
      ],
      "execution_count": 4,
      "outputs": [
        {
          "output_type": "stream",
          "text": [
            "Collecting shap\n",
            "\u001b[?25l  Downloading https://files.pythonhosted.org/packages/b9/f4/c5b95cddae15be80f8e58b25edceca105aa83c0b8c86a1edad24a6af80d3/shap-0.39.0.tar.gz (356kB)\n",
            "\r\u001b[K     |█                               | 10kB 27.4MB/s eta 0:00:01\r\u001b[K     |█▉                              | 20kB 13.8MB/s eta 0:00:01\r\u001b[K     |██▊                             | 30kB 12.1MB/s eta 0:00:01\r\u001b[K     |███▊                            | 40kB 11.8MB/s eta 0:00:01\r\u001b[K     |████▋                           | 51kB 7.7MB/s eta 0:00:01\r\u001b[K     |█████▌                          | 61kB 8.0MB/s eta 0:00:01\r\u001b[K     |██████▍                         | 71kB 8.3MB/s eta 0:00:01\r\u001b[K     |███████▍                        | 81kB 9.3MB/s eta 0:00:01\r\u001b[K     |████████▎                       | 92kB 8.3MB/s eta 0:00:01\r\u001b[K     |█████████▏                      | 102kB 7.4MB/s eta 0:00:01\r\u001b[K     |██████████▏                     | 112kB 7.4MB/s eta 0:00:01\r\u001b[K     |███████████                     | 122kB 7.4MB/s eta 0:00:01\r\u001b[K     |████████████                    | 133kB 7.4MB/s eta 0:00:01\r\u001b[K     |████████████▉                   | 143kB 7.4MB/s eta 0:00:01\r\u001b[K     |█████████████▉                  | 153kB 7.4MB/s eta 0:00:01\r\u001b[K     |██████████████▊                 | 163kB 7.4MB/s eta 0:00:01\r\u001b[K     |███████████████▋                | 174kB 7.4MB/s eta 0:00:01\r\u001b[K     |████████████████▋               | 184kB 7.4MB/s eta 0:00:01\r\u001b[K     |█████████████████▌              | 194kB 7.4MB/s eta 0:00:01\r\u001b[K     |██████████████████▍             | 204kB 7.4MB/s eta 0:00:01\r\u001b[K     |███████████████████▎            | 215kB 7.4MB/s eta 0:00:01\r\u001b[K     |████████████████████▎           | 225kB 7.4MB/s eta 0:00:01\r\u001b[K     |█████████████████████▏          | 235kB 7.4MB/s eta 0:00:01\r\u001b[K     |██████████████████████          | 245kB 7.4MB/s eta 0:00:01\r\u001b[K     |███████████████████████         | 256kB 7.4MB/s eta 0:00:01\r\u001b[K     |████████████████████████        | 266kB 7.4MB/s eta 0:00:01\r\u001b[K     |████████████████████████▉       | 276kB 7.4MB/s eta 0:00:01\r\u001b[K     |█████████████████████████▊      | 286kB 7.4MB/s eta 0:00:01\r\u001b[K     |██████████████████████████▊     | 296kB 7.4MB/s eta 0:00:01\r\u001b[K     |███████████████████████████▋    | 307kB 7.4MB/s eta 0:00:01\r\u001b[K     |████████████████████████████▌   | 317kB 7.4MB/s eta 0:00:01\r\u001b[K     |█████████████████████████████▍  | 327kB 7.4MB/s eta 0:00:01\r\u001b[K     |██████████████████████████████▍ | 337kB 7.4MB/s eta 0:00:01\r\u001b[K     |███████████████████████████████▎| 348kB 7.4MB/s eta 0:00:01\r\u001b[K     |████████████████████████████████| 358kB 7.4MB/s \n",
            "\u001b[?25hRequirement already satisfied: numpy in /usr/local/lib/python3.7/dist-packages (from shap) (1.19.5)\n",
            "Requirement already satisfied: scipy in /usr/local/lib/python3.7/dist-packages (from shap) (1.4.1)\n",
            "Requirement already satisfied: scikit-learn in /usr/local/lib/python3.7/dist-packages (from shap) (0.22.2.post1)\n",
            "Requirement already satisfied: pandas in /usr/local/lib/python3.7/dist-packages (from shap) (1.1.5)\n",
            "Requirement already satisfied: tqdm>4.25.0 in /usr/local/lib/python3.7/dist-packages (from shap) (4.41.1)\n",
            "Collecting slicer==0.0.7\n",
            "  Downloading https://files.pythonhosted.org/packages/78/c2/b3f55dfdb8af9812fdb9baf70cacf3b9e82e505b2bd4324d588888b81202/slicer-0.0.7-py3-none-any.whl\n",
            "Requirement already satisfied: numba in /usr/local/lib/python3.7/dist-packages (from shap) (0.51.2)\n",
            "Requirement already satisfied: cloudpickle in /usr/local/lib/python3.7/dist-packages (from shap) (1.3.0)\n",
            "Requirement already satisfied: joblib>=0.11 in /usr/local/lib/python3.7/dist-packages (from scikit-learn->shap) (1.0.1)\n",
            "Requirement already satisfied: python-dateutil>=2.7.3 in /usr/local/lib/python3.7/dist-packages (from pandas->shap) (2.8.1)\n",
            "Requirement already satisfied: pytz>=2017.2 in /usr/local/lib/python3.7/dist-packages (from pandas->shap) (2018.9)\n",
            "Requirement already satisfied: llvmlite<0.35,>=0.34.0.dev0 in /usr/local/lib/python3.7/dist-packages (from numba->shap) (0.34.0)\n",
            "Requirement already satisfied: setuptools in /usr/local/lib/python3.7/dist-packages (from numba->shap) (56.0.0)\n",
            "Requirement already satisfied: six>=1.5 in /usr/local/lib/python3.7/dist-packages (from python-dateutil>=2.7.3->pandas->shap) (1.15.0)\n",
            "Building wheels for collected packages: shap\n",
            "  Building wheel for shap (setup.py) ... \u001b[?25l\u001b[?25hdone\n",
            "  Created wheel for shap: filename=shap-0.39.0-cp37-cp37m-linux_x86_64.whl size=491615 sha256=bba33bd09ca40ebf10d8ba6aa76835f77082c73919d48c5f261b41868a0baa77\n",
            "  Stored in directory: /root/.cache/pip/wheels/15/27/f5/a8ab9da52fd159aae6477b5ede6eaaec69fd130fa0fa59f283\n",
            "Successfully built shap\n",
            "Installing collected packages: slicer, shap\n",
            "Successfully installed shap-0.39.0 slicer-0.0.7\n"
          ],
          "name": "stdout"
        }
      ]
    },
    {
      "cell_type": "code",
      "metadata": {
        "colab": {
          "base_uri": "https://localhost:8080/",
          "height": 938
        },
        "id": "CslWa2Ou17Vl",
        "outputId": "4806893a-7833-4dfb-a42f-cff4cfedc2da"
      },
      "source": [
        "pip install -I shap\n"
      ],
      "execution_count": 5,
      "outputs": [
        {
          "output_type": "stream",
          "text": [
            "Processing /root/.cache/pip/wheels/15/27/f5/a8ab9da52fd159aae6477b5ede6eaaec69fd130fa0fa59f283/shap-0.39.0-cp37-cp37m-linux_x86_64.whl\n",
            "Collecting numpy\n",
            "\u001b[?25l  Downloading https://files.pythonhosted.org/packages/73/ef/8967d406f3f85018ceb5efab50431e901683188f1741ceb053efcab26c87/numpy-1.20.2-cp37-cp37m-manylinux2010_x86_64.whl (15.3MB)\n",
            "\u001b[K     |████████████████████████████████| 15.3MB 211kB/s \n",
            "\u001b[?25hCollecting tqdm>4.25.0\n",
            "\u001b[?25l  Downloading https://files.pythonhosted.org/packages/72/8a/34efae5cf9924328a8f34eeb2fdaae14c011462d9f0e3fcded48e1266d1c/tqdm-4.60.0-py2.py3-none-any.whl (75kB)\n",
            "\u001b[K     |████████████████████████████████| 81kB 11.8MB/s \n",
            "\u001b[?25hCollecting scipy\n",
            "\u001b[?25l  Downloading https://files.pythonhosted.org/packages/7d/e8/43ffca541d2f208d516296950b25fe1084b35c2881f4d444c1346ca75815/scipy-1.6.3-cp37-cp37m-manylinux1_x86_64.whl (27.4MB)\n",
            "\u001b[K     |████████████████████████████████| 27.4MB 107kB/s \n",
            "\u001b[?25hCollecting cloudpickle\n",
            "  Downloading https://files.pythonhosted.org/packages/e7/e3/898487e5dbeb612054cf2e0c188463acb358167fef749c53c8bb8918cea1/cloudpickle-1.6.0-py3-none-any.whl\n",
            "Collecting scikit-learn\n",
            "\u001b[?25l  Downloading https://files.pythonhosted.org/packages/a8/eb/a48f25c967526b66d5f1fa7a984594f0bf0a5afafa94a8c4dbc317744620/scikit_learn-0.24.2-cp37-cp37m-manylinux2010_x86_64.whl (22.3MB)\n",
            "\u001b[K     |████████████████████████████████| 22.3MB 91kB/s \n",
            "\u001b[?25hCollecting slicer==0.0.7\n",
            "  Using cached https://files.pythonhosted.org/packages/78/c2/b3f55dfdb8af9812fdb9baf70cacf3b9e82e505b2bd4324d588888b81202/slicer-0.0.7-py3-none-any.whl\n",
            "Collecting numba\n",
            "\u001b[?25l  Downloading https://files.pythonhosted.org/packages/bb/73/d9c127eddbe3c105a33379d425b88f9dca249a6eddf39ce886494d49c3f9/numba-0.53.1-cp37-cp37m-manylinux2014_x86_64.whl (3.4MB)\n",
            "\u001b[K     |████████████████████████████████| 3.4MB 56.9MB/s \n",
            "\u001b[?25hCollecting pandas\n",
            "\u001b[?25l  Downloading https://files.pythonhosted.org/packages/51/51/48f3fc47c4e2144da2806dfb6629c4dd1fa3d5a143f9652b141e979a8ca9/pandas-1.2.4-cp37-cp37m-manylinux1_x86_64.whl (9.9MB)\n",
            "\u001b[K     |████████████████████████████████| 9.9MB 50.9MB/s \n",
            "\u001b[?25hCollecting threadpoolctl>=2.0.0\n",
            "  Downloading https://files.pythonhosted.org/packages/f7/12/ec3f2e203afa394a149911729357aa48affc59c20e2c1c8297a60f33f133/threadpoolctl-2.1.0-py3-none-any.whl\n",
            "Collecting joblib>=0.11\n",
            "\u001b[?25l  Downloading https://files.pythonhosted.org/packages/55/85/70c6602b078bd9e6f3da4f467047e906525c355a4dacd4f71b97a35d9897/joblib-1.0.1-py3-none-any.whl (303kB)\n",
            "\u001b[K     |████████████████████████████████| 307kB 49.4MB/s \n",
            "\u001b[?25hCollecting llvmlite<0.37,>=0.36.0rc1\n",
            "\u001b[?25l  Downloading https://files.pythonhosted.org/packages/54/25/2b4015e2b0c3be2efa6870cf2cf2bd969dd0e5f937476fc13c102209df32/llvmlite-0.36.0-cp37-cp37m-manylinux2010_x86_64.whl (25.3MB)\n",
            "\u001b[K     |████████████████████████████████| 25.3MB 1.3MB/s \n",
            "\u001b[?25hCollecting setuptools\n",
            "\u001b[?25l  Downloading https://files.pythonhosted.org/packages/ae/42/2876a3a136f8bfa9bd703518441c8db78ff1eeaddf174baa85c083c1fd15/setuptools-56.0.0-py3-none-any.whl (784kB)\n",
            "\u001b[K     |████████████████████████████████| 788kB 51.1MB/s \n",
            "\u001b[?25hCollecting pytz>=2017.3\n",
            "\u001b[?25l  Downloading https://files.pythonhosted.org/packages/70/94/784178ca5dd892a98f113cdd923372024dc04b8d40abe77ca76b5fb90ca6/pytz-2021.1-py2.py3-none-any.whl (510kB)\n",
            "\u001b[K     |████████████████████████████████| 512kB 53.5MB/s \n",
            "\u001b[?25hCollecting python-dateutil>=2.7.3\n",
            "\u001b[?25l  Downloading https://files.pythonhosted.org/packages/d4/70/d60450c3dd48ef87586924207ae8907090de0b306af2bce5d134d78615cb/python_dateutil-2.8.1-py2.py3-none-any.whl (227kB)\n",
            "\u001b[K     |████████████████████████████████| 235kB 58.2MB/s \n",
            "\u001b[?25hCollecting six>=1.5\n",
            "  Downloading https://files.pythonhosted.org/packages/ee/ff/48bde5c0f013094d729fe4b0316ba2a24774b3ff1c52d924a8a4cb04078a/six-1.15.0-py2.py3-none-any.whl\n",
            "\u001b[31mERROR: tensorflow 2.4.1 has requirement numpy~=1.19.2, but you'll have numpy 1.20.2 which is incompatible.\u001b[0m\n",
            "\u001b[31mERROR: google-colab 1.0.0 has requirement pandas~=1.1.0; python_version >= \"3.0\", but you'll have pandas 1.2.4 which is incompatible.\u001b[0m\n",
            "\u001b[31mERROR: datascience 0.10.6 has requirement folium==0.2.1, but you'll have folium 0.8.3 which is incompatible.\u001b[0m\n",
            "\u001b[31mERROR: albumentations 0.1.12 has requirement imgaug<0.2.7,>=0.2.5, but you'll have imgaug 0.2.9 which is incompatible.\u001b[0m\n",
            "Installing collected packages: numpy, tqdm, scipy, cloudpickle, threadpoolctl, joblib, scikit-learn, slicer, llvmlite, setuptools, numba, pytz, six, python-dateutil, pandas, shap\n",
            "Successfully installed cloudpickle-1.6.0 joblib-1.0.1 llvmlite-0.36.0 numba-0.53.1 numpy-1.20.2 pandas-1.2.4 python-dateutil-2.8.1 pytz-2021.1 scikit-learn-0.24.2 scipy-1.6.3 setuptools-56.0.0 shap-0.39.0 six-1.15.0 slicer-0.0.7 threadpoolctl-2.1.0 tqdm-4.60.0\n"
          ],
          "name": "stdout"
        },
        {
          "output_type": "display_data",
          "data": {
            "application/vnd.colab-display-data+json": {
              "pip_warning": {
                "packages": [
                  "dateutil",
                  "numpy",
                  "pandas",
                  "pkg_resources",
                  "pytz",
                  "six"
                ]
              }
            }
          },
          "metadata": {
            "tags": []
          }
        }
      ]
    },
    {
      "cell_type": "code",
      "metadata": {
        "id": "mxuZjmmO1k7s"
      },
      "source": [
        "import optuna\n",
        "import xgboost\n",
        "import catboost\n",
        "import lightgbm as lgb\n",
        "from lightgbm import LGBMRegressor \n",
        "import shap\n",
        "import pandas as pd\n",
        "import numpy as np\n",
        "import matplotlib.pyplot as plt\n",
        "import calendar\n",
        "import seaborn as sn\n",
        "from datetime import datetime\n",
        "from numpy import mean, std\n",
        "from math import sqrt\n",
        "from scipy.stats import skew\n",
        "from sklearn import linear_model\n",
        "from sklearn.metrics import mean_squared_error\n",
        "from sklearn.model_selection import RandomizedSearchCV, train_test_split, KFold, cross_val_score\n",
        "from sklearn.ensemble import GradientBoostingRegressor, RandomForestRegressor\n",
        "from sklearn.preprocessing import LabelEncoder\n"
      ],
      "execution_count": 61,
      "outputs": []
    },
    {
      "cell_type": "code",
      "metadata": {
        "id": "PNclBb0c1lFA"
      },
      "source": [
        "# Import dataset\n",
        "train = pd.read_csv(\"/content/drive/MyDrive/train.csv\")"
      ],
      "execution_count": 62,
      "outputs": []
    },
    {
      "cell_type": "code",
      "metadata": {
        "id": "QW7r1haYpWfm"
      },
      "source": [
        "train, test=train_test_split(train, test_size=.2)"
      ],
      "execution_count": 63,
      "outputs": []
    },
    {
      "cell_type": "code",
      "metadata": {
        "colab": {
          "base_uri": "https://localhost:8080/"
        },
        "id": "h5Sntr7opfyZ",
        "outputId": "180d9b7a-a14b-4bae-afd9-0cf444c67f1f"
      },
      "source": [
        "print(train.shape)\n",
        "print(test.shape)"
      ],
      "execution_count": 64,
      "outputs": [
        {
          "output_type": "stream",
          "text": [
            "(8708, 12)\n",
            "(2178, 12)\n"
          ],
          "name": "stdout"
        }
      ]
    },
    {
      "cell_type": "markdown",
      "metadata": {
        "id": "Bu755R0a22hS"
      },
      "source": [
        "\n",
        "\n",
        "*   datetime - hourly date + timestamp \n",
        "*   season -  1 = spring, 2 = summer, 3 = fall, 4 = winter \n",
        "*   holiday - whether the day is considered a holiday\n",
        "*   workingday - whether the day is neither a weekend nor holiday\n",
        "*   weather - 1: Clear, Few clouds, Partly cloudy, Partly cloudy\n",
        "2: Mist + Cloudy, Mist + Broken clouds, Mist + Few clouds, Mist\n",
        "3: Light Snow, Light Rain + Thunderstorm + Scattered clouds, Light Rain + Scattered clouds\n",
        "4: Heavy Rain + Ice Pallets + Thunderstorm + Mist, Snow + Fog \n",
        "*   temp - temperature in Celsius\n",
        "*   atemp - \"feels like\" temperature in Celsius\n",
        "*   humidity - relative humidity\n",
        "*   windspeed - wind speed\n",
        "*   casual - number of non-registered user rentals initiated\n",
        "*   registered - number of registered user rentals initiated\n",
        "*   count - number of total rentals\n",
        "\n",
        "\n",
        "\n"
      ]
    },
    {
      "cell_type": "markdown",
      "metadata": {
        "id": "LELJH38BYJ6b"
      },
      "source": [
        "**Exploration and Preprocessing of Data**"
      ]
    },
    {
      "cell_type": "markdown",
      "metadata": {
        "id": "6i2qQzqb2T5w"
      },
      "source": [
        "As a first step we can take a look in the data"
      ]
    },
    {
      "cell_type": "code",
      "metadata": {
        "colab": {
          "base_uri": "https://localhost:8080/",
          "height": 204
        },
        "id": "bM_FKcHO2Qd0",
        "outputId": "71af5c17-d804-4bca-c0f4-814d3d855b97"
      },
      "source": [
        "train.head()"
      ],
      "execution_count": 65,
      "outputs": [
        {
          "output_type": "execute_result",
          "data": {
            "text/html": [
              "<div>\n",
              "<style scoped>\n",
              "    .dataframe tbody tr th:only-of-type {\n",
              "        vertical-align: middle;\n",
              "    }\n",
              "\n",
              "    .dataframe tbody tr th {\n",
              "        vertical-align: top;\n",
              "    }\n",
              "\n",
              "    .dataframe thead th {\n",
              "        text-align: right;\n",
              "    }\n",
              "</style>\n",
              "<table border=\"1\" class=\"dataframe\">\n",
              "  <thead>\n",
              "    <tr style=\"text-align: right;\">\n",
              "      <th></th>\n",
              "      <th>datetime</th>\n",
              "      <th>season</th>\n",
              "      <th>holiday</th>\n",
              "      <th>workingday</th>\n",
              "      <th>weather</th>\n",
              "      <th>temp</th>\n",
              "      <th>atemp</th>\n",
              "      <th>humidity</th>\n",
              "      <th>windspeed</th>\n",
              "      <th>casual</th>\n",
              "      <th>registered</th>\n",
              "      <th>count</th>\n",
              "    </tr>\n",
              "  </thead>\n",
              "  <tbody>\n",
              "    <tr>\n",
              "      <th>2408</th>\n",
              "      <td>2011-06-08 06:00:00</td>\n",
              "      <td>2</td>\n",
              "      <td>0</td>\n",
              "      <td>1</td>\n",
              "      <td>1</td>\n",
              "      <td>26.24</td>\n",
              "      <td>28.790</td>\n",
              "      <td>89</td>\n",
              "      <td>8.9981</td>\n",
              "      <td>13</td>\n",
              "      <td>103</td>\n",
              "      <td>116</td>\n",
              "    </tr>\n",
              "    <tr>\n",
              "      <th>7729</th>\n",
              "      <td>2012-06-02 10:00:00</td>\n",
              "      <td>2</td>\n",
              "      <td>0</td>\n",
              "      <td>0</td>\n",
              "      <td>1</td>\n",
              "      <td>24.60</td>\n",
              "      <td>31.060</td>\n",
              "      <td>53</td>\n",
              "      <td>19.9995</td>\n",
              "      <td>145</td>\n",
              "      <td>348</td>\n",
              "      <td>493</td>\n",
              "    </tr>\n",
              "    <tr>\n",
              "      <th>2554</th>\n",
              "      <td>2011-06-14 08:00:00</td>\n",
              "      <td>2</td>\n",
              "      <td>0</td>\n",
              "      <td>1</td>\n",
              "      <td>1</td>\n",
              "      <td>23.78</td>\n",
              "      <td>27.275</td>\n",
              "      <td>49</td>\n",
              "      <td>26.0027</td>\n",
              "      <td>45</td>\n",
              "      <td>441</td>\n",
              "      <td>486</td>\n",
              "    </tr>\n",
              "    <tr>\n",
              "      <th>6855</th>\n",
              "      <td>2012-04-03 23:00:00</td>\n",
              "      <td>2</td>\n",
              "      <td>0</td>\n",
              "      <td>1</td>\n",
              "      <td>1</td>\n",
              "      <td>20.50</td>\n",
              "      <td>24.240</td>\n",
              "      <td>59</td>\n",
              "      <td>0.0000</td>\n",
              "      <td>13</td>\n",
              "      <td>66</td>\n",
              "      <td>79</td>\n",
              "    </tr>\n",
              "    <tr>\n",
              "      <th>8134</th>\n",
              "      <td>2012-06-19 07:00:00</td>\n",
              "      <td>2</td>\n",
              "      <td>0</td>\n",
              "      <td>1</td>\n",
              "      <td>2</td>\n",
              "      <td>24.60</td>\n",
              "      <td>28.790</td>\n",
              "      <td>78</td>\n",
              "      <td>8.9981</td>\n",
              "      <td>18</td>\n",
              "      <td>462</td>\n",
              "      <td>480</td>\n",
              "    </tr>\n",
              "  </tbody>\n",
              "</table>\n",
              "</div>"
            ],
            "text/plain": [
              "                 datetime  season  holiday  ...  casual  registered  count\n",
              "2408  2011-06-08 06:00:00       2        0  ...      13         103    116\n",
              "7729  2012-06-02 10:00:00       2        0  ...     145         348    493\n",
              "2554  2011-06-14 08:00:00       2        0  ...      45         441    486\n",
              "6855  2012-04-03 23:00:00       2        0  ...      13          66     79\n",
              "8134  2012-06-19 07:00:00       2        0  ...      18         462    480\n",
              "\n",
              "[5 rows x 12 columns]"
            ]
          },
          "metadata": {
            "tags": []
          },
          "execution_count": 65
        }
      ]
    },
    {
      "cell_type": "code",
      "metadata": {
        "colab": {
          "base_uri": "https://localhost:8080/",
          "height": 204
        },
        "id": "OeKW-6XWxoeL",
        "outputId": "1c2ed3b8-5eca-426b-83dc-ad9edad8d8d6"
      },
      "source": [
        "test.head()"
      ],
      "execution_count": 66,
      "outputs": [
        {
          "output_type": "execute_result",
          "data": {
            "text/html": [
              "<div>\n",
              "<style scoped>\n",
              "    .dataframe tbody tr th:only-of-type {\n",
              "        vertical-align: middle;\n",
              "    }\n",
              "\n",
              "    .dataframe tbody tr th {\n",
              "        vertical-align: top;\n",
              "    }\n",
              "\n",
              "    .dataframe thead th {\n",
              "        text-align: right;\n",
              "    }\n",
              "</style>\n",
              "<table border=\"1\" class=\"dataframe\">\n",
              "  <thead>\n",
              "    <tr style=\"text-align: right;\">\n",
              "      <th></th>\n",
              "      <th>datetime</th>\n",
              "      <th>season</th>\n",
              "      <th>holiday</th>\n",
              "      <th>workingday</th>\n",
              "      <th>weather</th>\n",
              "      <th>temp</th>\n",
              "      <th>atemp</th>\n",
              "      <th>humidity</th>\n",
              "      <th>windspeed</th>\n",
              "      <th>casual</th>\n",
              "      <th>registered</th>\n",
              "      <th>count</th>\n",
              "    </tr>\n",
              "  </thead>\n",
              "  <tbody>\n",
              "    <tr>\n",
              "      <th>927</th>\n",
              "      <td>2011-03-03 02:00:00</td>\n",
              "      <td>1</td>\n",
              "      <td>0</td>\n",
              "      <td>1</td>\n",
              "      <td>1</td>\n",
              "      <td>8.20</td>\n",
              "      <td>8.335</td>\n",
              "      <td>27</td>\n",
              "      <td>31.0009</td>\n",
              "      <td>1</td>\n",
              "      <td>2</td>\n",
              "      <td>3</td>\n",
              "    </tr>\n",
              "    <tr>\n",
              "      <th>9009</th>\n",
              "      <td>2012-08-17 18:00:00</td>\n",
              "      <td>3</td>\n",
              "      <td>0</td>\n",
              "      <td>1</td>\n",
              "      <td>2</td>\n",
              "      <td>33.62</td>\n",
              "      <td>12.120</td>\n",
              "      <td>38</td>\n",
              "      <td>16.9979</td>\n",
              "      <td>108</td>\n",
              "      <td>561</td>\n",
              "      <td>669</td>\n",
              "    </tr>\n",
              "    <tr>\n",
              "      <th>3938</th>\n",
              "      <td>2011-09-15 03:00:00</td>\n",
              "      <td>3</td>\n",
              "      <td>0</td>\n",
              "      <td>1</td>\n",
              "      <td>1</td>\n",
              "      <td>25.42</td>\n",
              "      <td>29.545</td>\n",
              "      <td>73</td>\n",
              "      <td>6.0032</td>\n",
              "      <td>3</td>\n",
              "      <td>5</td>\n",
              "      <td>8</td>\n",
              "    </tr>\n",
              "    <tr>\n",
              "      <th>1538</th>\n",
              "      <td>2011-04-09 23:00:00</td>\n",
              "      <td>2</td>\n",
              "      <td>0</td>\n",
              "      <td>0</td>\n",
              "      <td>2</td>\n",
              "      <td>15.58</td>\n",
              "      <td>19.695</td>\n",
              "      <td>87</td>\n",
              "      <td>6.0032</td>\n",
              "      <td>12</td>\n",
              "      <td>45</td>\n",
              "      <td>57</td>\n",
              "    </tr>\n",
              "    <tr>\n",
              "      <th>10171</th>\n",
              "      <td>2012-11-09 05:00:00</td>\n",
              "      <td>4</td>\n",
              "      <td>0</td>\n",
              "      <td>1</td>\n",
              "      <td>1</td>\n",
              "      <td>12.30</td>\n",
              "      <td>14.395</td>\n",
              "      <td>56</td>\n",
              "      <td>12.9980</td>\n",
              "      <td>2</td>\n",
              "      <td>25</td>\n",
              "      <td>27</td>\n",
              "    </tr>\n",
              "  </tbody>\n",
              "</table>\n",
              "</div>"
            ],
            "text/plain": [
              "                  datetime  season  holiday  ...  casual  registered  count\n",
              "927    2011-03-03 02:00:00       1        0  ...       1           2      3\n",
              "9009   2012-08-17 18:00:00       3        0  ...     108         561    669\n",
              "3938   2011-09-15 03:00:00       3        0  ...       3           5      8\n",
              "1538   2011-04-09 23:00:00       2        0  ...      12          45     57\n",
              "10171  2012-11-09 05:00:00       4        0  ...       2          25     27\n",
              "\n",
              "[5 rows x 12 columns]"
            ]
          },
          "metadata": {
            "tags": []
          },
          "execution_count": 66
        }
      ]
    },
    {
      "cell_type": "code",
      "metadata": {
        "colab": {
          "base_uri": "https://localhost:8080/"
        },
        "id": "qldlOc_s2Qpi",
        "outputId": "9e44a63b-84dd-4c2a-af5a-26913c4510bb"
      },
      "source": [
        "train.dtypes"
      ],
      "execution_count": 67,
      "outputs": [
        {
          "output_type": "execute_result",
          "data": {
            "text/plain": [
              "datetime       object\n",
              "season          int64\n",
              "holiday         int64\n",
              "workingday      int64\n",
              "weather         int64\n",
              "temp          float64\n",
              "atemp         float64\n",
              "humidity        int64\n",
              "windspeed     float64\n",
              "casual          int64\n",
              "registered      int64\n",
              "count           int64\n",
              "dtype: object"
            ]
          },
          "metadata": {
            "tags": []
          },
          "execution_count": 67
        }
      ]
    },
    {
      "cell_type": "code",
      "metadata": {
        "colab": {
          "base_uri": "https://localhost:8080/",
          "height": 408
        },
        "id": "gylwiVFvURWC",
        "outputId": "c82c1b35-999f-4514-c58c-c6d33fae0b30"
      },
      "source": [
        "plt.boxplot(train['count'])\n",
        "plt.ylabel(\"Count\")\n",
        "plt.title(\"Checking our target variable\")"
      ],
      "execution_count": 68,
      "outputs": [
        {
          "output_type": "execute_result",
          "data": {
            "text/plain": [
              "Text(0.5, 1.0, 'Checking our target variable')"
            ]
          },
          "metadata": {
            "tags": []
          },
          "execution_count": 68
        },
        {
          "output_type": "display_data",
          "data": {
            "image/png": "[encoded data removed]",
            "text/plain": [
              "<Figure size 720x432 with 1 Axes>"
            ]
          },
          "metadata": {
            "tags": []
          }
        }
      ]
    },
    {
      "cell_type": "markdown",
      "metadata": {
        "id": "rrX5XxztX9Sc"
      },
      "source": [
        "We'll see some categorical variables"
      ]
    },
    {
      "cell_type": "code",
      "metadata": {
        "colab": {
          "base_uri": "https://localhost:8080/",
          "height": 676
        },
        "id": "KKvD85EAZpia",
        "outputId": "91d74cf7-f59d-4926-e39a-8016be9cc389"
      },
      "source": [
        "fig, axes = plt.subplots(nrows=2,ncols=2)\n",
        "fig.set_size_inches(15, 10)\n",
        "sn.boxplot(data = train, y = \"count\", x = \"season\", orient = \"v\", ax = axes[0][0])\n",
        "sn.boxplot(data = train, y = \"count\", x = \"holiday\", orient = \"v\", ax = axes[0][1])\n",
        "sn.boxplot(data = train, y = \"count\", x = \"workingday\", orient = \"v\", ax = axes[1][0])\n",
        "sn.boxplot(data = train, y = \"count\", x = \"weather\", orient = \"v\", ax = axes[1][1])\n",
        "\n",
        "\n",
        "axes[0][0].set(xlabel = 'Season', ylabel = 'Count', title = \"Box Plot On Count Across Season\")\n",
        "axes[0][1].set(xlabel = 'Holiday', ylabel = 'Count', title = \"Box Plot On Count Across Holiday\")\n",
        "axes[1][0].set(xlabel = 'Working Day', ylabel = 'Count', title = \"Box Plot On Count Across Working Day\")\n",
        "axes[1][1].set(xlabel = 'Weather', ylabel = 'Count', title = \"Box Plot On Count Across Weather\")"
      ],
      "execution_count": 69,
      "outputs": [
        {
          "output_type": "execute_result",
          "data": {
            "text/plain": [
              "[Text(0, 0.5, 'Count'),\n",
              " Text(0.5, 0, 'Weather'),\n",
              " Text(0.5, 1.0, 'Box Plot On Count Across Weather')]"
            ]
          },
          "metadata": {
            "tags": []
          },
          "execution_count": 69
        },
        {
          "output_type": "display_data",
          "data": {
            "image/png": "[encoded data removed]",
            "text/plain": [
              "<Figure size 1080x720 with 4 Axes>"
            ]
          },
          "metadata": {
            "tags": []
          }
        }
      ]
    },
    {
      "cell_type": "markdown",
      "metadata": {
        "id": "lPL5SrbjbGpi"
      },
      "source": [
        "We can get some points from the graphs above:\n",
        "\n",
        "*   Spring season has got relatively lower count\n",
        "*   In holiday people tend to use bikes more and also if it's not a working day\n",
        "*   We can see a big difference in the count depending on the weather.\n",
        "\n",
        "\n",
        "\n",
        "\n"
      ]
    },
    {
      "cell_type": "code",
      "metadata": {
        "colab": {
          "base_uri": "https://localhost:8080/",
          "height": 479
        },
        "id": "dsnGuJM1cVoF",
        "outputId": "b0424a39-6738-4e0f-9daa-9ba9fd25e7e2"
      },
      "source": [
        "cont_names=['temp','atemp','humidity','windspeed']\n",
        "\n",
        "i=0\n",
        "for name in cont_names:\n",
        "    i=i+1\n",
        "    plt.subplot(2,2,i)\n",
        "    sn.boxplot(name,data=train) \n",
        "    \n",
        "plt.show()"
      ],
      "execution_count": 70,
      "outputs": [
        {
          "output_type": "stream",
          "text": [
            "Pass the following variable as a keyword arg: x. From version 0.12, the only valid positional argument will be `data`, and passing other arguments without an explicit keyword will result in an error or misinterpretation.\n",
            "Pass the following variable as a keyword arg: x. From version 0.12, the only valid positional argument will be `data`, and passing other arguments without an explicit keyword will result in an error or misinterpretation.\n",
            "Pass the following variable as a keyword arg: x. From version 0.12, the only valid positional argument will be `data`, and passing other arguments without an explicit keyword will result in an error or misinterpretation.\n",
            "Pass the following variable as a keyword arg: x. From version 0.12, the only valid positional argument will be `data`, and passing other arguments without an explicit keyword will result in an error or misinterpretation.\n"
          ],
          "name": "stderr"
        },
        {
          "output_type": "display_data",
          "data": {
            "image/png": "[encoded data removed]",
            "text/plain": [
              "<Figure size 720x432 with 4 Axes>"
            ]
          },
          "metadata": {
            "tags": []
          }
        }
      ]
    },
    {
      "cell_type": "markdown",
      "metadata": {
        "id": "KXwQwqy5dJIx"
      },
      "source": [
        "From above graphs we can see that windspeed has a lot of outliers. "
      ]
    },
    {
      "cell_type": "markdown",
      "metadata": {
        "id": "WkHlAIfV4ERC"
      },
      "source": [
        "**Feature Engineering**"
      ]
    },
    {
      "cell_type": "code",
      "metadata": {
        "id": "L-lFmOMxdo5r"
      },
      "source": [
        "from datetime import datetime\n",
        "\n",
        "train['datetime'] = train['datetime'].apply(lambda x:datetime.strptime(x,'%Y-%m-%d %H:%M:%S'))\n",
        "\n",
        "train['month'] = train['datetime'].apply(lambda x:x.month)\n",
        "train['hour'] = train['datetime'].apply(lambda x:x.hour)\n",
        "train['day'] = train['datetime'].apply(lambda x:x.day)\n",
        "train['year'] = train['datetime'].apply(lambda x:x.year)\n",
        "\n",
        "\n",
        "\n",
        "\n",
        "test['datetime'] = test['datetime'].apply(lambda x:datetime.strptime(x,'%Y-%m-%d %H:%M:%S'))\n",
        "\n",
        "test['month'] = test['datetime'].apply(lambda x:x.month)\n",
        "test['hour'] = test['datetime'].apply(lambda x:x.hour)\n",
        "test['day'] = test['datetime'].apply(lambda x:x.day)\n",
        "test['year'] = test['datetime'].apply(lambda x:x.year)"
      ],
      "execution_count": 71,
      "outputs": []
    },
    {
      "cell_type": "code",
      "metadata": {
        "colab": {
          "base_uri": "https://localhost:8080/",
          "height": 204
        },
        "id": "w1aKSErmeH4W",
        "outputId": "0c75b1de-4456-402f-aa85-3fac0f39a30c"
      },
      "source": [
        "train.head()"
      ],
      "execution_count": 72,
      "outputs": [
        {
          "output_type": "execute_result",
          "data": {
            "text/html": [
              "<div>\n",
              "<style scoped>\n",
              "    .dataframe tbody tr th:only-of-type {\n",
              "        vertical-align: middle;\n",
              "    }\n",
              "\n",
              "    .dataframe tbody tr th {\n",
              "        vertical-align: top;\n",
              "    }\n",
              "\n",
              "    .dataframe thead th {\n",
              "        text-align: right;\n",
              "    }\n",
              "</style>\n",
              "<table border=\"1\" class=\"dataframe\">\n",
              "  <thead>\n",
              "    <tr style=\"text-align: right;\">\n",
              "      <th></th>\n",
              "      <th>datetime</th>\n",
              "      <th>season</th>\n",
              "      <th>holiday</th>\n",
              "      <th>workingday</th>\n",
              "      <th>weather</th>\n",
              "      <th>temp</th>\n",
              "      <th>atemp</th>\n",
              "      <th>humidity</th>\n",
              "      <th>windspeed</th>\n",
              "      <th>casual</th>\n",
              "      <th>registered</th>\n",
              "      <th>count</th>\n",
              "      <th>month</th>\n",
              "      <th>hour</th>\n",
              "      <th>day</th>\n",
              "      <th>year</th>\n",
              "    </tr>\n",
              "  </thead>\n",
              "  <tbody>\n",
              "    <tr>\n",
              "      <th>2408</th>\n",
              "      <td>2011-06-08 06:00:00</td>\n",
              "      <td>2</td>\n",
              "      <td>0</td>\n",
              "      <td>1</td>\n",
              "      <td>1</td>\n",
              "      <td>26.24</td>\n",
              "      <td>28.790</td>\n",
              "      <td>89</td>\n",
              "      <td>8.9981</td>\n",
              "      <td>13</td>\n",
              "      <td>103</td>\n",
              "      <td>116</td>\n",
              "      <td>6</td>\n",
              "      <td>6</td>\n",
              "      <td>8</td>\n",
              "      <td>2011</td>\n",
              "    </tr>\n",
              "    <tr>\n",
              "      <th>7729</th>\n",
              "      <td>2012-06-02 10:00:00</td>\n",
              "      <td>2</td>\n",
              "      <td>0</td>\n",
              "      <td>0</td>\n",
              "      <td>1</td>\n",
              "      <td>24.60</td>\n",
              "      <td>31.060</td>\n",
              "      <td>53</td>\n",
              "      <td>19.9995</td>\n",
              "      <td>145</td>\n",
              "      <td>348</td>\n",
              "      <td>493</td>\n",
              "      <td>6</td>\n",
              "      <td>10</td>\n",
              "      <td>2</td>\n",
              "      <td>2012</td>\n",
              "    </tr>\n",
              "    <tr>\n",
              "      <th>2554</th>\n",
              "      <td>2011-06-14 08:00:00</td>\n",
              "      <td>2</td>\n",
              "      <td>0</td>\n",
              "      <td>1</td>\n",
              "      <td>1</td>\n",
              "      <td>23.78</td>\n",
              "      <td>27.275</td>\n",
              "      <td>49</td>\n",
              "      <td>26.0027</td>\n",
              "      <td>45</td>\n",
              "      <td>441</td>\n",
              "      <td>486</td>\n",
              "      <td>6</td>\n",
              "      <td>8</td>\n",
              "      <td>14</td>\n",
              "      <td>2011</td>\n",
              "    </tr>\n",
              "    <tr>\n",
              "      <th>6855</th>\n",
              "      <td>2012-04-03 23:00:00</td>\n",
              "      <td>2</td>\n",
              "      <td>0</td>\n",
              "      <td>1</td>\n",
              "      <td>1</td>\n",
              "      <td>20.50</td>\n",
              "      <td>24.240</td>\n",
              "      <td>59</td>\n",
              "      <td>0.0000</td>\n",
              "      <td>13</td>\n",
              "      <td>66</td>\n",
              "      <td>79</td>\n",
              "      <td>4</td>\n",
              "      <td>23</td>\n",
              "      <td>3</td>\n",
              "      <td>2012</td>\n",
              "    </tr>\n",
              "    <tr>\n",
              "      <th>8134</th>\n",
              "      <td>2012-06-19 07:00:00</td>\n",
              "      <td>2</td>\n",
              "      <td>0</td>\n",
              "      <td>1</td>\n",
              "      <td>2</td>\n",
              "      <td>24.60</td>\n",
              "      <td>28.790</td>\n",
              "      <td>78</td>\n",
              "      <td>8.9981</td>\n",
              "      <td>18</td>\n",
              "      <td>462</td>\n",
              "      <td>480</td>\n",
              "      <td>6</td>\n",
              "      <td>7</td>\n",
              "      <td>19</td>\n",
              "      <td>2012</td>\n",
              "    </tr>\n",
              "  </tbody>\n",
              "</table>\n",
              "</div>"
            ],
            "text/plain": [
              "                datetime  season  holiday  workingday  ...  month  hour  day  year\n",
              "2408 2011-06-08 06:00:00       2        0           1  ...      6     6    8  2011\n",
              "7729 2012-06-02 10:00:00       2        0           0  ...      6    10    2  2012\n",
              "2554 2011-06-14 08:00:00       2        0           1  ...      6     8   14  2011\n",
              "6855 2012-04-03 23:00:00       2        0           1  ...      4    23    3  2012\n",
              "8134 2012-06-19 07:00:00       2        0           1  ...      6     7   19  2012\n",
              "\n",
              "[5 rows x 16 columns]"
            ]
          },
          "metadata": {
            "tags": []
          },
          "execution_count": 72
        }
      ]
    },
    {
      "cell_type": "code",
      "metadata": {
        "colab": {
          "base_uri": "https://localhost:8080/",
          "height": 514
        },
        "id": "drR6Ftd6ekYG",
        "outputId": "89d67f49-3210-4953-c1ff-c7a83df53c09"
      },
      "source": [
        "train.corr()"
      ],
      "execution_count": 73,
      "outputs": [
        {
          "output_type": "execute_result",
          "data": {
            "text/html": [
              "<div>\n",
              "<style scoped>\n",
              "    .dataframe tbody tr th:only-of-type {\n",
              "        vertical-align: middle;\n",
              "    }\n",
              "\n",
              "    .dataframe tbody tr th {\n",
              "        vertical-align: top;\n",
              "    }\n",
              "\n",
              "    .dataframe thead th {\n",
              "        text-align: right;\n",
              "    }\n",
              "</style>\n",
              "<table border=\"1\" class=\"dataframe\">\n",
              "  <thead>\n",
              "    <tr style=\"text-align: right;\">\n",
              "      <th></th>\n",
              "      <th>season</th>\n",
              "      <th>holiday</th>\n",
              "      <th>workingday</th>\n",
              "      <th>weather</th>\n",
              "      <th>temp</th>\n",
              "      <th>atemp</th>\n",
              "      <th>humidity</th>\n",
              "      <th>windspeed</th>\n",
              "      <th>casual</th>\n",
              "      <th>registered</th>\n",
              "      <th>count</th>\n",
              "      <th>month</th>\n",
              "      <th>hour</th>\n",
              "      <th>day</th>\n",
              "      <th>year</th>\n",
              "    </tr>\n",
              "  </thead>\n",
              "  <tbody>\n",
              "    <tr>\n",
              "      <th>season</th>\n",
              "      <td>1.000000</td>\n",
              "      <td>0.032398</td>\n",
              "      <td>-0.006765</td>\n",
              "      <td>0.008306</td>\n",
              "      <td>0.257837</td>\n",
              "      <td>0.264042</td>\n",
              "      <td>0.184392</td>\n",
              "      <td>-0.150029</td>\n",
              "      <td>0.097626</td>\n",
              "      <td>0.162984</td>\n",
              "      <td>0.162846</td>\n",
              "      <td>0.971277</td>\n",
              "      <td>-0.004383</td>\n",
              "      <td>0.001024</td>\n",
              "      <td>-0.011660</td>\n",
              "    </tr>\n",
              "    <tr>\n",
              "      <th>holiday</th>\n",
              "      <td>0.032398</td>\n",
              "      <td>1.000000</td>\n",
              "      <td>-0.250182</td>\n",
              "      <td>-0.005035</td>\n",
              "      <td>0.008517</td>\n",
              "      <td>0.002770</td>\n",
              "      <td>0.000166</td>\n",
              "      <td>0.011592</td>\n",
              "      <td>0.047802</td>\n",
              "      <td>-0.017799</td>\n",
              "      <td>-0.001393</td>\n",
              "      <td>0.004486</td>\n",
              "      <td>0.000801</td>\n",
              "      <td>-0.014356</td>\n",
              "      <td>0.011629</td>\n",
              "    </tr>\n",
              "    <tr>\n",
              "      <th>workingday</th>\n",
              "      <td>-0.006765</td>\n",
              "      <td>-0.250182</td>\n",
              "      <td>1.000000</td>\n",
              "      <td>0.030160</td>\n",
              "      <td>0.023014</td>\n",
              "      <td>0.019072</td>\n",
              "      <td>-0.008417</td>\n",
              "      <td>0.009348</td>\n",
              "      <td>-0.324732</td>\n",
              "      <td>0.115935</td>\n",
              "      <td>0.005322</td>\n",
              "      <td>-0.001288</td>\n",
              "      <td>0.001151</td>\n",
              "      <td>0.007246</td>\n",
              "      <td>-0.002546</td>\n",
              "    </tr>\n",
              "    <tr>\n",
              "      <th>weather</th>\n",
              "      <td>0.008306</td>\n",
              "      <td>-0.005035</td>\n",
              "      <td>0.030160</td>\n",
              "      <td>1.000000</td>\n",
              "      <td>-0.052991</td>\n",
              "      <td>-0.054618</td>\n",
              "      <td>0.413032</td>\n",
              "      <td>0.009134</td>\n",
              "      <td>-0.132637</td>\n",
              "      <td>-0.109102</td>\n",
              "      <td>-0.127874</td>\n",
              "      <td>0.011188</td>\n",
              "      <td>-0.027631</td>\n",
              "      <td>-0.016284</td>\n",
              "      <td>-0.005393</td>\n",
              "    </tr>\n",
              "    <tr>\n",
              "      <th>temp</th>\n",
              "      <td>0.257837</td>\n",
              "      <td>0.008517</td>\n",
              "      <td>0.023014</td>\n",
              "      <td>-0.052991</td>\n",
              "      <td>1.000000</td>\n",
              "      <td>0.986007</td>\n",
              "      <td>-0.063906</td>\n",
              "      <td>-0.021851</td>\n",
              "      <td>0.462643</td>\n",
              "      <td>0.313354</td>\n",
              "      <td>0.390175</td>\n",
              "      <td>0.256295</td>\n",
              "      <td>0.139582</td>\n",
              "      <td>0.018954</td>\n",
              "      <td>0.054642</td>\n",
              "    </tr>\n",
              "    <tr>\n",
              "      <th>atemp</th>\n",
              "      <td>0.264042</td>\n",
              "      <td>0.002770</td>\n",
              "      <td>0.019072</td>\n",
              "      <td>-0.054618</td>\n",
              "      <td>0.986007</td>\n",
              "      <td>1.000000</td>\n",
              "      <td>-0.043916</td>\n",
              "      <td>-0.061378</td>\n",
              "      <td>0.459161</td>\n",
              "      <td>0.311119</td>\n",
              "      <td>0.387341</td>\n",
              "      <td>0.263188</td>\n",
              "      <td>0.135246</td>\n",
              "      <td>0.016175</td>\n",
              "      <td>0.052461</td>\n",
              "    </tr>\n",
              "    <tr>\n",
              "      <th>humidity</th>\n",
              "      <td>0.184392</td>\n",
              "      <td>0.000166</td>\n",
              "      <td>-0.008417</td>\n",
              "      <td>0.413032</td>\n",
              "      <td>-0.063906</td>\n",
              "      <td>-0.043916</td>\n",
              "      <td>1.000000</td>\n",
              "      <td>-0.315204</td>\n",
              "      <td>-0.350964</td>\n",
              "      <td>-0.266432</td>\n",
              "      <td>-0.319862</td>\n",
              "      <td>0.199184</td>\n",
              "      <td>-0.279179</td>\n",
              "      <td>-0.011730</td>\n",
              "      <td>-0.079732</td>\n",
              "    </tr>\n",
              "    <tr>\n",
              "      <th>windspeed</th>\n",
              "      <td>-0.150029</td>\n",
              "      <td>0.011592</td>\n",
              "      <td>0.009348</td>\n",
              "      <td>0.009134</td>\n",
              "      <td>-0.021851</td>\n",
              "      <td>-0.061378</td>\n",
              "      <td>-0.315204</td>\n",
              "      <td>1.000000</td>\n",
              "      <td>0.091801</td>\n",
              "      <td>0.081020</td>\n",
              "      <td>0.093083</td>\n",
              "      <td>-0.153469</td>\n",
              "      <td>0.143575</td>\n",
              "      <td>0.034495</td>\n",
              "      <td>-0.009073</td>\n",
              "    </tr>\n",
              "    <tr>\n",
              "      <th>casual</th>\n",
              "      <td>0.097626</td>\n",
              "      <td>0.047802</td>\n",
              "      <td>-0.324732</td>\n",
              "      <td>-0.132637</td>\n",
              "      <td>0.462643</td>\n",
              "      <td>0.459161</td>\n",
              "      <td>-0.350964</td>\n",
              "      <td>0.091801</td>\n",
              "      <td>1.000000</td>\n",
              "      <td>0.494487</td>\n",
              "      <td>0.691393</td>\n",
              "      <td>0.092466</td>\n",
              "      <td>0.300987</td>\n",
              "      <td>0.012584</td>\n",
              "      <td>0.143543</td>\n",
              "    </tr>\n",
              "    <tr>\n",
              "      <th>registered</th>\n",
              "      <td>0.162984</td>\n",
              "      <td>-0.017799</td>\n",
              "      <td>0.115935</td>\n",
              "      <td>-0.109102</td>\n",
              "      <td>0.313354</td>\n",
              "      <td>0.311119</td>\n",
              "      <td>-0.266432</td>\n",
              "      <td>0.081020</td>\n",
              "      <td>0.494487</td>\n",
              "      <td>1.000000</td>\n",
              "      <td>0.969853</td>\n",
              "      <td>0.167874</td>\n",
              "      <td>0.378512</td>\n",
              "      <td>0.018916</td>\n",
              "      <td>0.263394</td>\n",
              "    </tr>\n",
              "    <tr>\n",
              "      <th>count</th>\n",
              "      <td>0.162846</td>\n",
              "      <td>-0.001393</td>\n",
              "      <td>0.005322</td>\n",
              "      <td>-0.127874</td>\n",
              "      <td>0.390175</td>\n",
              "      <td>0.387341</td>\n",
              "      <td>-0.319862</td>\n",
              "      <td>0.093083</td>\n",
              "      <td>0.691393</td>\n",
              "      <td>0.969853</td>\n",
              "      <td>1.000000</td>\n",
              "      <td>0.165464</td>\n",
              "      <td>0.399012</td>\n",
              "      <td>0.019251</td>\n",
              "      <td>0.259181</td>\n",
              "    </tr>\n",
              "    <tr>\n",
              "      <th>month</th>\n",
              "      <td>0.971277</td>\n",
              "      <td>0.004486</td>\n",
              "      <td>-0.001288</td>\n",
              "      <td>0.011188</td>\n",
              "      <td>0.256295</td>\n",
              "      <td>0.263188</td>\n",
              "      <td>0.199184</td>\n",
              "      <td>-0.153469</td>\n",
              "      <td>0.092466</td>\n",
              "      <td>0.167874</td>\n",
              "      <td>0.165464</td>\n",
              "      <td>1.000000</td>\n",
              "      <td>-0.004674</td>\n",
              "      <td>0.002878</td>\n",
              "      <td>-0.011929</td>\n",
              "    </tr>\n",
              "    <tr>\n",
              "      <th>hour</th>\n",
              "      <td>-0.004383</td>\n",
              "      <td>0.000801</td>\n",
              "      <td>0.001151</td>\n",
              "      <td>-0.027631</td>\n",
              "      <td>0.139582</td>\n",
              "      <td>0.135246</td>\n",
              "      <td>-0.279179</td>\n",
              "      <td>0.143575</td>\n",
              "      <td>0.300987</td>\n",
              "      <td>0.378512</td>\n",
              "      <td>0.399012</td>\n",
              "      <td>-0.004674</td>\n",
              "      <td>1.000000</td>\n",
              "      <td>0.007629</td>\n",
              "      <td>-0.002632</td>\n",
              "    </tr>\n",
              "    <tr>\n",
              "      <th>day</th>\n",
              "      <td>0.001024</td>\n",
              "      <td>-0.014356</td>\n",
              "      <td>0.007246</td>\n",
              "      <td>-0.016284</td>\n",
              "      <td>0.018954</td>\n",
              "      <td>0.016175</td>\n",
              "      <td>-0.011730</td>\n",
              "      <td>0.034495</td>\n",
              "      <td>0.012584</td>\n",
              "      <td>0.018916</td>\n",
              "      <td>0.019251</td>\n",
              "      <td>0.002878</td>\n",
              "      <td>0.007629</td>\n",
              "      <td>1.000000</td>\n",
              "      <td>0.008922</td>\n",
              "    </tr>\n",
              "    <tr>\n",
              "      <th>year</th>\n",
              "      <td>-0.011660</td>\n",
              "      <td>0.011629</td>\n",
              "      <td>-0.002546</td>\n",
              "      <td>-0.005393</td>\n",
              "      <td>0.054642</td>\n",
              "      <td>0.052461</td>\n",
              "      <td>-0.079732</td>\n",
              "      <td>-0.009073</td>\n",
              "      <td>0.143543</td>\n",
              "      <td>0.263394</td>\n",
              "      <td>0.259181</td>\n",
              "      <td>-0.011929</td>\n",
              "      <td>-0.002632</td>\n",
              "      <td>0.008922</td>\n",
              "      <td>1.000000</td>\n",
              "    </tr>\n",
              "  </tbody>\n",
              "</table>\n",
              "</div>"
            ],
            "text/plain": [
              "              season   holiday  workingday  ...      hour       day      year\n",
              "season      1.000000  0.032398   -0.006765  ... -0.004383  0.001024 -0.011660\n",
              "holiday     0.032398  1.000000   -0.250182  ...  0.000801 -0.014356  0.011629\n",
              "workingday -0.006765 -0.250182    1.000000  ...  0.001151  0.007246 -0.002546\n",
              "weather     0.008306 -0.005035    0.030160  ... -0.027631 -0.016284 -0.005393\n",
              "temp        0.257837  0.008517    0.023014  ...  0.139582  0.018954  0.054642\n",
              "atemp       0.264042  0.002770    0.019072  ...  0.135246  0.016175  0.052461\n",
              "humidity    0.184392  0.000166   -0.008417  ... -0.279179 -0.011730 -0.079732\n",
              "windspeed  -0.150029  0.011592    0.009348  ...  0.143575  0.034495 -0.009073\n",
              "casual      0.097626  0.047802   -0.324732  ...  0.300987  0.012584  0.143543\n",
              "registered  0.162984 -0.017799    0.115935  ...  0.378512  0.018916  0.263394\n",
              "count       0.162846 -0.001393    0.005322  ...  0.399012  0.019251  0.259181\n",
              "month       0.971277  0.004486   -0.001288  ... -0.004674  0.002878 -0.011929\n",
              "hour       -0.004383  0.000801    0.001151  ...  1.000000  0.007629 -0.002632\n",
              "day         0.001024 -0.014356    0.007246  ...  0.007629  1.000000  0.008922\n",
              "year       -0.011660  0.011629   -0.002546  ... -0.002632  0.008922  1.000000\n",
              "\n",
              "[15 rows x 15 columns]"
            ]
          },
          "metadata": {
            "tags": []
          },
          "execution_count": 73
        }
      ]
    },
    {
      "cell_type": "markdown",
      "metadata": {
        "id": "JUGko0HGfx-B"
      },
      "source": [
        "\n",
        "\n",
        "*   temp y atemp seem to be similar. We can delete one of them\n",
        "*   We also will delete casual and registered.\n",
        "*   Working day and holiday as we see in the graphs tend to be similar so we can delete one.\n",
        "\n",
        "\n",
        "\n"
      ]
    },
    {
      "cell_type": "code",
      "metadata": {
        "colab": {
          "base_uri": "https://localhost:8080/",
          "height": 426
        },
        "id": "mssqkVyuescM",
        "outputId": "5594fc74-178c-4b13-bf0c-6f0c842e4553"
      },
      "source": [
        "train.cov()\n",
        "sn.heatmap(train.corr())\n",
        "plt.show()"
      ],
      "execution_count": 74,
      "outputs": [
        {
          "output_type": "display_data",
          "data": {
            "image/png": "[encoded data removed]",
            "text/plain": [
              "<Figure size 720x432 with 2 Axes>"
            ]
          },
          "metadata": {
            "tags": []
          }
        }
      ]
    },
    {
      "cell_type": "code",
      "metadata": {
        "colab": {
          "base_uri": "https://localhost:8080/"
        },
        "id": "Y3RErpFg-uem",
        "outputId": "c659627f-9af6-470e-d0a2-7f34a2058e42"
      },
      "source": [
        "train.dtypes"
      ],
      "execution_count": 75,
      "outputs": [
        {
          "output_type": "execute_result",
          "data": {
            "text/plain": [
              "datetime      datetime64[ns]\n",
              "season                 int64\n",
              "holiday                int64\n",
              "workingday             int64\n",
              "weather                int64\n",
              "temp                 float64\n",
              "atemp                float64\n",
              "humidity               int64\n",
              "windspeed            float64\n",
              "casual                 int64\n",
              "registered             int64\n",
              "count                  int64\n",
              "month                  int64\n",
              "hour                   int64\n",
              "day                    int64\n",
              "year                   int64\n",
              "dtype: object"
            ]
          },
          "metadata": {
            "tags": []
          },
          "execution_count": 75
        }
      ]
    },
    {
      "cell_type": "markdown",
      "metadata": {
        "id": "C7Py-Dlf4IYJ"
      },
      "source": [
        "As we see, the columns \"season\", \"holiday\", \"workingday\" and \"weather\" should be of \"categorical\" data type. But the current data type is \"int\" for those columns. We'll transform the dataset in the following ways so that we can get started up with our EDA.\n",
        "\n",
        "\n",
        "\n",
        "*   Create new columns \"date, \"hour\", \"weekDay\", \"month\" from \"datetime\" column. Because of this we'll delete the \"datetime\" column\n",
        "*   Convert the datatype of \"season\",\"holiday\",\"workingday\" and \"weather\" to category.\n",
        "\n"
      ]
    },
    {
      "cell_type": "code",
      "metadata": {
        "colab": {
          "base_uri": "https://localhost:8080/",
          "height": 204
        },
        "id": "fvFAjzeXgfzu",
        "outputId": "398a35bd-e4c2-4eca-ae2f-42d99550ec17"
      },
      "source": [
        "train=train.drop(['datetime','temp','casual','registered','day'], axis=1)\n",
        "train.head()"
      ],
      "execution_count": 76,
      "outputs": [
        {
          "output_type": "execute_result",
          "data": {
            "text/html": [
              "<div>\n",
              "<style scoped>\n",
              "    .dataframe tbody tr th:only-of-type {\n",
              "        vertical-align: middle;\n",
              "    }\n",
              "\n",
              "    .dataframe tbody tr th {\n",
              "        vertical-align: top;\n",
              "    }\n",
              "\n",
              "    .dataframe thead th {\n",
              "        text-align: right;\n",
              "    }\n",
              "</style>\n",
              "<table border=\"1\" class=\"dataframe\">\n",
              "  <thead>\n",
              "    <tr style=\"text-align: right;\">\n",
              "      <th></th>\n",
              "      <th>season</th>\n",
              "      <th>holiday</th>\n",
              "      <th>workingday</th>\n",
              "      <th>weather</th>\n",
              "      <th>atemp</th>\n",
              "      <th>humidity</th>\n",
              "      <th>windspeed</th>\n",
              "      <th>count</th>\n",
              "      <th>month</th>\n",
              "      <th>hour</th>\n",
              "      <th>year</th>\n",
              "    </tr>\n",
              "  </thead>\n",
              "  <tbody>\n",
              "    <tr>\n",
              "      <th>2408</th>\n",
              "      <td>2</td>\n",
              "      <td>0</td>\n",
              "      <td>1</td>\n",
              "      <td>1</td>\n",
              "      <td>28.790</td>\n",
              "      <td>89</td>\n",
              "      <td>8.9981</td>\n",
              "      <td>116</td>\n",
              "      <td>6</td>\n",
              "      <td>6</td>\n",
              "      <td>2011</td>\n",
              "    </tr>\n",
              "    <tr>\n",
              "      <th>7729</th>\n",
              "      <td>2</td>\n",
              "      <td>0</td>\n",
              "      <td>0</td>\n",
              "      <td>1</td>\n",
              "      <td>31.060</td>\n",
              "      <td>53</td>\n",
              "      <td>19.9995</td>\n",
              "      <td>493</td>\n",
              "      <td>6</td>\n",
              "      <td>10</td>\n",
              "      <td>2012</td>\n",
              "    </tr>\n",
              "    <tr>\n",
              "      <th>2554</th>\n",
              "      <td>2</td>\n",
              "      <td>0</td>\n",
              "      <td>1</td>\n",
              "      <td>1</td>\n",
              "      <td>27.275</td>\n",
              "      <td>49</td>\n",
              "      <td>26.0027</td>\n",
              "      <td>486</td>\n",
              "      <td>6</td>\n",
              "      <td>8</td>\n",
              "      <td>2011</td>\n",
              "    </tr>\n",
              "    <tr>\n",
              "      <th>6855</th>\n",
              "      <td>2</td>\n",
              "      <td>0</td>\n",
              "      <td>1</td>\n",
              "      <td>1</td>\n",
              "      <td>24.240</td>\n",
              "      <td>59</td>\n",
              "      <td>0.0000</td>\n",
              "      <td>79</td>\n",
              "      <td>4</td>\n",
              "      <td>23</td>\n",
              "      <td>2012</td>\n",
              "    </tr>\n",
              "    <tr>\n",
              "      <th>8134</th>\n",
              "      <td>2</td>\n",
              "      <td>0</td>\n",
              "      <td>1</td>\n",
              "      <td>2</td>\n",
              "      <td>28.790</td>\n",
              "      <td>78</td>\n",
              "      <td>8.9981</td>\n",
              "      <td>480</td>\n",
              "      <td>6</td>\n",
              "      <td>7</td>\n",
              "      <td>2012</td>\n",
              "    </tr>\n",
              "  </tbody>\n",
              "</table>\n",
              "</div>"
            ],
            "text/plain": [
              "      season  holiday  workingday  weather  ...  count  month  hour  year\n",
              "2408       2        0           1        1  ...    116      6     6  2011\n",
              "7729       2        0           0        1  ...    493      6    10  2012\n",
              "2554       2        0           1        1  ...    486      6     8  2011\n",
              "6855       2        0           1        1  ...     79      4    23  2012\n",
              "8134       2        0           1        2  ...    480      6     7  2012\n",
              "\n",
              "[5 rows x 11 columns]"
            ]
          },
          "metadata": {
            "tags": []
          },
          "execution_count": 76
        }
      ]
    },
    {
      "cell_type": "code",
      "metadata": {
        "colab": {
          "base_uri": "https://localhost:8080/",
          "height": 204
        },
        "id": "Bx4wDXO01ADg",
        "outputId": "7fe9c1b3-fdb5-48f9-e540-51bbaba3b748"
      },
      "source": [
        "test=test.drop(['datetime','temp','casual','registered','day'], axis=1)\n",
        "test.head()"
      ],
      "execution_count": 77,
      "outputs": [
        {
          "output_type": "execute_result",
          "data": {
            "text/html": [
              "<div>\n",
              "<style scoped>\n",
              "    .dataframe tbody tr th:only-of-type {\n",
              "        vertical-align: middle;\n",
              "    }\n",
              "\n",
              "    .dataframe tbody tr th {\n",
              "        vertical-align: top;\n",
              "    }\n",
              "\n",
              "    .dataframe thead th {\n",
              "        text-align: right;\n",
              "    }\n",
              "</style>\n",
              "<table border=\"1\" class=\"dataframe\">\n",
              "  <thead>\n",
              "    <tr style=\"text-align: right;\">\n",
              "      <th></th>\n",
              "      <th>season</th>\n",
              "      <th>holiday</th>\n",
              "      <th>workingday</th>\n",
              "      <th>weather</th>\n",
              "      <th>atemp</th>\n",
              "      <th>humidity</th>\n",
              "      <th>windspeed</th>\n",
              "      <th>count</th>\n",
              "      <th>month</th>\n",
              "      <th>hour</th>\n",
              "      <th>year</th>\n",
              "    </tr>\n",
              "  </thead>\n",
              "  <tbody>\n",
              "    <tr>\n",
              "      <th>927</th>\n",
              "      <td>1</td>\n",
              "      <td>0</td>\n",
              "      <td>1</td>\n",
              "      <td>1</td>\n",
              "      <td>8.335</td>\n",
              "      <td>27</td>\n",
              "      <td>31.0009</td>\n",
              "      <td>3</td>\n",
              "      <td>3</td>\n",
              "      <td>2</td>\n",
              "      <td>2011</td>\n",
              "    </tr>\n",
              "    <tr>\n",
              "      <th>9009</th>\n",
              "      <td>3</td>\n",
              "      <td>0</td>\n",
              "      <td>1</td>\n",
              "      <td>2</td>\n",
              "      <td>12.120</td>\n",
              "      <td>38</td>\n",
              "      <td>16.9979</td>\n",
              "      <td>669</td>\n",
              "      <td>8</td>\n",
              "      <td>18</td>\n",
              "      <td>2012</td>\n",
              "    </tr>\n",
              "    <tr>\n",
              "      <th>3938</th>\n",
              "      <td>3</td>\n",
              "      <td>0</td>\n",
              "      <td>1</td>\n",
              "      <td>1</td>\n",
              "      <td>29.545</td>\n",
              "      <td>73</td>\n",
              "      <td>6.0032</td>\n",
              "      <td>8</td>\n",
              "      <td>9</td>\n",
              "      <td>3</td>\n",
              "      <td>2011</td>\n",
              "    </tr>\n",
              "    <tr>\n",
              "      <th>1538</th>\n",
              "      <td>2</td>\n",
              "      <td>0</td>\n",
              "      <td>0</td>\n",
              "      <td>2</td>\n",
              "      <td>19.695</td>\n",
              "      <td>87</td>\n",
              "      <td>6.0032</td>\n",
              "      <td>57</td>\n",
              "      <td>4</td>\n",
              "      <td>23</td>\n",
              "      <td>2011</td>\n",
              "    </tr>\n",
              "    <tr>\n",
              "      <th>10171</th>\n",
              "      <td>4</td>\n",
              "      <td>0</td>\n",
              "      <td>1</td>\n",
              "      <td>1</td>\n",
              "      <td>14.395</td>\n",
              "      <td>56</td>\n",
              "      <td>12.9980</td>\n",
              "      <td>27</td>\n",
              "      <td>11</td>\n",
              "      <td>5</td>\n",
              "      <td>2012</td>\n",
              "    </tr>\n",
              "  </tbody>\n",
              "</table>\n",
              "</div>"
            ],
            "text/plain": [
              "       season  holiday  workingday  weather  ...  count  month  hour  year\n",
              "927         1        0           1        1  ...      3      3     2  2011\n",
              "9009        3        0           1        2  ...    669      8    18  2012\n",
              "3938        3        0           1        1  ...      8      9     3  2011\n",
              "1538        2        0           0        2  ...     57      4    23  2011\n",
              "10171       4        0           1        1  ...     27     11     5  2012\n",
              "\n",
              "[5 rows x 11 columns]"
            ]
          },
          "metadata": {
            "tags": []
          },
          "execution_count": 77
        }
      ]
    },
    {
      "cell_type": "code",
      "metadata": {
        "colab": {
          "base_uri": "https://localhost:8080/"
        },
        "id": "ugZsyrZpgpQL",
        "outputId": "d50ee76a-778b-4089-b7af-3bf962e1ba81"
      },
      "source": [
        "train.dtypes"
      ],
      "execution_count": 78,
      "outputs": [
        {
          "output_type": "execute_result",
          "data": {
            "text/plain": [
              "season          int64\n",
              "holiday         int64\n",
              "workingday      int64\n",
              "weather         int64\n",
              "atemp         float64\n",
              "humidity        int64\n",
              "windspeed     float64\n",
              "count           int64\n",
              "month           int64\n",
              "hour            int64\n",
              "year            int64\n",
              "dtype: object"
            ]
          },
          "metadata": {
            "tags": []
          },
          "execution_count": 78
        }
      ]
    },
    {
      "cell_type": "code",
      "metadata": {
        "id": "pVoJD0an6T1q"
      },
      "source": [
        "categoricalFeatureNames = [\"season\",\"holiday\",\"workingday\",\"weather\",\"month\",\"year\",\"hour\"]\n",
        "for var in categoricalFeatureNames:\n",
        "    train[var] = train[var].astype(\"category\")\n",
        "    test[var] = test[var].astype(\"category\")"
      ],
      "execution_count": 79,
      "outputs": []
    },
    {
      "cell_type": "code",
      "metadata": {
        "colab": {
          "base_uri": "https://localhost:8080/"
        },
        "id": "0VU21sj76v1j",
        "outputId": "1687cd59-d866-4aa7-f605-60f19f1e2dd1"
      },
      "source": [
        "train.dtypes"
      ],
      "execution_count": 80,
      "outputs": [
        {
          "output_type": "execute_result",
          "data": {
            "text/plain": [
              "season        category\n",
              "holiday       category\n",
              "workingday    category\n",
              "weather       category\n",
              "atemp          float64\n",
              "humidity         int64\n",
              "windspeed      float64\n",
              "count            int64\n",
              "month         category\n",
              "hour          category\n",
              "year          category\n",
              "dtype: object"
            ]
          },
          "metadata": {
            "tags": []
          },
          "execution_count": 80
        }
      ]
    },
    {
      "cell_type": "code",
      "metadata": {
        "colab": {
          "base_uri": "https://localhost:8080/"
        },
        "id": "S-JZ44Ix_B2k",
        "outputId": "798dedd7-cabe-4264-a37d-6e1dd68aa8e1"
      },
      "source": [
        "train['count'].describe()"
      ],
      "execution_count": 81,
      "outputs": [
        {
          "output_type": "execute_result",
          "data": {
            "text/plain": [
              "count    8708.000000\n",
              "mean      191.413298\n",
              "std       180.281162\n",
              "min         1.000000\n",
              "25%        43.000000\n",
              "50%       145.000000\n",
              "75%       283.000000\n",
              "max       977.000000\n",
              "Name: count, dtype: float64"
            ]
          },
          "metadata": {
            "tags": []
          },
          "execution_count": 81
        }
      ]
    },
    {
      "cell_type": "code",
      "metadata": {
        "colab": {
          "base_uri": "https://localhost:8080/",
          "height": 391
        },
        "id": "GGeiM6GD_MNW",
        "outputId": "cc795418-838e-4e04-8bbe-ca912a7547ef"
      },
      "source": [
        "print(\"Skew is: \", train['count'].skew())\n",
        "plt.style.use(style=\"ggplot\")\n",
        "plt.rcParams[\"figure.figsize\"]=(10,6)\n",
        "plt.hist(train['count'],color=\"blue\")\n",
        "plt.show()"
      ],
      "execution_count": 82,
      "outputs": [
        {
          "output_type": "stream",
          "text": [
            "Skew is:  1.241578888663998\n"
          ],
          "name": "stdout"
        },
        {
          "output_type": "display_data",
          "data": {
            "image/png": "[encoded data removed]",
            "text/plain": [
              "<Figure size 720x432 with 1 Axes>"
            ]
          },
          "metadata": {
            "tags": []
          }
        }
      ]
    },
    {
      "cell_type": "code",
      "metadata": {
        "colab": {
          "base_uri": "https://localhost:8080/",
          "height": 391
        },
        "id": "4PPdNNXnC7ht",
        "outputId": "19b44f79-eb14-4220-d2ff-4e961f1e805d"
      },
      "source": [
        "print(\"Skew is: \", test['count'].skew())\n",
        "plt.style.use(style=\"ggplot\")\n",
        "plt.rcParams[\"figure.figsize\"]=(10,6)\n",
        "plt.hist(test['count'],color=\"blue\")\n",
        "plt.show()"
      ],
      "execution_count": 83,
      "outputs": [
        {
          "output_type": "stream",
          "text": [
            "Skew is:  1.2434797246061844\n"
          ],
          "name": "stdout"
        },
        {
          "output_type": "display_data",
          "data": {
            "image/png": "[encoded data removed]",
            "text/plain": [
              "<Figure size 720x432 with 1 Axes>"
            ]
          },
          "metadata": {
            "tags": []
          }
        }
      ]
    },
    {
      "cell_type": "markdown",
      "metadata": {
        "id": "zMUY-nqCSVQB"
      },
      "source": [
        "Our variable to predict is skewed so we apply the logarithm. The logarithm reduces the dynamic range of a variable so the differences are preserved while the scale is not dramatically skewed."
      ]
    },
    {
      "cell_type": "code",
      "metadata": {
        "colab": {
          "base_uri": "https://localhost:8080/"
        },
        "id": "0VAQ8mUciBZ1",
        "outputId": "31fc1376-300b-4b04-98fe-0435d779ef35"
      },
      "source": [
        "train['count'] = np.log1p(train['count'])\n",
        "train['count'].head(10)"
      ],
      "execution_count": 84,
      "outputs": [
        {
          "output_type": "execute_result",
          "data": {
            "text/plain": [
              "2408    4.762174\n",
              "7729    6.202536\n",
              "2554    6.188264\n",
              "6855    4.382027\n",
              "8134    6.175867\n",
              "3080    3.091042\n",
              "8450    5.666427\n",
              "5576    5.783825\n",
              "6175    4.948760\n",
              "437     3.970292\n",
              "Name: count, dtype: float64"
            ]
          },
          "metadata": {
            "tags": []
          },
          "execution_count": 84
        }
      ]
    },
    {
      "cell_type": "code",
      "metadata": {
        "colab": {
          "base_uri": "https://localhost:8080/"
        },
        "id": "Z09mR_X31VUf",
        "outputId": "b24e989e-add0-45a3-9070-76045e3b3322"
      },
      "source": [
        "test['count'] = np.log1p(test['count'])\n",
        "test['count'].head(10)"
      ],
      "execution_count": 85,
      "outputs": [
        {
          "output_type": "execute_result",
          "data": {
            "text/plain": [
              "927      1.386294\n",
              "9009     6.507278\n",
              "3938     2.197225\n",
              "1538     4.060443\n",
              "10171    3.332205\n",
              "9647     5.332719\n",
              "4852     4.691348\n",
              "5936     5.293305\n",
              "9617     2.484907\n",
              "3892     3.044522\n",
              "Name: count, dtype: float64"
            ]
          },
          "metadata": {
            "tags": []
          },
          "execution_count": 85
        }
      ]
    },
    {
      "cell_type": "code",
      "metadata": {
        "colab": {
          "base_uri": "https://localhost:8080/",
          "height": 204
        },
        "id": "_8flG4xqj5wa",
        "outputId": "b7b5d86b-cb53-47f3-f161-a92e858d51a8"
      },
      "source": [
        "train.head()"
      ],
      "execution_count": 86,
      "outputs": [
        {
          "output_type": "execute_result",
          "data": {
            "text/html": [
              "<div>\n",
              "<style scoped>\n",
              "    .dataframe tbody tr th:only-of-type {\n",
              "        vertical-align: middle;\n",
              "    }\n",
              "\n",
              "    .dataframe tbody tr th {\n",
              "        vertical-align: top;\n",
              "    }\n",
              "\n",
              "    .dataframe thead th {\n",
              "        text-align: right;\n",
              "    }\n",
              "</style>\n",
              "<table border=\"1\" class=\"dataframe\">\n",
              "  <thead>\n",
              "    <tr style=\"text-align: right;\">\n",
              "      <th></th>\n",
              "      <th>season</th>\n",
              "      <th>holiday</th>\n",
              "      <th>workingday</th>\n",
              "      <th>weather</th>\n",
              "      <th>atemp</th>\n",
              "      <th>humidity</th>\n",
              "      <th>windspeed</th>\n",
              "      <th>count</th>\n",
              "      <th>month</th>\n",
              "      <th>hour</th>\n",
              "      <th>year</th>\n",
              "    </tr>\n",
              "  </thead>\n",
              "  <tbody>\n",
              "    <tr>\n",
              "      <th>2408</th>\n",
              "      <td>2</td>\n",
              "      <td>0</td>\n",
              "      <td>1</td>\n",
              "      <td>1</td>\n",
              "      <td>28.790</td>\n",
              "      <td>89</td>\n",
              "      <td>8.9981</td>\n",
              "      <td>4.762174</td>\n",
              "      <td>6</td>\n",
              "      <td>6</td>\n",
              "      <td>2011</td>\n",
              "    </tr>\n",
              "    <tr>\n",
              "      <th>7729</th>\n",
              "      <td>2</td>\n",
              "      <td>0</td>\n",
              "      <td>0</td>\n",
              "      <td>1</td>\n",
              "      <td>31.060</td>\n",
              "      <td>53</td>\n",
              "      <td>19.9995</td>\n",
              "      <td>6.202536</td>\n",
              "      <td>6</td>\n",
              "      <td>10</td>\n",
              "      <td>2012</td>\n",
              "    </tr>\n",
              "    <tr>\n",
              "      <th>2554</th>\n",
              "      <td>2</td>\n",
              "      <td>0</td>\n",
              "      <td>1</td>\n",
              "      <td>1</td>\n",
              "      <td>27.275</td>\n",
              "      <td>49</td>\n",
              "      <td>26.0027</td>\n",
              "      <td>6.188264</td>\n",
              "      <td>6</td>\n",
              "      <td>8</td>\n",
              "      <td>2011</td>\n",
              "    </tr>\n",
              "    <tr>\n",
              "      <th>6855</th>\n",
              "      <td>2</td>\n",
              "      <td>0</td>\n",
              "      <td>1</td>\n",
              "      <td>1</td>\n",
              "      <td>24.240</td>\n",
              "      <td>59</td>\n",
              "      <td>0.0000</td>\n",
              "      <td>4.382027</td>\n",
              "      <td>4</td>\n",
              "      <td>23</td>\n",
              "      <td>2012</td>\n",
              "    </tr>\n",
              "    <tr>\n",
              "      <th>8134</th>\n",
              "      <td>2</td>\n",
              "      <td>0</td>\n",
              "      <td>1</td>\n",
              "      <td>2</td>\n",
              "      <td>28.790</td>\n",
              "      <td>78</td>\n",
              "      <td>8.9981</td>\n",
              "      <td>6.175867</td>\n",
              "      <td>6</td>\n",
              "      <td>7</td>\n",
              "      <td>2012</td>\n",
              "    </tr>\n",
              "  </tbody>\n",
              "</table>\n",
              "</div>"
            ],
            "text/plain": [
              "     season holiday workingday weather  ...     count  month  hour  year\n",
              "2408      2       0          1       1  ...  4.762174      6     6  2011\n",
              "7729      2       0          0       1  ...  6.202536      6    10  2012\n",
              "2554      2       0          1       1  ...  6.188264      6     8  2011\n",
              "6855      2       0          1       1  ...  4.382027      4    23  2012\n",
              "8134      2       0          1       2  ...  6.175867      6     7  2012\n",
              "\n",
              "[5 rows x 11 columns]"
            ]
          },
          "metadata": {
            "tags": []
          },
          "execution_count": 86
        }
      ]
    },
    {
      "cell_type": "code",
      "metadata": {
        "colab": {
          "base_uri": "https://localhost:8080/",
          "height": 204
        },
        "id": "Wzd8ixidjH0H",
        "outputId": "9aaddc50-b3e6-47ab-c3d7-8d291a565cfc"
      },
      "source": [
        "test.head()"
      ],
      "execution_count": 87,
      "outputs": [
        {
          "output_type": "execute_result",
          "data": {
            "text/html": [
              "<div>\n",
              "<style scoped>\n",
              "    .dataframe tbody tr th:only-of-type {\n",
              "        vertical-align: middle;\n",
              "    }\n",
              "\n",
              "    .dataframe tbody tr th {\n",
              "        vertical-align: top;\n",
              "    }\n",
              "\n",
              "    .dataframe thead th {\n",
              "        text-align: right;\n",
              "    }\n",
              "</style>\n",
              "<table border=\"1\" class=\"dataframe\">\n",
              "  <thead>\n",
              "    <tr style=\"text-align: right;\">\n",
              "      <th></th>\n",
              "      <th>season</th>\n",
              "      <th>holiday</th>\n",
              "      <th>workingday</th>\n",
              "      <th>weather</th>\n",
              "      <th>atemp</th>\n",
              "      <th>humidity</th>\n",
              "      <th>windspeed</th>\n",
              "      <th>count</th>\n",
              "      <th>month</th>\n",
              "      <th>hour</th>\n",
              "      <th>year</th>\n",
              "    </tr>\n",
              "  </thead>\n",
              "  <tbody>\n",
              "    <tr>\n",
              "      <th>927</th>\n",
              "      <td>1</td>\n",
              "      <td>0</td>\n",
              "      <td>1</td>\n",
              "      <td>1</td>\n",
              "      <td>8.335</td>\n",
              "      <td>27</td>\n",
              "      <td>31.0009</td>\n",
              "      <td>1.386294</td>\n",
              "      <td>3</td>\n",
              "      <td>2</td>\n",
              "      <td>2011</td>\n",
              "    </tr>\n",
              "    <tr>\n",
              "      <th>9009</th>\n",
              "      <td>3</td>\n",
              "      <td>0</td>\n",
              "      <td>1</td>\n",
              "      <td>2</td>\n",
              "      <td>12.120</td>\n",
              "      <td>38</td>\n",
              "      <td>16.9979</td>\n",
              "      <td>6.507278</td>\n",
              "      <td>8</td>\n",
              "      <td>18</td>\n",
              "      <td>2012</td>\n",
              "    </tr>\n",
              "    <tr>\n",
              "      <th>3938</th>\n",
              "      <td>3</td>\n",
              "      <td>0</td>\n",
              "      <td>1</td>\n",
              "      <td>1</td>\n",
              "      <td>29.545</td>\n",
              "      <td>73</td>\n",
              "      <td>6.0032</td>\n",
              "      <td>2.197225</td>\n",
              "      <td>9</td>\n",
              "      <td>3</td>\n",
              "      <td>2011</td>\n",
              "    </tr>\n",
              "    <tr>\n",
              "      <th>1538</th>\n",
              "      <td>2</td>\n",
              "      <td>0</td>\n",
              "      <td>0</td>\n",
              "      <td>2</td>\n",
              "      <td>19.695</td>\n",
              "      <td>87</td>\n",
              "      <td>6.0032</td>\n",
              "      <td>4.060443</td>\n",
              "      <td>4</td>\n",
              "      <td>23</td>\n",
              "      <td>2011</td>\n",
              "    </tr>\n",
              "    <tr>\n",
              "      <th>10171</th>\n",
              "      <td>4</td>\n",
              "      <td>0</td>\n",
              "      <td>1</td>\n",
              "      <td>1</td>\n",
              "      <td>14.395</td>\n",
              "      <td>56</td>\n",
              "      <td>12.9980</td>\n",
              "      <td>3.332205</td>\n",
              "      <td>11</td>\n",
              "      <td>5</td>\n",
              "      <td>2012</td>\n",
              "    </tr>\n",
              "  </tbody>\n",
              "</table>\n",
              "</div>"
            ],
            "text/plain": [
              "      season holiday workingday weather  ...     count  month  hour  year\n",
              "927        1       0          1       1  ...  1.386294      3     2  2011\n",
              "9009       3       0          1       2  ...  6.507278      8    18  2012\n",
              "3938       3       0          1       1  ...  2.197225      9     3  2011\n",
              "1538       2       0          0       2  ...  4.060443      4    23  2011\n",
              "10171      4       0          1       1  ...  3.332205     11     5  2012\n",
              "\n",
              "[5 rows x 11 columns]"
            ]
          },
          "metadata": {
            "tags": []
          },
          "execution_count": 87
        }
      ]
    },
    {
      "cell_type": "markdown",
      "metadata": {
        "id": "80nw2QTxSqCG"
      },
      "source": [
        "From our categorical variables we need to separate these in nominal and ordinal. In ordinal variables we'll apply label encoding and in nominal we'll apply one hot encoding. However, checking the features that are ordinal I think that we should only transform these to float and we'll keep the information. Because if for example we apply label enconder to the season feature we will lose the order of the season. Maybe if we have an example that has value 1 and then we apply label encoder it can transform the value to 2,3 or 4."
      ]
    },
    {
      "cell_type": "code",
      "metadata": {
        "id": "9fNC97QmaBjq"
      },
      "source": [
        "nominal = [ 'holiday', 'workingday', 'weather', 'year']\n",
        "\n",
        "ordinal = [ 'season', 'month', 'hour'] "
      ],
      "execution_count": 88,
      "outputs": []
    },
    {
      "cell_type": "code",
      "metadata": {
        "id": "a1aytHceiMUB"
      },
      "source": [
        "for var in ordinal:\n",
        "    train[var] = train[var].astype(\"float64\")\n",
        "    test[var] = test[var].astype(\"float64\")"
      ],
      "execution_count": 89,
      "outputs": []
    },
    {
      "cell_type": "code",
      "metadata": {
        "id": "NlidIQRMbjPU",
        "colab": {
          "base_uri": "https://localhost:8080/"
        },
        "outputId": "4f3fd758-c76f-4abd-f782-cc6ef35d7344"
      },
      "source": [
        "train.dtypes"
      ],
      "execution_count": 90,
      "outputs": [
        {
          "output_type": "execute_result",
          "data": {
            "text/plain": [
              "season         float64\n",
              "holiday       category\n",
              "workingday    category\n",
              "weather       category\n",
              "atemp          float64\n",
              "humidity         int64\n",
              "windspeed      float64\n",
              "count          float64\n",
              "month          float64\n",
              "hour           float64\n",
              "year          category\n",
              "dtype: object"
            ]
          },
          "metadata": {
            "tags": []
          },
          "execution_count": 90
        }
      ]
    },
    {
      "cell_type": "code",
      "metadata": {
        "id": "gBmhd5-ZgD76",
        "colab": {
          "base_uri": "https://localhost:8080/"
        },
        "outputId": "64181fde-42f0-4d40-da1f-ced7089fc21e"
      },
      "source": [
        "test.dtypes"
      ],
      "execution_count": 91,
      "outputs": [
        {
          "output_type": "execute_result",
          "data": {
            "text/plain": [
              "season         float64\n",
              "holiday       category\n",
              "workingday    category\n",
              "weather       category\n",
              "atemp          float64\n",
              "humidity         int64\n",
              "windspeed      float64\n",
              "count          float64\n",
              "month          float64\n",
              "hour           float64\n",
              "year          category\n",
              "dtype: object"
            ]
          },
          "metadata": {
            "tags": []
          },
          "execution_count": 91
        }
      ]
    },
    {
      "cell_type": "markdown",
      "metadata": {
        "id": "lOaPCcyIZdF4"
      },
      "source": [
        "**One hot encoding**"
      ]
    },
    {
      "cell_type": "code",
      "metadata": {
        "id": "VkiXuWF3b_jS",
        "colab": {
          "base_uri": "https://localhost:8080/"
        },
        "outputId": "a5b6e6bb-bd44-46e9-b62b-44ad7ab33487"
      },
      "source": [
        "train = pd.get_dummies(train, drop_first=True)\n",
        "train.shape"
      ],
      "execution_count": 92,
      "outputs": [
        {
          "output_type": "execute_result",
          "data": {
            "text/plain": [
              "(8708, 13)"
            ]
          },
          "metadata": {
            "tags": []
          },
          "execution_count": 92
        }
      ]
    },
    {
      "cell_type": "code",
      "metadata": {
        "colab": {
          "base_uri": "https://localhost:8080/",
          "height": 419
        },
        "id": "zC-VRPeOaLiL",
        "outputId": "5be158f4-8f37-429c-8015-039a1f312633"
      },
      "source": [
        "train"
      ],
      "execution_count": 93,
      "outputs": [
        {
          "output_type": "execute_result",
          "data": {
            "text/html": [
              "<div>\n",
              "<style scoped>\n",
              "    .dataframe tbody tr th:only-of-type {\n",
              "        vertical-align: middle;\n",
              "    }\n",
              "\n",
              "    .dataframe tbody tr th {\n",
              "        vertical-align: top;\n",
              "    }\n",
              "\n",
              "    .dataframe thead th {\n",
              "        text-align: right;\n",
              "    }\n",
              "</style>\n",
              "<table border=\"1\" class=\"dataframe\">\n",
              "  <thead>\n",
              "    <tr style=\"text-align: right;\">\n",
              "      <th></th>\n",
              "      <th>season</th>\n",
              "      <th>atemp</th>\n",
              "      <th>humidity</th>\n",
              "      <th>windspeed</th>\n",
              "      <th>count</th>\n",
              "      <th>month</th>\n",
              "      <th>hour</th>\n",
              "      <th>holiday_1</th>\n",
              "      <th>workingday_1</th>\n",
              "      <th>weather_2</th>\n",
              "      <th>weather_3</th>\n",
              "      <th>weather_4</th>\n",
              "      <th>year_2012</th>\n",
              "    </tr>\n",
              "  </thead>\n",
              "  <tbody>\n",
              "    <tr>\n",
              "      <th>2408</th>\n",
              "      <td>2.0</td>\n",
              "      <td>28.790</td>\n",
              "      <td>89</td>\n",
              "      <td>8.9981</td>\n",
              "      <td>4.762174</td>\n",
              "      <td>6.0</td>\n",
              "      <td>6.0</td>\n",
              "      <td>0</td>\n",
              "      <td>1</td>\n",
              "      <td>0</td>\n",
              "      <td>0</td>\n",
              "      <td>0</td>\n",
              "      <td>0</td>\n",
              "    </tr>\n",
              "    <tr>\n",
              "      <th>7729</th>\n",
              "      <td>2.0</td>\n",
              "      <td>31.060</td>\n",
              "      <td>53</td>\n",
              "      <td>19.9995</td>\n",
              "      <td>6.202536</td>\n",
              "      <td>6.0</td>\n",
              "      <td>10.0</td>\n",
              "      <td>0</td>\n",
              "      <td>0</td>\n",
              "      <td>0</td>\n",
              "      <td>0</td>\n",
              "      <td>0</td>\n",
              "      <td>1</td>\n",
              "    </tr>\n",
              "    <tr>\n",
              "      <th>2554</th>\n",
              "      <td>2.0</td>\n",
              "      <td>27.275</td>\n",
              "      <td>49</td>\n",
              "      <td>26.0027</td>\n",
              "      <td>6.188264</td>\n",
              "      <td>6.0</td>\n",
              "      <td>8.0</td>\n",
              "      <td>0</td>\n",
              "      <td>1</td>\n",
              "      <td>0</td>\n",
              "      <td>0</td>\n",
              "      <td>0</td>\n",
              "      <td>0</td>\n",
              "    </tr>\n",
              "    <tr>\n",
              "      <th>6855</th>\n",
              "      <td>2.0</td>\n",
              "      <td>24.240</td>\n",
              "      <td>59</td>\n",
              "      <td>0.0000</td>\n",
              "      <td>4.382027</td>\n",
              "      <td>4.0</td>\n",
              "      <td>23.0</td>\n",
              "      <td>0</td>\n",
              "      <td>1</td>\n",
              "      <td>0</td>\n",
              "      <td>0</td>\n",
              "      <td>0</td>\n",
              "      <td>1</td>\n",
              "    </tr>\n",
              "    <tr>\n",
              "      <th>8134</th>\n",
              "      <td>2.0</td>\n",
              "      <td>28.790</td>\n",
              "      <td>78</td>\n",
              "      <td>8.9981</td>\n",
              "      <td>6.175867</td>\n",
              "      <td>6.0</td>\n",
              "      <td>7.0</td>\n",
              "      <td>0</td>\n",
              "      <td>1</td>\n",
              "      <td>1</td>\n",
              "      <td>0</td>\n",
              "      <td>0</td>\n",
              "      <td>1</td>\n",
              "    </tr>\n",
              "    <tr>\n",
              "      <th>...</th>\n",
              "      <td>...</td>\n",
              "      <td>...</td>\n",
              "      <td>...</td>\n",
              "      <td>...</td>\n",
              "      <td>...</td>\n",
              "      <td>...</td>\n",
              "      <td>...</td>\n",
              "      <td>...</td>\n",
              "      <td>...</td>\n",
              "      <td>...</td>\n",
              "      <td>...</td>\n",
              "      <td>...</td>\n",
              "      <td>...</td>\n",
              "    </tr>\n",
              "    <tr>\n",
              "      <th>3162</th>\n",
              "      <td>3.0</td>\n",
              "      <td>39.395</td>\n",
              "      <td>27</td>\n",
              "      <td>0.0000</td>\n",
              "      <td>5.446737</td>\n",
              "      <td>8.0</td>\n",
              "      <td>16.0</td>\n",
              "      <td>0</td>\n",
              "      <td>1</td>\n",
              "      <td>0</td>\n",
              "      <td>0</td>\n",
              "      <td>0</td>\n",
              "      <td>0</td>\n",
              "    </tr>\n",
              "    <tr>\n",
              "      <th>1373</th>\n",
              "      <td>2.0</td>\n",
              "      <td>13.635</td>\n",
              "      <td>70</td>\n",
              "      <td>8.9981</td>\n",
              "      <td>3.218876</td>\n",
              "      <td>4.0</td>\n",
              "      <td>2.0</td>\n",
              "      <td>0</td>\n",
              "      <td>0</td>\n",
              "      <td>0</td>\n",
              "      <td>0</td>\n",
              "      <td>0</td>\n",
              "      <td>0</td>\n",
              "    </tr>\n",
              "    <tr>\n",
              "      <th>2599</th>\n",
              "      <td>2.0</td>\n",
              "      <td>30.305</td>\n",
              "      <td>64</td>\n",
              "      <td>12.9980</td>\n",
              "      <td>3.258097</td>\n",
              "      <td>6.0</td>\n",
              "      <td>5.0</td>\n",
              "      <td>0</td>\n",
              "      <td>1</td>\n",
              "      <td>0</td>\n",
              "      <td>0</td>\n",
              "      <td>0</td>\n",
              "      <td>0</td>\n",
              "    </tr>\n",
              "    <tr>\n",
              "      <th>2106</th>\n",
              "      <td>2.0</td>\n",
              "      <td>25.760</td>\n",
              "      <td>94</td>\n",
              "      <td>12.9980</td>\n",
              "      <td>5.690359</td>\n",
              "      <td>5.0</td>\n",
              "      <td>16.0</td>\n",
              "      <td>0</td>\n",
              "      <td>0</td>\n",
              "      <td>1</td>\n",
              "      <td>0</td>\n",
              "      <td>0</td>\n",
              "      <td>0</td>\n",
              "    </tr>\n",
              "    <tr>\n",
              "      <th>1234</th>\n",
              "      <td>1.0</td>\n",
              "      <td>15.910</td>\n",
              "      <td>93</td>\n",
              "      <td>7.0015</td>\n",
              "      <td>3.465736</td>\n",
              "      <td>3.0</td>\n",
              "      <td>6.0</td>\n",
              "      <td>0</td>\n",
              "      <td>1</td>\n",
              "      <td>1</td>\n",
              "      <td>0</td>\n",
              "      <td>0</td>\n",
              "      <td>0</td>\n",
              "    </tr>\n",
              "  </tbody>\n",
              "</table>\n",
              "<p>8708 rows × 13 columns</p>\n",
              "</div>"
            ],
            "text/plain": [
              "      season   atemp  humidity  ...  weather_3  weather_4  year_2012\n",
              "2408     2.0  28.790        89  ...          0          0          0\n",
              "7729     2.0  31.060        53  ...          0          0          1\n",
              "2554     2.0  27.275        49  ...          0          0          0\n",
              "6855     2.0  24.240        59  ...          0          0          1\n",
              "8134     2.0  28.790        78  ...          0          0          1\n",
              "...      ...     ...       ...  ...        ...        ...        ...\n",
              "3162     3.0  39.395        27  ...          0          0          0\n",
              "1373     2.0  13.635        70  ...          0          0          0\n",
              "2599     2.0  30.305        64  ...          0          0          0\n",
              "2106     2.0  25.760        94  ...          0          0          0\n",
              "1234     1.0  15.910        93  ...          0          0          0\n",
              "\n",
              "[8708 rows x 13 columns]"
            ]
          },
          "metadata": {
            "tags": []
          },
          "execution_count": 93
        }
      ]
    },
    {
      "cell_type": "code",
      "metadata": {
        "colab": {
          "base_uri": "https://localhost:8080/"
        },
        "id": "z3-tNWZtaFTQ",
        "outputId": "1b611e66-a638-409b-ffc8-2f09b2216cfa"
      },
      "source": [
        "test = pd.get_dummies(test, drop_first=True)\n",
        "test.shape"
      ],
      "execution_count": 94,
      "outputs": [
        {
          "output_type": "execute_result",
          "data": {
            "text/plain": [
              "(2178, 12)"
            ]
          },
          "metadata": {
            "tags": []
          },
          "execution_count": 94
        }
      ]
    },
    {
      "cell_type": "code",
      "metadata": {
        "colab": {
          "base_uri": "https://localhost:8080/",
          "height": 419
        },
        "id": "sf9-g7qPaM-F",
        "outputId": "5c39233c-f8e1-4ca1-a7d6-810aa4f7148a"
      },
      "source": [
        "test"
      ],
      "execution_count": 95,
      "outputs": [
        {
          "output_type": "execute_result",
          "data": {
            "text/html": [
              "<div>\n",
              "<style scoped>\n",
              "    .dataframe tbody tr th:only-of-type {\n",
              "        vertical-align: middle;\n",
              "    }\n",
              "\n",
              "    .dataframe tbody tr th {\n",
              "        vertical-align: top;\n",
              "    }\n",
              "\n",
              "    .dataframe thead th {\n",
              "        text-align: right;\n",
              "    }\n",
              "</style>\n",
              "<table border=\"1\" class=\"dataframe\">\n",
              "  <thead>\n",
              "    <tr style=\"text-align: right;\">\n",
              "      <th></th>\n",
              "      <th>season</th>\n",
              "      <th>atemp</th>\n",
              "      <th>humidity</th>\n",
              "      <th>windspeed</th>\n",
              "      <th>count</th>\n",
              "      <th>month</th>\n",
              "      <th>hour</th>\n",
              "      <th>holiday_1</th>\n",
              "      <th>workingday_1</th>\n",
              "      <th>weather_2</th>\n",
              "      <th>weather_3</th>\n",
              "      <th>year_2012</th>\n",
              "    </tr>\n",
              "  </thead>\n",
              "  <tbody>\n",
              "    <tr>\n",
              "      <th>927</th>\n",
              "      <td>1.0</td>\n",
              "      <td>8.335</td>\n",
              "      <td>27</td>\n",
              "      <td>31.0009</td>\n",
              "      <td>1.386294</td>\n",
              "      <td>3.0</td>\n",
              "      <td>2.0</td>\n",
              "      <td>0</td>\n",
              "      <td>1</td>\n",
              "      <td>0</td>\n",
              "      <td>0</td>\n",
              "      <td>0</td>\n",
              "    </tr>\n",
              "    <tr>\n",
              "      <th>9009</th>\n",
              "      <td>3.0</td>\n",
              "      <td>12.120</td>\n",
              "      <td>38</td>\n",
              "      <td>16.9979</td>\n",
              "      <td>6.507278</td>\n",
              "      <td>8.0</td>\n",
              "      <td>18.0</td>\n",
              "      <td>0</td>\n",
              "      <td>1</td>\n",
              "      <td>1</td>\n",
              "      <td>0</td>\n",
              "      <td>1</td>\n",
              "    </tr>\n",
              "    <tr>\n",
              "      <th>3938</th>\n",
              "      <td>3.0</td>\n",
              "      <td>29.545</td>\n",
              "      <td>73</td>\n",
              "      <td>6.0032</td>\n",
              "      <td>2.197225</td>\n",
              "      <td>9.0</td>\n",
              "      <td>3.0</td>\n",
              "      <td>0</td>\n",
              "      <td>1</td>\n",
              "      <td>0</td>\n",
              "      <td>0</td>\n",
              "      <td>0</td>\n",
              "    </tr>\n",
              "    <tr>\n",
              "      <th>1538</th>\n",
              "      <td>2.0</td>\n",
              "      <td>19.695</td>\n",
              "      <td>87</td>\n",
              "      <td>6.0032</td>\n",
              "      <td>4.060443</td>\n",
              "      <td>4.0</td>\n",
              "      <td>23.0</td>\n",
              "      <td>0</td>\n",
              "      <td>0</td>\n",
              "      <td>1</td>\n",
              "      <td>0</td>\n",
              "      <td>0</td>\n",
              "    </tr>\n",
              "    <tr>\n",
              "      <th>10171</th>\n",
              "      <td>4.0</td>\n",
              "      <td>14.395</td>\n",
              "      <td>56</td>\n",
              "      <td>12.9980</td>\n",
              "      <td>3.332205</td>\n",
              "      <td>11.0</td>\n",
              "      <td>5.0</td>\n",
              "      <td>0</td>\n",
              "      <td>1</td>\n",
              "      <td>0</td>\n",
              "      <td>0</td>\n",
              "      <td>1</td>\n",
              "    </tr>\n",
              "    <tr>\n",
              "      <th>...</th>\n",
              "      <td>...</td>\n",
              "      <td>...</td>\n",
              "      <td>...</td>\n",
              "      <td>...</td>\n",
              "      <td>...</td>\n",
              "      <td>...</td>\n",
              "      <td>...</td>\n",
              "      <td>...</td>\n",
              "      <td>...</td>\n",
              "      <td>...</td>\n",
              "      <td>...</td>\n",
              "      <td>...</td>\n",
              "    </tr>\n",
              "    <tr>\n",
              "      <th>1087</th>\n",
              "      <td>1.0</td>\n",
              "      <td>15.910</td>\n",
              "      <td>87</td>\n",
              "      <td>12.9980</td>\n",
              "      <td>4.521789</td>\n",
              "      <td>3.0</td>\n",
              "      <td>20.0</td>\n",
              "      <td>0</td>\n",
              "      <td>1</td>\n",
              "      <td>1</td>\n",
              "      <td>0</td>\n",
              "      <td>0</td>\n",
              "    </tr>\n",
              "    <tr>\n",
              "      <th>7407</th>\n",
              "      <td>2.0</td>\n",
              "      <td>25.000</td>\n",
              "      <td>52</td>\n",
              "      <td>16.9979</td>\n",
              "      <td>3.663562</td>\n",
              "      <td>5.0</td>\n",
              "      <td>0.0</td>\n",
              "      <td>0</td>\n",
              "      <td>1</td>\n",
              "      <td>1</td>\n",
              "      <td>0</td>\n",
              "      <td>1</td>\n",
              "    </tr>\n",
              "    <tr>\n",
              "      <th>7339</th>\n",
              "      <td>2.0</td>\n",
              "      <td>26.515</td>\n",
              "      <td>88</td>\n",
              "      <td>7.0015</td>\n",
              "      <td>2.302585</td>\n",
              "      <td>5.0</td>\n",
              "      <td>4.0</td>\n",
              "      <td>0</td>\n",
              "      <td>0</td>\n",
              "      <td>0</td>\n",
              "      <td>0</td>\n",
              "      <td>1</td>\n",
              "    </tr>\n",
              "    <tr>\n",
              "      <th>10856</th>\n",
              "      <td>4.0</td>\n",
              "      <td>19.695</td>\n",
              "      <td>46</td>\n",
              "      <td>22.0028</td>\n",
              "      <td>6.265301</td>\n",
              "      <td>12.0</td>\n",
              "      <td>18.0</td>\n",
              "      <td>0</td>\n",
              "      <td>1</td>\n",
              "      <td>0</td>\n",
              "      <td>0</td>\n",
              "      <td>1</td>\n",
              "    </tr>\n",
              "    <tr>\n",
              "      <th>10672</th>\n",
              "      <td>4.0</td>\n",
              "      <td>20.455</td>\n",
              "      <td>66</td>\n",
              "      <td>22.0028</td>\n",
              "      <td>0.693147</td>\n",
              "      <td>12.0</td>\n",
              "      <td>2.0</td>\n",
              "      <td>0</td>\n",
              "      <td>1</td>\n",
              "      <td>1</td>\n",
              "      <td>0</td>\n",
              "      <td>1</td>\n",
              "    </tr>\n",
              "  </tbody>\n",
              "</table>\n",
              "<p>2178 rows × 12 columns</p>\n",
              "</div>"
            ],
            "text/plain": [
              "       season   atemp  humidity  ...  weather_2  weather_3  year_2012\n",
              "927       1.0   8.335        27  ...          0          0          0\n",
              "9009      3.0  12.120        38  ...          1          0          1\n",
              "3938      3.0  29.545        73  ...          0          0          0\n",
              "1538      2.0  19.695        87  ...          1          0          0\n",
              "10171     4.0  14.395        56  ...          0          0          1\n",
              "...       ...     ...       ...  ...        ...        ...        ...\n",
              "1087      1.0  15.910        87  ...          1          0          0\n",
              "7407      2.0  25.000        52  ...          1          0          1\n",
              "7339      2.0  26.515        88  ...          0          0          1\n",
              "10856     4.0  19.695        46  ...          0          0          1\n",
              "10672     4.0  20.455        66  ...          1          0          1\n",
              "\n",
              "[2178 rows x 12 columns]"
            ]
          },
          "metadata": {
            "tags": []
          },
          "execution_count": 95
        }
      ]
    },
    {
      "cell_type": "markdown",
      "metadata": {
        "id": "ZFVPywVSakDj"
      },
      "source": [
        "As we saw above train and test have different shape. We need them to have the same size so we'll apply a inner join in order to let themn with the same quantity of columns"
      ]
    },
    {
      "cell_type": "code",
      "metadata": {
        "id": "9haQV5cNg3I0"
      },
      "source": [
        "train, test = train.align(test, join='inner', axis=1)"
      ],
      "execution_count": 96,
      "outputs": []
    },
    {
      "cell_type": "code",
      "metadata": {
        "id": "oAP5h6Cig566",
        "colab": {
          "base_uri": "https://localhost:8080/"
        },
        "outputId": "2deb30e2-7b6d-486f-b6bc-4d1694af1ad1"
      },
      "source": [
        "train.shape"
      ],
      "execution_count": 97,
      "outputs": [
        {
          "output_type": "execute_result",
          "data": {
            "text/plain": [
              "(8708, 12)"
            ]
          },
          "metadata": {
            "tags": []
          },
          "execution_count": 97
        }
      ]
    },
    {
      "cell_type": "code",
      "metadata": {
        "id": "ybbmdrsJg6mK",
        "colab": {
          "base_uri": "https://localhost:8080/"
        },
        "outputId": "a3e3847e-9a50-4b6f-845d-ff9deabfc6c9"
      },
      "source": [
        "test.shape"
      ],
      "execution_count": 98,
      "outputs": [
        {
          "output_type": "execute_result",
          "data": {
            "text/plain": [
              "(2178, 12)"
            ]
          },
          "metadata": {
            "tags": []
          },
          "execution_count": 98
        }
      ]
    },
    {
      "cell_type": "code",
      "metadata": {
        "id": "T556dWQ6hGdd",
        "colab": {
          "base_uri": "https://localhost:8080/"
        },
        "outputId": "05320a88-cd78-44cd-fcfe-23393207abd2"
      },
      "source": [
        "# Visualize all the features that have missing values\n",
        "train_missing = train.isna().sum() / train.shape[0]\n",
        "train_missing[train_missing > 0.0].sort_values(ascending=False)"
      ],
      "execution_count": 99,
      "outputs": [
        {
          "output_type": "execute_result",
          "data": {
            "text/plain": [
              "Series([], dtype: float64)"
            ]
          },
          "metadata": {
            "tags": []
          },
          "execution_count": 99
        }
      ]
    },
    {
      "cell_type": "code",
      "metadata": {
        "id": "jICK8tMMhAwo",
        "colab": {
          "base_uri": "https://localhost:8080/"
        },
        "outputId": "7422a9ee-477d-4b4c-9a8c-254e52a1a171"
      },
      "source": [
        "# Visualize all the features that have missing values\n",
        "test_missing = test.isna().sum() / test.shape[0]\n",
        "test_missing[test_missing > 0.0].sort_values(ascending=False)"
      ],
      "execution_count": 100,
      "outputs": [
        {
          "output_type": "execute_result",
          "data": {
            "text/plain": [
              "Series([], dtype: float64)"
            ]
          },
          "metadata": {
            "tags": []
          },
          "execution_count": 100
        }
      ]
    },
    {
      "cell_type": "code",
      "metadata": {
        "colab": {
          "base_uri": "https://localhost:8080/"
        },
        "id": "tf-r7slUkBqC",
        "outputId": "94563e56-1aeb-4736-8c4d-a64be330475d"
      },
      "source": [
        "y_train=train['count']\n",
        "X_train=train.drop([\"count\"], axis=1)\n",
        "y_test=test[\"count\"]\n",
        "X_test=test.drop([\"count\"], axis=1)\n",
        "\n",
        "print(X_train.shape)\n",
        "print(y_train.shape)\n",
        "print(X_test.shape)\n",
        "print(y_test.shape)\n",
        "\n"
      ],
      "execution_count": 101,
      "outputs": [
        {
          "output_type": "stream",
          "text": [
            "(8708, 11)\n",
            "(8708,)\n",
            "(2178, 11)\n",
            "(2178,)\n"
          ],
          "name": "stdout"
        }
      ]
    },
    {
      "cell_type": "markdown",
      "metadata": {
        "id": "TqexpksK205_"
      },
      "source": [
        "**Models**"
      ]
    },
    {
      "cell_type": "code",
      "metadata": {
        "id": "aN0fysW023NS"
      },
      "source": [
        "def mean_absolute_percentage_error(y_true, y_pred):\n",
        "    y_true, y_pred = np.array(y_true), np.array(y_pred)\n",
        "    return np.mean(np.abs((y_true - y_pred) / y_true)) * 100"
      ],
      "execution_count": 102,
      "outputs": []
    },
    {
      "cell_type": "markdown",
      "metadata": {
        "id": "kibayGWI26C4"
      },
      "source": [
        "**Linear Regression**"
      ]
    },
    {
      "cell_type": "code",
      "metadata": {
        "colab": {
          "base_uri": "https://localhost:8080/"
        },
        "id": "yPyPXOZi66FR",
        "outputId": "aacfa19c-c333-4c09-a6ff-a25741507df9"
      },
      "source": [
        "lr=linear_model.LinearRegression()\n",
        "lr.fit(X_train,y_train)\n",
        "y_pred_train = lr.predict(X_train)\n",
        "y_pred_test = lr.predict(X_test)\n",
        "mse_train = mean_squared_error(y_train,y_pred_train)\n",
        "rmse_train = sqrt(mse_train)\n",
        "mape_train = mean_absolute_percentage_error(y_train, y_pred_train)\n",
        "\n",
        "print(\"MSE train: \" + str(mse_train))\n",
        "print(\"RMSE train: \" + str(rmse_train))\n",
        "print(\"MAPE train: \" + str(mape_train))\n",
        "\n",
        "mse_test = mean_squared_error(y_test,y_pred_test)\n",
        "rmse_test = sqrt(mse_test)\n",
        "mape_test = mean_absolute_percentage_error(y_test, y_pred_test)\n",
        "\n",
        "print(\"MSE test: \" + str(mse_test))\n",
        "print(\"RMSE test: \" + str(rmse_test))\n",
        "print(\"MAPE test: \" + str(mape_test))\n"
      ],
      "execution_count": 103,
      "outputs": [
        {
          "output_type": "stream",
          "text": [
            "MSE train: 1.016685490663572\n",
            "RMSE train: 1.0083082319725314\n",
            "MAPE train: 25.911151580843576\n",
            "MSE test: 1.054731833920801\n",
            "RMSE test: 1.0270013797073503\n",
            "MAPE test: 27.77703030417985\n"
          ],
          "name": "stdout"
        }
      ]
    },
    {
      "cell_type": "markdown",
      "metadata": {
        "id": "JEXDzNir3H3E"
      },
      "source": [
        "**Random Forest**"
      ]
    },
    {
      "cell_type": "code",
      "metadata": {
        "colab": {
          "base_uri": "https://localhost:8080/"
        },
        "id": "nyU8Qcdq69LU",
        "outputId": "713a4e15-c2cc-49fe-ab35-f4d818d53fcc"
      },
      "source": [
        "rfc = RandomForestRegressor()\n",
        "rfc.fit(X_train, y_train)\n",
        "y_pred_train = rfc.predict(X_train)\n",
        "y_pred_test = rfc.predict(X_test)\n",
        "\n",
        "mse_train = mean_squared_error(y_train,y_pred_train)\n",
        "rmse_train = sqrt(mse_train)\n",
        "mape_train = mean_absolute_percentage_error(y_train, y_pred_train)\n",
        "\n",
        "print(\"MSE train: \" + str(mse_train))\n",
        "print(\"RMSE train: \" + str(rmse_train))\n",
        "print(\"MAPE train: \" + str(mape_train))\n",
        "\n",
        "mse_test = mean_squared_error(y_test,y_pred_test)\n",
        "rmse_test = sqrt(mse_test)\n",
        "mape_test = mean_absolute_percentage_error(y_test, y_pred_test)\n",
        "\n",
        "print(\"MSE test: \" + str(mse_test))\n",
        "print(\"RMSE test: \" + str(rmse_test))\n",
        "print(\"MAPE test: \" + str(mape_test))\n"
      ],
      "execution_count": 104,
      "outputs": [
        {
          "output_type": "stream",
          "text": [
            "MSE train: 0.015410849811702137\n",
            "RMSE train: 0.12414044390005272\n",
            "MAPE train: 2.7892593355576203\n",
            "MSE test: 0.10921463426813789\n",
            "RMSE test: 0.33047637475035624\n",
            "MAPE test: 7.774338265390064\n"
          ],
          "name": "stdout"
        }
      ]
    },
    {
      "cell_type": "code",
      "metadata": {
        "colab": {
          "base_uri": "https://localhost:8080/"
        },
        "id": "WbfFt93M76VY",
        "outputId": "025b5f86-512b-4e04-9100-74ab26a70714"
      },
      "source": [
        "train.columns"
      ],
      "execution_count": 105,
      "outputs": [
        {
          "output_type": "execute_result",
          "data": {
            "text/plain": [
              "Index(['season', 'atemp', 'humidity', 'windspeed', 'count', 'month', 'hour',\n",
              "       'holiday_1', 'workingday_1', 'weather_2', 'weather_3', 'year_2012'],\n",
              "      dtype='object')"
            ]
          },
          "metadata": {
            "tags": []
          },
          "execution_count": 105
        }
      ]
    },
    {
      "cell_type": "code",
      "metadata": {
        "colab": {
          "base_uri": "https://localhost:8080/"
        },
        "id": "7kegR84qyBDc",
        "outputId": "4509d4c2-d547-41c1-e33b-3cd55127e751"
      },
      "source": [
        "feature_list = ['season', 'atemp', 'humidity', 'windspeed', 'month', 'hour',\n",
        "       'holiday_1', 'workingday_1', 'weather_2', 'weather_3', 'year_2012']\n",
        "# Get numerical feature importances\n",
        "importances = list(rfc.feature_importances_)\n",
        "\n",
        "# List of tuples with variable and importance\n",
        "feature_importances = [(feature, round(importance, 2)) for feature, importance in zip(feature_list, importances)]\n",
        "\n",
        "# Sort the feature importances by most important first\n",
        "feature_importances = sorted(feature_importances, key = lambda x: x[1], reverse = True)\n",
        "\n",
        "# Print out the feature and importances \n",
        "[print('Variable: {:20} Importance: {}'.format(*pair)) for pair in feature_importances if (pair[1] > 0.0)];"
      ],
      "execution_count": 106,
      "outputs": [
        {
          "output_type": "stream",
          "text": [
            "Variable: hour                 Importance: 0.76\n",
            "Variable: atemp                Importance: 0.06\n",
            "Variable: workingday_1         Importance: 0.05\n",
            "Variable: month                Importance: 0.04\n",
            "Variable: year_2012            Importance: 0.03\n",
            "Variable: humidity             Importance: 0.02\n",
            "Variable: season               Importance: 0.01\n",
            "Variable: windspeed            Importance: 0.01\n",
            "Variable: weather_3            Importance: 0.01\n"
          ],
          "name": "stdout"
        }
      ]
    },
    {
      "cell_type": "code",
      "metadata": {
        "id": "uwC3Xw0j7MqS"
      },
      "source": [
        "new_train = train[['hour', 'atemp', 'month', 'workingday_1', \n",
        "                   'humidity', 'year_2012', 'season', 'count']]\n",
        "\n",
        "new_test = test[['hour', 'atemp', 'month', 'workingday_1', \n",
        "                   'humidity', 'year_2012', 'season', 'count']]"
      ],
      "execution_count": 107,
      "outputs": []
    },
    {
      "cell_type": "code",
      "metadata": {
        "colab": {
          "base_uri": "https://localhost:8080/"
        },
        "id": "9aeGM71_8rdt",
        "outputId": "b7ddb764-2179-49b2-d2a5-61b57ce0515b"
      },
      "source": [
        "y_train_new = new_train['count']\n",
        "X_train_new = new_train.drop([\"count\"], axis=1)\n",
        "y_test_new = new_test['count']\n",
        "X_test_new = new_test.drop([\"count\"], axis=1)\n",
        "print(X_train_new.shape)\n",
        "print(X_test_new.shape)\n",
        "print(y_train_new.shape)\n",
        "print(y_test_new.shape)"
      ],
      "execution_count": 108,
      "outputs": [
        {
          "output_type": "stream",
          "text": [
            "(8708, 7)\n",
            "(2178, 7)\n",
            "(8708,)\n",
            "(2178,)\n"
          ],
          "name": "stdout"
        }
      ]
    },
    {
      "cell_type": "code",
      "metadata": {
        "colab": {
          "base_uri": "https://localhost:8080/"
        },
        "id": "Hv8n75mu9Nkf",
        "outputId": "74a68002-568e-4d32-ac84-4b41ae76366e"
      },
      "source": [
        "rfc = RandomForestRegressor()\n",
        "rfc.fit(X_train_new, y_train_new)\n",
        "y_pred_train = rfc.predict(X_train_new)\n",
        "y_pred_test = rfc.predict(X_test_new)\n",
        "\n",
        "mse_train = mean_squared_error(y_train_new,y_pred_train)\n",
        "rmse_train = sqrt(mse_train)\n",
        "mape_train = mean_absolute_percentage_error(y_train_new, y_pred_train)\n",
        "\n",
        "print(\"MSE train: \" + str(mse_train))\n",
        "print(\"RMSE train: \" + str(rmse_train))\n",
        "print(\"MAPE train: \" + str(mape_train))\n",
        "\n",
        "mse_test = mean_squared_error(y_test_new,y_pred_test)\n",
        "rmse_test = sqrt(mse_test)\n",
        "mape_test = mean_absolute_percentage_error(y_test_new, y_pred_test)\n",
        "\n",
        "print(\"MSE test: \" + str(mse_test))\n",
        "print(\"RMSE test: \" + str(rmse_test))\n",
        "print(\"MAPE test: \" + str(mape_test))"
      ],
      "execution_count": 109,
      "outputs": [
        {
          "output_type": "stream",
          "text": [
            "MSE train: 0.019352963594158373\n",
            "RMSE train: 0.13911492944381768\n",
            "MAPE train: 3.0348796244904443\n",
            "MSE test: 0.1208985316379137\n",
            "RMSE test: 0.34770466151306295\n",
            "MAPE test: 8.031929414011465\n"
          ],
          "name": "stdout"
        }
      ]
    },
    {
      "cell_type": "markdown",
      "metadata": {
        "id": "asEeCoM63o8w"
      },
      "source": [
        "In order to find the better combination of parameters we'll use RandomizedSearch over GridSearch as it's more efficient."
      ]
    },
    {
      "cell_type": "code",
      "metadata": {
        "id": "cgjoxlMJ9YEo"
      },
      "source": [
        "# Number of trees in random forest\n",
        "n_estimators = [int(x) for x in np.linspace(start = 200, stop = 2000, num = 10)]\n",
        "# Number of features to consider at every split\n",
        "max_features = ['auto', 'sqrt']\n",
        "# Maximum number of levels in tree\n",
        "max_depth = [int(x) for x in np.linspace(10, 110, num = 11)]\n",
        "max_depth.append(None)\n",
        "# Minimum number of samples required to split a node\n",
        "min_samples_split = [2, 5, 10]\n",
        "# Minimum number of samples required at each leaf node\n",
        "min_samples_leaf = [1, 2, 4]\n",
        "# Method of selecting samples for training each tree\n",
        "bootstrap = [True, False]\n",
        "# Create the random grid\n",
        "random_grid = {'n_estimators': n_estimators,\n",
        "               'max_features': max_features,\n",
        "               'max_depth': max_depth,\n",
        "               'min_samples_split': min_samples_split,\n",
        "               'min_samples_leaf': min_samples_leaf,\n",
        "               'bootstrap': bootstrap}\n",
        "\n",
        "\n",
        "# Use the random grid to search for best hyperparameters\n",
        "# First create the base model to tune\n",
        "rf = RandomForestRegressor()\n",
        "# Random search of parameters, using 3 fold cross validation, \n",
        "# search across 100 different combinations, and use all available cores\n",
        "rf_random = RandomizedSearchCV(estimator = rf, param_distributions = random_grid, n_iter = 50, cv = 3, verbose=2, n_jobs = -1)"
      ],
      "execution_count": 51,
      "outputs": []
    },
    {
      "cell_type": "code",
      "metadata": {
        "colab": {
          "base_uri": "https://localhost:8080/"
        },
        "id": "sT9ijhbl3y0g",
        "outputId": "26c38bf0-878d-499f-b027-c4e8c7f85209"
      },
      "source": [
        "rf_random.fit(X_train, y_train)\n",
        "rf_random.best_params_"
      ],
      "execution_count": 52,
      "outputs": [
        {
          "output_type": "stream",
          "text": [
            "Fitting 3 folds for each of 50 candidates, totalling 150 fits\n"
          ],
          "name": "stdout"
        },
        {
          "output_type": "stream",
          "text": [
            "A worker stopped while some jobs were given to the executor. This can be caused by a too short worker timeout or by a memory leak.\n"
          ],
          "name": "stderr"
        },
        {
          "output_type": "execute_result",
          "data": {
            "text/plain": [
              "{'bootstrap': True,\n",
              " 'max_depth': 20,\n",
              " 'max_features': 'auto',\n",
              " 'min_samples_leaf': 1,\n",
              " 'min_samples_split': 5,\n",
              " 'n_estimators': 200}"
            ]
          },
          "metadata": {
            "tags": []
          },
          "execution_count": 52
        }
      ]
    },
    {
      "cell_type": "code",
      "metadata": {
        "id": "zkWkDMw631A6",
        "colab": {
          "base_uri": "https://localhost:8080/"
        },
        "outputId": "67dc552a-7f30-424a-db6d-43db0116bbb4"
      },
      "source": [
        "rfc = RandomForestRegressor(n_estimators = 200, bootstrap = True, max_depth = 20, max_features = 'auto', min_samples_leaf = 1, min_samples_split = 5)\n",
        "rfc.fit(X_train, y_train)\n",
        "y_pred_train = rfc.predict(X_train)\n",
        "y_pred_test = rfc.predict(X_test)\n",
        "\n",
        "mse_train = mean_squared_error(y_train,y_pred_train)\n",
        "rmse_train = sqrt(mse_train)\n",
        "mape_train = mean_absolute_percentage_error(y_train, y_pred_train)\n",
        "\n",
        "print(\"MSE train: \" + str(mse_train))\n",
        "print(\"RMSE train: \" + str(rmse_train))\n",
        "print(\"MAPE train: \" + str(mape_train))\n",
        "\n",
        "mse_test = mean_squared_error(y_test,y_pred_test)\n",
        "rmse_test = sqrt(mse_test)\n",
        "mape_test = mean_absolute_percentage_error(y_test, y_pred_test)\n",
        "\n",
        "print(\"MSE test: \" + str(mse_test))\n",
        "print(\"RMSE test: \" + str(rmse_test))\n",
        "print(\"MAPE test: \" + str(mape_test))"
      ],
      "execution_count": 52,
      "outputs": [
        {
          "output_type": "stream",
          "text": [
            "MSE train: 0.02762164462957704\n",
            "RMSE train: 0.16619760717163481\n",
            "MAPE train: 3.7878583590679\n",
            "MSE test: 0.10403119662276081\n",
            "RMSE test: 0.322538674615558\n",
            "MAPE test: 6.945307444868051\n"
          ],
          "name": "stdout"
        }
      ]
    },
    {
      "cell_type": "markdown",
      "metadata": {
        "id": "oaXX0KFE4EOv"
      },
      "source": [
        "**Gradient Boosting**"
      ]
    },
    {
      "cell_type": "code",
      "metadata": {
        "id": "OagZkjDm4Gvx",
        "colab": {
          "base_uri": "https://localhost:8080/"
        },
        "outputId": "80beb2a8-512d-4702-df7e-3f0e83807559"
      },
      "source": [
        "grad_boost = GradientBoostingRegressor()\n",
        "grad_boost.fit(X_train, y_train)\n",
        "y_pred_train = grad_boost.predict(X_train)\n",
        "y_pred_test = grad_boost.predict(X_test)\n",
        "\n",
        "mse_train = mean_squared_error(y_train,y_pred_train)\n",
        "rmse_train = sqrt(mse_train)\n",
        "mape_train = mean_absolute_percentage_error(y_train, y_pred_train)\n",
        "\n",
        "print(\"MSE train: \" + str(mse_train))\n",
        "print(\"RMSE train: \" + str(rmse_train))\n",
        "print(\"MAPE train: \" + str(mape_train))\n",
        "\n",
        "mse_test = mean_squared_error(y_test,y_pred_test)\n",
        "rmse_test = sqrt(mse_test)\n",
        "mape_test = mean_absolute_percentage_error(y_test, y_pred_test)\n",
        "\n",
        "print(\"MSE test: \" + str(mse_test))\n",
        "print(\"RMSE test: \" + str(rmse_test))\n",
        "print(\"MAPE test: \" + str(mape_test))"
      ],
      "execution_count": 110,
      "outputs": [
        {
          "output_type": "stream",
          "text": [
            "MSE train: 0.1525343668286336\n",
            "RMSE train: 0.39055648353168276\n",
            "MAPE train: 9.225102710031004\n",
            "MSE test: 0.1584228088172006\n",
            "RMSE test: 0.39802362846595\n",
            "MAPE test: 9.769757763735596\n"
          ],
          "name": "stdout"
        }
      ]
    },
    {
      "cell_type": "markdown",
      "metadata": {
        "id": "xOegdjap4QE-"
      },
      "source": [
        "**XGB Regressor**"
      ]
    },
    {
      "cell_type": "code",
      "metadata": {
        "id": "UVqtgNMs4nKv",
        "colab": {
          "base_uri": "https://localhost:8080/"
        },
        "outputId": "1bf22cf0-41ee-4f8d-ae48-769b1c955f58"
      },
      "source": [
        "xgb = xgboost.XGBRegressor() \n",
        "\n",
        "xgb.fit(X_train, y_train)\n",
        "y_pred_train = xgb.predict(X_train)\n",
        "y_pred_test = xgb.predict(X_test)\n",
        "\n",
        "mse_train = mean_squared_error(y_train,y_pred_train)\n",
        "rmse_train = sqrt(mse_train)\n",
        "mape_train = mean_absolute_percentage_error(y_train, y_pred_train)\n",
        "\n",
        "print(\"MSE train: \" + str(mse_train))\n",
        "print(\"RMSE train: \" + str(rmse_train))\n",
        "print(\"MAPE train: \" + str(mape_train))\n",
        "\n",
        "mse_test = mean_squared_error(y_test,y_pred_test)\n",
        "rmse_test = sqrt(mse_test)\n",
        "mape_test = mean_absolute_percentage_error(y_test, y_pred_test)\n",
        "\n",
        "print(\"MSE test: \" + str(mse_test))\n",
        "print(\"RMSE test: \" + str(rmse_test))\n",
        "print(\"MAPE test: \" + str(mape_test))"
      ],
      "execution_count": 111,
      "outputs": [
        {
          "output_type": "stream",
          "text": [
            "[16:47:51] WARNING: /workspace/src/objective/regression_obj.cu:152: reg:linear is now deprecated in favor of reg:squarederror.\n",
            "MSE train: 0.13485409184949607\n",
            "RMSE train: 0.36722485189526055\n",
            "MAPE train: 8.719720277988205\n",
            "MSE test: 0.14270231916000317\n",
            "RMSE test: 0.3777596049870912\n",
            "MAPE test: 9.31469391746638\n"
          ],
          "name": "stdout"
        }
      ]
    },
    {
      "cell_type": "markdown",
      "metadata": {
        "id": "r4P-ASlG4lUW"
      },
      "source": [
        "**CatBoost Regressor**"
      ]
    },
    {
      "cell_type": "code",
      "metadata": {
        "id": "uS53QO4g4p-x",
        "colab": {
          "base_uri": "https://localhost:8080/"
        },
        "outputId": "bdcb5e19-06ee-4522-b7c0-ecd97fd76263"
      },
      "source": [
        "cat_model = catboost.CatBoostRegressor()\n",
        "\n",
        "\n",
        "cat_model.fit(X_train, y_train)\n",
        "y_pred_train = cat_model.predict(X_train)\n",
        "y_pred_test = cat_model.predict(X_test)\n",
        "\n",
        "mse_train = mean_squared_error(y_train,y_pred_train)\n",
        "rmse_train = sqrt(mse_train)\n",
        "mape_train = mean_absolute_percentage_error(y_train, y_pred_train)\n",
        "\n",
        "print(\"MSE train: \" + str(mse_train))\n",
        "print(\"RMSE train: \" + str(rmse_train))\n",
        "print(\"MAPE train: \" + str(mape_train))\n",
        "\n",
        "mse_test = mean_squared_error(y_test,y_pred_test)\n",
        "rmse_test = sqrt(mse_test)\n",
        "mape_test = mean_absolute_percentage_error(y_test, y_pred_test)\n",
        "\n",
        "print(\"MSE test: \" + str(mse_test))\n",
        "print(\"RMSE test: \" + str(rmse_test))\n",
        "print(\"MAPE test: \" + str(mape_test))"
      ],
      "execution_count": 112,
      "outputs": [
        {
          "output_type": "stream",
          "text": [
            "Learning rate set to 0.057373\n",
            "0:\tlearn: 1.3525272\ttotal: 2.26ms\tremaining: 2.26s\n",
            "1:\tlearn: 1.2991023\ttotal: 3.98ms\tremaining: 1.99s\n",
            "2:\tlearn: 1.2533342\ttotal: 5.66ms\tremaining: 1.88s\n",
            "3:\tlearn: 1.2053313\ttotal: 7.37ms\tremaining: 1.83s\n",
            "4:\tlearn: 1.1638913\ttotal: 9.18ms\tremaining: 1.83s\n",
            "5:\tlearn: 1.1226640\ttotal: 11ms\tremaining: 1.82s\n",
            "6:\tlearn: 1.0833606\ttotal: 12.8ms\tremaining: 1.81s\n",
            "7:\tlearn: 1.0443713\ttotal: 14.7ms\tremaining: 1.82s\n",
            "8:\tlearn: 1.0107555\ttotal: 16.4ms\tremaining: 1.81s\n",
            "9:\tlearn: 0.9798700\ttotal: 18.3ms\tremaining: 1.81s\n",
            "10:\tlearn: 0.9492482\ttotal: 20.1ms\tremaining: 1.81s\n",
            "11:\tlearn: 0.9217414\ttotal: 21.8ms\tremaining: 1.79s\n",
            "12:\tlearn: 0.8964356\ttotal: 23.5ms\tremaining: 1.78s\n",
            "13:\tlearn: 0.8685120\ttotal: 25.1ms\tremaining: 1.77s\n",
            "14:\tlearn: 0.8452828\ttotal: 26.8ms\tremaining: 1.76s\n",
            "15:\tlearn: 0.8199263\ttotal: 28.7ms\tremaining: 1.77s\n",
            "16:\tlearn: 0.7964432\ttotal: 30.4ms\tremaining: 1.76s\n",
            "17:\tlearn: 0.7781544\ttotal: 32.1ms\tremaining: 1.75s\n",
            "18:\tlearn: 0.7613842\ttotal: 33.8ms\tremaining: 1.74s\n",
            "19:\tlearn: 0.7404160\ttotal: 35.4ms\tremaining: 1.74s\n",
            "20:\tlearn: 0.7224210\ttotal: 37.3ms\tremaining: 1.74s\n",
            "21:\tlearn: 0.7075460\ttotal: 39ms\tremaining: 1.73s\n",
            "22:\tlearn: 0.6944855\ttotal: 40.8ms\tremaining: 1.73s\n",
            "23:\tlearn: 0.6826646\ttotal: 42.4ms\tremaining: 1.73s\n",
            "24:\tlearn: 0.6661501\ttotal: 44.3ms\tremaining: 1.73s\n",
            "25:\tlearn: 0.6558863\ttotal: 46.1ms\tremaining: 1.73s\n",
            "26:\tlearn: 0.6363629\ttotal: 47.9ms\tremaining: 1.73s\n",
            "27:\tlearn: 0.6192611\ttotal: 49.7ms\tremaining: 1.72s\n",
            "28:\tlearn: 0.6084424\ttotal: 51.4ms\tremaining: 1.72s\n",
            "29:\tlearn: 0.6004561\ttotal: 53.2ms\tremaining: 1.72s\n",
            "30:\tlearn: 0.5923039\ttotal: 55ms\tremaining: 1.72s\n",
            "31:\tlearn: 0.5769069\ttotal: 57ms\tremaining: 1.72s\n",
            "32:\tlearn: 0.5692227\ttotal: 58.7ms\tremaining: 1.72s\n",
            "33:\tlearn: 0.5569759\ttotal: 60.6ms\tremaining: 1.72s\n",
            "34:\tlearn: 0.5507402\ttotal: 62.3ms\tremaining: 1.72s\n",
            "35:\tlearn: 0.5381796\ttotal: 64.2ms\tremaining: 1.72s\n",
            "36:\tlearn: 0.5302742\ttotal: 66.2ms\tremaining: 1.72s\n",
            "37:\tlearn: 0.5245312\ttotal: 68.1ms\tremaining: 1.72s\n",
            "38:\tlearn: 0.5195404\ttotal: 69.8ms\tremaining: 1.72s\n",
            "39:\tlearn: 0.5086326\ttotal: 71.8ms\tremaining: 1.72s\n",
            "40:\tlearn: 0.5042858\ttotal: 73.6ms\tremaining: 1.72s\n",
            "41:\tlearn: 0.5001021\ttotal: 75.6ms\tremaining: 1.72s\n",
            "42:\tlearn: 0.4935420\ttotal: 77.1ms\tremaining: 1.72s\n",
            "43:\tlearn: 0.4860812\ttotal: 78.9ms\tremaining: 1.71s\n",
            "44:\tlearn: 0.4826303\ttotal: 80.5ms\tremaining: 1.71s\n",
            "45:\tlearn: 0.4749500\ttotal: 82.2ms\tremaining: 1.7s\n",
            "46:\tlearn: 0.4716949\ttotal: 84.1ms\tremaining: 1.71s\n",
            "47:\tlearn: 0.4632022\ttotal: 85.9ms\tremaining: 1.7s\n",
            "48:\tlearn: 0.4583600\ttotal: 87.5ms\tremaining: 1.7s\n",
            "49:\tlearn: 0.4547532\ttotal: 89.2ms\tremaining: 1.69s\n",
            "50:\tlearn: 0.4505879\ttotal: 90.8ms\tremaining: 1.69s\n",
            "51:\tlearn: 0.4438536\ttotal: 92.4ms\tremaining: 1.68s\n",
            "52:\tlearn: 0.4372579\ttotal: 94.3ms\tremaining: 1.69s\n",
            "53:\tlearn: 0.4324632\ttotal: 96ms\tremaining: 1.68s\n",
            "54:\tlearn: 0.4289150\ttotal: 97.7ms\tremaining: 1.68s\n",
            "55:\tlearn: 0.4265919\ttotal: 99.5ms\tremaining: 1.68s\n",
            "56:\tlearn: 0.4241163\ttotal: 102ms\tremaining: 1.68s\n",
            "57:\tlearn: 0.4220191\ttotal: 103ms\tremaining: 1.68s\n",
            "58:\tlearn: 0.4172116\ttotal: 105ms\tremaining: 1.68s\n",
            "59:\tlearn: 0.4149119\ttotal: 107ms\tremaining: 1.67s\n",
            "60:\tlearn: 0.4114199\ttotal: 108ms\tremaining: 1.67s\n",
            "61:\tlearn: 0.4097948\ttotal: 110ms\tremaining: 1.67s\n",
            "62:\tlearn: 0.4079235\ttotal: 112ms\tremaining: 1.67s\n",
            "63:\tlearn: 0.4065619\ttotal: 114ms\tremaining: 1.67s\n",
            "64:\tlearn: 0.4047719\ttotal: 116ms\tremaining: 1.66s\n",
            "65:\tlearn: 0.4010540\ttotal: 117ms\tremaining: 1.66s\n",
            "66:\tlearn: 0.3979834\ttotal: 119ms\tremaining: 1.66s\n",
            "67:\tlearn: 0.3948062\ttotal: 121ms\tremaining: 1.66s\n",
            "68:\tlearn: 0.3925017\ttotal: 123ms\tremaining: 1.65s\n",
            "69:\tlearn: 0.3911366\ttotal: 124ms\tremaining: 1.65s\n",
            "70:\tlearn: 0.3875116\ttotal: 126ms\tremaining: 1.65s\n",
            "71:\tlearn: 0.3864569\ttotal: 128ms\tremaining: 1.64s\n",
            "72:\tlearn: 0.3829780\ttotal: 129ms\tremaining: 1.64s\n",
            "73:\tlearn: 0.3806769\ttotal: 131ms\tremaining: 1.64s\n",
            "74:\tlearn: 0.3781122\ttotal: 133ms\tremaining: 1.64s\n",
            "75:\tlearn: 0.3772420\ttotal: 134ms\tremaining: 1.63s\n",
            "76:\tlearn: 0.3763439\ttotal: 136ms\tremaining: 1.63s\n",
            "77:\tlearn: 0.3749290\ttotal: 138ms\tremaining: 1.63s\n",
            "78:\tlearn: 0.3738216\ttotal: 139ms\tremaining: 1.63s\n",
            "79:\tlearn: 0.3726587\ttotal: 141ms\tremaining: 1.62s\n",
            "80:\tlearn: 0.3706894\ttotal: 143ms\tremaining: 1.62s\n",
            "81:\tlearn: 0.3679768\ttotal: 144ms\tremaining: 1.62s\n",
            "82:\tlearn: 0.3672470\ttotal: 146ms\tremaining: 1.61s\n",
            "83:\tlearn: 0.3665004\ttotal: 148ms\tremaining: 1.61s\n",
            "84:\tlearn: 0.3657478\ttotal: 150ms\tremaining: 1.61s\n",
            "85:\tlearn: 0.3646139\ttotal: 151ms\tremaining: 1.61s\n",
            "86:\tlearn: 0.3637026\ttotal: 153ms\tremaining: 1.61s\n",
            "87:\tlearn: 0.3622287\ttotal: 155ms\tremaining: 1.61s\n",
            "88:\tlearn: 0.3616727\ttotal: 157ms\tremaining: 1.6s\n",
            "89:\tlearn: 0.3609683\ttotal: 158ms\tremaining: 1.6s\n",
            "90:\tlearn: 0.3605202\ttotal: 160ms\tremaining: 1.6s\n",
            "91:\tlearn: 0.3579104\ttotal: 162ms\tremaining: 1.6s\n",
            "92:\tlearn: 0.3559038\ttotal: 163ms\tremaining: 1.59s\n",
            "93:\tlearn: 0.3552934\ttotal: 165ms\tremaining: 1.59s\n",
            "94:\tlearn: 0.3539139\ttotal: 167ms\tremaining: 1.59s\n",
            "95:\tlearn: 0.3521399\ttotal: 169ms\tremaining: 1.59s\n",
            "96:\tlearn: 0.3516176\ttotal: 170ms\tremaining: 1.58s\n",
            "97:\tlearn: 0.3511328\ttotal: 172ms\tremaining: 1.58s\n",
            "98:\tlearn: 0.3502802\ttotal: 173ms\tremaining: 1.58s\n",
            "99:\tlearn: 0.3490342\ttotal: 175ms\tremaining: 1.58s\n",
            "100:\tlearn: 0.3481580\ttotal: 177ms\tremaining: 1.57s\n",
            "101:\tlearn: 0.3474942\ttotal: 179ms\tremaining: 1.57s\n",
            "102:\tlearn: 0.3472118\ttotal: 182ms\tremaining: 1.58s\n",
            "103:\tlearn: 0.3458121\ttotal: 184ms\tremaining: 1.58s\n",
            "104:\tlearn: 0.3454589\ttotal: 185ms\tremaining: 1.58s\n",
            "105:\tlearn: 0.3451246\ttotal: 188ms\tremaining: 1.59s\n",
            "106:\tlearn: 0.3446876\ttotal: 191ms\tremaining: 1.59s\n",
            "107:\tlearn: 0.3439738\ttotal: 193ms\tremaining: 1.6s\n",
            "108:\tlearn: 0.3423266\ttotal: 198ms\tremaining: 1.61s\n",
            "109:\tlearn: 0.3414311\ttotal: 199ms\tremaining: 1.61s\n",
            "110:\tlearn: 0.3411437\ttotal: 201ms\tremaining: 1.61s\n",
            "111:\tlearn: 0.3404445\ttotal: 203ms\tremaining: 1.6s\n",
            "112:\tlearn: 0.3394597\ttotal: 204ms\tremaining: 1.6s\n",
            "113:\tlearn: 0.3390320\ttotal: 206ms\tremaining: 1.6s\n",
            "114:\tlearn: 0.3387532\ttotal: 208ms\tremaining: 1.6s\n",
            "115:\tlearn: 0.3384564\ttotal: 209ms\tremaining: 1.59s\n",
            "116:\tlearn: 0.3379841\ttotal: 211ms\tremaining: 1.59s\n",
            "117:\tlearn: 0.3375543\ttotal: 212ms\tremaining: 1.59s\n",
            "118:\tlearn: 0.3362549\ttotal: 214ms\tremaining: 1.58s\n",
            "119:\tlearn: 0.3355711\ttotal: 216ms\tremaining: 1.58s\n",
            "120:\tlearn: 0.3341441\ttotal: 218ms\tremaining: 1.58s\n",
            "121:\tlearn: 0.3328798\ttotal: 219ms\tremaining: 1.58s\n",
            "122:\tlearn: 0.3322780\ttotal: 221ms\tremaining: 1.57s\n",
            "123:\tlearn: 0.3320134\ttotal: 223ms\tremaining: 1.57s\n",
            "124:\tlearn: 0.3315235\ttotal: 224ms\tremaining: 1.57s\n",
            "125:\tlearn: 0.3310326\ttotal: 226ms\tremaining: 1.57s\n",
            "126:\tlearn: 0.3298045\ttotal: 228ms\tremaining: 1.56s\n",
            "127:\tlearn: 0.3294897\ttotal: 229ms\tremaining: 1.56s\n",
            "128:\tlearn: 0.3290705\ttotal: 231ms\tremaining: 1.56s\n",
            "129:\tlearn: 0.3283959\ttotal: 233ms\tremaining: 1.56s\n",
            "130:\tlearn: 0.3277875\ttotal: 235ms\tremaining: 1.56s\n",
            "131:\tlearn: 0.3274471\ttotal: 237ms\tremaining: 1.55s\n",
            "132:\tlearn: 0.3271041\ttotal: 238ms\tremaining: 1.55s\n",
            "133:\tlearn: 0.3265319\ttotal: 240ms\tremaining: 1.55s\n",
            "134:\tlearn: 0.3260862\ttotal: 242ms\tremaining: 1.55s\n",
            "135:\tlearn: 0.3255407\ttotal: 244ms\tremaining: 1.55s\n",
            "136:\tlearn: 0.3251901\ttotal: 246ms\tremaining: 1.55s\n",
            "137:\tlearn: 0.3249404\ttotal: 247ms\tremaining: 1.54s\n",
            "138:\tlearn: 0.3245522\ttotal: 249ms\tremaining: 1.54s\n",
            "139:\tlearn: 0.3241484\ttotal: 251ms\tremaining: 1.54s\n",
            "140:\tlearn: 0.3231606\ttotal: 253ms\tremaining: 1.54s\n",
            "141:\tlearn: 0.3227043\ttotal: 254ms\tremaining: 1.54s\n",
            "142:\tlearn: 0.3222020\ttotal: 256ms\tremaining: 1.53s\n",
            "143:\tlearn: 0.3219100\ttotal: 258ms\tremaining: 1.53s\n",
            "144:\tlearn: 0.3214276\ttotal: 259ms\tremaining: 1.53s\n",
            "145:\tlearn: 0.3207923\ttotal: 261ms\tremaining: 1.53s\n",
            "146:\tlearn: 0.3205353\ttotal: 263ms\tremaining: 1.53s\n",
            "147:\tlearn: 0.3203527\ttotal: 265ms\tremaining: 1.52s\n",
            "148:\tlearn: 0.3197783\ttotal: 267ms\tremaining: 1.52s\n",
            "149:\tlearn: 0.3192384\ttotal: 268ms\tremaining: 1.52s\n",
            "150:\tlearn: 0.3186970\ttotal: 270ms\tremaining: 1.52s\n",
            "151:\tlearn: 0.3184397\ttotal: 272ms\tremaining: 1.52s\n",
            "152:\tlearn: 0.3180903\ttotal: 274ms\tremaining: 1.52s\n",
            "153:\tlearn: 0.3178244\ttotal: 276ms\tremaining: 1.51s\n",
            "154:\tlearn: 0.3175288\ttotal: 278ms\tremaining: 1.51s\n",
            "155:\tlearn: 0.3173296\ttotal: 279ms\tremaining: 1.51s\n",
            "156:\tlearn: 0.3169291\ttotal: 282ms\tremaining: 1.51s\n",
            "157:\tlearn: 0.3163485\ttotal: 283ms\tremaining: 1.51s\n",
            "158:\tlearn: 0.3157547\ttotal: 285ms\tremaining: 1.51s\n",
            "159:\tlearn: 0.3155168\ttotal: 287ms\tremaining: 1.5s\n",
            "160:\tlearn: 0.3150046\ttotal: 288ms\tremaining: 1.5s\n",
            "161:\tlearn: 0.3148166\ttotal: 290ms\tremaining: 1.5s\n",
            "162:\tlearn: 0.3145779\ttotal: 292ms\tremaining: 1.5s\n",
            "163:\tlearn: 0.3143566\ttotal: 293ms\tremaining: 1.5s\n",
            "164:\tlearn: 0.3139855\ttotal: 295ms\tremaining: 1.49s\n",
            "165:\tlearn: 0.3135510\ttotal: 297ms\tremaining: 1.49s\n",
            "166:\tlearn: 0.3131269\ttotal: 299ms\tremaining: 1.49s\n",
            "167:\tlearn: 0.3124701\ttotal: 300ms\tremaining: 1.49s\n",
            "168:\tlearn: 0.3122935\ttotal: 302ms\tremaining: 1.49s\n",
            "169:\tlearn: 0.3116248\ttotal: 304ms\tremaining: 1.48s\n",
            "170:\tlearn: 0.3113636\ttotal: 306ms\tremaining: 1.48s\n",
            "171:\tlearn: 0.3110260\ttotal: 307ms\tremaining: 1.48s\n",
            "172:\tlearn: 0.3107559\ttotal: 309ms\tremaining: 1.48s\n",
            "173:\tlearn: 0.3105049\ttotal: 311ms\tremaining: 1.48s\n",
            "174:\tlearn: 0.3099329\ttotal: 313ms\tremaining: 1.48s\n",
            "175:\tlearn: 0.3096529\ttotal: 315ms\tremaining: 1.48s\n",
            "176:\tlearn: 0.3094450\ttotal: 317ms\tremaining: 1.47s\n",
            "177:\tlearn: 0.3091434\ttotal: 319ms\tremaining: 1.47s\n",
            "178:\tlearn: 0.3089984\ttotal: 320ms\tremaining: 1.47s\n",
            "179:\tlearn: 0.3087765\ttotal: 322ms\tremaining: 1.47s\n",
            "180:\tlearn: 0.3082809\ttotal: 324ms\tremaining: 1.47s\n",
            "181:\tlearn: 0.3080291\ttotal: 326ms\tremaining: 1.46s\n",
            "182:\tlearn: 0.3077315\ttotal: 328ms\tremaining: 1.46s\n",
            "183:\tlearn: 0.3073909\ttotal: 330ms\tremaining: 1.46s\n",
            "184:\tlearn: 0.3070982\ttotal: 332ms\tremaining: 1.46s\n",
            "185:\tlearn: 0.3066922\ttotal: 334ms\tremaining: 1.46s\n",
            "186:\tlearn: 0.3063781\ttotal: 336ms\tremaining: 1.46s\n",
            "187:\tlearn: 0.3061475\ttotal: 337ms\tremaining: 1.46s\n",
            "188:\tlearn: 0.3060233\ttotal: 339ms\tremaining: 1.46s\n",
            "189:\tlearn: 0.3057764\ttotal: 341ms\tremaining: 1.46s\n",
            "190:\tlearn: 0.3055739\ttotal: 343ms\tremaining: 1.45s\n",
            "191:\tlearn: 0.3051754\ttotal: 345ms\tremaining: 1.45s\n",
            "192:\tlearn: 0.3050159\ttotal: 347ms\tremaining: 1.45s\n",
            "193:\tlearn: 0.3048656\ttotal: 349ms\tremaining: 1.45s\n",
            "194:\tlearn: 0.3046073\ttotal: 351ms\tremaining: 1.45s\n",
            "195:\tlearn: 0.3043092\ttotal: 353ms\tremaining: 1.45s\n",
            "196:\tlearn: 0.3040335\ttotal: 355ms\tremaining: 1.45s\n",
            "197:\tlearn: 0.3037769\ttotal: 356ms\tremaining: 1.44s\n",
            "198:\tlearn: 0.3035866\ttotal: 358ms\tremaining: 1.44s\n",
            "199:\tlearn: 0.3032105\ttotal: 360ms\tremaining: 1.44s\n",
            "200:\tlearn: 0.3029942\ttotal: 362ms\tremaining: 1.44s\n",
            "201:\tlearn: 0.3025913\ttotal: 364ms\tremaining: 1.44s\n",
            "202:\tlearn: 0.3023263\ttotal: 366ms\tremaining: 1.44s\n",
            "203:\tlearn: 0.3019627\ttotal: 368ms\tremaining: 1.44s\n",
            "204:\tlearn: 0.3017207\ttotal: 370ms\tremaining: 1.43s\n",
            "205:\tlearn: 0.3015006\ttotal: 372ms\tremaining: 1.43s\n",
            "206:\tlearn: 0.3012277\ttotal: 374ms\tremaining: 1.43s\n",
            "207:\tlearn: 0.3010329\ttotal: 376ms\tremaining: 1.43s\n",
            "208:\tlearn: 0.3006912\ttotal: 378ms\tremaining: 1.43s\n",
            "209:\tlearn: 0.3004785\ttotal: 379ms\tremaining: 1.43s\n",
            "210:\tlearn: 0.3002150\ttotal: 381ms\tremaining: 1.43s\n",
            "211:\tlearn: 0.3000654\ttotal: 384ms\tremaining: 1.43s\n",
            "212:\tlearn: 0.2998117\ttotal: 387ms\tremaining: 1.43s\n",
            "213:\tlearn: 0.2994632\ttotal: 390ms\tremaining: 1.43s\n",
            "214:\tlearn: 0.2992273\ttotal: 392ms\tremaining: 1.43s\n",
            "215:\tlearn: 0.2989408\ttotal: 394ms\tremaining: 1.43s\n",
            "216:\tlearn: 0.2988423\ttotal: 396ms\tremaining: 1.43s\n",
            "217:\tlearn: 0.2986949\ttotal: 398ms\tremaining: 1.43s\n",
            "218:\tlearn: 0.2985457\ttotal: 399ms\tremaining: 1.42s\n",
            "219:\tlearn: 0.2983259\ttotal: 401ms\tremaining: 1.42s\n",
            "220:\tlearn: 0.2980625\ttotal: 403ms\tremaining: 1.42s\n",
            "221:\tlearn: 0.2978670\ttotal: 405ms\tremaining: 1.42s\n",
            "222:\tlearn: 0.2976615\ttotal: 407ms\tremaining: 1.42s\n",
            "223:\tlearn: 0.2974260\ttotal: 408ms\tremaining: 1.41s\n",
            "224:\tlearn: 0.2970173\ttotal: 410ms\tremaining: 1.41s\n",
            "225:\tlearn: 0.2968229\ttotal: 412ms\tremaining: 1.41s\n",
            "226:\tlearn: 0.2966446\ttotal: 414ms\tremaining: 1.41s\n",
            "227:\tlearn: 0.2963262\ttotal: 415ms\tremaining: 1.41s\n",
            "228:\tlearn: 0.2961596\ttotal: 417ms\tremaining: 1.4s\n",
            "229:\tlearn: 0.2960347\ttotal: 419ms\tremaining: 1.4s\n",
            "230:\tlearn: 0.2959440\ttotal: 421ms\tremaining: 1.4s\n",
            "231:\tlearn: 0.2958242\ttotal: 422ms\tremaining: 1.4s\n",
            "232:\tlearn: 0.2955683\ttotal: 424ms\tremaining: 1.4s\n",
            "233:\tlearn: 0.2954141\ttotal: 426ms\tremaining: 1.39s\n",
            "234:\tlearn: 0.2953063\ttotal: 427ms\tremaining: 1.39s\n",
            "235:\tlearn: 0.2951901\ttotal: 429ms\tremaining: 1.39s\n",
            "236:\tlearn: 0.2950678\ttotal: 431ms\tremaining: 1.39s\n",
            "237:\tlearn: 0.2949534\ttotal: 432ms\tremaining: 1.38s\n",
            "238:\tlearn: 0.2947162\ttotal: 436ms\tremaining: 1.39s\n",
            "239:\tlearn: 0.2943677\ttotal: 437ms\tremaining: 1.38s\n",
            "240:\tlearn: 0.2942546\ttotal: 439ms\tremaining: 1.38s\n",
            "241:\tlearn: 0.2939846\ttotal: 441ms\tremaining: 1.38s\n",
            "242:\tlearn: 0.2938349\ttotal: 442ms\tremaining: 1.38s\n",
            "243:\tlearn: 0.2936635\ttotal: 444ms\tremaining: 1.38s\n",
            "244:\tlearn: 0.2935559\ttotal: 446ms\tremaining: 1.37s\n",
            "245:\tlearn: 0.2933938\ttotal: 447ms\tremaining: 1.37s\n",
            "246:\tlearn: 0.2931673\ttotal: 449ms\tremaining: 1.37s\n",
            "247:\tlearn: 0.2929329\ttotal: 451ms\tremaining: 1.37s\n",
            "248:\tlearn: 0.2927606\ttotal: 452ms\tremaining: 1.36s\n",
            "249:\tlearn: 0.2926785\ttotal: 454ms\tremaining: 1.36s\n",
            "250:\tlearn: 0.2925192\ttotal: 455ms\tremaining: 1.36s\n",
            "251:\tlearn: 0.2923290\ttotal: 457ms\tremaining: 1.36s\n",
            "252:\tlearn: 0.2920942\ttotal: 459ms\tremaining: 1.35s\n",
            "253:\tlearn: 0.2919520\ttotal: 460ms\tremaining: 1.35s\n",
            "254:\tlearn: 0.2916474\ttotal: 462ms\tremaining: 1.35s\n",
            "255:\tlearn: 0.2913586\ttotal: 463ms\tremaining: 1.35s\n",
            "256:\tlearn: 0.2911875\ttotal: 465ms\tremaining: 1.34s\n",
            "257:\tlearn: 0.2909894\ttotal: 467ms\tremaining: 1.34s\n",
            "258:\tlearn: 0.2907149\ttotal: 468ms\tremaining: 1.34s\n",
            "259:\tlearn: 0.2906142\ttotal: 470ms\tremaining: 1.34s\n",
            "260:\tlearn: 0.2905292\ttotal: 471ms\tremaining: 1.33s\n",
            "261:\tlearn: 0.2903491\ttotal: 475ms\tremaining: 1.34s\n",
            "262:\tlearn: 0.2902210\ttotal: 477ms\tremaining: 1.34s\n",
            "263:\tlearn: 0.2899752\ttotal: 479ms\tremaining: 1.33s\n",
            "264:\tlearn: 0.2897884\ttotal: 480ms\tremaining: 1.33s\n",
            "265:\tlearn: 0.2895905\ttotal: 482ms\tremaining: 1.33s\n",
            "266:\tlearn: 0.2893455\ttotal: 483ms\tremaining: 1.33s\n",
            "267:\tlearn: 0.2891955\ttotal: 485ms\tremaining: 1.32s\n",
            "268:\tlearn: 0.2891128\ttotal: 487ms\tremaining: 1.32s\n",
            "269:\tlearn: 0.2890057\ttotal: 488ms\tremaining: 1.32s\n",
            "270:\tlearn: 0.2888729\ttotal: 490ms\tremaining: 1.32s\n",
            "271:\tlearn: 0.2886314\ttotal: 491ms\tremaining: 1.31s\n",
            "272:\tlearn: 0.2884950\ttotal: 493ms\tremaining: 1.31s\n",
            "273:\tlearn: 0.2884096\ttotal: 495ms\tremaining: 1.31s\n",
            "274:\tlearn: 0.2882376\ttotal: 496ms\tremaining: 1.31s\n",
            "275:\tlearn: 0.2880205\ttotal: 498ms\tremaining: 1.31s\n",
            "276:\tlearn: 0.2879050\ttotal: 500ms\tremaining: 1.3s\n",
            "277:\tlearn: 0.2877331\ttotal: 501ms\tremaining: 1.3s\n",
            "278:\tlearn: 0.2875975\ttotal: 503ms\tremaining: 1.3s\n",
            "279:\tlearn: 0.2874646\ttotal: 507ms\tremaining: 1.3s\n",
            "280:\tlearn: 0.2872542\ttotal: 509ms\tremaining: 1.3s\n",
            "281:\tlearn: 0.2871088\ttotal: 510ms\tremaining: 1.3s\n",
            "282:\tlearn: 0.2869928\ttotal: 512ms\tremaining: 1.3s\n",
            "283:\tlearn: 0.2868015\ttotal: 515ms\tremaining: 1.3s\n",
            "284:\tlearn: 0.2866138\ttotal: 516ms\tremaining: 1.29s\n",
            "285:\tlearn: 0.2865382\ttotal: 518ms\tremaining: 1.29s\n",
            "286:\tlearn: 0.2863862\ttotal: 519ms\tremaining: 1.29s\n",
            "287:\tlearn: 0.2861818\ttotal: 521ms\tremaining: 1.29s\n",
            "288:\tlearn: 0.2860775\ttotal: 523ms\tremaining: 1.28s\n",
            "289:\tlearn: 0.2860117\ttotal: 524ms\tremaining: 1.28s\n",
            "290:\tlearn: 0.2858585\ttotal: 526ms\tremaining: 1.28s\n",
            "291:\tlearn: 0.2857416\ttotal: 527ms\tremaining: 1.28s\n",
            "292:\tlearn: 0.2856236\ttotal: 529ms\tremaining: 1.28s\n",
            "293:\tlearn: 0.2854012\ttotal: 531ms\tremaining: 1.27s\n",
            "294:\tlearn: 0.2852919\ttotal: 532ms\tremaining: 1.27s\n",
            "295:\tlearn: 0.2852620\ttotal: 534ms\tremaining: 1.27s\n",
            "296:\tlearn: 0.2850708\ttotal: 537ms\tremaining: 1.27s\n",
            "297:\tlearn: 0.2849105\ttotal: 538ms\tremaining: 1.27s\n",
            "298:\tlearn: 0.2848109\ttotal: 540ms\tremaining: 1.26s\n",
            "299:\tlearn: 0.2847432\ttotal: 541ms\tremaining: 1.26s\n",
            "300:\tlearn: 0.2845822\ttotal: 543ms\tremaining: 1.26s\n",
            "301:\tlearn: 0.2844299\ttotal: 545ms\tremaining: 1.26s\n",
            "302:\tlearn: 0.2843083\ttotal: 547ms\tremaining: 1.26s\n",
            "303:\tlearn: 0.2841674\ttotal: 548ms\tremaining: 1.25s\n",
            "304:\tlearn: 0.2840459\ttotal: 550ms\tremaining: 1.25s\n",
            "305:\tlearn: 0.2838687\ttotal: 552ms\tremaining: 1.25s\n",
            "306:\tlearn: 0.2837055\ttotal: 554ms\tremaining: 1.25s\n",
            "307:\tlearn: 0.2834620\ttotal: 556ms\tremaining: 1.25s\n",
            "308:\tlearn: 0.2834121\ttotal: 557ms\tremaining: 1.25s\n",
            "309:\tlearn: 0.2832699\ttotal: 559ms\tremaining: 1.24s\n",
            "310:\tlearn: 0.2831631\ttotal: 560ms\tremaining: 1.24s\n",
            "311:\tlearn: 0.2830839\ttotal: 562ms\tremaining: 1.24s\n",
            "312:\tlearn: 0.2829416\ttotal: 564ms\tremaining: 1.24s\n",
            "313:\tlearn: 0.2828649\ttotal: 565ms\tremaining: 1.24s\n",
            "314:\tlearn: 0.2828385\ttotal: 567ms\tremaining: 1.23s\n",
            "315:\tlearn: 0.2826772\ttotal: 569ms\tremaining: 1.23s\n",
            "316:\tlearn: 0.2825214\ttotal: 570ms\tremaining: 1.23s\n",
            "317:\tlearn: 0.2823912\ttotal: 572ms\tremaining: 1.23s\n",
            "318:\tlearn: 0.2822193\ttotal: 574ms\tremaining: 1.22s\n",
            "319:\tlearn: 0.2820450\ttotal: 575ms\tremaining: 1.22s\n",
            "320:\tlearn: 0.2819114\ttotal: 577ms\tremaining: 1.22s\n",
            "321:\tlearn: 0.2818445\ttotal: 583ms\tremaining: 1.23s\n",
            "322:\tlearn: 0.2816995\ttotal: 585ms\tremaining: 1.23s\n",
            "323:\tlearn: 0.2814774\ttotal: 587ms\tremaining: 1.22s\n",
            "324:\tlearn: 0.2814287\ttotal: 588ms\tremaining: 1.22s\n",
            "325:\tlearn: 0.2812624\ttotal: 590ms\tremaining: 1.22s\n",
            "326:\tlearn: 0.2811791\ttotal: 592ms\tremaining: 1.22s\n",
            "327:\tlearn: 0.2810681\ttotal: 594ms\tremaining: 1.22s\n",
            "328:\tlearn: 0.2808830\ttotal: 595ms\tremaining: 1.21s\n",
            "329:\tlearn: 0.2807655\ttotal: 597ms\tremaining: 1.21s\n",
            "330:\tlearn: 0.2806174\ttotal: 599ms\tremaining: 1.21s\n",
            "331:\tlearn: 0.2805455\ttotal: 601ms\tremaining: 1.21s\n",
            "332:\tlearn: 0.2803783\ttotal: 602ms\tremaining: 1.21s\n",
            "333:\tlearn: 0.2802518\ttotal: 604ms\tremaining: 1.2s\n",
            "334:\tlearn: 0.2800440\ttotal: 606ms\tremaining: 1.2s\n",
            "335:\tlearn: 0.2798820\ttotal: 608ms\tremaining: 1.2s\n",
            "336:\tlearn: 0.2797740\ttotal: 610ms\tremaining: 1.2s\n",
            "337:\tlearn: 0.2796401\ttotal: 611ms\tremaining: 1.2s\n",
            "338:\tlearn: 0.2794839\ttotal: 613ms\tremaining: 1.2s\n",
            "339:\tlearn: 0.2793627\ttotal: 615ms\tremaining: 1.19s\n",
            "340:\tlearn: 0.2792410\ttotal: 616ms\tremaining: 1.19s\n",
            "341:\tlearn: 0.2791698\ttotal: 618ms\tremaining: 1.19s\n",
            "342:\tlearn: 0.2790617\ttotal: 620ms\tremaining: 1.19s\n",
            "343:\tlearn: 0.2789381\ttotal: 622ms\tremaining: 1.19s\n",
            "344:\tlearn: 0.2787161\ttotal: 623ms\tremaining: 1.18s\n",
            "345:\tlearn: 0.2786599\ttotal: 625ms\tremaining: 1.18s\n",
            "346:\tlearn: 0.2785829\ttotal: 627ms\tremaining: 1.18s\n",
            "347:\tlearn: 0.2784897\ttotal: 628ms\tremaining: 1.18s\n",
            "348:\tlearn: 0.2784068\ttotal: 630ms\tremaining: 1.18s\n",
            "349:\tlearn: 0.2783281\ttotal: 632ms\tremaining: 1.17s\n",
            "350:\tlearn: 0.2781283\ttotal: 633ms\tremaining: 1.17s\n",
            "351:\tlearn: 0.2780769\ttotal: 635ms\tremaining: 1.17s\n",
            "352:\tlearn: 0.2779768\ttotal: 637ms\tremaining: 1.17s\n",
            "353:\tlearn: 0.2778818\ttotal: 639ms\tremaining: 1.17s\n",
            "354:\tlearn: 0.2777701\ttotal: 640ms\tremaining: 1.16s\n",
            "355:\tlearn: 0.2776960\ttotal: 642ms\tremaining: 1.16s\n",
            "356:\tlearn: 0.2776293\ttotal: 644ms\tremaining: 1.16s\n",
            "357:\tlearn: 0.2773754\ttotal: 646ms\tremaining: 1.16s\n",
            "358:\tlearn: 0.2772781\ttotal: 647ms\tremaining: 1.16s\n",
            "359:\tlearn: 0.2771145\ttotal: 649ms\tremaining: 1.15s\n",
            "360:\tlearn: 0.2769926\ttotal: 651ms\tremaining: 1.15s\n",
            "361:\tlearn: 0.2769667\ttotal: 652ms\tremaining: 1.15s\n",
            "362:\tlearn: 0.2768318\ttotal: 653ms\tremaining: 1.15s\n",
            "363:\tlearn: 0.2766404\ttotal: 655ms\tremaining: 1.15s\n",
            "364:\tlearn: 0.2765193\ttotal: 657ms\tremaining: 1.14s\n",
            "365:\tlearn: 0.2763123\ttotal: 659ms\tremaining: 1.14s\n",
            "366:\tlearn: 0.2761532\ttotal: 660ms\tremaining: 1.14s\n",
            "367:\tlearn: 0.2760053\ttotal: 662ms\tremaining: 1.14s\n",
            "368:\tlearn: 0.2759065\ttotal: 664ms\tremaining: 1.13s\n",
            "369:\tlearn: 0.2758147\ttotal: 666ms\tremaining: 1.13s\n",
            "370:\tlearn: 0.2757217\ttotal: 670ms\tremaining: 1.14s\n",
            "371:\tlearn: 0.2756540\ttotal: 673ms\tremaining: 1.14s\n",
            "372:\tlearn: 0.2756369\ttotal: 675ms\tremaining: 1.13s\n",
            "373:\tlearn: 0.2755631\ttotal: 677ms\tremaining: 1.13s\n",
            "374:\tlearn: 0.2754895\ttotal: 678ms\tremaining: 1.13s\n",
            "375:\tlearn: 0.2753839\ttotal: 680ms\tremaining: 1.13s\n",
            "376:\tlearn: 0.2752398\ttotal: 682ms\tremaining: 1.13s\n",
            "377:\tlearn: 0.2751324\ttotal: 684ms\tremaining: 1.13s\n",
            "378:\tlearn: 0.2750202\ttotal: 685ms\tremaining: 1.12s\n",
            "379:\tlearn: 0.2749123\ttotal: 687ms\tremaining: 1.12s\n",
            "380:\tlearn: 0.2747960\ttotal: 689ms\tremaining: 1.12s\n",
            "381:\tlearn: 0.2747479\ttotal: 691ms\tremaining: 1.12s\n",
            "382:\tlearn: 0.2745235\ttotal: 693ms\tremaining: 1.11s\n",
            "383:\tlearn: 0.2743681\ttotal: 694ms\tremaining: 1.11s\n",
            "384:\tlearn: 0.2741908\ttotal: 696ms\tremaining: 1.11s\n",
            "385:\tlearn: 0.2741357\ttotal: 698ms\tremaining: 1.11s\n",
            "386:\tlearn: 0.2740717\ttotal: 700ms\tremaining: 1.11s\n",
            "387:\tlearn: 0.2739993\ttotal: 701ms\tremaining: 1.11s\n",
            "388:\tlearn: 0.2738616\ttotal: 703ms\tremaining: 1.1s\n",
            "389:\tlearn: 0.2737455\ttotal: 705ms\tremaining: 1.1s\n",
            "390:\tlearn: 0.2736018\ttotal: 707ms\tremaining: 1.1s\n",
            "391:\tlearn: 0.2734867\ttotal: 708ms\tremaining: 1.1s\n",
            "392:\tlearn: 0.2733509\ttotal: 710ms\tremaining: 1.1s\n",
            "393:\tlearn: 0.2732346\ttotal: 712ms\tremaining: 1.09s\n",
            "394:\tlearn: 0.2732164\ttotal: 714ms\tremaining: 1.09s\n",
            "395:\tlearn: 0.2730860\ttotal: 716ms\tremaining: 1.09s\n",
            "396:\tlearn: 0.2729624\ttotal: 717ms\tremaining: 1.09s\n",
            "397:\tlearn: 0.2728867\ttotal: 719ms\tremaining: 1.09s\n",
            "398:\tlearn: 0.2727627\ttotal: 721ms\tremaining: 1.09s\n",
            "399:\tlearn: 0.2725448\ttotal: 723ms\tremaining: 1.08s\n",
            "400:\tlearn: 0.2724905\ttotal: 724ms\tremaining: 1.08s\n",
            "401:\tlearn: 0.2723721\ttotal: 726ms\tremaining: 1.08s\n",
            "402:\tlearn: 0.2721216\ttotal: 728ms\tremaining: 1.08s\n",
            "403:\tlearn: 0.2720065\ttotal: 730ms\tremaining: 1.08s\n",
            "404:\tlearn: 0.2719393\ttotal: 732ms\tremaining: 1.07s\n",
            "405:\tlearn: 0.2718996\ttotal: 734ms\tremaining: 1.07s\n",
            "406:\tlearn: 0.2717740\ttotal: 735ms\tremaining: 1.07s\n",
            "407:\tlearn: 0.2715451\ttotal: 737ms\tremaining: 1.07s\n",
            "408:\tlearn: 0.2714628\ttotal: 739ms\tremaining: 1.07s\n",
            "409:\tlearn: 0.2714042\ttotal: 741ms\tremaining: 1.06s\n",
            "410:\tlearn: 0.2713370\ttotal: 743ms\tremaining: 1.06s\n",
            "411:\tlearn: 0.2712747\ttotal: 745ms\tremaining: 1.06s\n",
            "412:\tlearn: 0.2711549\ttotal: 752ms\tremaining: 1.07s\n",
            "413:\tlearn: 0.2710595\ttotal: 754ms\tremaining: 1.07s\n",
            "414:\tlearn: 0.2710353\ttotal: 756ms\tremaining: 1.06s\n",
            "415:\tlearn: 0.2709414\ttotal: 757ms\tremaining: 1.06s\n",
            "416:\tlearn: 0.2708756\ttotal: 759ms\tremaining: 1.06s\n",
            "417:\tlearn: 0.2707911\ttotal: 761ms\tremaining: 1.06s\n",
            "418:\tlearn: 0.2706179\ttotal: 763ms\tremaining: 1.06s\n",
            "419:\tlearn: 0.2705889\ttotal: 764ms\tremaining: 1.05s\n",
            "420:\tlearn: 0.2705039\ttotal: 766ms\tremaining: 1.05s\n",
            "421:\tlearn: 0.2704031\ttotal: 768ms\tremaining: 1.05s\n",
            "422:\tlearn: 0.2702206\ttotal: 770ms\tremaining: 1.05s\n",
            "423:\tlearn: 0.2701503\ttotal: 773ms\tremaining: 1.05s\n",
            "424:\tlearn: 0.2701019\ttotal: 777ms\tremaining: 1.05s\n",
            "425:\tlearn: 0.2698823\ttotal: 785ms\tremaining: 1.06s\n",
            "426:\tlearn: 0.2698309\ttotal: 787ms\tremaining: 1.06s\n",
            "427:\tlearn: 0.2697159\ttotal: 790ms\tremaining: 1.05s\n",
            "428:\tlearn: 0.2696212\ttotal: 793ms\tremaining: 1.05s\n",
            "429:\tlearn: 0.2695024\ttotal: 794ms\tremaining: 1.05s\n",
            "430:\tlearn: 0.2693875\ttotal: 796ms\tremaining: 1.05s\n",
            "431:\tlearn: 0.2691306\ttotal: 798ms\tremaining: 1.05s\n",
            "432:\tlearn: 0.2689297\ttotal: 800ms\tremaining: 1.05s\n",
            "433:\tlearn: 0.2687906\ttotal: 801ms\tremaining: 1.04s\n",
            "434:\tlearn: 0.2687705\ttotal: 803ms\tremaining: 1.04s\n",
            "435:\tlearn: 0.2687470\ttotal: 805ms\tremaining: 1.04s\n",
            "436:\tlearn: 0.2686180\ttotal: 806ms\tremaining: 1.04s\n",
            "437:\tlearn: 0.2685102\ttotal: 808ms\tremaining: 1.04s\n",
            "438:\tlearn: 0.2684052\ttotal: 810ms\tremaining: 1.03s\n",
            "439:\tlearn: 0.2682967\ttotal: 811ms\tremaining: 1.03s\n",
            "440:\tlearn: 0.2681908\ttotal: 813ms\tremaining: 1.03s\n",
            "441:\tlearn: 0.2680155\ttotal: 815ms\tremaining: 1.03s\n",
            "442:\tlearn: 0.2678698\ttotal: 816ms\tremaining: 1.03s\n",
            "443:\tlearn: 0.2678096\ttotal: 818ms\tremaining: 1.02s\n",
            "444:\tlearn: 0.2676508\ttotal: 820ms\tremaining: 1.02s\n",
            "445:\tlearn: 0.2675713\ttotal: 821ms\tremaining: 1.02s\n",
            "446:\tlearn: 0.2674516\ttotal: 823ms\tremaining: 1.02s\n",
            "447:\tlearn: 0.2673753\ttotal: 825ms\tremaining: 1.02s\n",
            "448:\tlearn: 0.2672667\ttotal: 826ms\tremaining: 1.01s\n",
            "449:\tlearn: 0.2672297\ttotal: 828ms\tremaining: 1.01s\n",
            "450:\tlearn: 0.2671351\ttotal: 830ms\tremaining: 1.01s\n",
            "451:\tlearn: 0.2669979\ttotal: 831ms\tremaining: 1.01s\n",
            "452:\tlearn: 0.2669142\ttotal: 833ms\tremaining: 1s\n",
            "453:\tlearn: 0.2668189\ttotal: 835ms\tremaining: 1s\n",
            "454:\tlearn: 0.2666966\ttotal: 836ms\tremaining: 1s\n",
            "455:\tlearn: 0.2666550\ttotal: 838ms\tremaining: 1000ms\n",
            "456:\tlearn: 0.2664971\ttotal: 840ms\tremaining: 998ms\n",
            "457:\tlearn: 0.2664342\ttotal: 841ms\tremaining: 996ms\n",
            "458:\tlearn: 0.2663962\ttotal: 843ms\tremaining: 994ms\n",
            "459:\tlearn: 0.2663399\ttotal: 845ms\tremaining: 991ms\n",
            "460:\tlearn: 0.2661752\ttotal: 846ms\tremaining: 989ms\n",
            "461:\tlearn: 0.2660553\ttotal: 848ms\tremaining: 987ms\n",
            "462:\tlearn: 0.2659474\ttotal: 850ms\tremaining: 985ms\n",
            "463:\tlearn: 0.2658350\ttotal: 851ms\tremaining: 984ms\n",
            "464:\tlearn: 0.2656745\ttotal: 853ms\tremaining: 981ms\n",
            "465:\tlearn: 0.2656332\ttotal: 854ms\tremaining: 979ms\n",
            "466:\tlearn: 0.2655415\ttotal: 856ms\tremaining: 977ms\n",
            "467:\tlearn: 0.2655164\ttotal: 858ms\tremaining: 975ms\n",
            "468:\tlearn: 0.2654139\ttotal: 859ms\tremaining: 973ms\n",
            "469:\tlearn: 0.2653625\ttotal: 861ms\tremaining: 971ms\n",
            "470:\tlearn: 0.2652933\ttotal: 863ms\tremaining: 969ms\n",
            "471:\tlearn: 0.2652548\ttotal: 864ms\tremaining: 967ms\n",
            "472:\tlearn: 0.2652277\ttotal: 866ms\tremaining: 965ms\n",
            "473:\tlearn: 0.2650849\ttotal: 868ms\tremaining: 963ms\n",
            "474:\tlearn: 0.2649262\ttotal: 869ms\tremaining: 961ms\n",
            "475:\tlearn: 0.2647572\ttotal: 871ms\tremaining: 959ms\n",
            "476:\tlearn: 0.2646452\ttotal: 873ms\tremaining: 957ms\n",
            "477:\tlearn: 0.2645602\ttotal: 874ms\tremaining: 955ms\n",
            "478:\tlearn: 0.2643860\ttotal: 876ms\tremaining: 953ms\n",
            "479:\tlearn: 0.2643328\ttotal: 878ms\tremaining: 951ms\n",
            "480:\tlearn: 0.2642357\ttotal: 880ms\tremaining: 949ms\n",
            "481:\tlearn: 0.2641816\ttotal: 881ms\tremaining: 947ms\n",
            "482:\tlearn: 0.2641683\ttotal: 883ms\tremaining: 945ms\n",
            "483:\tlearn: 0.2640831\ttotal: 885ms\tremaining: 943ms\n",
            "484:\tlearn: 0.2639762\ttotal: 887ms\tremaining: 941ms\n",
            "485:\tlearn: 0.2639615\ttotal: 888ms\tremaining: 939ms\n",
            "486:\tlearn: 0.2638974\ttotal: 890ms\tremaining: 937ms\n",
            "487:\tlearn: 0.2638494\ttotal: 892ms\tremaining: 935ms\n",
            "488:\tlearn: 0.2637321\ttotal: 893ms\tremaining: 934ms\n",
            "489:\tlearn: 0.2637095\ttotal: 895ms\tremaining: 932ms\n",
            "490:\tlearn: 0.2636187\ttotal: 897ms\tremaining: 930ms\n",
            "491:\tlearn: 0.2635860\ttotal: 899ms\tremaining: 928ms\n",
            "492:\tlearn: 0.2635793\ttotal: 900ms\tremaining: 926ms\n",
            "493:\tlearn: 0.2634959\ttotal: 902ms\tremaining: 924ms\n",
            "494:\tlearn: 0.2634175\ttotal: 903ms\tremaining: 922ms\n",
            "495:\tlearn: 0.2633543\ttotal: 905ms\tremaining: 920ms\n",
            "496:\tlearn: 0.2632381\ttotal: 907ms\tremaining: 918ms\n",
            "497:\tlearn: 0.2631809\ttotal: 908ms\tremaining: 916ms\n",
            "498:\tlearn: 0.2630607\ttotal: 910ms\tremaining: 914ms\n",
            "499:\tlearn: 0.2628570\ttotal: 912ms\tremaining: 912ms\n",
            "500:\tlearn: 0.2627996\ttotal: 913ms\tremaining: 910ms\n",
            "501:\tlearn: 0.2626040\ttotal: 915ms\tremaining: 908ms\n",
            "502:\tlearn: 0.2625109\ttotal: 917ms\tremaining: 906ms\n",
            "503:\tlearn: 0.2624092\ttotal: 919ms\tremaining: 904ms\n",
            "504:\tlearn: 0.2622741\ttotal: 920ms\tremaining: 902ms\n",
            "505:\tlearn: 0.2621847\ttotal: 922ms\tremaining: 900ms\n",
            "506:\tlearn: 0.2621761\ttotal: 923ms\tremaining: 898ms\n",
            "507:\tlearn: 0.2621085\ttotal: 925ms\tremaining: 896ms\n",
            "508:\tlearn: 0.2620852\ttotal: 927ms\tremaining: 894ms\n",
            "509:\tlearn: 0.2619864\ttotal: 928ms\tremaining: 892ms\n",
            "510:\tlearn: 0.2619332\ttotal: 930ms\tremaining: 890ms\n",
            "511:\tlearn: 0.2618789\ttotal: 932ms\tremaining: 888ms\n",
            "512:\tlearn: 0.2617934\ttotal: 933ms\tremaining: 886ms\n",
            "513:\tlearn: 0.2616699\ttotal: 935ms\tremaining: 884ms\n",
            "514:\tlearn: 0.2616174\ttotal: 937ms\tremaining: 882ms\n",
            "515:\tlearn: 0.2615135\ttotal: 938ms\tremaining: 880ms\n",
            "516:\tlearn: 0.2613203\ttotal: 940ms\tremaining: 878ms\n",
            "517:\tlearn: 0.2612745\ttotal: 942ms\tremaining: 876ms\n",
            "518:\tlearn: 0.2611386\ttotal: 943ms\tremaining: 874ms\n",
            "519:\tlearn: 0.2610011\ttotal: 945ms\tremaining: 873ms\n",
            "520:\tlearn: 0.2609381\ttotal: 947ms\tremaining: 871ms\n",
            "521:\tlearn: 0.2608443\ttotal: 948ms\tremaining: 868ms\n",
            "522:\tlearn: 0.2607721\ttotal: 950ms\tremaining: 866ms\n",
            "523:\tlearn: 0.2606603\ttotal: 952ms\tremaining: 864ms\n",
            "524:\tlearn: 0.2605489\ttotal: 954ms\tremaining: 863ms\n",
            "525:\tlearn: 0.2604829\ttotal: 955ms\tremaining: 861ms\n",
            "526:\tlearn: 0.2604161\ttotal: 957ms\tremaining: 859ms\n",
            "527:\tlearn: 0.2603285\ttotal: 958ms\tremaining: 857ms\n",
            "528:\tlearn: 0.2601959\ttotal: 961ms\tremaining: 856ms\n",
            "529:\tlearn: 0.2600990\ttotal: 965ms\tremaining: 856ms\n",
            "530:\tlearn: 0.2600413\ttotal: 967ms\tremaining: 854ms\n",
            "531:\tlearn: 0.2599654\ttotal: 969ms\tremaining: 852ms\n",
            "532:\tlearn: 0.2598802\ttotal: 970ms\tremaining: 850ms\n",
            "533:\tlearn: 0.2598267\ttotal: 972ms\tremaining: 848ms\n",
            "534:\tlearn: 0.2597019\ttotal: 974ms\tremaining: 846ms\n",
            "535:\tlearn: 0.2596080\ttotal: 975ms\tremaining: 844ms\n",
            "536:\tlearn: 0.2595674\ttotal: 977ms\tremaining: 842ms\n",
            "537:\tlearn: 0.2595143\ttotal: 979ms\tremaining: 840ms\n",
            "538:\tlearn: 0.2594138\ttotal: 982ms\tremaining: 840ms\n",
            "539:\tlearn: 0.2593746\ttotal: 984ms\tremaining: 838ms\n",
            "540:\tlearn: 0.2592459\ttotal: 985ms\tremaining: 836ms\n",
            "541:\tlearn: 0.2591527\ttotal: 987ms\tremaining: 834ms\n",
            "542:\tlearn: 0.2590489\ttotal: 988ms\tremaining: 832ms\n",
            "543:\tlearn: 0.2590146\ttotal: 990ms\tremaining: 830ms\n",
            "544:\tlearn: 0.2589875\ttotal: 992ms\tremaining: 828ms\n",
            "545:\tlearn: 0.2589187\ttotal: 994ms\tremaining: 826ms\n",
            "546:\tlearn: 0.2588144\ttotal: 996ms\tremaining: 825ms\n",
            "547:\tlearn: 0.2587570\ttotal: 998ms\tremaining: 823ms\n",
            "548:\tlearn: 0.2586235\ttotal: 1000ms\tremaining: 821ms\n",
            "549:\tlearn: 0.2585440\ttotal: 1s\tremaining: 820ms\n",
            "550:\tlearn: 0.2584634\ttotal: 1s\tremaining: 818ms\n",
            "551:\tlearn: 0.2584105\ttotal: 1s\tremaining: 816ms\n",
            "552:\tlearn: 0.2583178\ttotal: 1.01s\tremaining: 814ms\n",
            "553:\tlearn: 0.2582249\ttotal: 1.01s\tremaining: 812ms\n",
            "554:\tlearn: 0.2581150\ttotal: 1.01s\tremaining: 810ms\n",
            "555:\tlearn: 0.2581067\ttotal: 1.01s\tremaining: 808ms\n",
            "556:\tlearn: 0.2581017\ttotal: 1.01s\tremaining: 806ms\n",
            "557:\tlearn: 0.2580789\ttotal: 1.01s\tremaining: 803ms\n",
            "558:\tlearn: 0.2580280\ttotal: 1.02s\tremaining: 802ms\n",
            "559:\tlearn: 0.2579904\ttotal: 1.02s\tremaining: 800ms\n",
            "560:\tlearn: 0.2578877\ttotal: 1.02s\tremaining: 798ms\n",
            "561:\tlearn: 0.2578075\ttotal: 1.02s\tremaining: 796ms\n",
            "562:\tlearn: 0.2576323\ttotal: 1.02s\tremaining: 794ms\n",
            "563:\tlearn: 0.2576245\ttotal: 1.02s\tremaining: 792ms\n",
            "564:\tlearn: 0.2575565\ttotal: 1.03s\tremaining: 790ms\n",
            "565:\tlearn: 0.2574481\ttotal: 1.03s\tremaining: 788ms\n",
            "566:\tlearn: 0.2573347\ttotal: 1.03s\tremaining: 786ms\n",
            "567:\tlearn: 0.2572793\ttotal: 1.03s\tremaining: 784ms\n",
            "568:\tlearn: 0.2572560\ttotal: 1.03s\tremaining: 782ms\n",
            "569:\tlearn: 0.2571666\ttotal: 1.03s\tremaining: 781ms\n",
            "570:\tlearn: 0.2570968\ttotal: 1.04s\tremaining: 779ms\n",
            "571:\tlearn: 0.2570065\ttotal: 1.04s\tremaining: 777ms\n",
            "572:\tlearn: 0.2568437\ttotal: 1.04s\tremaining: 776ms\n",
            "573:\tlearn: 0.2568238\ttotal: 1.04s\tremaining: 774ms\n",
            "574:\tlearn: 0.2567605\ttotal: 1.04s\tremaining: 772ms\n",
            "575:\tlearn: 0.2567140\ttotal: 1.04s\tremaining: 770ms\n",
            "576:\tlearn: 0.2566287\ttotal: 1.05s\tremaining: 768ms\n",
            "577:\tlearn: 0.2565126\ttotal: 1.05s\tremaining: 766ms\n",
            "578:\tlearn: 0.2564833\ttotal: 1.05s\tremaining: 764ms\n",
            "579:\tlearn: 0.2564124\ttotal: 1.05s\tremaining: 762ms\n",
            "580:\tlearn: 0.2563436\ttotal: 1.05s\tremaining: 760ms\n",
            "581:\tlearn: 0.2562189\ttotal: 1.06s\tremaining: 759ms\n",
            "582:\tlearn: 0.2561725\ttotal: 1.06s\tremaining: 757ms\n",
            "583:\tlearn: 0.2560943\ttotal: 1.06s\tremaining: 755ms\n",
            "584:\tlearn: 0.2559804\ttotal: 1.06s\tremaining: 753ms\n",
            "585:\tlearn: 0.2558934\ttotal: 1.06s\tremaining: 751ms\n",
            "586:\tlearn: 0.2558850\ttotal: 1.06s\tremaining: 749ms\n",
            "587:\tlearn: 0.2557566\ttotal: 1.06s\tremaining: 747ms\n",
            "588:\tlearn: 0.2556514\ttotal: 1.07s\tremaining: 745ms\n",
            "589:\tlearn: 0.2556193\ttotal: 1.07s\tremaining: 743ms\n",
            "590:\tlearn: 0.2555998\ttotal: 1.07s\tremaining: 741ms\n",
            "591:\tlearn: 0.2555148\ttotal: 1.07s\tremaining: 739ms\n",
            "592:\tlearn: 0.2554723\ttotal: 1.07s\tremaining: 737ms\n",
            "593:\tlearn: 0.2553595\ttotal: 1.07s\tremaining: 735ms\n",
            "594:\tlearn: 0.2553139\ttotal: 1.08s\tremaining: 733ms\n",
            "595:\tlearn: 0.2551888\ttotal: 1.08s\tremaining: 732ms\n",
            "596:\tlearn: 0.2551094\ttotal: 1.08s\tremaining: 730ms\n",
            "597:\tlearn: 0.2550766\ttotal: 1.08s\tremaining: 728ms\n",
            "598:\tlearn: 0.2550283\ttotal: 1.08s\tremaining: 726ms\n",
            "599:\tlearn: 0.2549281\ttotal: 1.08s\tremaining: 724ms\n",
            "600:\tlearn: 0.2547858\ttotal: 1.09s\tremaining: 722ms\n",
            "601:\tlearn: 0.2546723\ttotal: 1.09s\tremaining: 720ms\n",
            "602:\tlearn: 0.2546362\ttotal: 1.09s\tremaining: 718ms\n",
            "603:\tlearn: 0.2545791\ttotal: 1.09s\tremaining: 717ms\n",
            "604:\tlearn: 0.2545721\ttotal: 1.09s\tremaining: 715ms\n",
            "605:\tlearn: 0.2544719\ttotal: 1.1s\tremaining: 713ms\n",
            "606:\tlearn: 0.2544654\ttotal: 1.1s\tremaining: 711ms\n",
            "607:\tlearn: 0.2544152\ttotal: 1.1s\tremaining: 709ms\n",
            "608:\tlearn: 0.2543729\ttotal: 1.1s\tremaining: 707ms\n",
            "609:\tlearn: 0.2542752\ttotal: 1.1s\tremaining: 705ms\n",
            "610:\tlearn: 0.2542586\ttotal: 1.1s\tremaining: 703ms\n",
            "611:\tlearn: 0.2542247\ttotal: 1.11s\tremaining: 701ms\n",
            "612:\tlearn: 0.2541277\ttotal: 1.11s\tremaining: 699ms\n",
            "613:\tlearn: 0.2539744\ttotal: 1.11s\tremaining: 698ms\n",
            "614:\tlearn: 0.2539155\ttotal: 1.11s\tremaining: 696ms\n",
            "615:\tlearn: 0.2538280\ttotal: 1.11s\tremaining: 694ms\n",
            "616:\tlearn: 0.2537740\ttotal: 1.11s\tremaining: 692ms\n",
            "617:\tlearn: 0.2537285\ttotal: 1.12s\tremaining: 690ms\n",
            "618:\tlearn: 0.2536537\ttotal: 1.12s\tremaining: 688ms\n",
            "619:\tlearn: 0.2535904\ttotal: 1.12s\tremaining: 686ms\n",
            "620:\tlearn: 0.2535602\ttotal: 1.12s\tremaining: 684ms\n",
            "621:\tlearn: 0.2535357\ttotal: 1.12s\tremaining: 682ms\n",
            "622:\tlearn: 0.2533921\ttotal: 1.12s\tremaining: 680ms\n",
            "623:\tlearn: 0.2532212\ttotal: 1.13s\tremaining: 679ms\n",
            "624:\tlearn: 0.2531819\ttotal: 1.13s\tremaining: 677ms\n",
            "625:\tlearn: 0.2531637\ttotal: 1.13s\tremaining: 675ms\n",
            "626:\tlearn: 0.2531488\ttotal: 1.13s\tremaining: 674ms\n",
            "627:\tlearn: 0.2530808\ttotal: 1.14s\tremaining: 674ms\n",
            "628:\tlearn: 0.2530060\ttotal: 1.14s\tremaining: 672ms\n",
            "629:\tlearn: 0.2529586\ttotal: 1.14s\tremaining: 670ms\n",
            "630:\tlearn: 0.2529399\ttotal: 1.14s\tremaining: 669ms\n",
            "631:\tlearn: 0.2529042\ttotal: 1.15s\tremaining: 667ms\n",
            "632:\tlearn: 0.2528717\ttotal: 1.15s\tremaining: 665ms\n",
            "633:\tlearn: 0.2527710\ttotal: 1.15s\tremaining: 666ms\n",
            "634:\tlearn: 0.2526994\ttotal: 1.16s\tremaining: 664ms\n",
            "635:\tlearn: 0.2526585\ttotal: 1.16s\tremaining: 662ms\n",
            "636:\tlearn: 0.2525923\ttotal: 1.16s\tremaining: 660ms\n",
            "637:\tlearn: 0.2524993\ttotal: 1.16s\tremaining: 658ms\n",
            "638:\tlearn: 0.2524236\ttotal: 1.16s\tremaining: 656ms\n",
            "639:\tlearn: 0.2522511\ttotal: 1.16s\tremaining: 655ms\n",
            "640:\tlearn: 0.2522015\ttotal: 1.17s\tremaining: 654ms\n",
            "641:\tlearn: 0.2521628\ttotal: 1.17s\tremaining: 652ms\n",
            "642:\tlearn: 0.2520899\ttotal: 1.17s\tremaining: 650ms\n",
            "643:\tlearn: 0.2520541\ttotal: 1.17s\tremaining: 648ms\n",
            "644:\tlearn: 0.2519939\ttotal: 1.17s\tremaining: 646ms\n",
            "645:\tlearn: 0.2519910\ttotal: 1.18s\tremaining: 645ms\n",
            "646:\tlearn: 0.2519221\ttotal: 1.18s\tremaining: 643ms\n",
            "647:\tlearn: 0.2518818\ttotal: 1.18s\tremaining: 641ms\n",
            "648:\tlearn: 0.2518650\ttotal: 1.18s\tremaining: 639ms\n",
            "649:\tlearn: 0.2517722\ttotal: 1.18s\tremaining: 637ms\n",
            "650:\tlearn: 0.2517162\ttotal: 1.19s\tremaining: 635ms\n",
            "651:\tlearn: 0.2515900\ttotal: 1.19s\tremaining: 634ms\n",
            "652:\tlearn: 0.2515322\ttotal: 1.19s\tremaining: 632ms\n",
            "653:\tlearn: 0.2514865\ttotal: 1.19s\tremaining: 630ms\n",
            "654:\tlearn: 0.2514663\ttotal: 1.19s\tremaining: 628ms\n",
            "655:\tlearn: 0.2513875\ttotal: 1.19s\tremaining: 626ms\n",
            "656:\tlearn: 0.2512935\ttotal: 1.2s\tremaining: 624ms\n",
            "657:\tlearn: 0.2512250\ttotal: 1.2s\tremaining: 622ms\n",
            "658:\tlearn: 0.2511620\ttotal: 1.2s\tremaining: 620ms\n",
            "659:\tlearn: 0.2510512\ttotal: 1.2s\tremaining: 619ms\n",
            "660:\tlearn: 0.2509887\ttotal: 1.2s\tremaining: 617ms\n",
            "661:\tlearn: 0.2509521\ttotal: 1.2s\tremaining: 615ms\n",
            "662:\tlearn: 0.2508748\ttotal: 1.21s\tremaining: 613ms\n",
            "663:\tlearn: 0.2508590\ttotal: 1.21s\tremaining: 611ms\n",
            "664:\tlearn: 0.2508520\ttotal: 1.21s\tremaining: 609ms\n",
            "665:\tlearn: 0.2507536\ttotal: 1.21s\tremaining: 607ms\n",
            "666:\tlearn: 0.2506974\ttotal: 1.21s\tremaining: 605ms\n",
            "667:\tlearn: 0.2506787\ttotal: 1.21s\tremaining: 603ms\n",
            "668:\tlearn: 0.2506471\ttotal: 1.22s\tremaining: 602ms\n",
            "669:\tlearn: 0.2505957\ttotal: 1.22s\tremaining: 600ms\n",
            "670:\tlearn: 0.2505813\ttotal: 1.22s\tremaining: 598ms\n",
            "671:\tlearn: 0.2505489\ttotal: 1.22s\tremaining: 596ms\n",
            "672:\tlearn: 0.2504965\ttotal: 1.22s\tremaining: 594ms\n",
            "673:\tlearn: 0.2504098\ttotal: 1.22s\tremaining: 592ms\n",
            "674:\tlearn: 0.2503575\ttotal: 1.23s\tremaining: 590ms\n",
            "675:\tlearn: 0.2503456\ttotal: 1.23s\tremaining: 588ms\n",
            "676:\tlearn: 0.2503088\ttotal: 1.23s\tremaining: 586ms\n",
            "677:\tlearn: 0.2502080\ttotal: 1.23s\tremaining: 585ms\n",
            "678:\tlearn: 0.2500824\ttotal: 1.23s\tremaining: 584ms\n",
            "679:\tlearn: 0.2500413\ttotal: 1.24s\tremaining: 583ms\n",
            "680:\tlearn: 0.2499267\ttotal: 1.24s\tremaining: 581ms\n",
            "681:\tlearn: 0.2498830\ttotal: 1.24s\tremaining: 579ms\n",
            "682:\tlearn: 0.2498574\ttotal: 1.24s\tremaining: 577ms\n",
            "683:\tlearn: 0.2497979\ttotal: 1.24s\tremaining: 575ms\n",
            "684:\tlearn: 0.2497649\ttotal: 1.25s\tremaining: 573ms\n",
            "685:\tlearn: 0.2496848\ttotal: 1.25s\tremaining: 571ms\n",
            "686:\tlearn: 0.2495846\ttotal: 1.25s\tremaining: 569ms\n",
            "687:\tlearn: 0.2495552\ttotal: 1.25s\tremaining: 568ms\n",
            "688:\tlearn: 0.2495100\ttotal: 1.25s\tremaining: 566ms\n",
            "689:\tlearn: 0.2493949\ttotal: 1.25s\tremaining: 564ms\n",
            "690:\tlearn: 0.2492871\ttotal: 1.26s\tremaining: 562ms\n",
            "691:\tlearn: 0.2492083\ttotal: 1.26s\tremaining: 560ms\n",
            "692:\tlearn: 0.2491917\ttotal: 1.26s\tremaining: 558ms\n",
            "693:\tlearn: 0.2491818\ttotal: 1.26s\tremaining: 556ms\n",
            "694:\tlearn: 0.2491715\ttotal: 1.26s\tremaining: 554ms\n",
            "695:\tlearn: 0.2490637\ttotal: 1.26s\tremaining: 553ms\n",
            "696:\tlearn: 0.2489823\ttotal: 1.27s\tremaining: 551ms\n",
            "697:\tlearn: 0.2489022\ttotal: 1.27s\tremaining: 549ms\n",
            "698:\tlearn: 0.2488875\ttotal: 1.27s\tremaining: 547ms\n",
            "699:\tlearn: 0.2487912\ttotal: 1.27s\tremaining: 545ms\n",
            "700:\tlearn: 0.2487090\ttotal: 1.27s\tremaining: 543ms\n",
            "701:\tlearn: 0.2486001\ttotal: 1.27s\tremaining: 541ms\n",
            "702:\tlearn: 0.2485347\ttotal: 1.28s\tremaining: 540ms\n",
            "703:\tlearn: 0.2484833\ttotal: 1.28s\tremaining: 538ms\n",
            "704:\tlearn: 0.2484184\ttotal: 1.28s\tremaining: 536ms\n",
            "705:\tlearn: 0.2484072\ttotal: 1.28s\tremaining: 534ms\n",
            "706:\tlearn: 0.2483390\ttotal: 1.28s\tremaining: 532ms\n",
            "707:\tlearn: 0.2482949\ttotal: 1.28s\tremaining: 530ms\n",
            "708:\tlearn: 0.2482885\ttotal: 1.29s\tremaining: 528ms\n",
            "709:\tlearn: 0.2481799\ttotal: 1.29s\tremaining: 527ms\n",
            "710:\tlearn: 0.2481304\ttotal: 1.29s\tremaining: 525ms\n",
            "711:\tlearn: 0.2481104\ttotal: 1.29s\tremaining: 523ms\n",
            "712:\tlearn: 0.2480485\ttotal: 1.29s\tremaining: 521ms\n",
            "713:\tlearn: 0.2479927\ttotal: 1.29s\tremaining: 519ms\n",
            "714:\tlearn: 0.2479808\ttotal: 1.3s\tremaining: 517ms\n",
            "715:\tlearn: 0.2479660\ttotal: 1.3s\tremaining: 515ms\n",
            "716:\tlearn: 0.2479355\ttotal: 1.3s\tremaining: 513ms\n",
            "717:\tlearn: 0.2478881\ttotal: 1.3s\tremaining: 511ms\n",
            "718:\tlearn: 0.2478466\ttotal: 1.3s\tremaining: 510ms\n",
            "719:\tlearn: 0.2477442\ttotal: 1.3s\tremaining: 508ms\n",
            "720:\tlearn: 0.2477330\ttotal: 1.31s\tremaining: 506ms\n",
            "721:\tlearn: 0.2476501\ttotal: 1.31s\tremaining: 504ms\n",
            "722:\tlearn: 0.2476017\ttotal: 1.31s\tremaining: 502ms\n",
            "723:\tlearn: 0.2475375\ttotal: 1.31s\tremaining: 500ms\n",
            "724:\tlearn: 0.2475222\ttotal: 1.31s\tremaining: 498ms\n",
            "725:\tlearn: 0.2474483\ttotal: 1.31s\tremaining: 496ms\n",
            "726:\tlearn: 0.2474355\ttotal: 1.32s\tremaining: 494ms\n",
            "727:\tlearn: 0.2473576\ttotal: 1.32s\tremaining: 493ms\n",
            "728:\tlearn: 0.2473132\ttotal: 1.32s\tremaining: 491ms\n",
            "729:\tlearn: 0.2472080\ttotal: 1.32s\tremaining: 489ms\n",
            "730:\tlearn: 0.2471098\ttotal: 1.32s\tremaining: 487ms\n",
            "731:\tlearn: 0.2470199\ttotal: 1.32s\tremaining: 485ms\n",
            "732:\tlearn: 0.2469487\ttotal: 1.33s\tremaining: 483ms\n",
            "733:\tlearn: 0.2468569\ttotal: 1.33s\tremaining: 481ms\n",
            "734:\tlearn: 0.2467957\ttotal: 1.33s\tremaining: 480ms\n",
            "735:\tlearn: 0.2467791\ttotal: 1.33s\tremaining: 478ms\n",
            "736:\tlearn: 0.2467752\ttotal: 1.33s\tremaining: 476ms\n",
            "737:\tlearn: 0.2466941\ttotal: 1.33s\tremaining: 474ms\n",
            "738:\tlearn: 0.2466279\ttotal: 1.34s\tremaining: 472ms\n",
            "739:\tlearn: 0.2465917\ttotal: 1.34s\tremaining: 470ms\n",
            "740:\tlearn: 0.2465143\ttotal: 1.34s\tremaining: 469ms\n",
            "741:\tlearn: 0.2464342\ttotal: 1.34s\tremaining: 468ms\n",
            "742:\tlearn: 0.2464274\ttotal: 1.35s\tremaining: 466ms\n",
            "743:\tlearn: 0.2464170\ttotal: 1.35s\tremaining: 465ms\n",
            "744:\tlearn: 0.2463621\ttotal: 1.35s\tremaining: 463ms\n",
            "745:\tlearn: 0.2462529\ttotal: 1.35s\tremaining: 461ms\n",
            "746:\tlearn: 0.2462225\ttotal: 1.36s\tremaining: 460ms\n",
            "747:\tlearn: 0.2461463\ttotal: 1.36s\tremaining: 458ms\n",
            "748:\tlearn: 0.2461105\ttotal: 1.36s\tremaining: 456ms\n",
            "749:\tlearn: 0.2460482\ttotal: 1.36s\tremaining: 454ms\n",
            "750:\tlearn: 0.2460016\ttotal: 1.36s\tremaining: 453ms\n",
            "751:\tlearn: 0.2459251\ttotal: 1.37s\tremaining: 451ms\n",
            "752:\tlearn: 0.2458827\ttotal: 1.37s\tremaining: 449ms\n",
            "753:\tlearn: 0.2458433\ttotal: 1.37s\tremaining: 447ms\n",
            "754:\tlearn: 0.2457734\ttotal: 1.37s\tremaining: 445ms\n",
            "755:\tlearn: 0.2457306\ttotal: 1.37s\tremaining: 443ms\n",
            "756:\tlearn: 0.2456147\ttotal: 1.38s\tremaining: 442ms\n",
            "757:\tlearn: 0.2455571\ttotal: 1.38s\tremaining: 440ms\n",
            "758:\tlearn: 0.2455034\ttotal: 1.38s\tremaining: 438ms\n",
            "759:\tlearn: 0.2454910\ttotal: 1.38s\tremaining: 436ms\n",
            "760:\tlearn: 0.2454254\ttotal: 1.38s\tremaining: 434ms\n",
            "761:\tlearn: 0.2454009\ttotal: 1.38s\tremaining: 433ms\n",
            "762:\tlearn: 0.2453285\ttotal: 1.39s\tremaining: 431ms\n",
            "763:\tlearn: 0.2452377\ttotal: 1.39s\tremaining: 429ms\n",
            "764:\tlearn: 0.2451383\ttotal: 1.39s\tremaining: 427ms\n",
            "765:\tlearn: 0.2450689\ttotal: 1.39s\tremaining: 425ms\n",
            "766:\tlearn: 0.2450198\ttotal: 1.39s\tremaining: 424ms\n",
            "767:\tlearn: 0.2449297\ttotal: 1.4s\tremaining: 422ms\n",
            "768:\tlearn: 0.2448696\ttotal: 1.4s\tremaining: 420ms\n",
            "769:\tlearn: 0.2447757\ttotal: 1.4s\tremaining: 419ms\n",
            "770:\tlearn: 0.2447083\ttotal: 1.4s\tremaining: 417ms\n",
            "771:\tlearn: 0.2446576\ttotal: 1.4s\tremaining: 415ms\n",
            "772:\tlearn: 0.2446471\ttotal: 1.41s\tremaining: 413ms\n",
            "773:\tlearn: 0.2446381\ttotal: 1.41s\tremaining: 411ms\n",
            "774:\tlearn: 0.2445730\ttotal: 1.41s\tremaining: 409ms\n",
            "775:\tlearn: 0.2445562\ttotal: 1.41s\tremaining: 407ms\n",
            "776:\tlearn: 0.2444593\ttotal: 1.41s\tremaining: 406ms\n",
            "777:\tlearn: 0.2443770\ttotal: 1.41s\tremaining: 404ms\n",
            "778:\tlearn: 0.2443437\ttotal: 1.42s\tremaining: 402ms\n",
            "779:\tlearn: 0.2442836\ttotal: 1.42s\tremaining: 400ms\n",
            "780:\tlearn: 0.2442227\ttotal: 1.42s\tremaining: 398ms\n",
            "781:\tlearn: 0.2441741\ttotal: 1.42s\tremaining: 396ms\n",
            "782:\tlearn: 0.2441173\ttotal: 1.42s\tremaining: 395ms\n",
            "783:\tlearn: 0.2440505\ttotal: 1.43s\tremaining: 393ms\n",
            "784:\tlearn: 0.2440149\ttotal: 1.43s\tremaining: 391ms\n",
            "785:\tlearn: 0.2439429\ttotal: 1.43s\tremaining: 389ms\n",
            "786:\tlearn: 0.2438931\ttotal: 1.43s\tremaining: 387ms\n",
            "787:\tlearn: 0.2438731\ttotal: 1.43s\tremaining: 385ms\n",
            "788:\tlearn: 0.2437906\ttotal: 1.43s\tremaining: 384ms\n",
            "789:\tlearn: 0.2437136\ttotal: 1.44s\tremaining: 382ms\n",
            "790:\tlearn: 0.2437045\ttotal: 1.44s\tremaining: 380ms\n",
            "791:\tlearn: 0.2436399\ttotal: 1.44s\tremaining: 378ms\n",
            "792:\tlearn: 0.2436000\ttotal: 1.44s\tremaining: 377ms\n",
            "793:\tlearn: 0.2435923\ttotal: 1.45s\tremaining: 375ms\n",
            "794:\tlearn: 0.2435579\ttotal: 1.45s\tremaining: 373ms\n",
            "795:\tlearn: 0.2435335\ttotal: 1.45s\tremaining: 371ms\n",
            "796:\tlearn: 0.2434953\ttotal: 1.45s\tremaining: 370ms\n",
            "797:\tlearn: 0.2434583\ttotal: 1.45s\tremaining: 368ms\n",
            "798:\tlearn: 0.2434179\ttotal: 1.45s\tremaining: 366ms\n",
            "799:\tlearn: 0.2433193\ttotal: 1.46s\tremaining: 364ms\n",
            "800:\tlearn: 0.2432669\ttotal: 1.46s\tremaining: 362ms\n",
            "801:\tlearn: 0.2432099\ttotal: 1.46s\tremaining: 360ms\n",
            "802:\tlearn: 0.2431355\ttotal: 1.46s\tremaining: 358ms\n",
            "803:\tlearn: 0.2430732\ttotal: 1.46s\tremaining: 357ms\n",
            "804:\tlearn: 0.2430011\ttotal: 1.46s\tremaining: 355ms\n",
            "805:\tlearn: 0.2429049\ttotal: 1.47s\tremaining: 353ms\n",
            "806:\tlearn: 0.2428917\ttotal: 1.47s\tremaining: 351ms\n",
            "807:\tlearn: 0.2428118\ttotal: 1.47s\tremaining: 350ms\n",
            "808:\tlearn: 0.2427735\ttotal: 1.47s\tremaining: 348ms\n",
            "809:\tlearn: 0.2427410\ttotal: 1.47s\tremaining: 346ms\n",
            "810:\tlearn: 0.2426947\ttotal: 1.48s\tremaining: 344ms\n",
            "811:\tlearn: 0.2426380\ttotal: 1.48s\tremaining: 342ms\n",
            "812:\tlearn: 0.2426334\ttotal: 1.48s\tremaining: 340ms\n",
            "813:\tlearn: 0.2425714\ttotal: 1.48s\tremaining: 338ms\n",
            "814:\tlearn: 0.2425596\ttotal: 1.48s\tremaining: 337ms\n",
            "815:\tlearn: 0.2425111\ttotal: 1.48s\tremaining: 335ms\n",
            "816:\tlearn: 0.2424737\ttotal: 1.49s\tremaining: 333ms\n",
            "817:\tlearn: 0.2424632\ttotal: 1.49s\tremaining: 331ms\n",
            "818:\tlearn: 0.2424131\ttotal: 1.49s\tremaining: 329ms\n",
            "819:\tlearn: 0.2424047\ttotal: 1.49s\tremaining: 327ms\n",
            "820:\tlearn: 0.2423527\ttotal: 1.49s\tremaining: 325ms\n",
            "821:\tlearn: 0.2423452\ttotal: 1.49s\tremaining: 324ms\n",
            "822:\tlearn: 0.2422334\ttotal: 1.5s\tremaining: 322ms\n",
            "823:\tlearn: 0.2422210\ttotal: 1.5s\tremaining: 320ms\n",
            "824:\tlearn: 0.2421770\ttotal: 1.5s\tremaining: 318ms\n",
            "825:\tlearn: 0.2420955\ttotal: 1.5s\tremaining: 316ms\n",
            "826:\tlearn: 0.2420040\ttotal: 1.5s\tremaining: 314ms\n",
            "827:\tlearn: 0.2419264\ttotal: 1.5s\tremaining: 313ms\n",
            "828:\tlearn: 0.2418901\ttotal: 1.51s\tremaining: 311ms\n",
            "829:\tlearn: 0.2418073\ttotal: 1.51s\tremaining: 309ms\n",
            "830:\tlearn: 0.2417124\ttotal: 1.51s\tremaining: 307ms\n",
            "831:\tlearn: 0.2416718\ttotal: 1.51s\tremaining: 305ms\n",
            "832:\tlearn: 0.2415944\ttotal: 1.51s\tremaining: 303ms\n",
            "833:\tlearn: 0.2415038\ttotal: 1.51s\tremaining: 301ms\n",
            "834:\tlearn: 0.2414428\ttotal: 1.52s\tremaining: 300ms\n",
            "835:\tlearn: 0.2414233\ttotal: 1.52s\tremaining: 298ms\n",
            "836:\tlearn: 0.2414109\ttotal: 1.52s\tremaining: 296ms\n",
            "837:\tlearn: 0.2413437\ttotal: 1.52s\tremaining: 294ms\n",
            "838:\tlearn: 0.2413266\ttotal: 1.52s\tremaining: 292ms\n",
            "839:\tlearn: 0.2412628\ttotal: 1.52s\tremaining: 290ms\n",
            "840:\tlearn: 0.2412424\ttotal: 1.52s\tremaining: 288ms\n",
            "841:\tlearn: 0.2411702\ttotal: 1.53s\tremaining: 287ms\n",
            "842:\tlearn: 0.2410960\ttotal: 1.53s\tremaining: 285ms\n",
            "843:\tlearn: 0.2410555\ttotal: 1.53s\tremaining: 283ms\n",
            "844:\tlearn: 0.2410182\ttotal: 1.53s\tremaining: 281ms\n",
            "845:\tlearn: 0.2409968\ttotal: 1.53s\tremaining: 279ms\n",
            "846:\tlearn: 0.2409554\ttotal: 1.53s\tremaining: 277ms\n",
            "847:\tlearn: 0.2409037\ttotal: 1.54s\tremaining: 276ms\n",
            "848:\tlearn: 0.2408585\ttotal: 1.54s\tremaining: 275ms\n",
            "849:\tlearn: 0.2408088\ttotal: 1.54s\tremaining: 273ms\n",
            "850:\tlearn: 0.2407493\ttotal: 1.55s\tremaining: 271ms\n",
            "851:\tlearn: 0.2405684\ttotal: 1.55s\tremaining: 269ms\n",
            "852:\tlearn: 0.2404621\ttotal: 1.55s\tremaining: 267ms\n",
            "853:\tlearn: 0.2404147\ttotal: 1.55s\tremaining: 265ms\n",
            "854:\tlearn: 0.2403410\ttotal: 1.55s\tremaining: 264ms\n",
            "855:\tlearn: 0.2402995\ttotal: 1.56s\tremaining: 262ms\n",
            "856:\tlearn: 0.2402713\ttotal: 1.56s\tremaining: 260ms\n",
            "857:\tlearn: 0.2402643\ttotal: 1.56s\tremaining: 258ms\n",
            "858:\tlearn: 0.2402235\ttotal: 1.56s\tremaining: 256ms\n",
            "859:\tlearn: 0.2401702\ttotal: 1.56s\tremaining: 254ms\n",
            "860:\tlearn: 0.2401480\ttotal: 1.56s\tremaining: 253ms\n",
            "861:\tlearn: 0.2400857\ttotal: 1.57s\tremaining: 251ms\n",
            "862:\tlearn: 0.2400676\ttotal: 1.57s\tremaining: 249ms\n",
            "863:\tlearn: 0.2400302\ttotal: 1.57s\tremaining: 247ms\n",
            "864:\tlearn: 0.2399773\ttotal: 1.57s\tremaining: 245ms\n",
            "865:\tlearn: 0.2399291\ttotal: 1.57s\tremaining: 243ms\n",
            "866:\tlearn: 0.2399041\ttotal: 1.57s\tremaining: 242ms\n",
            "867:\tlearn: 0.2398663\ttotal: 1.58s\tremaining: 240ms\n",
            "868:\tlearn: 0.2398154\ttotal: 1.58s\tremaining: 238ms\n",
            "869:\tlearn: 0.2397730\ttotal: 1.58s\tremaining: 236ms\n",
            "870:\tlearn: 0.2397432\ttotal: 1.58s\tremaining: 234ms\n",
            "871:\tlearn: 0.2396502\ttotal: 1.58s\tremaining: 232ms\n",
            "872:\tlearn: 0.2395577\ttotal: 1.58s\tremaining: 231ms\n",
            "873:\tlearn: 0.2395448\ttotal: 1.59s\tremaining: 229ms\n",
            "874:\tlearn: 0.2394909\ttotal: 1.59s\tremaining: 227ms\n",
            "875:\tlearn: 0.2394769\ttotal: 1.59s\tremaining: 225ms\n",
            "876:\tlearn: 0.2394692\ttotal: 1.59s\tremaining: 223ms\n",
            "877:\tlearn: 0.2394548\ttotal: 1.59s\tremaining: 221ms\n",
            "878:\tlearn: 0.2393779\ttotal: 1.59s\tremaining: 220ms\n",
            "879:\tlearn: 0.2393608\ttotal: 1.6s\tremaining: 218ms\n",
            "880:\tlearn: 0.2393110\ttotal: 1.6s\tremaining: 216ms\n",
            "881:\tlearn: 0.2392645\ttotal: 1.6s\tremaining: 214ms\n",
            "882:\tlearn: 0.2392534\ttotal: 1.6s\tremaining: 212ms\n",
            "883:\tlearn: 0.2391992\ttotal: 1.6s\tremaining: 210ms\n",
            "884:\tlearn: 0.2391154\ttotal: 1.6s\tremaining: 209ms\n",
            "885:\tlearn: 0.2389984\ttotal: 1.61s\tremaining: 207ms\n",
            "886:\tlearn: 0.2389636\ttotal: 1.61s\tremaining: 205ms\n",
            "887:\tlearn: 0.2389310\ttotal: 1.61s\tremaining: 203ms\n",
            "888:\tlearn: 0.2388926\ttotal: 1.61s\tremaining: 201ms\n",
            "889:\tlearn: 0.2387939\ttotal: 1.61s\tremaining: 199ms\n",
            "890:\tlearn: 0.2387606\ttotal: 1.61s\tremaining: 198ms\n",
            "891:\tlearn: 0.2387053\ttotal: 1.62s\tremaining: 196ms\n",
            "892:\tlearn: 0.2387006\ttotal: 1.62s\tremaining: 194ms\n",
            "893:\tlearn: 0.2386769\ttotal: 1.62s\tremaining: 192ms\n",
            "894:\tlearn: 0.2385975\ttotal: 1.62s\tremaining: 190ms\n",
            "895:\tlearn: 0.2385321\ttotal: 1.62s\tremaining: 188ms\n",
            "896:\tlearn: 0.2384735\ttotal: 1.63s\tremaining: 187ms\n",
            "897:\tlearn: 0.2384524\ttotal: 1.63s\tremaining: 185ms\n",
            "898:\tlearn: 0.2383886\ttotal: 1.63s\tremaining: 183ms\n",
            "899:\tlearn: 0.2382417\ttotal: 1.63s\tremaining: 181ms\n",
            "900:\tlearn: 0.2382010\ttotal: 1.63s\tremaining: 179ms\n",
            "901:\tlearn: 0.2381677\ttotal: 1.63s\tremaining: 177ms\n",
            "902:\tlearn: 0.2381578\ttotal: 1.64s\tremaining: 176ms\n",
            "903:\tlearn: 0.2380985\ttotal: 1.64s\tremaining: 174ms\n",
            "904:\tlearn: 0.2380575\ttotal: 1.64s\tremaining: 172ms\n",
            "905:\tlearn: 0.2380478\ttotal: 1.64s\tremaining: 170ms\n",
            "906:\tlearn: 0.2379866\ttotal: 1.64s\tremaining: 168ms\n",
            "907:\tlearn: 0.2379173\ttotal: 1.64s\tremaining: 167ms\n",
            "908:\tlearn: 0.2378658\ttotal: 1.65s\tremaining: 165ms\n",
            "909:\tlearn: 0.2377960\ttotal: 1.65s\tremaining: 163ms\n",
            "910:\tlearn: 0.2377199\ttotal: 1.65s\tremaining: 161ms\n",
            "911:\tlearn: 0.2376378\ttotal: 1.65s\tremaining: 159ms\n",
            "912:\tlearn: 0.2376099\ttotal: 1.65s\tremaining: 157ms\n",
            "913:\tlearn: 0.2374576\ttotal: 1.65s\tremaining: 156ms\n",
            "914:\tlearn: 0.2374130\ttotal: 1.66s\tremaining: 154ms\n",
            "915:\tlearn: 0.2373639\ttotal: 1.66s\tremaining: 152ms\n",
            "916:\tlearn: 0.2373130\ttotal: 1.66s\tremaining: 150ms\n",
            "917:\tlearn: 0.2372811\ttotal: 1.66s\tremaining: 148ms\n",
            "918:\tlearn: 0.2372556\ttotal: 1.66s\tremaining: 146ms\n",
            "919:\tlearn: 0.2371424\ttotal: 1.66s\tremaining: 145ms\n",
            "920:\tlearn: 0.2371421\ttotal: 1.67s\tremaining: 143ms\n",
            "921:\tlearn: 0.2370658\ttotal: 1.67s\tremaining: 141ms\n",
            "922:\tlearn: 0.2370116\ttotal: 1.67s\tremaining: 139ms\n",
            "923:\tlearn: 0.2369346\ttotal: 1.67s\tremaining: 137ms\n",
            "924:\tlearn: 0.2369046\ttotal: 1.67s\tremaining: 136ms\n",
            "925:\tlearn: 0.2368916\ttotal: 1.67s\tremaining: 134ms\n",
            "926:\tlearn: 0.2368709\ttotal: 1.68s\tremaining: 132ms\n",
            "927:\tlearn: 0.2367972\ttotal: 1.68s\tremaining: 130ms\n",
            "928:\tlearn: 0.2367203\ttotal: 1.68s\tremaining: 128ms\n",
            "929:\tlearn: 0.2366914\ttotal: 1.68s\tremaining: 126ms\n",
            "930:\tlearn: 0.2366500\ttotal: 1.68s\tremaining: 125ms\n",
            "931:\tlearn: 0.2365518\ttotal: 1.68s\tremaining: 123ms\n",
            "932:\tlearn: 0.2364855\ttotal: 1.69s\tremaining: 121ms\n",
            "933:\tlearn: 0.2364027\ttotal: 1.69s\tremaining: 119ms\n",
            "934:\tlearn: 0.2363189\ttotal: 1.69s\tremaining: 117ms\n",
            "935:\tlearn: 0.2362830\ttotal: 1.69s\tremaining: 116ms\n",
            "936:\tlearn: 0.2362673\ttotal: 1.69s\tremaining: 114ms\n",
            "937:\tlearn: 0.2361752\ttotal: 1.69s\tremaining: 112ms\n",
            "938:\tlearn: 0.2361276\ttotal: 1.69s\tremaining: 110ms\n",
            "939:\tlearn: 0.2360995\ttotal: 1.7s\tremaining: 108ms\n",
            "940:\tlearn: 0.2360031\ttotal: 1.7s\tremaining: 106ms\n",
            "941:\tlearn: 0.2359068\ttotal: 1.7s\tremaining: 105ms\n",
            "942:\tlearn: 0.2358884\ttotal: 1.7s\tremaining: 103ms\n",
            "943:\tlearn: 0.2358085\ttotal: 1.7s\tremaining: 101ms\n",
            "944:\tlearn: 0.2357803\ttotal: 1.7s\tremaining: 99.2ms\n",
            "945:\tlearn: 0.2356569\ttotal: 1.71s\tremaining: 97.4ms\n",
            "946:\tlearn: 0.2355891\ttotal: 1.71s\tremaining: 95.6ms\n",
            "947:\tlearn: 0.2355342\ttotal: 1.71s\tremaining: 93.8ms\n",
            "948:\tlearn: 0.2354275\ttotal: 1.71s\tremaining: 92ms\n",
            "949:\tlearn: 0.2353914\ttotal: 1.71s\tremaining: 90.2ms\n",
            "950:\tlearn: 0.2353507\ttotal: 1.71s\tremaining: 88.3ms\n",
            "951:\tlearn: 0.2352998\ttotal: 1.72s\tremaining: 86.5ms\n",
            "952:\tlearn: 0.2352570\ttotal: 1.72s\tremaining: 84.7ms\n",
            "953:\tlearn: 0.2352014\ttotal: 1.72s\tremaining: 82.9ms\n",
            "954:\tlearn: 0.2351451\ttotal: 1.72s\tremaining: 81.1ms\n",
            "955:\tlearn: 0.2350858\ttotal: 1.72s\tremaining: 79.3ms\n",
            "956:\tlearn: 0.2350565\ttotal: 1.73s\tremaining: 77.6ms\n",
            "957:\tlearn: 0.2349849\ttotal: 1.73s\tremaining: 75.9ms\n",
            "958:\tlearn: 0.2348965\ttotal: 1.73s\tremaining: 74.1ms\n",
            "959:\tlearn: 0.2348696\ttotal: 1.74s\tremaining: 72.5ms\n",
            "960:\tlearn: 0.2348313\ttotal: 1.74s\tremaining: 70.7ms\n",
            "961:\tlearn: 0.2348007\ttotal: 1.75s\tremaining: 69ms\n",
            "962:\tlearn: 0.2347019\ttotal: 1.75s\tremaining: 67.2ms\n",
            "963:\tlearn: 0.2346811\ttotal: 1.75s\tremaining: 65.3ms\n",
            "964:\tlearn: 0.2345547\ttotal: 1.75s\tremaining: 63.5ms\n",
            "965:\tlearn: 0.2344703\ttotal: 1.75s\tremaining: 61.7ms\n",
            "966:\tlearn: 0.2344555\ttotal: 1.75s\tremaining: 59.9ms\n",
            "967:\tlearn: 0.2344189\ttotal: 1.76s\tremaining: 58.1ms\n",
            "968:\tlearn: 0.2343594\ttotal: 1.76s\tremaining: 56.2ms\n",
            "969:\tlearn: 0.2343254\ttotal: 1.76s\tremaining: 54.4ms\n",
            "970:\tlearn: 0.2342835\ttotal: 1.76s\tremaining: 52.6ms\n",
            "971:\tlearn: 0.2342090\ttotal: 1.76s\tremaining: 50.8ms\n",
            "972:\tlearn: 0.2341621\ttotal: 1.76s\tremaining: 49ms\n",
            "973:\tlearn: 0.2340908\ttotal: 1.77s\tremaining: 47.2ms\n",
            "974:\tlearn: 0.2340756\ttotal: 1.77s\tremaining: 45.3ms\n",
            "975:\tlearn: 0.2340476\ttotal: 1.77s\tremaining: 43.5ms\n",
            "976:\tlearn: 0.2339705\ttotal: 1.77s\tremaining: 41.7ms\n",
            "977:\tlearn: 0.2339087\ttotal: 1.77s\tremaining: 39.9ms\n",
            "978:\tlearn: 0.2338726\ttotal: 1.77s\tremaining: 38.1ms\n",
            "979:\tlearn: 0.2338015\ttotal: 1.78s\tremaining: 36.3ms\n",
            "980:\tlearn: 0.2337675\ttotal: 1.78s\tremaining: 34.4ms\n",
            "981:\tlearn: 0.2336996\ttotal: 1.78s\tremaining: 32.6ms\n",
            "982:\tlearn: 0.2336568\ttotal: 1.78s\tremaining: 30.8ms\n",
            "983:\tlearn: 0.2336490\ttotal: 1.78s\tremaining: 29ms\n",
            "984:\tlearn: 0.2336125\ttotal: 1.78s\tremaining: 27.2ms\n",
            "985:\tlearn: 0.2335667\ttotal: 1.79s\tremaining: 25.4ms\n",
            "986:\tlearn: 0.2335413\ttotal: 1.79s\tremaining: 23.6ms\n",
            "987:\tlearn: 0.2335347\ttotal: 1.79s\tremaining: 21.8ms\n",
            "988:\tlearn: 0.2335100\ttotal: 1.79s\tremaining: 20ms\n",
            "989:\tlearn: 0.2334658\ttotal: 1.8s\tremaining: 18.2ms\n",
            "990:\tlearn: 0.2334247\ttotal: 1.8s\tremaining: 16.3ms\n",
            "991:\tlearn: 0.2333890\ttotal: 1.8s\tremaining: 14.5ms\n",
            "992:\tlearn: 0.2333305\ttotal: 1.8s\tremaining: 12.7ms\n",
            "993:\tlearn: 0.2332715\ttotal: 1.8s\tremaining: 10.9ms\n",
            "994:\tlearn: 0.2332361\ttotal: 1.8s\tremaining: 9.07ms\n",
            "995:\tlearn: 0.2331812\ttotal: 1.81s\tremaining: 7.26ms\n",
            "996:\tlearn: 0.2331586\ttotal: 1.81s\tremaining: 5.44ms\n",
            "997:\tlearn: 0.2331461\ttotal: 1.81s\tremaining: 3.63ms\n",
            "998:\tlearn: 0.2330899\ttotal: 1.81s\tremaining: 1.81ms\n",
            "999:\tlearn: 0.2330368\ttotal: 1.81s\tremaining: 0us\n",
            "MSE train: 0.05430612709841824\n",
            "RMSE train: 0.2330367505317954\n",
            "MAPE train: 5.369444214979454\n",
            "MSE test: 0.0878253296142839\n",
            "RMSE test: 0.2963533863722227\n",
            "MAPE test: 7.058894592126699\n"
          ],
          "name": "stdout"
        }
      ]
    },
    {
      "cell_type": "markdown",
      "metadata": {
        "id": "vYVv19U84r_D"
      },
      "source": [
        "**Light GBM**"
      ]
    },
    {
      "cell_type": "code",
      "metadata": {
        "id": "YBtPNbrt4ud_",
        "colab": {
          "base_uri": "https://localhost:8080/"
        },
        "outputId": "e5282283-5d38-4882-9cca-74ff76e6915b"
      },
      "source": [
        "lgbm_regressor = lgb.LGBMRegressor()\n",
        "\n",
        "lgbm_regressor.fit(X_train, y_train)\n",
        "y_pred_train = lgbm_regressor.predict(X_train)\n",
        "y_pred_test = lgbm_regressor.predict(X_test)\n",
        "\n",
        "mse_train = mean_squared_error(y_train,y_pred_train)\n",
        "rmse_train = sqrt(mse_train)\n",
        "mape_train = mean_absolute_percentage_error(y_train, y_pred_train)\n",
        "\n",
        "print(\"MSE train: \" + str(mse_train))\n",
        "print(\"RMSE train: \" + str(rmse_train))\n",
        "print(\"MAPE train: \" + str(mape_train))\n",
        "\n",
        "mse_test = mean_squared_error(y_test,y_pred_test)\n",
        "rmse_test = sqrt(mse_test)\n",
        "mape_test = mean_absolute_percentage_error(y_test, y_pred_test)\n",
        "\n",
        "print(\"MSE test: \" + str(mse_test))\n",
        "print(\"RMSE test: \" + str(rmse_test))\n",
        "print(\"MAPE test: \" + str(mape_test))"
      ],
      "execution_count": 113,
      "outputs": [
        {
          "output_type": "stream",
          "text": [
            "MSE train: 0.0685879337347816\n",
            "RMSE train: 0.26189298145384043\n",
            "MAPE train: 6.09766863518317\n",
            "MSE test: 0.09540069536779261\n",
            "RMSE test: 0.3088700298957356\n",
            "MAPE test: 7.406916208483012\n"
          ],
          "name": "stdout"
        }
      ]
    },
    {
      "cell_type": "markdown",
      "metadata": {
        "id": "5StZ0bmftOJs"
      },
      "source": [
        "![bike_models.png](data:image/png;base64,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)"
      ]
    },
    {
      "cell_type": "markdown",
      "metadata": {
        "id": "ZwQXQoNe4wZZ"
      },
      "source": [
        "Now we're going to try some other tools like optuna, shap values in order to improve our work. We'll use these tools with Random Forest and XGB Regressor"
      ]
    },
    {
      "cell_type": "code",
      "metadata": {
        "id": "txDOSsjC4z8K"
      },
      "source": [
        "\n",
        "# 10-fold CV\n",
        "kfolds = KFold(n_splits=10, shuffle=True)\n",
        "\n",
        "# Define the helper function so that it can be reused\n",
        "def tune(objective):\n",
        "    study = optuna.create_study(direction=\"minimize\")\n",
        "    study.optimize(objective, n_trials=100)\n",
        "\n",
        "    params = study.best_params\n",
        "    best_score = study.best_value\n",
        "    print(f\"Best score: {best_score}\\n\")\n",
        "    print(f\"Optimized parameters: {params}\\n\")\n",
        "    return params"
      ],
      "execution_count": 114,
      "outputs": []
    },
    {
      "cell_type": "code",
      "metadata": {
        "id": "xTJvY0w99ukW"
      },
      "source": [
        "def rmse(model,x,y):\n",
        "    return -(cross_val_score(model, x, y, cv=kfolds, scoring='neg_root_mean_squared_error',n_jobs=-1))"
      ],
      "execution_count": 115,
      "outputs": []
    },
    {
      "cell_type": "code",
      "metadata": {
        "id": "hDPCQEj243Ek",
        "colab": {
          "base_uri": "https://localhost:8080/"
        },
        "outputId": "7f821b02-0c6c-428f-cbd0-def63ab06a70"
      },
      "source": [
        "##################\n",
        "# Random Forest\n",
        "##################\n",
        "def randomforest_objective(trial):\n",
        "    _n_estimators = trial.suggest_int(\"n_estimators\", 300, 1500)\n",
        "    _max_depth = trial.suggest_int(\"max_depth\", 5, 20)\n",
        "    _min_samp_split = trial.suggest_int(\"min_samples_split\", 2, 10)\n",
        "    _min_samples_leaf = trial.suggest_int(\"min_samples_leaf\", 2, 10)\n",
        "    _max_features = trial.suggest_int(\"max_features\", 2, 10)\n",
        "\n",
        "    rf = RandomForestRegressor(\n",
        "        max_depth=_max_depth,\n",
        "        min_samples_split=_min_samp_split,\n",
        "        min_samples_leaf=_min_samples_leaf,\n",
        "        max_features=_max_features,\n",
        "        n_estimators=_n_estimators,\n",
        "        n_jobs=-1,\n",
        "    )\n",
        "\n",
        "    scores = rmse(rf, X_train, y_train)\n",
        "    return scores.mean()\n",
        "\n",
        "randomforest_params = tune(randomforest_objective)\n",
        "rf = RandomForestRegressor(n_jobs=-1, **randomforest_params)"
      ],
      "execution_count": 116,
      "outputs": [
        {
          "output_type": "stream",
          "text": [
            "\u001b[32m[I 2021-04-30 16:48:02,511]\u001b[0m A new study created in memory with name: no-name-2490ae8a-a4db-4ad1-921c-b592e4e4cca8\u001b[0m\n",
            "\u001b[32m[I 2021-04-30 16:48:31,706]\u001b[0m Trial 0 finished with value: 0.33573791304333567 and parameters: {'n_estimators': 326, 'max_depth': 14, 'min_samples_split': 8, 'min_samples_leaf': 2, 'max_features': 8}. Best is trial 0 with value: 0.33573791304333567.\u001b[0m\n",
            "\u001b[32m[I 2021-04-30 16:50:12,203]\u001b[0m Trial 1 finished with value: 0.35303084450991745 and parameters: {'n_estimators': 1251, 'max_depth': 19, 'min_samples_split': 10, 'min_samples_leaf': 8, 'max_features': 9}. Best is trial 0 with value: 0.33573791304333567.\u001b[0m\n",
            "\u001b[32m[I 2021-04-30 16:50:21,425]\u001b[0m Trial 2 finished with value: 0.6490987598189978 and parameters: {'n_estimators': 354, 'max_depth': 6, 'min_samples_split': 3, 'min_samples_leaf': 5, 'max_features': 3}. Best is trial 0 with value: 0.33573791304333567.\u001b[0m\n",
            "\u001b[32m[I 2021-04-30 16:52:14,120]\u001b[0m Trial 3 finished with value: 0.3573940592704766 and parameters: {'n_estimators': 1423, 'max_depth': 11, 'min_samples_split': 9, 'min_samples_leaf': 8, 'max_features': 10}. Best is trial 0 with value: 0.33573791304333567.\u001b[0m\n",
            "\u001b[32m[I 2021-04-30 16:53:28,307]\u001b[0m Trial 4 finished with value: 0.3385122258620132 and parameters: {'n_estimators': 946, 'max_depth': 17, 'min_samples_split': 2, 'min_samples_leaf': 2, 'max_features': 6}. Best is trial 0 with value: 0.33573791304333567.\u001b[0m\n",
            "\u001b[32m[I 2021-04-30 16:54:21,191]\u001b[0m Trial 5 finished with value: 0.3401314563250418 and parameters: {'n_estimators': 562, 'max_depth': 15, 'min_samples_split': 8, 'min_samples_leaf': 5, 'max_features': 10}. Best is trial 0 with value: 0.33573791304333567.\u001b[0m\n",
            "\u001b[32m[I 2021-04-30 16:54:28,507]\u001b[0m Trial 6 finished with value: 0.7337786123884177 and parameters: {'n_estimators': 315, 'max_depth': 6, 'min_samples_split': 9, 'min_samples_leaf': 5, 'max_features': 2}. Best is trial 0 with value: 0.33573791304333567.\u001b[0m\n",
            "\u001b[32m[I 2021-04-30 16:55:28,670]\u001b[0m Trial 7 finished with value: 0.36793579864638354 and parameters: {'n_estimators': 961, 'max_depth': 17, 'min_samples_split': 2, 'min_samples_leaf': 6, 'max_features': 6}. Best is trial 0 with value: 0.33573791304333567.\u001b[0m\n",
            "\u001b[32m[I 2021-04-30 16:56:03,618]\u001b[0m Trial 8 finished with value: 0.3309373462717116 and parameters: {'n_estimators': 380, 'max_depth': 16, 'min_samples_split': 9, 'min_samples_leaf': 2, 'max_features': 9}. Best is trial 8 with value: 0.3309373462717116.\u001b[0m\n",
            "\u001b[32m[I 2021-04-30 16:56:21,994]\u001b[0m Trial 9 finished with value: 0.382214247189685 and parameters: {'n_estimators': 329, 'max_depth': 12, 'min_samples_split': 9, 'min_samples_leaf': 7, 'max_features': 6}. Best is trial 8 with value: 0.3309373462717116.\u001b[0m\n",
            "\u001b[32m[I 2021-04-30 16:57:06,328]\u001b[0m Trial 10 finished with value: 0.3675741610549171 and parameters: {'n_estimators': 653, 'max_depth': 20, 'min_samples_split': 5, 'min_samples_leaf': 10, 'max_features': 8}. Best is trial 8 with value: 0.3309373462717116.\u001b[0m\n",
            "\u001b[32m[I 2021-04-30 16:57:54,375]\u001b[0m Trial 11 finished with value: 0.3332901573375413 and parameters: {'n_estimators': 584, 'max_depth': 14, 'min_samples_split': 7, 'min_samples_leaf': 2, 'max_features': 8}. Best is trial 8 with value: 0.3309373462717116.\u001b[0m\n",
            "\u001b[32m[I 2021-04-30 16:58:34,946]\u001b[0m Trial 12 finished with value: 0.3678681937025579 and parameters: {'n_estimators': 615, 'max_depth': 10, 'min_samples_split': 6, 'min_samples_leaf': 3, 'max_features': 8}. Best is trial 8 with value: 0.3309373462717116.\u001b[0m\n",
            "\u001b[32m[I 2021-04-30 16:59:03,898]\u001b[0m Trial 13 finished with value: 0.475483290706158 and parameters: {'n_estimators': 764, 'max_depth': 9, 'min_samples_split': 6, 'min_samples_leaf': 3, 'max_features': 4}. Best is trial 8 with value: 0.3309373462717116.\u001b[0m\n",
            "\u001b[32m[I 2021-04-30 16:59:50,056]\u001b[0m Trial 14 finished with value: 0.33239062853035684 and parameters: {'n_estimators': 509, 'max_depth': 15, 'min_samples_split': 7, 'min_samples_leaf': 3, 'max_features': 9}. Best is trial 8 with value: 0.3309373462717116.\u001b[0m\n",
            "\u001b[32m[I 2021-04-30 17:00:34,934]\u001b[0m Trial 15 finished with value: 0.33654745823158283 and parameters: {'n_estimators': 463, 'max_depth': 17, 'min_samples_split': 4, 'min_samples_leaf': 4, 'max_features': 10}. Best is trial 8 with value: 0.3309373462717116.\u001b[0m\n",
            "\u001b[32m[I 2021-04-30 17:01:39,578]\u001b[0m Trial 16 finished with value: 0.33633873208269727 and parameters: {'n_estimators': 749, 'max_depth': 15, 'min_samples_split': 10, 'min_samples_leaf': 3, 'max_features': 9}. Best is trial 8 with value: 0.3309373462717116.\u001b[0m\n",
            "\u001b[32m[I 2021-04-30 17:03:01,701]\u001b[0m Trial 17 finished with value: 0.3427899207218488 and parameters: {'n_estimators': 1112, 'max_depth': 18, 'min_samples_split': 7, 'min_samples_leaf': 4, 'max_features': 7}. Best is trial 8 with value: 0.3309373462717116.\u001b[0m\n",
            "\u001b[32m[I 2021-04-30 17:03:39,322]\u001b[0m Trial 18 finished with value: 0.33304664378835114 and parameters: {'n_estimators': 424, 'max_depth': 13, 'min_samples_split': 7, 'min_samples_leaf': 2, 'max_features': 9}. Best is trial 8 with value: 0.3309373462717116.\u001b[0m\n",
            "\u001b[32m[I 2021-04-30 17:04:26,400]\u001b[0m Trial 19 finished with value: 0.37037649861661703 and parameters: {'n_estimators': 790, 'max_depth': 16, 'min_samples_split': 8, 'min_samples_leaf': 4, 'max_features': 5}. Best is trial 8 with value: 0.3309373462717116.\u001b[0m\n",
            "\u001b[32m[I 2021-04-30 17:04:59,031]\u001b[0m Trial 20 finished with value: 0.3763576716395749 and parameters: {'n_estimators': 507, 'max_depth': 20, 'min_samples_split': 5, 'min_samples_leaf': 10, 'max_features': 7}. Best is trial 8 with value: 0.3309373462717116.\u001b[0m\n",
            "\u001b[32m[I 2021-04-30 17:05:41,560]\u001b[0m Trial 21 finished with value: 0.3330546819997998 and parameters: {'n_estimators': 464, 'max_depth': 13, 'min_samples_split': 7, 'min_samples_leaf': 2, 'max_features': 9}. Best is trial 8 with value: 0.3309373462717116.\u001b[0m\n",
            "\u001b[32m[I 2021-04-30 17:06:20,478]\u001b[0m Trial 22 finished with value: 0.33661635587749417 and parameters: {'n_estimators': 425, 'max_depth': 13, 'min_samples_split': 7, 'min_samples_leaf': 3, 'max_features': 9}. Best is trial 8 with value: 0.3309373462717116.\u001b[0m\n",
            "\u001b[32m[I 2021-04-30 17:06:51,039]\u001b[0m Trial 23 finished with value: 0.3771039992819096 and parameters: {'n_estimators': 406, 'max_depth': 9, 'min_samples_split': 5, 'min_samples_leaf': 2, 'max_features': 10}. Best is trial 8 with value: 0.3309373462717116.\u001b[0m\n",
            "\u001b[32m[I 2021-04-30 17:07:41,964]\u001b[0m Trial 24 finished with value: 0.33971524414902987 and parameters: {'n_estimators': 676, 'max_depth': 15, 'min_samples_split': 8, 'min_samples_leaf': 3, 'max_features': 7}. Best is trial 8 with value: 0.3309373462717116.\u001b[0m\n",
            "\u001b[32m[I 2021-04-30 17:08:08,442]\u001b[0m Trial 25 finished with value: 0.337226071598604 and parameters: {'n_estimators': 301, 'max_depth': 12, 'min_samples_split': 6, 'min_samples_leaf': 2, 'max_features': 9}. Best is trial 8 with value: 0.3309373462717116.\u001b[0m\n",
            "\u001b[32m[I 2021-04-30 17:09:01,995]\u001b[0m Trial 26 finished with value: 0.33568044200014696 and parameters: {'n_estimators': 551, 'max_depth': 16, 'min_samples_split': 9, 'min_samples_leaf': 4, 'max_features': 10}. Best is trial 8 with value: 0.3309373462717116.\u001b[0m\n",
            "\u001b[32m[I 2021-04-30 17:09:32,370]\u001b[0m Trial 27 finished with value: 0.35203902087155803 and parameters: {'n_estimators': 428, 'max_depth': 11, 'min_samples_split': 10, 'min_samples_leaf': 3, 'max_features': 8}. Best is trial 8 with value: 0.3309373462717116.\u001b[0m\n",
            "\u001b[32m[I 2021-04-30 17:10:35,283]\u001b[0m Trial 28 finished with value: 0.3359392121764574 and parameters: {'n_estimators': 826, 'max_depth': 14, 'min_samples_split': 7, 'min_samples_leaf': 2, 'max_features': 7}. Best is trial 8 with value: 0.3309373462717116.\u001b[0m\n",
            "\u001b[32m[I 2021-04-30 17:11:05,302]\u001b[0m Trial 29 finished with value: 0.3297154136181631 and parameters: {'n_estimators': 301, 'max_depth': 18, 'min_samples_split': 8, 'min_samples_leaf': 2, 'max_features': 9}. Best is trial 29 with value: 0.3297154136181631.\u001b[0m\n",
            "\u001b[32m[I 2021-04-30 17:11:30,675]\u001b[0m Trial 30 finished with value: 0.34930036696794087 and parameters: {'n_estimators': 323, 'max_depth': 19, 'min_samples_split': 8, 'min_samples_leaf': 6, 'max_features': 8}. Best is trial 29 with value: 0.3297154136181631.\u001b[0m\n",
            "\u001b[32m[I 2021-04-30 17:12:10,804]\u001b[0m Trial 31 finished with value: 0.3302316256148374 and parameters: {'n_estimators': 409, 'max_depth': 18, 'min_samples_split': 8, 'min_samples_leaf': 2, 'max_features': 9}. Best is trial 29 with value: 0.3297154136181631.\u001b[0m\n",
            "\u001b[32m[I 2021-04-30 17:12:45,897]\u001b[0m Trial 32 finished with value: 0.3339156918505318 and parameters: {'n_estimators': 369, 'max_depth': 18, 'min_samples_split': 8, 'min_samples_leaf': 3, 'max_features': 9}. Best is trial 29 with value: 0.3297154136181631.\u001b[0m\n",
            "\u001b[32m[I 2021-04-30 17:13:41,522]\u001b[0m Trial 33 finished with value: 0.3321192297979155 and parameters: {'n_estimators': 533, 'max_depth': 19, 'min_samples_split': 9, 'min_samples_leaf': 2, 'max_features': 10}. Best is trial 29 with value: 0.3297154136181631.\u001b[0m\n",
            "\u001b[32m[I 2021-04-30 17:14:13,113]\u001b[0m Trial 34 finished with value: 0.3323823168544942 and parameters: {'n_estimators': 306, 'max_depth': 19, 'min_samples_split': 10, 'min_samples_leaf': 2, 'max_features': 10}. Best is trial 29 with value: 0.3297154136181631.\u001b[0m\n",
            "\u001b[32m[I 2021-04-30 17:14:49,652]\u001b[0m Trial 35 finished with value: 0.3339988638178376 and parameters: {'n_estimators': 371, 'max_depth': 18, 'min_samples_split': 9, 'min_samples_leaf': 4, 'max_features': 10}. Best is trial 29 with value: 0.3297154136181631.\u001b[0m\n",
            "\u001b[32m[I 2021-04-30 17:16:29,189]\u001b[0m Trial 36 finished with value: 0.3634934900309802 and parameters: {'n_estimators': 1387, 'max_depth': 19, 'min_samples_split': 10, 'min_samples_leaf': 9, 'max_features': 8}. Best is trial 29 with value: 0.3297154136181631.\u001b[0m\n",
            "\u001b[32m[I 2021-04-30 17:17:24,188]\u001b[0m Trial 37 finished with value: 0.3316484709289067 and parameters: {'n_estimators': 519, 'max_depth': 20, 'min_samples_split': 9, 'min_samples_leaf': 2, 'max_features': 10}. Best is trial 29 with value: 0.3297154136181631.\u001b[0m\n",
            "\u001b[32m[I 2021-04-30 17:18:27,001]\u001b[0m Trial 38 finished with value: 0.34142758190428046 and parameters: {'n_estimators': 703, 'max_depth': 20, 'min_samples_split': 8, 'min_samples_leaf': 5, 'max_features': 9}. Best is trial 29 with value: 0.3297154136181631.\u001b[0m\n",
            "\u001b[32m[I 2021-04-30 17:20:20,083]\u001b[0m Trial 39 finished with value: 0.331352385909918 and parameters: {'n_estimators': 1100, 'max_depth': 16, 'min_samples_split': 9, 'min_samples_leaf': 2, 'max_features': 10}. Best is trial 29 with value: 0.3297154136181631.\u001b[0m\n",
            "\u001b[32m[I 2021-04-30 17:22:02,719]\u001b[0m Trial 40 finished with value: 0.3325689096608288 and parameters: {'n_estimators': 1106, 'max_depth': 16, 'min_samples_split': 9, 'min_samples_leaf': 3, 'max_features': 9}. Best is trial 29 with value: 0.3297154136181631.\u001b[0m\n",
            "\u001b[32m[I 2021-04-30 17:23:56,086]\u001b[0m Trial 41 finished with value: 0.3323920504220655 and parameters: {'n_estimators': 1077, 'max_depth': 17, 'min_samples_split': 9, 'min_samples_leaf': 2, 'max_features': 10}. Best is trial 29 with value: 0.3297154136181631.\u001b[0m\n",
            "\u001b[32m[I 2021-04-30 17:25:59,636]\u001b[0m Trial 42 finished with value: 0.3316499482569645 and parameters: {'n_estimators': 1205, 'max_depth': 18, 'min_samples_split': 10, 'min_samples_leaf': 2, 'max_features': 10}. Best is trial 29 with value: 0.3297154136181631.\u001b[0m\n",
            "\u001b[32m[I 2021-04-30 17:27:23,875]\u001b[0m Trial 43 finished with value: 0.33342038449267514 and parameters: {'n_estimators': 982, 'max_depth': 17, 'min_samples_split': 9, 'min_samples_leaf': 2, 'max_features': 8}. Best is trial 29 with value: 0.3297154136181631.\u001b[0m\n",
            "A worker stopped while some jobs were given to the executor. This can be caused by a too short worker timeout or by a memory leak.\n",
            "\u001b[32m[I 2021-04-30 17:29:39,215]\u001b[0m Trial 44 finished with value: 0.3322290366373811 and parameters: {'n_estimators': 1302, 'max_depth': 20, 'min_samples_split': 8, 'min_samples_leaf': 3, 'max_features': 10}. Best is trial 29 with value: 0.3297154136181631.\u001b[0m\n",
            "\u001b[32m[I 2021-04-30 17:30:52,805]\u001b[0m Trial 45 finished with value: 0.3490333403439888 and parameters: {'n_estimators': 908, 'max_depth': 16, 'min_samples_split': 9, 'min_samples_leaf': 7, 'max_features': 9}. Best is trial 29 with value: 0.3297154136181631.\u001b[0m\n",
            "\u001b[32m[I 2021-04-30 17:31:45,947]\u001b[0m Trial 46 finished with value: 0.3334417116200657 and parameters: {'n_estimators': 630, 'max_depth': 18, 'min_samples_split': 10, 'min_samples_leaf': 2, 'max_features': 8}. Best is trial 29 with value: 0.3297154136181631.\u001b[0m\n",
            "\u001b[32m[I 2021-04-30 17:32:29,327]\u001b[0m Trial 47 finished with value: 0.45022464529157347 and parameters: {'n_estimators': 1031, 'max_depth': 14, 'min_samples_split': 8, 'min_samples_leaf': 3, 'max_features': 3}. Best is trial 29 with value: 0.3297154136181631.\u001b[0m\n",
            "\u001b[32m[I 2021-04-30 17:34:55,860]\u001b[0m Trial 48 finished with value: 0.33587355220219084 and parameters: {'n_estimators': 1481, 'max_depth': 17, 'min_samples_split': 8, 'min_samples_leaf': 4, 'max_features': 10}. Best is trial 29 with value: 0.3297154136181631.\u001b[0m\n",
            "\u001b[32m[I 2021-04-30 17:36:50,608]\u001b[0m Trial 49 finished with value: 0.3329465227911542 and parameters: {'n_estimators': 1218, 'max_depth': 20, 'min_samples_split': 9, 'min_samples_leaf': 2, 'max_features': 9}. Best is trial 29 with value: 0.3297154136181631.\u001b[0m\n",
            "\u001b[32m[I 2021-04-30 17:37:28,424]\u001b[0m Trial 50 finished with value: 0.3442237021124075 and parameters: {'n_estimators': 479, 'max_depth': 16, 'min_samples_split': 10, 'min_samples_leaf': 5, 'max_features': 8}. Best is trial 29 with value: 0.3297154136181631.\u001b[0m\n",
            "\u001b[32m[I 2021-04-30 17:39:28,583]\u001b[0m Trial 51 finished with value: 0.33269750963226474 and parameters: {'n_estimators': 1198, 'max_depth': 18, 'min_samples_split': 10, 'min_samples_leaf': 2, 'max_features': 10}. Best is trial 29 with value: 0.3297154136181631.\u001b[0m\n",
            "\u001b[32m[I 2021-04-30 17:41:39,117]\u001b[0m Trial 52 finished with value: 0.3295316850545407 and parameters: {'n_estimators': 1278, 'max_depth': 19, 'min_samples_split': 9, 'min_samples_leaf': 2, 'max_features': 10}. Best is trial 52 with value: 0.3295316850545407.\u001b[0m\n",
            "\u001b[32m[I 2021-04-30 17:43:38,789]\u001b[0m Trial 53 finished with value: 0.3332847562239905 and parameters: {'n_estimators': 1313, 'max_depth': 19, 'min_samples_split': 9, 'min_samples_leaf': 3, 'max_features': 9}. Best is trial 52 with value: 0.3295316850545407.\u001b[0m\n",
            "\u001b[32m[I 2021-04-30 17:46:03,099]\u001b[0m Trial 54 finished with value: 0.3303735219472805 and parameters: {'n_estimators': 1430, 'max_depth': 17, 'min_samples_split': 9, 'min_samples_leaf': 2, 'max_features': 10}. Best is trial 52 with value: 0.3295316850545407.\u001b[0m\n",
            "\u001b[32m[I 2021-04-30 17:48:18,155]\u001b[0m Trial 55 finished with value: 0.3341748400180546 and parameters: {'n_estimators': 1473, 'max_depth': 17, 'min_samples_split': 8, 'min_samples_leaf': 3, 'max_features': 9}. Best is trial 52 with value: 0.3295316850545407.\u001b[0m\n",
            "\u001b[32m[I 2021-04-30 17:50:37,035]\u001b[0m Trial 56 finished with value: 0.3310889580480031 and parameters: {'n_estimators': 1391, 'max_depth': 15, 'min_samples_split': 8, 'min_samples_leaf': 2, 'max_features': 10}. Best is trial 52 with value: 0.3295316850545407.\u001b[0m\n",
            "\u001b[32m[I 2021-04-30 17:52:01,219]\u001b[0m Trial 57 finished with value: 0.3578333081523476 and parameters: {'n_estimators': 1373, 'max_depth': 17, 'min_samples_split': 8, 'min_samples_leaf': 2, 'max_features': 5}. Best is trial 52 with value: 0.3295316850545407.\u001b[0m\n",
            "\u001b[32m[I 2021-04-30 17:54:12,045]\u001b[0m Trial 58 finished with value: 0.3342054531517134 and parameters: {'n_estimators': 1436, 'max_depth': 15, 'min_samples_split': 7, 'min_samples_leaf': 3, 'max_features': 9}. Best is trial 52 with value: 0.3295316850545407.\u001b[0m\n",
            "\u001b[32m[I 2021-04-30 17:56:17,959]\u001b[0m Trial 59 finished with value: 0.33367386079710565 and parameters: {'n_estimators': 1353, 'max_depth': 15, 'min_samples_split': 6, 'min_samples_leaf': 3, 'max_features': 9}. Best is trial 52 with value: 0.3295316850545407.\u001b[0m\n",
            "\u001b[32m[I 2021-04-30 17:57:53,260]\u001b[0m Trial 60 finished with value: 0.33512464467194075 and parameters: {'n_estimators': 1264, 'max_depth': 14, 'min_samples_split': 7, 'min_samples_leaf': 2, 'max_features': 7}. Best is trial 52 with value: 0.3295316850545407.\u001b[0m\n",
            "\u001b[32m[I 2021-04-30 17:59:49,781]\u001b[0m Trial 61 finished with value: 0.32959742096578687 and parameters: {'n_estimators': 1156, 'max_depth': 16, 'min_samples_split': 9, 'min_samples_leaf': 2, 'max_features': 10}. Best is trial 52 with value: 0.3295316850545407.\u001b[0m\n",
            "\u001b[32m[I 2021-04-30 18:01:50,662]\u001b[0m Trial 62 finished with value: 0.3298817775954914 and parameters: {'n_estimators': 1164, 'max_depth': 18, 'min_samples_split': 8, 'min_samples_leaf': 2, 'max_features': 10}. Best is trial 52 with value: 0.3295316850545407.\u001b[0m\n",
            "\u001b[32m[I 2021-04-30 18:03:45,466]\u001b[0m Trial 63 finished with value: 0.3330966771743634 and parameters: {'n_estimators': 1166, 'max_depth': 18, 'min_samples_split': 9, 'min_samples_leaf': 3, 'max_features': 10}. Best is trial 52 with value: 0.3295316850545407.\u001b[0m\n",
            "\u001b[32m[I 2021-04-30 18:05:35,805]\u001b[0m Trial 64 finished with value: 0.330006605140709 and parameters: {'n_estimators': 1162, 'max_depth': 19, 'min_samples_split': 8, 'min_samples_leaf': 2, 'max_features': 9}. Best is trial 52 with value: 0.3295316850545407.\u001b[0m\n",
            "\u001b[32m[I 2021-04-30 18:07:34,827]\u001b[0m Trial 65 finished with value: 0.3288531975019619 and parameters: {'n_estimators': 1152, 'max_depth': 19, 'min_samples_split': 8, 'min_samples_leaf': 2, 'max_features': 10}. Best is trial 65 with value: 0.3288531975019619.\u001b[0m\n",
            "\u001b[32m[I 2021-04-30 18:09:27,203]\u001b[0m Trial 66 finished with value: 0.3280856985730119 and parameters: {'n_estimators': 1150, 'max_depth': 19, 'min_samples_split': 7, 'min_samples_leaf': 2, 'max_features': 9}. Best is trial 66 with value: 0.3280856985730119.\u001b[0m\n",
            "\u001b[32m[I 2021-04-30 18:11:28,690]\u001b[0m Trial 67 finished with value: 0.32849863644294786 and parameters: {'n_estimators': 1146, 'max_depth': 19, 'min_samples_split': 7, 'min_samples_leaf': 2, 'max_features': 10}. Best is trial 66 with value: 0.3280856985730119.\u001b[0m\n",
            "\u001b[32m[I 2021-04-30 18:13:14,821]\u001b[0m Trial 68 finished with value: 0.33095361193989187 and parameters: {'n_estimators': 1036, 'max_depth': 19, 'min_samples_split': 7, 'min_samples_leaf': 3, 'max_features': 10}. Best is trial 66 with value: 0.3280856985730119.\u001b[0m\n",
            "\u001b[32m[I 2021-04-30 18:14:10,406]\u001b[0m Trial 69 finished with value: 0.5571637889125273 and parameters: {'n_estimators': 1265, 'max_depth': 5, 'min_samples_split': 7, 'min_samples_leaf': 3, 'max_features': 10}. Best is trial 66 with value: 0.3280856985730119.\u001b[0m\n",
            "\u001b[32m[I 2021-04-30 18:16:01,098]\u001b[0m Trial 70 finished with value: 0.3376450708787855 and parameters: {'n_estimators': 1129, 'max_depth': 20, 'min_samples_split': 6, 'min_samples_leaf': 4, 'max_features': 10}. Best is trial 66 with value: 0.3280856985730119.\u001b[0m\n",
            "\u001b[32m[I 2021-04-30 18:17:56,336]\u001b[0m Trial 71 finished with value: 0.3293870295770403 and parameters: {'n_estimators': 1165, 'max_depth': 19, 'min_samples_split': 7, 'min_samples_leaf': 2, 'max_features': 9}. Best is trial 66 with value: 0.3280856985730119.\u001b[0m\n",
            "\u001b[32m[I 2021-04-30 18:19:53,413]\u001b[0m Trial 72 finished with value: 0.32924024802142 and parameters: {'n_estimators': 1161, 'max_depth': 19, 'min_samples_split': 6, 'min_samples_leaf': 2, 'max_features': 9}. Best is trial 66 with value: 0.3280856985730119.\u001b[0m\n",
            "\u001b[32m[I 2021-04-30 18:21:28,334]\u001b[0m Trial 73 finished with value: 0.33055441681822195 and parameters: {'n_estimators': 1036, 'max_depth': 19, 'min_samples_split': 6, 'min_samples_leaf': 2, 'max_features': 8}. Best is trial 66 with value: 0.3280856985730119.\u001b[0m\n",
            "\u001b[32m[I 2021-04-30 18:23:36,332]\u001b[0m Trial 74 finished with value: 0.32750604414986695 and parameters: {'n_estimators': 1235, 'max_depth': 20, 'min_samples_split': 5, 'min_samples_leaf': 2, 'max_features': 9}. Best is trial 74 with value: 0.32750604414986695.\u001b[0m\n",
            "\u001b[32m[I 2021-04-30 18:25:54,212]\u001b[0m Trial 75 finished with value: 0.3275628903210323 and parameters: {'n_estimators': 1251, 'max_depth': 20, 'min_samples_split': 4, 'min_samples_leaf': 2, 'max_features': 9}. Best is trial 74 with value: 0.32750604414986695.\u001b[0m\n",
            "\u001b[32m[I 2021-04-30 18:28:07,631]\u001b[0m Trial 76 finished with value: 0.3278087050292168 and parameters: {'n_estimators': 1233, 'max_depth': 20, 'min_samples_split': 4, 'min_samples_leaf': 2, 'max_features': 9}. Best is trial 74 with value: 0.32750604414986695.\u001b[0m\n",
            "\u001b[32m[I 2021-04-30 18:29:57,794]\u001b[0m Trial 77 finished with value: 0.3339896648608286 and parameters: {'n_estimators': 1229, 'max_depth': 20, 'min_samples_split': 4, 'min_samples_leaf': 3, 'max_features': 8}. Best is trial 74 with value: 0.32750604414986695.\u001b[0m\n",
            "\u001b[32m[I 2021-04-30 18:32:22,235]\u001b[0m Trial 78 finished with value: 0.32975461984544097 and parameters: {'n_estimators': 1328, 'max_depth': 20, 'min_samples_split': 4, 'min_samples_leaf': 2, 'max_features': 9}. Best is trial 74 with value: 0.32750604414986695.\u001b[0m\n",
            "\u001b[32m[I 2021-04-30 18:34:09,122]\u001b[0m Trial 79 finished with value: 0.3304044713782278 and parameters: {'n_estimators': 1070, 'max_depth': 20, 'min_samples_split': 3, 'min_samples_leaf': 2, 'max_features': 8}. Best is trial 74 with value: 0.32750604414986695.\u001b[0m\n",
            "\u001b[32m[I 2021-04-30 18:36:07,207]\u001b[0m Trial 80 finished with value: 0.3317610006057512 and parameters: {'n_estimators': 1191, 'max_depth': 19, 'min_samples_split': 5, 'min_samples_leaf': 3, 'max_features': 9}. Best is trial 74 with value: 0.32750604414986695.\u001b[0m\n",
            "\u001b[32m[I 2021-04-30 18:38:18,112]\u001b[0m Trial 81 finished with value: 0.32902684075684085 and parameters: {'n_estimators': 1244, 'max_depth': 19, 'min_samples_split': 5, 'min_samples_leaf': 2, 'max_features': 9}. Best is trial 74 with value: 0.32750604414986695.\u001b[0m\n",
            "\u001b[32m[I 2021-04-30 18:40:27,927]\u001b[0m Trial 82 finished with value: 0.32888131868597403 and parameters: {'n_estimators': 1235, 'max_depth': 19, 'min_samples_split': 5, 'min_samples_leaf': 2, 'max_features': 9}. Best is trial 74 with value: 0.32750604414986695.\u001b[0m\n",
            "\u001b[32m[I 2021-04-30 18:42:37,174]\u001b[0m Trial 83 finished with value: 0.32821279356146565 and parameters: {'n_estimators': 1243, 'max_depth': 20, 'min_samples_split': 5, 'min_samples_leaf': 2, 'max_features': 9}. Best is trial 74 with value: 0.32750604414986695.\u001b[0m\n",
            "\u001b[32m[I 2021-04-30 18:44:35,095]\u001b[0m Trial 84 finished with value: 0.32999590655421096 and parameters: {'n_estimators': 1241, 'max_depth': 20, 'min_samples_split': 5, 'min_samples_leaf': 2, 'max_features': 8}. Best is trial 74 with value: 0.32750604414986695.\u001b[0m\n",
            "\u001b[32m[I 2021-04-30 18:46:41,532]\u001b[0m Trial 85 finished with value: 0.33115600380790505 and parameters: {'n_estimators': 1292, 'max_depth': 20, 'min_samples_split': 4, 'min_samples_leaf': 3, 'max_features': 9}. Best is trial 74 with value: 0.32750604414986695.\u001b[0m\n",
            "\u001b[32m[I 2021-04-30 18:49:00,520]\u001b[0m Trial 86 finished with value: 0.32807024737043844 and parameters: {'n_estimators': 1330, 'max_depth': 20, 'min_samples_split': 5, 'min_samples_leaf': 2, 'max_features': 9}. Best is trial 74 with value: 0.32750604414986695.\u001b[0m\n",
            "\u001b[32m[I 2021-04-30 18:50:36,112]\u001b[0m Trial 87 finished with value: 0.35676972227711345 and parameters: {'n_estimators': 1328, 'max_depth': 20, 'min_samples_split': 4, 'min_samples_leaf': 8, 'max_features': 8}. Best is trial 74 with value: 0.32750604414986695.\u001b[0m\n",
            "\u001b[32m[I 2021-04-30 18:52:37,094]\u001b[0m Trial 88 finished with value: 0.32978458117096077 and parameters: {'n_estimators': 1126, 'max_depth': 20, 'min_samples_split': 3, 'min_samples_leaf': 2, 'max_features': 9}. Best is trial 74 with value: 0.32750604414986695.\u001b[0m\n",
            "\u001b[32m[I 2021-04-30 18:53:44,148]\u001b[0m Trial 89 finished with value: 0.4667363603435966 and parameters: {'n_estimators': 1350, 'max_depth': 7, 'min_samples_split': 5, 'min_samples_leaf': 2, 'max_features': 8}. Best is trial 74 with value: 0.32750604414986695.\u001b[0m\n",
            "\u001b[32m[I 2021-04-30 18:55:40,618]\u001b[0m Trial 90 finished with value: 0.33196527181190694 and parameters: {'n_estimators': 1198, 'max_depth': 19, 'min_samples_split': 5, 'min_samples_leaf': 3, 'max_features': 9}. Best is trial 74 with value: 0.32750604414986695.\u001b[0m\n",
            "\u001b[32m[I 2021-04-30 18:57:48,759]\u001b[0m Trial 91 finished with value: 0.32894326920008915 and parameters: {'n_estimators': 1243, 'max_depth': 19, 'min_samples_split': 5, 'min_samples_leaf': 2, 'max_features': 9}. Best is trial 74 with value: 0.32750604414986695.\u001b[0m\n",
            "\u001b[32m[I 2021-04-30 19:00:06,411]\u001b[0m Trial 92 finished with value: 0.3282575345769091 and parameters: {'n_estimators': 1285, 'max_depth': 20, 'min_samples_split': 4, 'min_samples_leaf': 2, 'max_features': 9}. Best is trial 74 with value: 0.32750604414986695.\u001b[0m\n",
            "\u001b[32m[I 2021-04-30 19:02:25,169]\u001b[0m Trial 93 finished with value: 0.32736979255690424 and parameters: {'n_estimators': 1290, 'max_depth': 20, 'min_samples_split': 4, 'min_samples_leaf': 2, 'max_features': 9}. Best is trial 93 with value: 0.32736979255690424.\u001b[0m\n",
            "\u001b[32m[I 2021-04-30 19:04:45,427]\u001b[0m Trial 94 finished with value: 0.33023343824551177 and parameters: {'n_estimators': 1305, 'max_depth': 20, 'min_samples_split': 4, 'min_samples_leaf': 2, 'max_features': 9}. Best is trial 93 with value: 0.32736979255690424.\u001b[0m\n",
            "\u001b[32m[I 2021-04-30 19:06:50,892]\u001b[0m Trial 95 finished with value: 0.3282804095230675 and parameters: {'n_estimators': 1278, 'max_depth': 20, 'min_samples_split': 4, 'min_samples_leaf': 2, 'max_features': 8}. Best is trial 93 with value: 0.32736979255690424.\u001b[0m\n",
            "\u001b[32m[I 2021-04-30 19:08:56,064]\u001b[0m Trial 96 finished with value: 0.33030474619304784 and parameters: {'n_estimators': 1277, 'max_depth': 20, 'min_samples_split': 3, 'min_samples_leaf': 2, 'max_features': 8}. Best is trial 93 with value: 0.32736979255690424.\u001b[0m\n",
            "\u001b[32m[I 2021-04-30 19:10:36,248]\u001b[0m Trial 97 finished with value: 0.3449791935546488 and parameters: {'n_estimators': 1402, 'max_depth': 20, 'min_samples_split': 3, 'min_samples_leaf': 3, 'max_features': 6}. Best is trial 93 with value: 0.32736979255690424.\u001b[0m\n",
            "\u001b[32m[I 2021-04-30 19:12:24,905]\u001b[0m Trial 98 finished with value: 0.3485319618192639 and parameters: {'n_estimators': 1349, 'max_depth': 20, 'min_samples_split': 4, 'min_samples_leaf': 7, 'max_features': 9}. Best is trial 93 with value: 0.32736979255690424.\u001b[0m\n",
            "\u001b[32m[I 2021-04-30 19:14:17,430]\u001b[0m Trial 99 finished with value: 0.33252704959538126 and parameters: {'n_estimators': 1282, 'max_depth': 20, 'min_samples_split': 4, 'min_samples_leaf': 2, 'max_features': 7}. Best is trial 93 with value: 0.32736979255690424.\u001b[0m\n"
          ],
          "name": "stderr"
        },
        {
          "output_type": "stream",
          "text": [
            "Best score: 0.32736979255690424\n",
            "\n",
            "Optimized parameters: {'n_estimators': 1290, 'max_depth': 20, 'min_samples_split': 4, 'min_samples_leaf': 2, 'max_features': 9}\n",
            "\n"
          ],
          "name": "stdout"
        }
      ]
    },
    {
      "cell_type": "code",
      "metadata": {
        "id": "34e06DIi45Fv",
        "colab": {
          "base_uri": "https://localhost:8080/"
        },
        "outputId": "d7d65e17-f372-4344-d35f-8680118c07e4"
      },
      "source": [
        "rfc = RandomForestRegressor(n_estimators = 1290, max_depth = 20, min_samples_leaf = 2, min_samples_split = 4, max_features=9)\n",
        "rfc.fit(X_train, y_train)\n",
        "y_pred_train = rfc.predict(X_train)\n",
        "y_pred_test = rfc.predict(X_test)\n",
        "mse_train = mean_squared_error(y_train,y_pred_train)\n",
        "rmse_train = sqrt(mse_train)\n",
        "mape_train = mean_absolute_percentage_error(y_train, y_pred_train)\n",
        "\n",
        "print(\"MSE train: \" + str(mse_train))\n",
        "print(\"RMSE train: \" + str(rmse_train))\n",
        "print(\"MAPE train: \" + str(mape_train))\n",
        "\n",
        "mse_test = mean_squared_error(y_test,y_pred_test)\n",
        "rmse_test = sqrt(mse_test)\n",
        "mape_test = mean_absolute_percentage_error(y_test, y_pred_test)\n",
        "\n",
        "print(\"MSE test: \" + str(mse_test))\n",
        "print(\"RMSE test: \" + str(rmse_test))\n",
        "print(\"MAPE test: \" + str(mape_test))"
      ],
      "execution_count": 117,
      "outputs": [
        {
          "output_type": "stream",
          "text": [
            "MSE train: 0.03176329371668746\n",
            "RMSE train: 0.17822259597673765\n",
            "MAPE train: 3.9864772301539357\n",
            "MSE test: 0.10932166644619125\n",
            "RMSE test: 0.33063827129688306\n",
            "MAPE test: 7.745737797793016\n"
          ],
          "name": "stdout"
        }
      ]
    },
    {
      "cell_type": "code",
      "metadata": {
        "id": "3fwV1tZV45q8",
        "colab": {
          "base_uri": "https://localhost:8080/"
        },
        "outputId": "15016688-26f2-4c26-abf3-0bbd59207da3"
      },
      "source": [
        "##################\n",
        "# XGBoost\n",
        "##################\n",
        "def xgboost_objective(trial):\n",
        "    _colsample_bytree = trial.suggest_float(\"colsample_bytree\", 0.1, 0.9, log = True)\n",
        "    _gamma = trial.suggest_int(\"gamma\", 0, 10)\n",
        "    _learning_rate = trial.suggest_float(\"learning_rate\", 0.1, 0.6, log = True)\n",
        "    _max_depth = trial.suggest_int(\"max_depth\", 3, 9)\n",
        "    _min_child_weight = trial.suggest_int(\"min_child_weight\", 1, 9)\n",
        "    _reg_alpha = trial.suggest_float(\"reg_alpha\", 0.3, 0.9, log = True)\n",
        "    _reg_lambda = trial.suggest_float(\"reg_lambda\", 0.3, 0.9, log = True)\n",
        "    _subsample = trial.suggest_float(\"subsample\", 0.1, 0.9, log = True)\n",
        "    xgb = xgboost.XGBRegressor(\n",
        "        colsample_bytree=_colsample_bytree,\n",
        "        gamma = _gamma,\n",
        "        learning_rate = _learning_rate,\n",
        "        max_depth = _max_depth,\n",
        "        min_child_weight = _min_child_weight,\n",
        "        reg_alpha = _reg_alpha,\n",
        "        reg_lambda = _reg_lambda,\n",
        "        subsample = _subsample,\n",
        "        n_jobs=-1,\n",
        "    )\n",
        "\n",
        "    scores = rmse(xgb, X_train, y_train)\n",
        "    return scores.mean()\n",
        "\n",
        "xgboost_params = tune(xgboost_objective)\n",
        "xgb = xgboost.XGBRegressor(n_jobs=-1, **xgboost_params)"
      ],
      "execution_count": 122,
      "outputs": [
        {
          "output_type": "stream",
          "text": [
            "\u001b[32m[I 2021-04-30 19:29:11,879]\u001b[0m A new study created in memory with name: no-name-51350111-1c6b-44b7-a8a8-6c8651779ca5\u001b[0m\n",
            "\u001b[32m[I 2021-04-30 19:29:14,863]\u001b[0m Trial 0 finished with value: 0.6138487817044285 and parameters: {'colsample_bytree': 0.1433829591027519, 'gamma': 9, 'learning_rate': 0.5418920387151301, 'max_depth': 5, 'min_child_weight': 6, 'reg_alpha': 0.3560585859280607, 'reg_lambda': 0.3939883445029901, 'subsample': 0.23977971946722648}. Best is trial 0 with value: 0.6138487817044285.\u001b[0m\n",
            "\u001b[32m[I 2021-04-30 19:29:17,196]\u001b[0m Trial 1 finished with value: 0.5809507798852547 and parameters: {'colsample_bytree': 0.20647128903789888, 'gamma': 4, 'learning_rate': 0.13958462837994307, 'max_depth': 6, 'min_child_weight': 5, 'reg_alpha': 0.3783713421784834, 'reg_lambda': 0.8039125004051227, 'subsample': 0.4935203589373021}. Best is trial 1 with value: 0.5809507798852547.\u001b[0m\n",
            "\u001b[32m[I 2021-04-30 19:29:19,040]\u001b[0m Trial 2 finished with value: 0.5674988481823786 and parameters: {'colsample_bytree': 0.19427055945743787, 'gamma': 4, 'learning_rate': 0.50168273909781, 'max_depth': 4, 'min_child_weight': 6, 'reg_alpha': 0.6120738047570929, 'reg_lambda': 0.3130330458394308, 'subsample': 0.29489084659854375}. Best is trial 2 with value: 0.5674988481823786.\u001b[0m\n",
            "\u001b[32m[I 2021-04-30 19:29:22,987]\u001b[0m Trial 3 finished with value: 0.37672657638656937 and parameters: {'colsample_bytree': 0.40690064902903816, 'gamma': 5, 'learning_rate': 0.5105610020584561, 'max_depth': 7, 'min_child_weight': 5, 'reg_alpha': 0.3335279543569962, 'reg_lambda': 0.36270678081831925, 'subsample': 0.6119710629653525}. Best is trial 3 with value: 0.37672657638656937.\u001b[0m\n",
            "\u001b[32m[I 2021-04-30 19:29:26,546]\u001b[0m Trial 4 finished with value: 0.3495471692290565 and parameters: {'colsample_bytree': 0.6304466826235751, 'gamma': 3, 'learning_rate': 0.40909809420024396, 'max_depth': 5, 'min_child_weight': 6, 'reg_alpha': 0.490070292287005, 'reg_lambda': 0.610087263977265, 'subsample': 0.6365571786223263}. Best is trial 4 with value: 0.3495471692290565.\u001b[0m\n",
            "\u001b[32m[I 2021-04-30 19:29:28,738]\u001b[0m Trial 5 finished with value: 0.5804462119212798 and parameters: {'colsample_bytree': 0.2712926833401941, 'gamma': 10, 'learning_rate': 0.5959564715014293, 'max_depth': 6, 'min_child_weight': 5, 'reg_alpha': 0.39357550574489064, 'reg_lambda': 0.6628053988414226, 'subsample': 0.35651097406324145}. Best is trial 4 with value: 0.3495471692290565.\u001b[0m\n",
            "\u001b[32m[I 2021-04-30 19:29:30,520]\u001b[0m Trial 6 finished with value: 0.5431108438394224 and parameters: {'colsample_bytree': 0.3248458464897487, 'gamma': 4, 'learning_rate': 0.11805701797408406, 'max_depth': 3, 'min_child_weight': 1, 'reg_alpha': 0.4107488028180776, 'reg_lambda': 0.6226613647105791, 'subsample': 0.27266353440727836}. Best is trial 4 with value: 0.3495471692290565.\u001b[0m\n",
            "\u001b[32m[I 2021-04-30 19:29:31,960]\u001b[0m Trial 7 finished with value: 0.7494064140032888 and parameters: {'colsample_bytree': 0.141601076699943, 'gamma': 10, 'learning_rate': 0.12329626251382195, 'max_depth': 6, 'min_child_weight': 4, 'reg_alpha': 0.7662611481785497, 'reg_lambda': 0.727449492703978, 'subsample': 0.17018208968955864}. Best is trial 4 with value: 0.3495471692290565.\u001b[0m\n",
            "\u001b[32m[I 2021-04-30 19:29:36,516]\u001b[0m Trial 8 finished with value: 0.31169174799458277 and parameters: {'colsample_bytree': 0.7112091904589048, 'gamma': 0, 'learning_rate': 0.12302804623577912, 'max_depth': 6, 'min_child_weight': 3, 'reg_alpha': 0.45909107487209694, 'reg_lambda': 0.34887443743535473, 'subsample': 0.7791872375667411}. Best is trial 8 with value: 0.31169174799458277.\u001b[0m\n",
            "\u001b[32m[I 2021-04-30 19:29:38,343]\u001b[0m Trial 9 finished with value: 0.6202551973204569 and parameters: {'colsample_bytree': 0.1383283055012641, 'gamma': 0, 'learning_rate': 0.23856034928941272, 'max_depth': 8, 'min_child_weight': 2, 'reg_alpha': 0.43691546514893487, 'reg_lambda': 0.41880664441393417, 'subsample': 0.41218568044552173}. Best is trial 8 with value: 0.31169174799458277.\u001b[0m\n",
            "\u001b[32m[I 2021-04-30 19:29:45,751]\u001b[0m Trial 10 finished with value: 0.3112934993046209 and parameters: {'colsample_bytree': 0.8046362709561401, 'gamma': 0, 'learning_rate': 0.19053769831540998, 'max_depth': 9, 'min_child_weight': 9, 'reg_alpha': 0.6580437166304052, 'reg_lambda': 0.48018308866809783, 'subsample': 0.8606706030856703}. Best is trial 10 with value: 0.3112934993046209.\u001b[0m\n",
            "\u001b[32m[I 2021-04-30 19:29:53,718]\u001b[0m Trial 11 finished with value: 0.3088461810776496 and parameters: {'colsample_bytree': 0.8448027585286013, 'gamma': 0, 'learning_rate': 0.18563486284363986, 'max_depth': 9, 'min_child_weight': 9, 'reg_alpha': 0.6277883490225235, 'reg_lambda': 0.4875176475331465, 'subsample': 0.8485351030779251}. Best is trial 11 with value: 0.3088461810776496.\u001b[0m\n",
            "\u001b[32m[I 2021-04-30 19:30:01,355]\u001b[0m Trial 12 finished with value: 0.31934109274522715 and parameters: {'colsample_bytree': 0.8805420471559668, 'gamma': 1, 'learning_rate': 0.2033805868671912, 'max_depth': 9, 'min_child_weight': 9, 'reg_alpha': 0.6753922568310514, 'reg_lambda': 0.48191192983480174, 'subsample': 0.88802416297265}. Best is trial 11 with value: 0.3088461810776496.\u001b[0m\n",
            "\u001b[32m[I 2021-04-30 19:30:05,511]\u001b[0m Trial 13 finished with value: 0.38099588068122586 and parameters: {'colsample_bytree': 0.5470585401458373, 'gamma': 2, 'learning_rate': 0.17709783912301766, 'max_depth': 9, 'min_child_weight': 9, 'reg_alpha': 0.8494427034607688, 'reg_lambda': 0.4986200953221476, 'subsample': 0.1088799658094063}. Best is trial 11 with value: 0.3088461810776496.\u001b[0m\n",
            "\u001b[32m[I 2021-04-30 19:30:12,247]\u001b[0m Trial 14 finished with value: 0.35462487273879295 and parameters: {'colsample_bytree': 0.8854645611700002, 'gamma': 7, 'learning_rate': 0.32362751869548806, 'max_depth': 8, 'min_child_weight': 8, 'reg_alpha': 0.6082255741393584, 'reg_lambda': 0.5396169637760143, 'subsample': 0.8907123325903379}. Best is trial 11 with value: 0.3088461810776496.\u001b[0m\n",
            "\u001b[32m[I 2021-04-30 19:30:17,459]\u001b[0m Trial 15 finished with value: 0.3366820201195191 and parameters: {'colsample_bytree': 0.48225402921608357, 'gamma': 0, 'learning_rate': 0.16383957847903116, 'max_depth': 8, 'min_child_weight': 8, 'reg_alpha': 0.549029912910674, 'reg_lambda': 0.443946545307219, 'subsample': 0.6617274888892078}. Best is trial 11 with value: 0.3088461810776496.\u001b[0m\n",
            "\u001b[32m[I 2021-04-30 19:30:25,554]\u001b[0m Trial 16 finished with value: 0.336835119436114 and parameters: {'colsample_bytree': 0.8750060433442738, 'gamma': 2, 'learning_rate': 0.28822099186381567, 'max_depth': 9, 'min_child_weight': 8, 'reg_alpha': 0.7552064299575292, 'reg_lambda': 0.5443531441020792, 'subsample': 0.4812185448324111}. Best is trial 11 with value: 0.3088461810776496.\u001b[0m\n",
            "\u001b[32m[I 2021-04-30 19:30:31,483]\u001b[0m Trial 17 finished with value: 0.3563925945606364 and parameters: {'colsample_bytree': 0.6881755793646833, 'gamma': 6, 'learning_rate': 0.22653185142281132, 'max_depth': 8, 'min_child_weight': 7, 'reg_alpha': 0.8824884079360026, 'reg_lambda': 0.45674452568913343, 'subsample': 0.8896385645736553}. Best is trial 11 with value: 0.3088461810776496.\u001b[0m\n",
            "\u001b[32m[I 2021-04-30 19:30:34,697]\u001b[0m Trial 18 finished with value: 0.3842997090375161 and parameters: {'colsample_bytree': 0.4031960648212486, 'gamma': 1, 'learning_rate': 0.16150970574013196, 'max_depth': 7, 'min_child_weight': 9, 'reg_alpha': 0.5358098584179659, 'reg_lambda': 0.5558865405592606, 'subsample': 0.18990689342911427}. Best is trial 11 with value: 0.3088461810776496.\u001b[0m\n",
            "\u001b[32m[I 2021-04-30 19:30:36,519]\u001b[0m Trial 19 finished with value: 0.6031352462083677 and parameters: {'colsample_bytree': 0.102500089954652, 'gamma': 2, 'learning_rate': 0.3232875516803783, 'max_depth': 9, 'min_child_weight': 7, 'reg_alpha': 0.6854604711316462, 'reg_lambda': 0.30042521059950755, 'subsample': 0.5290470678867524}. Best is trial 11 with value: 0.3088461810776496.\u001b[0m\n",
            "\u001b[32m[I 2021-04-30 19:30:42,149]\u001b[0m Trial 20 finished with value: 0.31866351507005153 and parameters: {'colsample_bytree': 0.7597918411747502, 'gamma': 1, 'learning_rate': 0.20625860693722978, 'max_depth': 7, 'min_child_weight': 9, 'reg_alpha': 0.6090784488872445, 'reg_lambda': 0.3807018037793108, 'subsample': 0.7531613147052891}. Best is trial 11 with value: 0.3088461810776496.\u001b[0m\n",
            "\u001b[32m[I 2021-04-30 19:30:44,452]\u001b[0m Trial 21 finished with value: 0.38417037888154904 and parameters: {'colsample_bytree': 0.6037893460346574, 'gamma': 0, 'learning_rate': 0.1399103205398311, 'max_depth': 3, 'min_child_weight': 3, 'reg_alpha': 0.4605932539267591, 'reg_lambda': 0.330559246634778, 'subsample': 0.7442464266234604}. Best is trial 11 with value: 0.3088461810776496.\u001b[0m\n",
            "\u001b[32m[I 2021-04-30 19:30:47,509]\u001b[0m Trial 22 finished with value: 0.33682177662934243 and parameters: {'colsample_bytree': 0.7495941971585196, 'gamma': 0, 'learning_rate': 0.1107885339089466, 'max_depth': 4, 'min_child_weight': 3, 'reg_alpha': 0.5518754205790823, 'reg_lambda': 0.3425861465395208, 'subsample': 0.8636804006139639}. Best is trial 11 with value: 0.3088461810776496.\u001b[0m\n",
            "\u001b[32m[I 2021-04-30 19:30:55,852]\u001b[0m Trial 23 finished with value: 0.32057784229794006 and parameters: {'colsample_bytree': 0.8970115549086448, 'gamma': 1, 'learning_rate': 0.1855134970187697, 'max_depth': 9, 'min_child_weight': 2, 'reg_alpha': 0.6921873206445038, 'reg_lambda': 0.408653293563095, 'subsample': 0.7433912529757135}. Best is trial 11 with value: 0.3088461810776496.\u001b[0m\n",
            "\u001b[32m[I 2021-04-30 19:31:00,689]\u001b[0m Trial 24 finished with value: 0.343157985416947 and parameters: {'colsample_bytree': 0.49211309855976426, 'gamma': 0, 'learning_rate': 0.1360715531288398, 'max_depth': 7, 'min_child_weight': 1, 'reg_alpha': 0.4893562522550087, 'reg_lambda': 0.44381414633076527, 'subsample': 0.5487821554254866}. Best is trial 11 with value: 0.3088461810776496.\u001b[0m\n",
            "\u001b[32m[I 2021-04-30 19:31:07,213]\u001b[0m Trial 25 finished with value: 0.34420174120682956 and parameters: {'colsample_bytree': 0.7621632572045371, 'gamma': 3, 'learning_rate': 0.27034808568294244, 'max_depth': 8, 'min_child_weight': 4, 'reg_alpha': 0.7871866245602542, 'reg_lambda': 0.4848654331110444, 'subsample': 0.3813496483579781}. Best is trial 11 with value: 0.3088461810776496.\u001b[0m\n",
            "\u001b[32m[I 2021-04-30 19:31:10,700]\u001b[0m Trial 26 finished with value: 0.34308891950602194 and parameters: {'colsample_bytree': 0.610526624659247, 'gamma': 2, 'learning_rate': 0.10379292160738199, 'max_depth': 5, 'min_child_weight': 3, 'reg_alpha': 0.578879870296978, 'reg_lambda': 0.5813306129606718, 'subsample': 0.8121509884234801}. Best is trial 11 with value: 0.3088461810776496.\u001b[0m\n",
            "\u001b[32m[I 2021-04-30 19:31:13,264]\u001b[0m Trial 27 finished with value: 0.39035698236620303 and parameters: {'colsample_bytree': 0.4377585680733751, 'gamma': 1, 'learning_rate': 0.15423756160338398, 'max_depth': 4, 'min_child_weight': 7, 'reg_alpha': 0.30083972468015774, 'reg_lambda': 0.36314760622751463, 'subsample': 0.6355064893852226}. Best is trial 11 with value: 0.3088461810776496.\u001b[0m\n",
            "\u001b[32m[I 2021-04-30 19:31:18,585]\u001b[0m Trial 28 finished with value: 0.43570350602889396 and parameters: {'colsample_bytree': 0.736763414243377, 'gamma': 8, 'learning_rate': 0.19729893149534258, 'max_depth': 9, 'min_child_weight': 4, 'reg_alpha': 0.6451757013034786, 'reg_lambda': 0.5106314927222847, 'subsample': 0.11336605437253396}. Best is trial 11 with value: 0.3088461810776496.\u001b[0m\n",
            "\u001b[32m[I 2021-04-30 19:31:22,012]\u001b[0m Trial 29 finished with value: 0.4404726944598297 and parameters: {'colsample_bytree': 0.3314822697856064, 'gamma': 3, 'learning_rate': 0.22312957799307143, 'max_depth': 8, 'min_child_weight': 8, 'reg_alpha': 0.5059526727015566, 'reg_lambda': 0.40284128594772756, 'subsample': 0.4615507406240343}. Best is trial 11 with value: 0.3088461810776496.\u001b[0m\n",
            "\u001b[32m[I 2021-04-30 19:31:26,600]\u001b[0m Trial 30 finished with value: 0.3460301614600649 and parameters: {'colsample_bytree': 0.5271091216754367, 'gamma': 0, 'learning_rate': 0.10190607630948886, 'max_depth': 7, 'min_child_weight': 2, 'reg_alpha': 0.45437268411333415, 'reg_lambda': 0.6974063527021702, 'subsample': 0.7050696807400976}. Best is trial 11 with value: 0.3088461810776496.\u001b[0m\n",
            "\u001b[32m[I 2021-04-30 19:31:31,331]\u001b[0m Trial 31 finished with value: 0.3185956336731434 and parameters: {'colsample_bytree': 0.7852479947921255, 'gamma': 1, 'learning_rate': 0.20908940834571227, 'max_depth': 6, 'min_child_weight': 9, 'reg_alpha': 0.605757250319739, 'reg_lambda': 0.3786605577877697, 'subsample': 0.7642512365594982}. Best is trial 11 with value: 0.3088461810776496.\u001b[0m\n",
            "\u001b[32m[I 2021-04-30 19:31:36,708]\u001b[0m Trial 32 finished with value: 0.3251691984525652 and parameters: {'colsample_bytree': 0.8257720578608059, 'gamma': 1, 'learning_rate': 0.25055342148067283, 'max_depth': 6, 'min_child_weight': 9, 'reg_alpha': 0.7152500038217107, 'reg_lambda': 0.3795009722653994, 'subsample': 0.5642177201795462}. Best is trial 11 with value: 0.3088461810776496.\u001b[0m\n",
            "\u001b[32m[I 2021-04-30 19:31:40,402]\u001b[0m Trial 33 finished with value: 0.3129148835907462 and parameters: {'colsample_bytree': 0.661222563630093, 'gamma': 0, 'learning_rate': 0.17788491063858503, 'max_depth': 5, 'min_child_weight': 8, 'reg_alpha': 0.6499059951315777, 'reg_lambda': 0.31369360106521205, 'subsample': 0.8018705183578813}. Best is trial 11 with value: 0.3088461810776496.\u001b[0m\n",
            "\u001b[32m[I 2021-04-30 19:31:43,980]\u001b[0m Trial 34 finished with value: 0.31418223253361255 and parameters: {'colsample_bytree': 0.6763956625616329, 'gamma': 0, 'learning_rate': 0.1473900449481814, 'max_depth': 5, 'min_child_weight': 8, 'reg_alpha': 0.6324814044410844, 'reg_lambda': 0.3013007918747645, 'subsample': 0.8751821974998778}. Best is trial 11 with value: 0.3088461810776496.\u001b[0m\n",
            "\u001b[32m[I 2021-04-30 19:31:46,912]\u001b[0m Trial 35 finished with value: 0.3524184134314833 and parameters: {'colsample_bytree': 0.5884835838412187, 'gamma': 2, 'learning_rate': 0.17434363707643732, 'max_depth': 4, 'min_child_weight': 7, 'reg_alpha': 0.6527392821210464, 'reg_lambda': 0.32737732252205765, 'subsample': 0.6261131720408917}. Best is trial 11 with value: 0.3088461810776496.\u001b[0m\n",
            "\u001b[32m[I 2021-04-30 19:31:49,017]\u001b[0m Trial 36 finished with value: 0.578280607830113 and parameters: {'colsample_bytree': 0.24971888631288341, 'gamma': 0, 'learning_rate': 0.1280469989809612, 'max_depth': 5, 'min_child_weight': 6, 'reg_alpha': 0.5715092870943566, 'reg_lambda': 0.34763637494378014, 'subsample': 0.8218409959752543}. Best is trial 11 with value: 0.3088461810776496.\u001b[0m\n",
            "\u001b[32m[I 2021-04-30 19:31:52,883]\u001b[0m Trial 37 finished with value: 0.3543594181161592 and parameters: {'colsample_bytree': 0.6689856846311203, 'gamma': 4, 'learning_rate': 0.18426842121448506, 'max_depth': 5, 'min_child_weight': 5, 'reg_alpha': 0.3646944880044057, 'reg_lambda': 0.8598524225553703, 'subsample': 0.59076665327425}. Best is trial 11 with value: 0.3088461810776496.\u001b[0m\n",
            "\u001b[32m[I 2021-04-30 19:31:55,397]\u001b[0m Trial 38 finished with value: 0.39948122149321 and parameters: {'colsample_bytree': 0.3875450832256105, 'gamma': 3, 'learning_rate': 0.16672792602307707, 'max_depth': 4, 'min_child_weight': 6, 'reg_alpha': 0.8147277975816498, 'reg_lambda': 0.4252963166711176, 'subsample': 0.7081366248992669}. Best is trial 11 with value: 0.3088461810776496.\u001b[0m\n",
            "\u001b[32m[I 2021-04-30 19:31:57,532]\u001b[0m Trial 39 finished with value: 0.41786867890340884 and parameters: {'colsample_bytree': 0.5436892485838964, 'gamma': 1, 'learning_rate': 0.15021672303499026, 'max_depth': 3, 'min_child_weight': 8, 'reg_alpha': 0.7229235602226202, 'reg_lambda': 0.30865044284726095, 'subsample': 0.31611242537832307}. Best is trial 11 with value: 0.3088461810776496.\u001b[0m\n",
            "\u001b[32m[I 2021-04-30 19:31:59,245]\u001b[0m Trial 40 finished with value: 0.7354984764326101 and parameters: {'colsample_bytree': 0.16923395689758752, 'gamma': 0, 'learning_rate': 0.11760894321450323, 'max_depth': 6, 'min_child_weight': 9, 'reg_alpha': 0.40897988613519265, 'reg_lambda': 0.6213395659048976, 'subsample': 0.6674801116439262}. Best is trial 11 with value: 0.3088461810776496.\u001b[0m\n",
            "\u001b[32m[I 2021-04-30 19:32:02,865]\u001b[0m Trial 41 finished with value: 0.31381116083571736 and parameters: {'colsample_bytree': 0.6710711236332779, 'gamma': 0, 'learning_rate': 0.14342004418573256, 'max_depth': 5, 'min_child_weight': 8, 'reg_alpha': 0.6379686507442937, 'reg_lambda': 0.31944774381247193, 'subsample': 0.8817368225934057}. Best is trial 11 with value: 0.3088461810776496.\u001b[0m\n",
            "\u001b[32m[I 2021-04-30 19:32:06,601]\u001b[0m Trial 42 finished with value: 0.3154333733203639 and parameters: {'colsample_bytree': 0.6844837892822281, 'gamma': 0, 'learning_rate': 0.1354460417592191, 'max_depth': 5, 'min_child_weight': 8, 'reg_alpha': 0.5823137518441598, 'reg_lambda': 0.3130189338084877, 'subsample': 0.808893583461338}. Best is trial 11 with value: 0.3088461810776496.\u001b[0m\n",
            "\u001b[32m[I 2021-04-30 19:32:10,550]\u001b[0m Trial 43 finished with value: 0.31722055180434605 and parameters: {'colsample_bytree': 0.8992076119959365, 'gamma': 1, 'learning_rate': 0.1891819828650967, 'max_depth': 5, 'min_child_weight': 7, 'reg_alpha': 0.7332730953632972, 'reg_lambda': 0.3249855859734537, 'subsample': 0.8980836016567609}. Best is trial 11 with value: 0.3088461810776496.\u001b[0m\n",
            "\u001b[32m[I 2021-04-30 19:32:13,617]\u001b[0m Trial 44 finished with value: 0.34675927426674497 and parameters: {'colsample_bytree': 0.8203012074054172, 'gamma': 2, 'learning_rate': 0.13022720056046247, 'max_depth': 4, 'min_child_weight': 9, 'reg_alpha': 0.5191291065062925, 'reg_lambda': 0.3526101166115297, 'subsample': 0.8998259934987408}. Best is trial 11 with value: 0.3088461810776496.\u001b[0m\n",
            "\u001b[32m[I 2021-04-30 19:32:17,774]\u001b[0m Trial 45 finished with value: 0.3129124415266568 and parameters: {'colsample_bytree': 0.6301142373316588, 'gamma': 0, 'learning_rate': 0.14797920071327503, 'max_depth': 6, 'min_child_weight': 8, 'reg_alpha': 0.6540410169472683, 'reg_lambda': 0.46618658190097084, 'subsample': 0.7970800283274153}. Best is trial 11 with value: 0.3088461810776496.\u001b[0m\n",
            "\u001b[32m[I 2021-04-30 19:32:21,660]\u001b[0m Trial 46 finished with value: 0.3372066336029397 and parameters: {'colsample_bytree': 0.4789318228871958, 'gamma': 1, 'learning_rate': 0.17159348467821428, 'max_depth': 6, 'min_child_weight': 9, 'reg_alpha': 0.6738734332413344, 'reg_lambda': 0.4724830947103478, 'subsample': 0.6830609565621598}. Best is trial 11 with value: 0.3088461810776496.\u001b[0m\n",
            "\u001b[32m[I 2021-04-30 19:32:26,802]\u001b[0m Trial 47 finished with value: 0.3212101207163468 and parameters: {'colsample_bytree': 0.6055642036285107, 'gamma': 0, 'learning_rate': 0.11546051620654432, 'max_depth': 7, 'min_child_weight': 5, 'reg_alpha': 0.4855574233803394, 'reg_lambda': 0.5326333399908925, 'subsample': 0.4361219427641003}. Best is trial 11 with value: 0.3088461810776496.\u001b[0m\n",
            "\u001b[32m[I 2021-04-30 19:32:29,301]\u001b[0m Trial 48 finished with value: 0.4700327177529169 and parameters: {'colsample_bytree': 0.3543601735590023, 'gamma': 5, 'learning_rate': 0.21977796110697384, 'max_depth': 6, 'min_child_weight': 7, 'reg_alpha': 0.8150115443558134, 'reg_lambda': 0.5738795154155594, 'subsample': 0.22839658011643546}. Best is trial 11 with value: 0.3088461810776496.\u001b[0m\n",
            "\u001b[32m[I 2021-04-30 19:32:34,361]\u001b[0m Trial 49 finished with value: 0.37948775021319137 and parameters: {'colsample_bytree': 0.5645151526748456, 'gamma': 9, 'learning_rate': 0.24486676826874468, 'max_depth': 7, 'min_child_weight': 8, 'reg_alpha': 0.7038421279777156, 'reg_lambda': 0.4272704769742371, 'subsample': 0.5026831648956801}. Best is trial 11 with value: 0.3088461810776496.\u001b[0m\n",
            "\u001b[32m[I 2021-04-30 19:32:39,680]\u001b[0m Trial 50 finished with value: 0.3310303728799484 and parameters: {'colsample_bytree': 0.832006986570317, 'gamma': 2, 'learning_rate': 0.19478719516631746, 'max_depth': 6, 'min_child_weight': 6, 'reg_alpha': 0.749419201408484, 'reg_lambda': 0.5000257098636326, 'subsample': 0.5938478525880165}. Best is trial 11 with value: 0.3088461810776496.\u001b[0m\n",
            "\u001b[32m[I 2021-04-30 19:32:43,472]\u001b[0m Trial 51 finished with value: 0.31267687528225613 and parameters: {'colsample_bytree': 0.6535555166266654, 'gamma': 0, 'learning_rate': 0.15639759439423967, 'max_depth': 5, 'min_child_weight': 8, 'reg_alpha': 0.6333205012336396, 'reg_lambda': 0.4735614718903169, 'subsample': 0.8062636365678028}. Best is trial 11 with value: 0.3088461810776496.\u001b[0m\n",
            "\u001b[32m[I 2021-04-30 19:32:47,134]\u001b[0m Trial 52 finished with value: 0.3231144025445248 and parameters: {'colsample_bytree': 0.7264990434462244, 'gamma': 1, 'learning_rate': 0.15877407347466183, 'max_depth': 5, 'min_child_weight': 8, 'reg_alpha': 0.5976754752551714, 'reg_lambda': 0.4661202282811354, 'subsample': 0.794028683608766}. Best is trial 11 with value: 0.3088461810776496.\u001b[0m\n",
            "\u001b[32m[I 2021-04-30 19:32:50,219]\u001b[0m Trial 53 finished with value: 0.3257843316209489 and parameters: {'colsample_bytree': 0.6449976551113125, 'gamma': 0, 'learning_rate': 0.17575904563260594, 'max_depth': 4, 'min_child_weight': 9, 'reg_alpha': 0.6576526652485912, 'reg_lambda': 0.4448873797305147, 'subsample': 0.7089170939810246}. Best is trial 11 with value: 0.3088461810776496.\u001b[0m\n",
            "\u001b[32m[I 2021-04-30 19:32:54,038]\u001b[0m Trial 54 finished with value: 0.3294451541334403 and parameters: {'colsample_bytree': 0.4912988974966417, 'gamma': 0, 'learning_rate': 0.15495783643776312, 'max_depth': 6, 'min_child_weight': 7, 'reg_alpha': 0.5543097978633806, 'reg_lambda': 0.48474972014852274, 'subsample': 0.81364608762613}. Best is trial 11 with value: 0.3088461810776496.\u001b[0m\n",
            "\u001b[32m[I 2021-04-30 19:33:02,170]\u001b[0m Trial 55 finished with value: 0.31502735283293004 and parameters: {'colsample_bytree': 0.8321075528975947, 'gamma': 1, 'learning_rate': 0.1267139691396886, 'max_depth': 9, 'min_child_weight': 8, 'reg_alpha': 0.6218539819408121, 'reg_lambda': 0.5130672276028111, 'subsample': 0.7545879533083054}. Best is trial 11 with value: 0.3088461810776496.\u001b[0m\n",
            "\u001b[32m[I 2021-04-30 19:33:08,602]\u001b[0m Trial 56 finished with value: 0.3128850478866037 and parameters: {'colsample_bytree': 0.7163585617766933, 'gamma': 0, 'learning_rate': 0.164003996381917, 'max_depth': 8, 'min_child_weight': 9, 'reg_alpha': 0.6706785066408636, 'reg_lambda': 0.5299149340171645, 'subsample': 0.6461477207799807}. Best is trial 11 with value: 0.3088461810776496.\u001b[0m\n",
            "\u001b[32m[I 2021-04-30 19:33:15,318]\u001b[0m Trial 57 finished with value: 0.35459595833049923 and parameters: {'colsample_bytree': 0.7283389659609942, 'gamma': 6, 'learning_rate': 0.1105233955943613, 'max_depth': 8, 'min_child_weight': 9, 'reg_alpha': 0.6748838480353483, 'reg_lambda': 0.5638245941198211, 'subsample': 0.6464202110458876}. Best is trial 11 with value: 0.3088461810776496.\u001b[0m\n",
            "\u001b[32m[I 2021-04-30 19:33:23,041]\u001b[0m Trial 58 finished with value: 0.31771375612532127 and parameters: {'colsample_bytree': 0.7823712581934963, 'gamma': 1, 'learning_rate': 0.14345993588551062, 'max_depth': 9, 'min_child_weight': 9, 'reg_alpha': 0.5267859510361242, 'reg_lambda': 0.5270857094695042, 'subsample': 0.5889437246414059}. Best is trial 11 with value: 0.3088461810776496.\u001b[0m\n",
            "\u001b[32m[I 2021-04-30 19:33:30,774]\u001b[0m Trial 59 finished with value: 0.3172464972851349 and parameters: {'colsample_bytree': 0.8950887941910028, 'gamma': 0, 'learning_rate': 0.16492985200252494, 'max_depth': 8, 'min_child_weight': 2, 'reg_alpha': 0.4196919362531645, 'reg_lambda': 0.45226775391567625, 'subsample': 0.5226674547165724}. Best is trial 11 with value: 0.3088461810776496.\u001b[0m\n",
            "\u001b[32m[I 2021-04-30 19:33:34,393]\u001b[0m Trial 60 finished with value: 0.4120318913187327 and parameters: {'colsample_bytree': 0.4448788546121059, 'gamma': 2, 'learning_rate': 0.4211933854910755, 'max_depth': 9, 'min_child_weight': 4, 'reg_alpha': 0.7713254768878863, 'reg_lambda': 0.5887104495163259, 'subsample': 0.1260492976326881}. Best is trial 11 with value: 0.3088461810776496.\u001b[0m\n",
            "\u001b[32m[I 2021-04-30 19:33:38,044]\u001b[0m Trial 61 finished with value: 0.31281244358322274 and parameters: {'colsample_bytree': 0.720435821223991, 'gamma': 0, 'learning_rate': 0.179287002201231, 'max_depth': 5, 'min_child_weight': 9, 'reg_alpha': 0.6633117649032446, 'reg_lambda': 0.4897328575078124, 'subsample': 0.825853085601617}. Best is trial 11 with value: 0.3088461810776496.\u001b[0m\n",
            "\u001b[32m[I 2021-04-30 19:33:43,771]\u001b[0m Trial 62 finished with value: 0.31573187480112774 and parameters: {'colsample_bytree': 0.5773299372093609, 'gamma': 0, 'learning_rate': 0.2113189323577733, 'max_depth': 8, 'min_child_weight': 9, 'reg_alpha': 0.694932950615847, 'reg_lambda': 0.5033089676614946, 'subsample': 0.7220020497567555}. Best is trial 11 with value: 0.3088461810776496.\u001b[0m\n",
            "\u001b[32m[I 2021-04-30 19:33:50,431]\u001b[0m Trial 63 finished with value: 0.3229580555813033 and parameters: {'colsample_bytree': 0.7116192847281957, 'gamma': 1, 'learning_rate': 0.13577335842624985, 'max_depth': 9, 'min_child_weight': 9, 'reg_alpha': 0.5873811641093443, 'reg_lambda': 0.653578784959733, 'subsample': 0.8608821536866792}. Best is trial 11 with value: 0.3088461810776496.\u001b[0m\n",
            "\u001b[32m[I 2021-04-30 19:33:55,467]\u001b[0m Trial 64 finished with value: 0.3140881950427167 and parameters: {'colsample_bytree': 0.6254693442702258, 'gamma': 0, 'learning_rate': 0.1598195690442783, 'max_depth': 7, 'min_child_weight': 9, 'reg_alpha': 0.62698291039372, 'reg_lambda': 0.5522483717253418, 'subsample': 0.7665365625462784}. Best is trial 11 with value: 0.3088461810776496.\u001b[0m\n",
            "\u001b[32m[I 2021-04-30 19:33:59,427]\u001b[0m Trial 65 finished with value: 0.3379491523699922 and parameters: {'colsample_bytree': 0.520742445155047, 'gamma': 1, 'learning_rate': 0.1880723848315015, 'max_depth': 6, 'min_child_weight': 3, 'reg_alpha': 0.5611465683706998, 'reg_lambda': 0.4851850978813391, 'subsample': 0.6745044510446103}. Best is trial 11 with value: 0.3088461810776496.\u001b[0m\n",
            "\u001b[32m[I 2021-04-30 19:34:06,790]\u001b[0m Trial 66 finished with value: 0.30902819928677855 and parameters: {'colsample_bytree': 0.7859657361673074, 'gamma': 0, 'learning_rate': 0.14963822464612156, 'max_depth': 9, 'min_child_weight': 8, 'reg_alpha': 0.4650204617616274, 'reg_lambda': 0.43195657016480155, 'subsample': 0.8990739581034011}. Best is trial 11 with value: 0.3088461810776496.\u001b[0m\n",
            "\u001b[32m[I 2021-04-30 19:34:14,198]\u001b[0m Trial 67 finished with value: 0.31979736320262264 and parameters: {'colsample_bytree': 0.7977768107269021, 'gamma': 0, 'learning_rate': 0.23267128124878814, 'max_depth': 9, 'min_child_weight': 9, 'reg_alpha': 0.46153708517903924, 'reg_lambda': 0.411523738724506, 'subsample': 0.8466923461592757}. Best is trial 11 with value: 0.3088461810776496.\u001b[0m\n",
            "\u001b[32m[I 2021-04-30 19:34:21,984]\u001b[0m Trial 68 finished with value: 0.3168347678082419 and parameters: {'colsample_bytree': 0.862846798313163, 'gamma': 1, 'learning_rate': 0.12234174890509175, 'max_depth': 9, 'min_child_weight': 9, 'reg_alpha': 0.47647389724194994, 'reg_lambda': 0.39283618391368824, 'subsample': 0.8975085818154795}. Best is trial 11 with value: 0.3088461810776496.\u001b[0m\n",
            "\u001b[32m[I 2021-04-30 19:34:28,779]\u001b[0m Trial 69 finished with value: 0.3129177348505395 and parameters: {'colsample_bytree': 0.7377357829609619, 'gamma': 0, 'learning_rate': 0.1989462224375641, 'max_depth': 8, 'min_child_weight': 8, 'reg_alpha': 0.5052855253937785, 'reg_lambda': 0.4300600147181876, 'subsample': 0.7443183978115778}. Best is trial 11 with value: 0.3088461810776496.\u001b[0m\n",
            "\u001b[32m[I 2021-04-30 19:34:30,614]\u001b[0m Trial 70 finished with value: 0.6540430536400603 and parameters: {'colsample_bytree': 0.11154440828951996, 'gamma': 2, 'learning_rate': 0.18257711376725735, 'max_depth': 9, 'min_child_weight': 1, 'reg_alpha': 0.45386091322351696, 'reg_lambda': 0.5278373144298021, 'subsample': 0.6283213882158502}. Best is trial 11 with value: 0.3088461810776496.\u001b[0m\n",
            "\u001b[32m[I 2021-04-30 19:34:37,480]\u001b[0m Trial 71 finished with value: 0.3188611828276856 and parameters: {'colsample_bytree': 0.6454646383869275, 'gamma': 0, 'learning_rate': 0.14835464995443726, 'max_depth': 9, 'min_child_weight': 8, 'reg_alpha': 0.4259380751166741, 'reg_lambda': 0.4650964674559101, 'subsample': 0.8355941804903033}. Best is trial 11 with value: 0.3088461810776496.\u001b[0m\n",
            "\u001b[32m[I 2021-04-30 19:34:41,427]\u001b[0m Trial 72 finished with value: 0.3085435835278419 and parameters: {'colsample_bytree': 0.7731785086532674, 'gamma': 0, 'learning_rate': 0.1667521610761997, 'max_depth': 5, 'min_child_weight': 8, 'reg_alpha': 0.6659754270215253, 'reg_lambda': 0.4940622660347201, 'subsample': 0.7823827487827603}. Best is trial 72 with value: 0.3085435835278419.\u001b[0m\n",
            "\u001b[32m[I 2021-04-30 19:34:45,315]\u001b[0m Trial 73 finished with value: 0.31906920261583716 and parameters: {'colsample_bytree': 0.7690707371196516, 'gamma': 1, 'learning_rate': 0.16881841409094336, 'max_depth': 5, 'min_child_weight': 8, 'reg_alpha': 0.6110562157215338, 'reg_lambda': 0.4821321344157735, 'subsample': 0.7687750095904957}. Best is trial 72 with value: 0.3085435835278419.\u001b[0m\n",
            "\u001b[32m[I 2021-04-30 19:34:48,778]\u001b[0m Trial 74 finished with value: 0.31908188174875207 and parameters: {'colsample_bytree': 0.898775569698081, 'gamma': 0, 'learning_rate': 0.15483690583299992, 'max_depth': 4, 'min_child_weight': 7, 'reg_alpha': 0.7375302696232033, 'reg_lambda': 0.51780590612023, 'subsample': 0.7029220100074338}. Best is trial 72 with value: 0.3085435835278419.\u001b[0m\n",
            "\u001b[32m[I 2021-04-30 19:34:52,300]\u001b[0m Trial 75 finished with value: 0.31209303168714786 and parameters: {'colsample_bytree': 0.7082372343312359, 'gamma': 0, 'learning_rate': 0.2607075475849874, 'max_depth': 5, 'min_child_weight': 9, 'reg_alpha': 0.6772502475451253, 'reg_lambda': 0.43688543327528, 'subsample': 0.898959268906509}. Best is trial 72 with value: 0.3085435835278419.\u001b[0m\n",
            "\u001b[32m[I 2021-04-30 19:34:56,260]\u001b[0m Trial 76 finished with value: 0.31906910590381965 and parameters: {'colsample_bytree': 0.8527476859785845, 'gamma': 1, 'learning_rate': 0.2927304123653374, 'max_depth': 5, 'min_child_weight': 8, 'reg_alpha': 0.44297811559218825, 'reg_lambda': 0.43931578047369285, 'subsample': 0.8569644031942993}. Best is trial 72 with value: 0.3085435835278419.\u001b[0m\n",
            "\u001b[32m[I 2021-04-30 19:35:00,025]\u001b[0m Trial 77 finished with value: 0.3073995366852119 and parameters: {'colsample_bytree': 0.7932398993730398, 'gamma': 0, 'learning_rate': 0.27829690484356906, 'max_depth': 5, 'min_child_weight': 9, 'reg_alpha': 0.7046737665412303, 'reg_lambda': 0.4568712325959193, 'subsample': 0.8978824844121535}. Best is trial 77 with value: 0.3073995366852119.\u001b[0m\n",
            "\u001b[32m[I 2021-04-30 19:35:03,015]\u001b[0m Trial 78 finished with value: 0.3243652285053801 and parameters: {'colsample_bytree': 0.7908457334320753, 'gamma': 1, 'learning_rate': 0.32289781736327683, 'max_depth': 4, 'min_child_weight': 8, 'reg_alpha': 0.3826330325293562, 'reg_lambda': 0.4554156014229679, 'subsample': 0.8771065586002021}. Best is trial 77 with value: 0.3073995366852119.\u001b[0m\n",
            "\u001b[32m[I 2021-04-30 19:35:05,529]\u001b[0m Trial 79 finished with value: 0.4131698907337785 and parameters: {'colsample_bytree': 0.2759131750797887, 'gamma': 0, 'learning_rate': 0.26447013300872224, 'max_depth': 5, 'min_child_weight': 7, 'reg_alpha': 0.7054871091668232, 'reg_lambda': 0.3941710049164526, 'subsample': 0.8921623780475088}. Best is trial 77 with value: 0.3073995366852119.\u001b[0m\n",
            "\u001b[32m[I 2021-04-30 19:35:09,531]\u001b[0m Trial 80 finished with value: 0.3110952208969989 and parameters: {'colsample_bytree': 0.7762321485667909, 'gamma': 0, 'learning_rate': 0.28552835118395586, 'max_depth': 5, 'min_child_weight': 9, 'reg_alpha': 0.7208658497068645, 'reg_lambda': 0.4180099621265282, 'subsample': 0.7689981071439815}. Best is trial 77 with value: 0.3073995366852119.\u001b[0m\n",
            "\u001b[32m[I 2021-04-30 19:35:13,526]\u001b[0m Trial 81 finished with value: 0.3111403835330684 and parameters: {'colsample_bytree': 0.784364687595685, 'gamma': 0, 'learning_rate': 0.2967134249191983, 'max_depth': 5, 'min_child_weight': 9, 'reg_alpha': 0.7840867256194182, 'reg_lambda': 0.4364720270124433, 'subsample': 0.7768701831775446}. Best is trial 77 with value: 0.3073995366852119.\u001b[0m\n",
            "\u001b[32m[I 2021-04-30 19:35:17,598]\u001b[0m Trial 82 finished with value: 0.3095540375749219 and parameters: {'colsample_bytree': 0.8005349075516075, 'gamma': 0, 'learning_rate': 0.2884863621033949, 'max_depth': 5, 'min_child_weight': 9, 'reg_alpha': 0.7866291196662741, 'reg_lambda': 0.4185357967346257, 'subsample': 0.7281282991899374}. Best is trial 77 with value: 0.3073995366852119.\u001b[0m\n",
            "\u001b[32m[I 2021-04-30 19:35:21,872]\u001b[0m Trial 83 finished with value: 0.31474974131983935 and parameters: {'colsample_bytree': 0.8379487086794345, 'gamma': 0, 'learning_rate': 0.2971991725258453, 'max_depth': 5, 'min_child_weight': 9, 'reg_alpha': 0.8444005978200476, 'reg_lambda': 0.42195464005424305, 'subsample': 0.7319948375461637}. Best is trial 77 with value: 0.3073995366852119.\u001b[0m\n",
            "\u001b[32m[I 2021-04-30 19:35:25,256]\u001b[0m Trial 84 finished with value: 0.3240996713622296 and parameters: {'colsample_bytree': 0.895798193780877, 'gamma': 1, 'learning_rate': 0.2859416725098972, 'max_depth': 4, 'min_child_weight': 9, 'reg_alpha': 0.7814362240416846, 'reg_lambda': 0.36997390056685786, 'subsample': 0.6787220058213204}. Best is trial 77 with value: 0.3073995366852119.\u001b[0m\n",
            "\u001b[32m[I 2021-04-30 19:35:29,397]\u001b[0m Trial 85 finished with value: 0.31226338525541963 and parameters: {'colsample_bytree': 0.7739828307500507, 'gamma': 0, 'learning_rate': 0.3130544152396188, 'max_depth': 5, 'min_child_weight': 9, 'reg_alpha': 0.8845667301790183, 'reg_lambda': 0.39868188937970445, 'subsample': 0.7764513459705449}. Best is trial 77 with value: 0.3073995366852119.\u001b[0m\n",
            "\u001b[32m[I 2021-04-30 19:35:32,564]\u001b[0m Trial 86 finished with value: 0.33114692493992115 and parameters: {'colsample_bytree': 0.7630119885889951, 'gamma': 1, 'learning_rate': 0.3716210279894723, 'max_depth': 4, 'min_child_weight': 9, 'reg_alpha': 0.803864252008379, 'reg_lambda': 0.4110929455216193, 'subsample': 0.7265857872118837}. Best is trial 77 with value: 0.3073995366852119.\u001b[0m\n",
            "\u001b[32m[I 2021-04-30 19:35:36,405]\u001b[0m Trial 87 finished with value: 0.3104162403409971 and parameters: {'colsample_bytree': 0.8076524195385384, 'gamma': 0, 'learning_rate': 0.2801009542060135, 'max_depth': 5, 'min_child_weight': 4, 'reg_alpha': 0.8495428539337797, 'reg_lambda': 0.4518360833112177, 'subsample': 0.8450779551783518}. Best is trial 77 with value: 0.3073995366852119.\u001b[0m\n",
            "\u001b[32m[I 2021-04-30 19:35:40,233]\u001b[0m Trial 88 finished with value: 0.31107819708129514 and parameters: {'colsample_bytree': 0.8046489641925607, 'gamma': 0, 'learning_rate': 0.2741193761873222, 'max_depth': 5, 'min_child_weight': 4, 'reg_alpha': 0.8527955160305334, 'reg_lambda': 0.4176457681237794, 'subsample': 0.8510456960069879}. Best is trial 77 with value: 0.3073995366852119.\u001b[0m\n",
            "\u001b[32m[I 2021-04-30 19:35:44,306]\u001b[0m Trial 89 finished with value: 0.31012178337372787 and parameters: {'colsample_bytree': 0.8645799726430279, 'gamma': 0, 'learning_rate': 0.3502037856536729, 'max_depth': 5, 'min_child_weight': 4, 'reg_alpha': 0.8563660273125615, 'reg_lambda': 0.41555597963346713, 'subsample': 0.8388448187326717}. Best is trial 77 with value: 0.3073995366852119.\u001b[0m\n",
            "\u001b[32m[I 2021-04-30 19:35:48,310]\u001b[0m Trial 90 finished with value: 0.3203311882373551 and parameters: {'colsample_bytree': 0.8595291904615231, 'gamma': 1, 'learning_rate': 0.3612202730141597, 'max_depth': 5, 'min_child_weight': 4, 'reg_alpha': 0.8329700066009443, 'reg_lambda': 0.3838698101378447, 'subsample': 0.8330405772334523}. Best is trial 77 with value: 0.3073995366852119.\u001b[0m\n",
            "\u001b[32m[I 2021-04-30 19:35:52,545]\u001b[0m Trial 91 finished with value: 0.31200044513218433 and parameters: {'colsample_bytree': 0.8244170372211724, 'gamma': 0, 'learning_rate': 0.2748268341400842, 'max_depth': 5, 'min_child_weight': 4, 'reg_alpha': 0.8680270941871965, 'reg_lambda': 0.416475567763777, 'subsample': 0.7742883921926442}. Best is trial 77 with value: 0.3073995366852119.\u001b[0m\n",
            "\u001b[32m[I 2021-04-30 19:35:56,120]\u001b[0m Trial 92 finished with value: 0.3145366822088029 and parameters: {'colsample_bytree': 0.6912063160502891, 'gamma': 0, 'learning_rate': 0.3600096208744781, 'max_depth': 5, 'min_child_weight': 5, 'reg_alpha': 0.8063270204104185, 'reg_lambda': 0.4481275884387348, 'subsample': 0.8994975005122609}. Best is trial 77 with value: 0.3073995366852119.\u001b[0m\n",
            "\u001b[32m[I 2021-04-30 19:36:00,096]\u001b[0m Trial 93 finished with value: 0.31222294920687366 and parameters: {'colsample_bytree': 0.806677289962306, 'gamma': 0, 'learning_rate': 0.33927257064188227, 'max_depth': 5, 'min_child_weight': 4, 'reg_alpha': 0.8964440942556527, 'reg_lambda': 0.4347785557887889, 'subsample': 0.7922022443058473}. Best is trial 77 with value: 0.3073995366852119.\u001b[0m\n",
            "\u001b[32m[I 2021-04-30 19:36:04,503]\u001b[0m Trial 94 finished with value: 0.3204544795962605 and parameters: {'colsample_bytree': 0.8954642260501336, 'gamma': 1, 'learning_rate': 0.31173601405585216, 'max_depth': 5, 'min_child_weight': 3, 'reg_alpha': 0.7533265375850934, 'reg_lambda': 0.4580673915853739, 'subsample': 0.6960363141973828}. Best is trial 77 with value: 0.3073995366852119.\u001b[0m\n",
            "\u001b[32m[I 2021-04-30 19:36:08,358]\u001b[0m Trial 95 finished with value: 0.3100797967040204 and parameters: {'colsample_bytree': 0.757400942050904, 'gamma': 0, 'learning_rate': 0.2521546503169472, 'max_depth': 5, 'min_child_weight': 4, 'reg_alpha': 0.8641537843247142, 'reg_lambda': 0.421745623233715, 'subsample': 0.8468622418295404}. Best is trial 77 with value: 0.3073995366852119.\u001b[0m\n",
            "\u001b[32m[I 2021-04-30 19:36:12,313]\u001b[0m Trial 96 finished with value: 0.3223919772148788 and parameters: {'colsample_bytree': 0.7463032114436241, 'gamma': 0, 'learning_rate': 0.25336549519245216, 'max_depth': 5, 'min_child_weight': 4, 'reg_alpha': 0.8606847030713562, 'reg_lambda': 0.4032504673193053, 'subsample': 0.3357384911491776}. Best is trial 77 with value: 0.3073995366852119.\u001b[0m\n",
            "\u001b[32m[I 2021-04-30 19:36:15,186]\u001b[0m Trial 97 finished with value: 0.33312754377104203 and parameters: {'colsample_bytree': 0.6806441148866417, 'gamma': 0, 'learning_rate': 0.28051939852263763, 'max_depth': 4, 'min_child_weight': 4, 'reg_alpha': 0.8285139317740442, 'reg_lambda': 0.4226748113590558, 'subsample': 0.2781462582903038}. Best is trial 77 with value: 0.3073995366852119.\u001b[0m\n",
            "\u001b[32m[I 2021-04-30 19:36:18,932]\u001b[0m Trial 98 finished with value: 0.32236993133979996 and parameters: {'colsample_bytree': 0.8090436263287101, 'gamma': 1, 'learning_rate': 0.23574561596842494, 'max_depth': 5, 'min_child_weight': 3, 'reg_alpha': 0.897144392641484, 'reg_lambda': 0.38531536141081674, 'subsample': 0.8476752041788942}. Best is trial 77 with value: 0.3073995366852119.\u001b[0m\n",
            "\u001b[32m[I 2021-04-30 19:36:22,947]\u001b[0m Trial 99 finished with value: 0.3919817638689507 and parameters: {'colsample_bytree': 0.8618664768935161, 'gamma': 4, 'learning_rate': 0.46501877030908445, 'max_depth': 6, 'min_child_weight': 4, 'reg_alpha': 0.7171600520508578, 'reg_lambda': 0.4046304708399248, 'subsample': 0.1619267620558737}. Best is trial 77 with value: 0.3073995366852119.\u001b[0m\n"
          ],
          "name": "stderr"
        },
        {
          "output_type": "stream",
          "text": [
            "Best score: 0.3073995366852119\n",
            "\n",
            "Optimized parameters: {'colsample_bytree': 0.7932398993730398, 'gamma': 0, 'learning_rate': 0.27829690484356906, 'max_depth': 5, 'min_child_weight': 9, 'reg_alpha': 0.7046737665412303, 'reg_lambda': 0.4568712325959193, 'subsample': 0.8978824844121535}\n",
            "\n"
          ],
          "name": "stdout"
        }
      ]
    },
    {
      "cell_type": "code",
      "metadata": {
        "id": "KGlXUneW47Yn",
        "colab": {
          "base_uri": "https://localhost:8080/"
        },
        "outputId": "cd018d31-7650-4f9b-d6c1-b4fbe6498fae"
      },
      "source": [
        "xgb = xgboost.XGBRegressor(colsample_bytree= 0.7932398993730398,\n",
        "                 gamma=0,             \n",
        "                 learning_rate=0.27829690484356906,\n",
        "                 max_depth=5,\n",
        "                 min_child_weight=9,\n",
        "                 n_estimators=10000,                                                                    \n",
        "                 reg_alpha=0.7046737665412303,\n",
        "                 reg_lambda=0.4568712325959193,\n",
        "                 subsample=0.8978824844121535\n",
        "                 ) \n",
        "\n",
        "xgb.fit(X_train, y_train)\n",
        "y_pred_train = xgb.predict(X_train)\n",
        "y_pred_test = xgb.predict(X_test)\n",
        "\n",
        "mse_train = mean_squared_error(y_train,y_pred_train)\n",
        "rmse_train = sqrt(mse_train)\n",
        "mape_train = mean_absolute_percentage_error(y_train, y_pred_train)\n",
        "\n",
        "print(\"MSE train: \" + str(mse_train))\n",
        "print(\"RMSE train: \" + str(rmse_train))\n",
        "print(\"MAPE train: \" + str(mape_train))\n",
        "\n",
        "mse_test = mean_squared_error(y_test,y_pred_test)\n",
        "rmse_test = sqrt(mse_test)\n",
        "mape_test = mean_absolute_percentage_error(y_test, y_pred_test)\n",
        "\n",
        "print(\"MSE test: \" + str(mse_test))\n",
        "print(\"RMSE test: \" + str(rmse_test))\n",
        "print(\"MAPE test: \" + str(mape_test))"
      ],
      "execution_count": 123,
      "outputs": [
        {
          "output_type": "stream",
          "text": [
            "[19:38:59] WARNING: /workspace/src/objective/regression_obj.cu:152: reg:linear is now deprecated in favor of reg:squarederror.\n",
            "MSE train: 0.0050865611582832735\n",
            "RMSE train: 0.07132013150775364\n",
            "MAPE train: 1.520101064332098\n",
            "MSE test: 0.11142558630760357\n",
            "RMSE test: 0.333804712830127\n",
            "MAPE test: 7.957711791871266\n"
          ],
          "name": "stdout"
        }
      ]
    },
    {
      "cell_type": "code",
      "metadata": {
        "colab": {
          "base_uri": "https://localhost:8080/"
        },
        "id": "xo2xsNi_Ks53",
        "outputId": "aacc70df-c9fd-4e92-b731-7f145c60c98a"
      },
      "source": [
        "rfc = RandomForestRegressor(n_estimators = 200, bootstrap = True, max_depth = 20, max_features = 'auto', min_samples_leaf = 1, min_samples_split = 5)\n",
        "rfc.fit(X_train, y_train)\n",
        "y_pred_train = rfc.predict(X_train)\n",
        "y_pred_test = rfc.predict(X_test)\n",
        "\n",
        "mse_train = mean_squared_error(y_train,y_pred_train)\n",
        "rmse_train = sqrt(mse_train)\n",
        "mape_train = mean_absolute_percentage_error(y_train, y_pred_train)\n",
        "\n",
        "print(\"MSE train: \" + str(mse_train))\n",
        "print(\"RMSE train: \" + str(rmse_train))\n",
        "print(\"MAPE train: \" + str(mape_train))\n",
        "\n",
        "mse_test = mean_squared_error(y_test,y_pred_test)\n",
        "rmse_test = sqrt(mse_test)\n",
        "mape_test = mean_absolute_percentage_error(y_test, y_pred_test)\n",
        "\n",
        "print(\"MSE test: \" + str(mse_test))\n",
        "print(\"RMSE test: \" + str(rmse_test))\n",
        "print(\"MAPE test: \" + str(mape_test))"
      ],
      "execution_count": 124,
      "outputs": [
        {
          "output_type": "stream",
          "text": [
            "MSE train: 0.02729459308647759\n",
            "RMSE train: 0.16521075354370124\n",
            "MAPE train: 3.7246748021658656\n",
            "MSE test: 0.11027683793321232\n",
            "RMSE test: 0.3320795656664413\n",
            "MAPE test: 7.736198425423854\n"
          ],
          "name": "stdout"
        }
      ]
    },
    {
      "cell_type": "code",
      "metadata": {
        "colab": {
          "base_uri": "https://localhost:8080/"
        },
        "id": "I4_JGwD9Ks1R",
        "outputId": "b4d32694-6ffc-4cc8-bea7-b85058bd7bcc"
      },
      "source": [
        "xgb = xgboost.XGBRegressor(colsample_bytree=0.4,\n",
        "                 gamma=0,             \n",
        "                 learning_rate=0.07,\n",
        "                 max_depth=3,\n",
        "                 min_child_weight=1.5,\n",
        "                 n_estimators=10000,                                                                    \n",
        "                 reg_alpha=0.75,\n",
        "                 reg_lambda=0.45,\n",
        "                 subsample=0.6,\n",
        "                 seed=42) \n",
        "\n",
        "xgb.fit(X_train, y_train)\n",
        "y_pred_train = xgb.predict(X_train)\n",
        "y_pred_test = xgb.predict(X_test)\n",
        "\n",
        "mse_train = mean_squared_error(y_train,y_pred_train)\n",
        "rmse_train = sqrt(mse_train)\n",
        "mape_train = mean_absolute_percentage_error(y_train, y_pred_train)\n",
        "\n",
        "print(\"MSE train: \" + str(mse_train))\n",
        "print(\"RMSE train: \" + str(rmse_train))\n",
        "print(\"MAPE train: \" + str(mape_train))\n",
        "\n",
        "mse_test = mean_squared_error(y_test,y_pred_test)\n",
        "rmse_test = sqrt(mse_test)\n",
        "mape_test = mean_absolute_percentage_error(y_test, y_pred_test)\n",
        "\n",
        "print(\"MSE test: \" + str(mse_test))\n",
        "print(\"RMSE test: \" + str(rmse_test))\n",
        "print(\"MAPE test: \" + str(mape_test))"
      ],
      "execution_count": 125,
      "outputs": [
        {
          "output_type": "stream",
          "text": [
            "[19:40:42] WARNING: /workspace/src/objective/regression_obj.cu:152: reg:linear is now deprecated in favor of reg:squarederror.\n",
            "MSE train: 0.05302464051638123\n",
            "RMSE train: 0.2302707982276112\n",
            "MAPE train: 5.337860334064884\n",
            "MSE test: 0.09735987627211905\n",
            "RMSE test: 0.3120254417064722\n",
            "MAPE test: 7.522975076877761\n"
          ],
          "name": "stdout"
        }
      ]
    },
    {
      "cell_type": "code",
      "metadata": {
        "colab": {
          "base_uri": "https://localhost:8080/",
          "height": 386
        },
        "id": "MglIexrDLfOn",
        "outputId": "857cf78b-ae39-4a4e-abc9-67ea7876cb74"
      },
      "source": [
        "explainer_xgb = shap.TreeExplainer(xgb)\n",
        "shap_values_xgb = explainer_xgb.shap_values(X_test, y_test, approximate=True)\n",
        "\n",
        "shap.summary_plot(shap_values_xgb, X_test, plot_type = 'bar')"
      ],
      "execution_count": 126,
      "outputs": [
        {
          "output_type": "display_data",
          "data": {
            "image/png": "[encoded data removed]",
            "text/plain": [
              "<Figure size 576x424.8 with 1 Axes>"
            ]
          },
          "metadata": {
            "tags": []
          }
        }
      ]
    },
    {
      "cell_type": "code",
      "metadata": {
        "colab": {
          "base_uri": "https://localhost:8080/",
          "height": 386
        },
        "id": "97Y59iI6Lhm2",
        "outputId": "2411c00b-4f40-4d50-9b87-c2c670f74bdf"
      },
      "source": [
        "explainer_rfc = shap.TreeExplainer(rfc)\n",
        "shap_values_rfc = explainer_rfc.shap_values(X_test, y_test, approximate=True)\n",
        "\n",
        "shap.summary_plot(shap_values_rfc, X_test, plot_type = 'bar')"
      ],
      "execution_count": 127,
      "outputs": [
        {
          "output_type": "display_data",
          "data": {
            "image/png": "[encoded data removed]",
            "text/plain": [
              "<Figure size 576x424.8 with 1 Axes>"
            ]
          },
          "metadata": {
            "tags": []
          }
        }
      ]
    },
    {
      "cell_type": "markdown",
      "metadata": {
        "id": "ScipGs8Gb34W"
      },
      "source": [
        "By far in both models the most important feature seems to be the hour."
      ]
    },
    {
      "cell_type": "code",
      "metadata": {
        "colab": {
          "base_uri": "https://localhost:8080/",
          "height": 390
        },
        "id": "clEBjcezLmAf",
        "outputId": "0864b608-6a43-42b1-aac4-3efc5aa3c09d"
      },
      "source": [
        "shap.summary_plot(shap_values_xgb, X_test)"
      ],
      "execution_count": 128,
      "outputs": [
        {
          "output_type": "display_data",
          "data": {
            "image/png": "[encoded data removed]",
            "text/plain": [
              "<Figure size 576x424.8 with 2 Axes>"
            ]
          },
          "metadata": {
            "tags": []
          }
        }
      ]
    },
    {
      "cell_type": "markdown",
      "metadata": {
        "id": "FV3tHqcJcArt"
      },
      "source": [
        "- About feature hour we can see that with high values the count of rented bikes increases. \n",
        "- For weather 3 and 2 it seems that the count of rented bikes decreases when their value is 1.\n",
        "- For high values of month the count of rented bikes increases. The same with the temperature (atemp).\n",
        "- It seems that if it's not a working day, the count of rented bikes decreases"
      ]
    },
    {
      "cell_type": "code",
      "metadata": {
        "colab": {
          "base_uri": "https://localhost:8080/",
          "height": 341
        },
        "id": "xLgVXDbSLp9-",
        "outputId": "81c8fed8-b73a-48fa-b1e0-52191f452658"
      },
      "source": [
        "shap.dependence_plot(\"hour\", shap_values_xgb, X_test)\n"
      ],
      "execution_count": 129,
      "outputs": [
        {
          "output_type": "display_data",
          "data": {
            "image/png": "[encoded data removed]",
            "text/plain": [
              "<Figure size 540x360 with 2 Axes>"
            ]
          },
          "metadata": {
            "tags": []
          }
        }
      ]
    },
    {
      "cell_type": "markdown",
      "metadata": {
        "id": "Nrdnvmc4dOIG"
      },
      "source": [
        "If it's a working day we see that the count of rented bikes increases in the morning while people go to work and after the job when people return home. If it's not a working day, the count of rented bikes is similar during the day."
      ]
    },
    {
      "cell_type": "code",
      "metadata": {
        "colab": {
          "base_uri": "https://localhost:8080/",
          "height": 337
        },
        "id": "lwL9A-EULqWR",
        "outputId": "f39dee43-3860-4491-c267-2fd671f7157e"
      },
      "source": [
        "shap.dependence_plot(\"year_2012\", shap_values_xgb, X_test)\n"
      ],
      "execution_count": 130,
      "outputs": [
        {
          "output_type": "display_data",
          "data": {
            "image/png": "[encoded data removed]",
            "text/plain": [
              "<Figure size 540x360 with 2 Axes>"
            ]
          },
          "metadata": {
            "tags": []
          }
        }
      ]
    },
    {
      "cell_type": "markdown",
      "metadata": {
        "id": "Li6NofBndr8U"
      },
      "source": [
        "It seems that in 2012 there were more rented bikes than in 2011"
      ]
    },
    {
      "cell_type": "code",
      "metadata": {
        "colab": {
          "base_uri": "https://localhost:8080/",
          "height": 337
        },
        "id": "n91KRQjYLqgX",
        "outputId": "f7414e33-5f4e-4e2e-d434-cc49ed3e1637"
      },
      "source": [
        "shap.dependence_plot(\"atemp\", shap_values_xgb, X_test)\n"
      ],
      "execution_count": 131,
      "outputs": [
        {
          "output_type": "display_data",
          "data": {
            "image/png": "[encoded data removed]",
            "text/plain": [
              "<Figure size 540x360 with 2 Axes>"
            ]
          },
          "metadata": {
            "tags": []
          }
        }
      ]
    },
    {
      "cell_type": "markdown",
      "metadata": {
        "id": "jGneH-_ld53i"
      },
      "source": [
        "With low and high temperatures people don't prefer to ride bikes."
      ]
    },
    {
      "cell_type": "code",
      "metadata": {
        "colab": {
          "base_uri": "https://localhost:8080/",
          "height": 341
        },
        "id": "dFCdIuUoLqyh",
        "outputId": "58c89ddc-5177-42c4-eed2-f6ffa8494125"
      },
      "source": [
        "shap.dependence_plot(\"month\", shap_values_xgb, X_test)\n"
      ],
      "execution_count": 132,
      "outputs": [
        {
          "output_type": "display_data",
          "data": {
            "image/png": "[encoded data removed]",
            "text/plain": [
              "<Figure size 540x360 with 2 Axes>"
            ]
          },
          "metadata": {
            "tags": []
          }
        }
      ]
    },
    {
      "cell_type": "code",
      "metadata": {
        "id": "LaEuvaIVVeFG"
      },
      "source": [
        "There are months where people tend to use more bikes"
      ],
      "execution_count": null,
      "outputs": []
    },
    {
      "cell_type": "code",
      "metadata": {
        "colab": {
          "base_uri": "https://localhost:8080/",
          "height": 337
        },
        "id": "O367BNhnLq8x",
        "outputId": "6e055b4e-3adf-456e-949f-8836093309f9"
      },
      "source": [
        "shap.dependence_plot(\"workingday_1\", shap_values_xgb, X_test)\n"
      ],
      "execution_count": 133,
      "outputs": [
        {
          "output_type": "display_data",
          "data": {
            "image/png": "[encoded data removed]",
            "text/plain": [
              "<Figure size 540x360 with 2 Axes>"
            ]
          },
          "metadata": {
            "tags": []
          }
        }
      ]
    },
    {
      "cell_type": "markdown",
      "metadata": {
        "id": "wi7ZO4KIf8IG"
      },
      "source": [
        "It seems that people in not working days rent bikes in early hours."
      ]
    },
    {
      "cell_type": "code",
      "metadata": {
        "colab": {
          "base_uri": "https://localhost:8080/"
        },
        "id": "-Db_q5-Jd-r4",
        "outputId": "c51e5552-214b-4ac8-c3fd-a4675195fe4c"
      },
      "source": [
        "real_value=pd.DataFrame({'count':np.exp(y_test)})\n",
        "predict_value=pd.DataFrame({'count':np.exp(y_pred_test)})\n",
        "with pd.ExcelWriter('c:\\\\test.xls') as writer:\n",
        "    real_value.to_excel(writer, sheet_name='Sheet1')\n",
        "    predict_value.to_excel(writer, sheet_name='Sheet2')"
      ],
      "execution_count": 134,
      "outputs": [
        {
          "output_type": "stream",
          "text": [
            "As the xlwt package is no longer maintained, the xlwt engine will be removed in a future version of pandas. This is the only engine in pandas that supports writing in the xls format. Install openpyxl and write to an xlsx file instead. You can set the option io.excel.xls.writer to 'xlwt' to silence this warning. While this option is deprecated and will also raise a warning, it can be globally set and the warning suppressed.\n"
          ],
          "name": "stderr"
        }
      ]
    },
    {
      "cell_type": "markdown",
      "metadata": {
        "id": "1SKt51YtWesG"
      },
      "source": [
        "![comparationrentedbikes.png](data:image/png;base64,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)"
      ]
    },
    {
      "cell_type": "markdown",
      "metadata": {
        "id": "4YIiLyYDWkyc"
      },
      "source": [
        "We should check the performance of our models in some data where it predicted a value very different from the real value."
      ]
    },
    {
      "cell_type": "code",
      "metadata": {
        "colab": {
          "base_uri": "https://localhost:8080/"
        },
        "id": "gh6DkoTwfROC",
        "outputId": "3cf8a7a5-ad05-4a37-8127-3df36b44947b"
      },
      "source": [
        "X_test.loc[7085, [\n",
        "'hour',\n",
        "'year_2012',\n",
        "'atemp',\n",
        "'workingday_1',\n",
        "'month',\n",
        "'humidity',\n",
        "'season',\n",
        "'weather_3',\n",
        "'windspeed',\n",
        "'weather_2',\n",
        "'holiday_1'\n",
        "]]"
      ],
      "execution_count": 135,
      "outputs": [
        {
          "output_type": "execute_result",
          "data": {
            "text/plain": [
              "hour            14.0\n",
              "year_2012        1.0\n",
              "atemp           25.0\n",
              "workingday_1     1.0\n",
              "month            4.0\n",
              "humidity        27.0\n",
              "season           2.0\n",
              "weather_3        0.0\n",
              "windspeed        0.0\n",
              "weather_2        0.0\n",
              "holiday_1        0.0\n",
              "Name: 7085, dtype: float64"
            ]
          },
          "metadata": {
            "tags": []
          },
          "execution_count": 135
        }
      ]
    },
    {
      "cell_type": "code",
      "metadata": {
        "colab": {
          "base_uri": "https://localhost:8080/"
        },
        "id": "_6SUghJHfg5o",
        "outputId": "4d099aed-540c-4e59-a9af-f02fe003951c"
      },
      "source": [
        "print(\"The real value is: \" + str(round(np.exp(y_test.loc[7085]))))\n",
        "print(\"The predicted value is: \" + str(round(np.exp(y_pred_test[16]))))"
      ],
      "execution_count": 136,
      "outputs": [
        {
          "output_type": "stream",
          "text": [
            "The real value is: 349\n",
            "The predicted value is: 257\n"
          ],
          "name": "stdout"
        }
      ]
    },
    {
      "cell_type": "code",
      "metadata": {
        "colab": {
          "base_uri": "https://localhost:8080/"
        },
        "id": "etn8q3PkqJKl",
        "outputId": "bb89bafe-88d8-4031-9ff4-3228b8cc326c"
      },
      "source": [
        "X_test.loc[9597, [\n",
        "'hour',\n",
        "'year_2012',\n",
        "'atemp',\n",
        "'workingday_1',\n",
        "'month',\n",
        "'humidity',\n",
        "'season',\n",
        "'weather_3',\n",
        "'windspeed',\n",
        "'weather_2',\n",
        "'holiday_1'\n",
        "]]"
      ],
      "execution_count": 137,
      "outputs": [
        {
          "output_type": "execute_result",
          "data": {
            "text/plain": [
              "hour             6.0000\n",
              "year_2012        1.0000\n",
              "atemp           27.2750\n",
              "workingday_1     1.0000\n",
              "month           10.0000\n",
              "humidity        94.0000\n",
              "season           4.0000\n",
              "weather_3        1.0000\n",
              "windspeed        6.0032\n",
              "weather_2        0.0000\n",
              "holiday_1        0.0000\n",
              "Name: 9597, dtype: float64"
            ]
          },
          "metadata": {
            "tags": []
          },
          "execution_count": 137
        }
      ]
    },
    {
      "cell_type": "code",
      "metadata": {
        "colab": {
          "base_uri": "https://localhost:8080/"
        },
        "id": "K-wXcLr4qLKW",
        "outputId": "1e2b9d2c-8f58-4b97-f7ed-5bf10c8ebf69"
      },
      "source": [
        "print(\"The real value is: \" + str(round(np.exp(y_test.loc[9597]))))\n",
        "print(\"The predicted value is: \" + str(round(np.exp(y_pred_test[18]))))"
      ],
      "execution_count": 138,
      "outputs": [
        {
          "output_type": "stream",
          "text": [
            "The real value is: 134\n",
            "The predicted value is: 114\n"
          ],
          "name": "stdout"
        }
      ]
    },
    {
      "cell_type": "code",
      "metadata": {
        "colab": {
          "base_uri": "https://localhost:8080/"
        },
        "id": "SHEYju_uXiIm",
        "outputId": "0c816bb9-807f-401a-bc62-2210ed226582"
      },
      "source": [
        "X_test.loc[9009, [\n",
        "'hour',\n",
        "'year_2012',\n",
        "'atemp',\n",
        "'workingday_1',\n",
        "'month',\n",
        "'humidity',\n",
        "'season',\n",
        "'weather_3',\n",
        "'windspeed',\n",
        "'weather_2',\n",
        "'holiday_1'\n",
        "]]"
      ],
      "execution_count": 141,
      "outputs": [
        {
          "output_type": "execute_result",
          "data": {
            "text/plain": [
              "hour            18.0000\n",
              "year_2012        1.0000\n",
              "atemp           12.1200\n",
              "workingday_1     1.0000\n",
              "month            8.0000\n",
              "humidity        38.0000\n",
              "season           3.0000\n",
              "weather_3        0.0000\n",
              "windspeed       16.9979\n",
              "weather_2        1.0000\n",
              "holiday_1        0.0000\n",
              "Name: 9009, dtype: float64"
            ]
          },
          "metadata": {
            "tags": []
          },
          "execution_count": 141
        }
      ]
    },
    {
      "cell_type": "code",
      "metadata": {
        "colab": {
          "base_uri": "https://localhost:8080/"
        },
        "id": "HbrohWjmXj1G",
        "outputId": "0c06d5ed-548d-4f9c-a178-ffab21666c6f"
      },
      "source": [
        "print(\"The real value is: \" + str(round(np.exp(y_test.loc[9009]))))\n",
        "print(\"The predicted value is: \" + str(round(np.exp(y_pred_test[1]))))"
      ],
      "execution_count": 142,
      "outputs": [
        {
          "output_type": "stream",
          "text": [
            "The real value is: 670\n",
            "The predicted value is: 817\n"
          ],
          "name": "stdout"
        }
      ]
    },
    {
      "cell_type": "markdown",
      "metadata": {
        "id": "EPS6rC8oXS2p"
      },
      "source": [
        "Take a look in a value where our model predicted the same value as the real one"
      ]
    },
    {
      "cell_type": "code",
      "metadata": {
        "colab": {
          "base_uri": "https://localhost:8080/"
        },
        "id": "u9XOLllQqe_C",
        "outputId": "9358dbb7-e9b3-4436-ed09-49ae61d6abc2"
      },
      "source": [
        "X_test.loc[6515, [\n",
        "'hour',\n",
        "'year_2012',\n",
        "'atemp',\n",
        "'workingday_1',\n",
        "'month',\n",
        "'humidity',\n",
        "'season',\n",
        "'weather_3',\n",
        "'windspeed',\n",
        "'weather_2',\n",
        "'holiday_1'\n",
        "]]"
      ],
      "execution_count": 139,
      "outputs": [
        {
          "output_type": "execute_result",
          "data": {
            "text/plain": [
              "hour            17.0000\n",
              "year_2012        1.0000\n",
              "atemp           31.0600\n",
              "workingday_1     1.0000\n",
              "month            3.0000\n",
              "humidity        38.0000\n",
              "season           1.0000\n",
              "weather_3        0.0000\n",
              "windspeed       43.9989\n",
              "weather_2        0.0000\n",
              "holiday_1        0.0000\n",
              "Name: 6515, dtype: float64"
            ]
          },
          "metadata": {
            "tags": []
          },
          "execution_count": 139
        }
      ]
    },
    {
      "cell_type": "code",
      "metadata": {
        "colab": {
          "base_uri": "https://localhost:8080/"
        },
        "id": "Fs7g2LvRqj17",
        "outputId": "0f1c0548-c89f-49ee-c2e0-e6af675102f7"
      },
      "source": [
        "print(\"The real value is: \" + str(round(np.exp(y_test.loc[6515]))))\n",
        "print(\"The predicted value is: \" + str(round(np.exp(y_pred_test[15]))))"
      ],
      "execution_count": 140,
      "outputs": [
        {
          "output_type": "stream",
          "text": [
            "The real value is: 598\n",
            "The predicted value is: 598\n"
          ],
          "name": "stdout"
        }
      ]
    },
    {
      "cell_type": "markdown",
      "metadata": {
        "id": "aU-Cr52BYBn8"
      },
      "source": [
        "In order to find possible explanations we should try changing the way of encoding features, make changes in features like adding, combining and deleting and see how our models react to these changes and their performance."
      ]
    }
  ]
}